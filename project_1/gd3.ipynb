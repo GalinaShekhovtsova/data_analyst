{
 "cells": [
  {
   "cell_type": "markdown",
   "metadata": {},
   "source": [
    "# PROJECT. Исследование поведения пользователей"
   ]
  },
  {
   "cell_type": "markdown",
   "metadata": {},
   "source": [
    "### ЗАДАНИЕ\n",
    "\n",
    "Необходимо проверить:\n",
    "\n",
    "1. Есть ли зависимость между выбранным уровнем сложности и вероятностью оплаты;\n",
    "\n",
    "2. Различается ли временной промежуток между регистрацией и оплатой у групп пользователей с разным уровнем сложности."
   ]
  },
  {
   "cell_type": "markdown",
   "metadata": {},
   "source": [
    "#### ПЛАН\n",
    "\n",
    "1. Получите данные из файла.\n",
    "2. Произведите обзор данных и преобразование данных, если оно необходимо.\n",
    "3. Выделите группы пользователей (по аналогии с группами, которые мы выделяли, когда находили зависимость между фактом прохождения обучения и оплатой).\n",
    "4. Рассчитайте для каждой группы процент оплат (это мы тоже уже делали).\n",
    "5. Для каждой группы сделайте по два датафрейма: один — с событиями выбора уровня сложности, другой — с событиями оплаты.\n",
    "6. Объедините датафреймы в рамках одной группы и найдите разницу во времени между событиями (по аналогии с расчётом, который мы уже производили, когда находили время между событиями для всех пользователей).\n",
    "7. Рассчитайте среднее время между событиями."
   ]
  },
  {
   "cell_type": "code",
   "execution_count": 1,
   "metadata": {},
   "outputs": [],
   "source": [
    "import pandas as pd"
   ]
  },
  {
   "cell_type": "markdown",
   "metadata": {},
   "source": [
    "### Таблица Event\n",
    "Хранит данные о событиях, которые совершают пользователи. По сути, каждое событие — это факт прохождения пользователем какого-либо этапа игры."
   ]
  },
  {
   "cell_type": "markdown",
   "metadata": {},
   "source": [
    "* id\tидентификатор события\n",
    "* user_id\tуникальный идентификатор пользователя, совершившего событие в приложении\n",
    "* start_time\tдата и время события\n",
    "* event_type\tтип события, значения: \n",
    "   * registration — регистрация; \n",
    "   * tutorial_start — начало обучения; \n",
    "   * tutorial_finish — завершение обучения; \n",
    "   * level_choice — выбор уровня сложности; \n",
    "   * pack_choice — выбор пакетов вопросов\n",
    "* tutorial_id\tидентификатор обучения (этот идентификатор есть только у событий обучения)\n",
    "* selected_level\tвыбранный уровень сложности обучения\n"
   ]
  },
  {
   "cell_type": "code",
   "execution_count": 2,
   "metadata": {},
   "outputs": [
    {
     "data": {
      "text/html": [
       "<div>\n",
       "<style scoped>\n",
       "    .dataframe tbody tr th:only-of-type {\n",
       "        vertical-align: middle;\n",
       "    }\n",
       "\n",
       "    .dataframe tbody tr th {\n",
       "        vertical-align: top;\n",
       "    }\n",
       "\n",
       "    .dataframe thead th {\n",
       "        text-align: right;\n",
       "    }\n",
       "</style>\n",
       "<table border=\"1\" class=\"dataframe\">\n",
       "  <thead>\n",
       "    <tr style=\"text-align: right;\">\n",
       "      <th></th>\n",
       "      <th>id</th>\n",
       "      <th>event_type</th>\n",
       "      <th>selected_level</th>\n",
       "      <th>start_time</th>\n",
       "      <th>tutorial_id</th>\n",
       "      <th>user_id</th>\n",
       "    </tr>\n",
       "  </thead>\n",
       "  <tbody>\n",
       "    <tr>\n",
       "      <th>0</th>\n",
       "      <td>28903</td>\n",
       "      <td>registration</td>\n",
       "      <td>NaN</td>\n",
       "      <td>2016-05-11T23:40:55</td>\n",
       "      <td>NaN</td>\n",
       "      <td>12583</td>\n",
       "    </tr>\n",
       "    <tr>\n",
       "      <th>1</th>\n",
       "      <td>28904</td>\n",
       "      <td>registration</td>\n",
       "      <td>NaN</td>\n",
       "      <td>2016-05-11T23:49:58</td>\n",
       "      <td>NaN</td>\n",
       "      <td>12584</td>\n",
       "    </tr>\n",
       "    <tr>\n",
       "      <th>2</th>\n",
       "      <td>28905</td>\n",
       "      <td>registration</td>\n",
       "      <td>NaN</td>\n",
       "      <td>2016-05-12T00:53:07</td>\n",
       "      <td>NaN</td>\n",
       "      <td>12585</td>\n",
       "    </tr>\n",
       "    <tr>\n",
       "      <th>3</th>\n",
       "      <td>28906</td>\n",
       "      <td>tutorial_start</td>\n",
       "      <td>NaN</td>\n",
       "      <td>2016-05-12T01:32:20</td>\n",
       "      <td>17562.0</td>\n",
       "      <td>12585</td>\n",
       "    </tr>\n",
       "    <tr>\n",
       "      <th>4</th>\n",
       "      <td>28907</td>\n",
       "      <td>tutorial_finish</td>\n",
       "      <td>NaN</td>\n",
       "      <td>2016-05-12T01:34:53</td>\n",
       "      <td>17562.0</td>\n",
       "      <td>12585</td>\n",
       "    </tr>\n",
       "  </tbody>\n",
       "</table>\n",
       "</div>"
      ],
      "text/plain": [
       "      id       event_type selected_level           start_time  tutorial_id  \\\n",
       "0  28903     registration            NaN  2016-05-11T23:40:55          NaN   \n",
       "1  28904     registration            NaN  2016-05-11T23:49:58          NaN   \n",
       "2  28905     registration            NaN  2016-05-12T00:53:07          NaN   \n",
       "3  28906   tutorial_start            NaN  2016-05-12T01:32:20      17562.0   \n",
       "4  28907  tutorial_finish            NaN  2016-05-12T01:34:53      17562.0   \n",
       "\n",
       "   user_id  \n",
       "0    12583  \n",
       "1    12584  \n",
       "2    12585  \n",
       "3    12585  \n",
       "4    12585  "
      ]
     },
     "execution_count": 2,
     "metadata": {},
     "output_type": "execute_result"
    }
   ],
   "source": [
    "event = pd.read_csv('data/7_4_Events.csv')\n",
    "event.head()"
   ]
  },
  {
   "cell_type": "code",
   "execution_count": 3,
   "metadata": {},
   "outputs": [
    {
     "name": "stdout",
     "output_type": "stream",
     "text": [
      "<class 'pandas.core.frame.DataFrame'>\n",
      "Int64Index: 66959 entries, 51405 to 118364\n",
      "Data columns (total 6 columns):\n",
      " #   Column          Non-Null Count  Dtype         \n",
      "---  ------          --------------  -----         \n",
      " 0   id              66959 non-null  int64         \n",
      " 1   event_type      66959 non-null  object        \n",
      " 2   selected_level  8342 non-null   object        \n",
      " 3   start_time      66959 non-null  datetime64[ns]\n",
      " 4   tutorial_id     32954 non-null  float64       \n",
      " 5   user_id         66959 non-null  int64         \n",
      "dtypes: datetime64[ns](1), float64(1), int64(2), object(2)\n",
      "memory usage: 3.6+ MB\n"
     ]
    },
    {
     "name": "stderr",
     "output_type": "stream",
     "text": [
      "<ipython-input-3-5db9283e6810>:6: SettingWithCopyWarning: \n",
      "A value is trying to be set on a copy of a slice from a DataFrame.\n",
      "Try using .loc[row_indexer,col_indexer] = value instead\n",
      "\n",
      "See the caveats in the documentation: https://pandas.pydata.org/pandas-docs/stable/user_guide/indexing.html#returning-a-view-versus-a-copy\n",
      "  events_df['start_time'] = pd.to_datetime(events_df['start_time'])\n"
     ]
    }
   ],
   "source": [
    "\"\"\"выбираем только тех пользователей, которые зарегистрировались в 2018 г\"\"\"\n",
    "\n",
    "mask = (event['start_time']>='2018-01-01') & (event['start_time']<'2019-01-01') & (event['event_type']=='registration')\n",
    "registered = event[mask]['user_id'].to_list()\n",
    "events_df = event[event['user_id'].isin(registered)]\n",
    "events_df['start_time'] = pd.to_datetime(events_df['start_time'])\n",
    "events_df.info()"
   ]
  },
  {
   "cell_type": "code",
   "execution_count": 13,
   "metadata": {},
   "outputs": [
    {
     "data": {
      "text/plain": [
       "19926"
      ]
     },
     "execution_count": 13,
     "metadata": {},
     "output_type": "execute_result"
    }
   ],
   "source": [
    "\"\"\" Оценим, какое количество пользователей совершали события:\"\"\"\n",
    "events_df['user_id'].nunique()"
   ]
  },
  {
   "cell_type": "code",
   "execution_count": 5,
   "metadata": {},
   "outputs": [
    {
     "data": {
      "text/plain": [
       "medium    4645\n",
       "easy      2448\n",
       "hard      1249\n",
       "Name: selected_level, dtype: int64"
      ]
     },
     "execution_count": 5,
     "metadata": {},
     "output_type": "execute_result"
    }
   ],
   "source": [
    "\"\"\"Изучаем данные, по которым были выбраны уровни сложности\"\"\"\n",
    "events_df['selected_level'].value_counts()"
   ]
  },
  {
   "cell_type": "markdown",
   "metadata": {},
   "source": [
    "#### Исследуем пропуски"
   ]
  },
  {
   "cell_type": "code",
   "execution_count": 9,
   "metadata": {},
   "outputs": [
    {
     "name": "stdout",
     "output_type": "stream",
     "text": [
      "<class 'pandas.core.frame.DataFrame'>\n",
      "Int64Index: 1249 entries, 51428 to 118300\n",
      "Data columns (total 6 columns):\n",
      " #   Column          Non-Null Count  Dtype         \n",
      "---  ------          --------------  -----         \n",
      " 0   id              1249 non-null   int64         \n",
      " 1   event_type      1249 non-null   object        \n",
      " 2   selected_level  1249 non-null   object        \n",
      " 3   start_time      1249 non-null   datetime64[ns]\n",
      " 4   tutorial_id     0 non-null      float64       \n",
      " 5   user_id         1249 non-null   int64         \n",
      "dtypes: datetime64[ns](1), float64(1), int64(2), object(2)\n",
      "memory usage: 68.3+ KB\n"
     ]
    }
   ],
   "source": [
    "\"\"\"посмотрим на events_df, оставив в нём только такие строки, где selected_level = hard\"\"\"\n",
    "\n",
    "events_df[events_df['selected_level'] == 'hard'].info()"
   ]
  },
  {
   "cell_type": "code",
   "execution_count": 10,
   "metadata": {},
   "outputs": [
    {
     "name": "stdout",
     "output_type": "stream",
     "text": [
      "<class 'pandas.core.frame.DataFrame'>\n",
      "Int64Index: 4645 entries, 51424 to 118363\n",
      "Data columns (total 6 columns):\n",
      " #   Column          Non-Null Count  Dtype         \n",
      "---  ------          --------------  -----         \n",
      " 0   id              4645 non-null   int64         \n",
      " 1   event_type      4645 non-null   object        \n",
      " 2   selected_level  4645 non-null   object        \n",
      " 3   start_time      4645 non-null   datetime64[ns]\n",
      " 4   tutorial_id     0 non-null      float64       \n",
      " 5   user_id         4645 non-null   int64         \n",
      "dtypes: datetime64[ns](1), float64(1), int64(2), object(2)\n",
      "memory usage: 254.0+ KB\n"
     ]
    }
   ],
   "source": [
    "\"\"\"посмотрим на events_df, оставив в нём только такие строки, где selected_level = medium\"\"\"\n",
    "\n",
    "events_df[events_df['selected_level'] == 'medium'].info()"
   ]
  },
  {
   "cell_type": "code",
   "execution_count": 11,
   "metadata": {},
   "outputs": [
    {
     "name": "stdout",
     "output_type": "stream",
     "text": [
      "<class 'pandas.core.frame.DataFrame'>\n",
      "Int64Index: 2448 entries, 51450 to 118362\n",
      "Data columns (total 6 columns):\n",
      " #   Column          Non-Null Count  Dtype         \n",
      "---  ------          --------------  -----         \n",
      " 0   id              2448 non-null   int64         \n",
      " 1   event_type      2448 non-null   object        \n",
      " 2   selected_level  2448 non-null   object        \n",
      " 3   start_time      2448 non-null   datetime64[ns]\n",
      " 4   tutorial_id     0 non-null      float64       \n",
      " 5   user_id         2448 non-null   int64         \n",
      "dtypes: datetime64[ns](1), float64(1), int64(2), object(2)\n",
      "memory usage: 133.9+ KB\n"
     ]
    }
   ],
   "source": [
    "\"\"\"посмотрим на events_df, оставив в нём только такие строки, где selected_level = easy\"\"\"\n",
    "\n",
    "events_df[events_df['selected_level'] == 'easy'].info()"
   ]
  },
  {
   "cell_type": "markdown",
   "metadata": {},
   "source": [
    "#### Исследуем значения"
   ]
  },
  {
   "cell_type": "code",
   "execution_count": 12,
   "metadata": {},
   "outputs": [
    {
     "name": "stderr",
     "output_type": "stream",
     "text": [
      "<ipython-input-12-f62b66a4a67c>:6: FutureWarning: Treating datetime data as categorical rather than numeric in `.describe` is deprecated and will be removed in a future version of pandas. Specify `datetime_is_numeric=True` to silence this warning and adopt the future behavior now.\n",
      "  events_df.describe(include='all')\n"
     ]
    },
    {
     "data": {
      "text/html": [
       "<div>\n",
       "<style scoped>\n",
       "    .dataframe tbody tr th:only-of-type {\n",
       "        vertical-align: middle;\n",
       "    }\n",
       "\n",
       "    .dataframe tbody tr th {\n",
       "        vertical-align: top;\n",
       "    }\n",
       "\n",
       "    .dataframe thead th {\n",
       "        text-align: right;\n",
       "    }\n",
       "</style>\n",
       "<table border=\"1\" class=\"dataframe\">\n",
       "  <thead>\n",
       "    <tr style=\"text-align: right;\">\n",
       "      <th></th>\n",
       "      <th>id</th>\n",
       "      <th>event_type</th>\n",
       "      <th>selected_level</th>\n",
       "      <th>start_time</th>\n",
       "      <th>tutorial_id</th>\n",
       "      <th>user_id</th>\n",
       "    </tr>\n",
       "  </thead>\n",
       "  <tbody>\n",
       "    <tr>\n",
       "      <th>count</th>\n",
       "      <td>66959.000000</td>\n",
       "      <td>66959</td>\n",
       "      <td>8342</td>\n",
       "      <td>66959</td>\n",
       "      <td>32954.000000</td>\n",
       "      <td>66959.000000</td>\n",
       "    </tr>\n",
       "    <tr>\n",
       "      <th>unique</th>\n",
       "      <td>NaN</td>\n",
       "      <td>5</td>\n",
       "      <td>3</td>\n",
       "      <td>66809</td>\n",
       "      <td>NaN</td>\n",
       "      <td>NaN</td>\n",
       "    </tr>\n",
       "    <tr>\n",
       "      <th>top</th>\n",
       "      <td>NaN</td>\n",
       "      <td>registration</td>\n",
       "      <td>medium</td>\n",
       "      <td>2018-03-13 09:37:43</td>\n",
       "      <td>NaN</td>\n",
       "      <td>NaN</td>\n",
       "    </tr>\n",
       "    <tr>\n",
       "      <th>freq</th>\n",
       "      <td>NaN</td>\n",
       "      <td>19926</td>\n",
       "      <td>4645</td>\n",
       "      <td>9</td>\n",
       "      <td>NaN</td>\n",
       "      <td>NaN</td>\n",
       "    </tr>\n",
       "    <tr>\n",
       "      <th>first</th>\n",
       "      <td>NaN</td>\n",
       "      <td>NaN</td>\n",
       "      <td>NaN</td>\n",
       "      <td>2018-01-01 03:48:40</td>\n",
       "      <td>NaN</td>\n",
       "      <td>NaN</td>\n",
       "    </tr>\n",
       "    <tr>\n",
       "      <th>last</th>\n",
       "      <td>NaN</td>\n",
       "      <td>NaN</td>\n",
       "      <td>NaN</td>\n",
       "      <td>2019-01-01 05:50:36</td>\n",
       "      <td>NaN</td>\n",
       "      <td>NaN</td>\n",
       "    </tr>\n",
       "    <tr>\n",
       "      <th>mean</th>\n",
       "      <td>113787.000045</td>\n",
       "      <td>NaN</td>\n",
       "      <td>NaN</td>\n",
       "      <td>NaN</td>\n",
       "      <td>40532.934393</td>\n",
       "      <td>37781.543362</td>\n",
       "    </tr>\n",
       "    <tr>\n",
       "      <th>std</th>\n",
       "      <td>19329.542752</td>\n",
       "      <td>NaN</td>\n",
       "      <td>NaN</td>\n",
       "      <td>NaN</td>\n",
       "      <td>5213.486632</td>\n",
       "      <td>5751.497904</td>\n",
       "    </tr>\n",
       "    <tr>\n",
       "      <th>min</th>\n",
       "      <td>80308.000000</td>\n",
       "      <td>NaN</td>\n",
       "      <td>NaN</td>\n",
       "      <td>NaN</td>\n",
       "      <td>31505.000000</td>\n",
       "      <td>27832.000000</td>\n",
       "    </tr>\n",
       "    <tr>\n",
       "      <th>25%</th>\n",
       "      <td>97047.500000</td>\n",
       "      <td>NaN</td>\n",
       "      <td>NaN</td>\n",
       "      <td>NaN</td>\n",
       "      <td>36008.250000</td>\n",
       "      <td>32849.000000</td>\n",
       "    </tr>\n",
       "    <tr>\n",
       "      <th>50%</th>\n",
       "      <td>113787.000000</td>\n",
       "      <td>NaN</td>\n",
       "      <td>NaN</td>\n",
       "      <td>NaN</td>\n",
       "      <td>40529.500000</td>\n",
       "      <td>37719.000000</td>\n",
       "    </tr>\n",
       "    <tr>\n",
       "      <th>75%</th>\n",
       "      <td>130526.500000</td>\n",
       "      <td>NaN</td>\n",
       "      <td>NaN</td>\n",
       "      <td>NaN</td>\n",
       "      <td>45057.750000</td>\n",
       "      <td>42733.000000</td>\n",
       "    </tr>\n",
       "    <tr>\n",
       "      <th>max</th>\n",
       "      <td>147267.000000</td>\n",
       "      <td>NaN</td>\n",
       "      <td>NaN</td>\n",
       "      <td>NaN</td>\n",
       "      <td>49554.000000</td>\n",
       "      <td>47757.000000</td>\n",
       "    </tr>\n",
       "  </tbody>\n",
       "</table>\n",
       "</div>"
      ],
      "text/plain": [
       "                   id    event_type selected_level           start_time  \\\n",
       "count    66959.000000         66959           8342                66959   \n",
       "unique            NaN             5              3                66809   \n",
       "top               NaN  registration         medium  2018-03-13 09:37:43   \n",
       "freq              NaN         19926           4645                    9   \n",
       "first             NaN           NaN            NaN  2018-01-01 03:48:40   \n",
       "last              NaN           NaN            NaN  2019-01-01 05:50:36   \n",
       "mean    113787.000045           NaN            NaN                  NaN   \n",
       "std      19329.542752           NaN            NaN                  NaN   \n",
       "min      80308.000000           NaN            NaN                  NaN   \n",
       "25%      97047.500000           NaN            NaN                  NaN   \n",
       "50%     113787.000000           NaN            NaN                  NaN   \n",
       "75%     130526.500000           NaN            NaN                  NaN   \n",
       "max     147267.000000           NaN            NaN                  NaN   \n",
       "\n",
       "         tutorial_id       user_id  \n",
       "count   32954.000000  66959.000000  \n",
       "unique           NaN           NaN  \n",
       "top              NaN           NaN  \n",
       "freq             NaN           NaN  \n",
       "first            NaN           NaN  \n",
       "last             NaN           NaN  \n",
       "mean    40532.934393  37781.543362  \n",
       "std      5213.486632   5751.497904  \n",
       "min     31505.000000  27832.000000  \n",
       "25%     36008.250000  32849.000000  \n",
       "50%     40529.500000  37719.000000  \n",
       "75%     45057.750000  42733.000000  \n",
       "max     49554.000000  47757.000000  "
      ]
     },
     "execution_count": 12,
     "metadata": {},
     "output_type": "execute_result"
    }
   ],
   "source": [
    "\"\"\"Вызовем метод describe(), чтобы оценить характеристики каждого столбца. \n",
    "По умолчанию метод describe() выдаёт характеристики только по столбцам с численными \n",
    "типами (например, int64, float64). Мы вызовем этот метод с параметром include='all'\n",
    "для того, чтобы отображать характеристики для всех столбцов.\"\"\"\n",
    "\n",
    "events_df.describe(include='all')"
   ]
  },
  {
   "cell_type": "markdown",
   "metadata": {},
   "source": [
    "### Таблица purchase\n",
    "Хранит данные об оплатах, которые совершают пользователи."
   ]
  },
  {
   "cell_type": "markdown",
   "metadata": {},
   "source": [
    "id\tидентификатор события\n",
    "\n",
    "user_id\tуникальный идентификатор пользователя, совершившего событие в приложении\n",
    "\n",
    "event_datetime\tдата и время события/покупки\n",
    "\n",
    "amount\tсумма оплаты"
   ]
  },
  {
   "cell_type": "code",
   "execution_count": 14,
   "metadata": {},
   "outputs": [
    {
     "data": {
      "text/html": [
       "<div>\n",
       "<style scoped>\n",
       "    .dataframe tbody tr th:only-of-type {\n",
       "        vertical-align: middle;\n",
       "    }\n",
       "\n",
       "    .dataframe tbody tr th {\n",
       "        vertical-align: top;\n",
       "    }\n",
       "\n",
       "    .dataframe thead th {\n",
       "        text-align: right;\n",
       "    }\n",
       "</style>\n",
       "<table border=\"1\" class=\"dataframe\">\n",
       "  <thead>\n",
       "    <tr style=\"text-align: right;\">\n",
       "      <th></th>\n",
       "      <th>id</th>\n",
       "      <th>user_id</th>\n",
       "      <th>event_datetime</th>\n",
       "      <th>amount</th>\n",
       "    </tr>\n",
       "  </thead>\n",
       "  <tbody>\n",
       "    <tr>\n",
       "      <th>0</th>\n",
       "      <td>15674</td>\n",
       "      <td>12584</td>\n",
       "      <td>2016-05-12T10:34:16</td>\n",
       "      <td>100</td>\n",
       "    </tr>\n",
       "    <tr>\n",
       "      <th>1</th>\n",
       "      <td>15675</td>\n",
       "      <td>12985</td>\n",
       "      <td>2016-05-13T08:25:56</td>\n",
       "      <td>50</td>\n",
       "    </tr>\n",
       "    <tr>\n",
       "      <th>2</th>\n",
       "      <td>15676</td>\n",
       "      <td>12828</td>\n",
       "      <td>2016-05-13T16:33:46</td>\n",
       "      <td>50</td>\n",
       "    </tr>\n",
       "    <tr>\n",
       "      <th>3</th>\n",
       "      <td>15677</td>\n",
       "      <td>12598</td>\n",
       "      <td>2016-05-14T01:09:37</td>\n",
       "      <td>150</td>\n",
       "    </tr>\n",
       "    <tr>\n",
       "      <th>4</th>\n",
       "      <td>15678</td>\n",
       "      <td>13037</td>\n",
       "      <td>2016-05-14T01:24:46</td>\n",
       "      <td>100</td>\n",
       "    </tr>\n",
       "  </tbody>\n",
       "</table>\n",
       "</div>"
      ],
      "text/plain": [
       "      id  user_id       event_datetime  amount\n",
       "0  15674    12584  2016-05-12T10:34:16     100\n",
       "1  15675    12985  2016-05-13T08:25:56      50\n",
       "2  15676    12828  2016-05-13T16:33:46      50\n",
       "3  15677    12598  2016-05-14T01:09:37     150\n",
       "4  15678    13037  2016-05-14T01:24:46     100"
      ]
     },
     "metadata": {},
     "output_type": "display_data"
    },
    {
     "name": "stdout",
     "output_type": "stream",
     "text": [
      "<class 'pandas.core.frame.DataFrame'>\n",
      "RangeIndex: 5956 entries, 0 to 5955\n",
      "Data columns (total 4 columns):\n",
      " #   Column          Non-Null Count  Dtype \n",
      "---  ------          --------------  ----- \n",
      " 0   id              5956 non-null   int64 \n",
      " 1   user_id         5956 non-null   int64 \n",
      " 2   event_datetime  5956 non-null   object\n",
      " 3   amount          5956 non-null   int64 \n",
      "dtypes: int64(3), object(1)\n",
      "memory usage: 186.2+ KB\n"
     ]
    },
    {
     "data": {
      "text/plain": [
       "None"
      ]
     },
     "metadata": {},
     "output_type": "display_data"
    }
   ],
   "source": [
    "purchase = pd.read_csv('data/purchase.csv')\n",
    "display(purchase.head())\n",
    "display(purchase.info())"
   ]
  },
  {
   "cell_type": "code",
   "execution_count": null,
   "metadata": {},
   "outputs": [],
   "source": [
    "\"\"\"Также у нас есть одинаковые столбцы id в двух датафреймах, но смысл их \n",
    "несколько отличается, так как столбец id в events_df указывает на идентификатор \n",
    "события, а столбец id в purchase_df указывает на идентификатор оплаты. Поэтому \n",
    "применим функцию rename(), чтобы переименовать столбцы в датафреймах.\"\"\"\n",
    "\n",
    "events_df = events_df.rename(columns={\"id\": \"event_id\"})\n",
    "purchase_df = purchase_df.rename(columns={\"id\": \"purchase_id\"})"
   ]
  },
  {
   "cell_type": "code",
   "execution_count": 15,
   "metadata": {},
   "outputs": [
    {
     "name": "stdout",
     "output_type": "stream",
     "text": [
      "<class 'pandas.core.frame.DataFrame'>\n",
      "Int64Index: 1600 entries, 1171 to 2778\n",
      "Data columns (total 4 columns):\n",
      " #   Column          Non-Null Count  Dtype         \n",
      "---  ------          --------------  -----         \n",
      " 0   id              1600 non-null   int64         \n",
      " 1   user_id         1600 non-null   int64         \n",
      " 2   event_datetime  1600 non-null   datetime64[ns]\n",
      " 3   amount          1600 non-null   int64         \n",
      "dtypes: datetime64[ns](1), int64(3)\n",
      "memory usage: 62.5 KB\n"
     ]
    },
    {
     "name": "stderr",
     "output_type": "stream",
     "text": [
      "<ipython-input-15-092fe9d89b94>:3: SettingWithCopyWarning: \n",
      "A value is trying to be set on a copy of a slice from a DataFrame.\n",
      "Try using .loc[row_indexer,col_indexer] = value instead\n",
      "\n",
      "See the caveats in the documentation: https://pandas.pydata.org/pandas-docs/stable/user_guide/indexing.html#returning-a-view-versus-a-copy\n",
      "  purchase_df['event_datetime'] = pd.to_datetime(purchase_df['event_datetime'])\n"
     ]
    }
   ],
   "source": [
    "\"\"\" Фильтруем только тех, кто зарегистрировался в 2018г\"\"\"\n",
    "\n",
    "purchase_df = purchase[purchase['user_id'].isin(registered)]\n",
    "purchase_df['event_datetime'] = pd.to_datetime(purchase_df['event_datetime'])\n",
    "purchase_df.info()"
   ]
  },
  {
   "cell_type": "code",
   "execution_count": 16,
   "metadata": {},
   "outputs": [
    {
     "data": {
      "text/html": [
       "<div>\n",
       "<style scoped>\n",
       "    .dataframe tbody tr th:only-of-type {\n",
       "        vertical-align: middle;\n",
       "    }\n",
       "\n",
       "    .dataframe tbody tr th {\n",
       "        vertical-align: top;\n",
       "    }\n",
       "\n",
       "    .dataframe thead th {\n",
       "        text-align: right;\n",
       "    }\n",
       "</style>\n",
       "<table border=\"1\" class=\"dataframe\">\n",
       "  <thead>\n",
       "    <tr style=\"text-align: right;\">\n",
       "      <th></th>\n",
       "      <th>id</th>\n",
       "      <th>user_id</th>\n",
       "      <th>amount</th>\n",
       "    </tr>\n",
       "  </thead>\n",
       "  <tbody>\n",
       "    <tr>\n",
       "      <th>count</th>\n",
       "      <td>1600.000000</td>\n",
       "      <td>1600.000000</td>\n",
       "      <td>1600.000000</td>\n",
       "    </tr>\n",
       "    <tr>\n",
       "      <th>mean</th>\n",
       "      <td>17645.505625</td>\n",
       "      <td>37752.766250</td>\n",
       "      <td>110.734375</td>\n",
       "    </tr>\n",
       "    <tr>\n",
       "      <th>std</th>\n",
       "      <td>462.038637</td>\n",
       "      <td>5822.621784</td>\n",
       "      <td>54.696628</td>\n",
       "    </tr>\n",
       "    <tr>\n",
       "      <th>min</th>\n",
       "      <td>16845.000000</td>\n",
       "      <td>27845.000000</td>\n",
       "      <td>25.000000</td>\n",
       "    </tr>\n",
       "    <tr>\n",
       "      <th>25%</th>\n",
       "      <td>17245.750000</td>\n",
       "      <td>32815.750000</td>\n",
       "      <td>50.000000</td>\n",
       "    </tr>\n",
       "    <tr>\n",
       "      <th>50%</th>\n",
       "      <td>17645.500000</td>\n",
       "      <td>37633.500000</td>\n",
       "      <td>100.000000</td>\n",
       "    </tr>\n",
       "    <tr>\n",
       "      <th>75%</th>\n",
       "      <td>18045.250000</td>\n",
       "      <td>43023.000000</td>\n",
       "      <td>150.000000</td>\n",
       "    </tr>\n",
       "    <tr>\n",
       "      <th>max</th>\n",
       "      <td>18452.000000</td>\n",
       "      <td>47742.000000</td>\n",
       "      <td>300.000000</td>\n",
       "    </tr>\n",
       "  </tbody>\n",
       "</table>\n",
       "</div>"
      ],
      "text/plain": [
       "                 id       user_id       amount\n",
       "count   1600.000000   1600.000000  1600.000000\n",
       "mean   17645.505625  37752.766250   110.734375\n",
       "std      462.038637   5822.621784    54.696628\n",
       "min    16845.000000  27845.000000    25.000000\n",
       "25%    17245.750000  32815.750000    50.000000\n",
       "50%    17645.500000  37633.500000   100.000000\n",
       "75%    18045.250000  43023.000000   150.000000\n",
       "max    18452.000000  47742.000000   300.000000"
      ]
     },
     "execution_count": 16,
     "metadata": {},
     "output_type": "execute_result"
    }
   ],
   "source": [
    "\"\"\" Исследуем значения\"\"\"\n",
    "\n",
    "purchase_df.describe()"
   ]
  },
  {
   "cell_type": "code",
   "execution_count": 162,
   "metadata": {},
   "outputs": [],
   "source": [
    "\"\"\" Для начала посмотрим, сколько пользователей совершают событие: выбирают уровень сложности.\"\"\"\n",
    "\n",
    "selected_level_hard_users_count = events_df[events_df['selected_level'] == 'hard']['user_id'].nunique()\n",
    "selected_level_medium_users_count = events_df[events_df['selected_level'] == 'medium']['user_id'].nunique()\n",
    "selected_level_easy_users_count = events_df[events_df['selected_level'] == 'easy']['user_id'].nunique()\n",
    "selected_level_notnull_users_count = events_df[events_df['selected_level'].notnull() == True]['user_id'].nunique()\n",
    "selected_level_all_users_count = events_df['user_id'].nunique()\n",
    "\n"
   ]
  },
  {
   "cell_type": "code",
   "execution_count": 37,
   "metadata": {},
   "outputs": [
    {
     "data": {
      "text/plain": [
       "True"
      ]
     },
     "execution_count": 37,
     "metadata": {},
     "output_type": "execute_result"
    }
   ],
   "source": [
    "selected_level_hard_users_count + selected_level_medium_users_count + selected_level_easy_users_count == selected_level_notnull_users_count"
   ]
  },
  {
   "cell_type": "code",
   "execution_count": 40,
   "metadata": {},
   "outputs": [
    {
     "name": "stdout",
     "output_type": "stream",
     "text": [
      "Процент пользователей, выбравшие уровени сложности (от общего числа зарегистрированных пользователей): 41.86%\n"
     ]
    }
   ],
   "source": [
    "percent_selected_level_notnull_users = selected_level_notnull_users_count / selected_level_all_users_count\n",
    "\n",
    "print(\n",
    "    \"Процент пользователей, выбравшие уровени сложности (от общего числа зарегистрированных пользователей): {:.2%}\".format(\n",
    "        percent_selected_level_notnull_users\n",
    "    )\n",
    ")"
   ]
  },
  {
   "cell_type": "markdown",
   "metadata": {},
   "source": [
    "#### ВЫВОД\n",
    "Меньше половины пользователей (41.86 %) доходят до этапа выбора уровня сложности вопросов. А ведь этот этап напрямую влияет на то, что пользователь будет пользоваться приложением через бесплатные возможности, которые в дальнейшем могут привести к оплате.\n",
    "Таким образом, для успешной монетизации приложения крайне важно оптимизировать прохождение до этапа выбора сложности."
   ]
  },
  {
   "cell_type": "code",
   "execution_count": 38,
   "metadata": {},
   "outputs": [
    {
     "name": "stdout",
     "output_type": "stream",
     "text": [
      "Процент пользователей, выбравший высокий уровень сложности (от числа пользователей, которые выбирали): 14.97%\n"
     ]
    }
   ],
   "source": [
    "percent_selected_level_hard_users = selected_level_hard_users_count / selected_level_notnull_users_count\n",
    "\n",
    "print(\n",
    "    \"Процент пользователей, выбравший высокий уровень сложности (от числа пользователей, которые выбирали): {:.2%}\".format(\n",
    "        percent_selected_level_hard_users\n",
    "    )\n",
    ")"
   ]
  },
  {
   "cell_type": "code",
   "execution_count": 42,
   "metadata": {},
   "outputs": [
    {
     "name": "stdout",
     "output_type": "stream",
     "text": [
      "Процент пользователей, выбравший средний уровень сложности (от числа пользователей, которые выбирали): 55.68%\n"
     ]
    }
   ],
   "source": [
    "percent_selected_level_medium_users = selected_level_medium_users_count / selected_level_notnull_users_count\n",
    "\n",
    "print(\n",
    "    \"Процент пользователей, выбравший средний уровень сложности (от числа пользователей, которые выбирали): {:.2%}\".format(\n",
    "        percent_selected_level_medium_users\n",
    "    )\n",
    ")"
   ]
  },
  {
   "cell_type": "code",
   "execution_count": 43,
   "metadata": {},
   "outputs": [
    {
     "name": "stdout",
     "output_type": "stream",
     "text": [
      "Процент пользователей, выбравший низкий уровень сложности (от числа пользователей, которые выбирали): 29.35%\n"
     ]
    }
   ],
   "source": [
    "percent_selected_level_easy_users = selected_level_easy_users_count / selected_level_notnull_users_count\n",
    "\n",
    "print(\n",
    "    \"Процент пользователей, выбравший низкий уровень сложности (от числа пользователей, которые выбирали): {:.2%}\".format(\n",
    "        percent_selected_level_easy_users\n",
    "    )\n",
    ")"
   ]
  },
  {
   "cell_type": "markdown",
   "metadata": {},
   "source": [
    "### Вывод:\n",
    "Больше половины пользователей выбираю средний уровень срожности, треть низкий и только 15% высокий уровень."
   ]
  },
  {
   "cell_type": "markdown",
   "metadata": {},
   "source": [
    "#### Объединяем датафреймы"
   ]
  },
  {
   "cell_type": "code",
   "execution_count": 58,
   "metadata": {},
   "outputs": [],
   "source": [
    "\"\"\"Добавим в датафрейм purchase_df столбец event_type, который будет содержать одно \n",
    "значение purchase. Это нужно, чтобы в объединённом датафрейме однозначно выделить \n",
    "события оплаты.\"\"\"\n",
    "\n",
    "purchase_df['event_type'] = 'purchase'"
   ]
  },
  {
   "cell_type": "code",
   "execution_count": 164,
   "metadata": {},
   "outputs": [],
   "source": [
    "\"\"\"Также у нас есть одинаковые столбцы id в двух датафреймах, но смысл их \n",
    "несколько отличается, так как столбец id в events_df указывает на идентификатор \n",
    "события, а столбец id в purchase_df указывает на идентификатор оплаты. Поэтому \n",
    "применим функцию rename(), чтобы переименовать столбцы в датафреймах.\"\"\"\n",
    "\n",
    "events_df = events_df.rename(columns={\"id\": \"event_id\"})\n",
    "purchase_df = purchase_df.rename(columns={\"id\": \"purchase_id\"})"
   ]
  },
  {
   "cell_type": "code",
   "execution_count": 61,
   "metadata": {},
   "outputs": [],
   "source": [
    "\"\"\"объединим датафреймы events_df и purchase_df с помощью функции pd.concat() \n",
    "и запишем объединённый датафрейм в переменную total_events_df.\"\"\"\n",
    "\n",
    "total_events_df = pd.concat([events_df,purchase_df],sort=False)"
   ]
  },
  {
   "cell_type": "code",
   "execution_count": 62,
   "metadata": {},
   "outputs": [
    {
     "data": {
      "text/html": [
       "<div>\n",
       "<style scoped>\n",
       "    .dataframe tbody tr th:only-of-type {\n",
       "        vertical-align: middle;\n",
       "    }\n",
       "\n",
       "    .dataframe tbody tr th {\n",
       "        vertical-align: top;\n",
       "    }\n",
       "\n",
       "    .dataframe thead th {\n",
       "        text-align: right;\n",
       "    }\n",
       "</style>\n",
       "<table border=\"1\" class=\"dataframe\">\n",
       "  <thead>\n",
       "    <tr style=\"text-align: right;\">\n",
       "      <th></th>\n",
       "      <th>event_id</th>\n",
       "      <th>event_type</th>\n",
       "      <th>selected_level</th>\n",
       "      <th>start_time</th>\n",
       "      <th>tutorial_id</th>\n",
       "      <th>user_id</th>\n",
       "      <th>purchase_id</th>\n",
       "      <th>event_datetime</th>\n",
       "      <th>amount</th>\n",
       "    </tr>\n",
       "  </thead>\n",
       "  <tbody>\n",
       "    <tr>\n",
       "      <th>51405</th>\n",
       "      <td>80308.0</td>\n",
       "      <td>registration</td>\n",
       "      <td>NaN</td>\n",
       "      <td>2018-01-01 03:48:40</td>\n",
       "      <td>NaN</td>\n",
       "      <td>27832</td>\n",
       "      <td>NaN</td>\n",
       "      <td>NaT</td>\n",
       "      <td>NaN</td>\n",
       "    </tr>\n",
       "    <tr>\n",
       "      <th>51406</th>\n",
       "      <td>80309.0</td>\n",
       "      <td>registration</td>\n",
       "      <td>NaN</td>\n",
       "      <td>2018-01-01 04:07:25</td>\n",
       "      <td>NaN</td>\n",
       "      <td>27833</td>\n",
       "      <td>NaN</td>\n",
       "      <td>NaT</td>\n",
       "      <td>NaN</td>\n",
       "    </tr>\n",
       "    <tr>\n",
       "      <th>51407</th>\n",
       "      <td>80310.0</td>\n",
       "      <td>registration</td>\n",
       "      <td>NaN</td>\n",
       "      <td>2018-01-01 08:35:10</td>\n",
       "      <td>NaN</td>\n",
       "      <td>27834</td>\n",
       "      <td>NaN</td>\n",
       "      <td>NaT</td>\n",
       "      <td>NaN</td>\n",
       "    </tr>\n",
       "    <tr>\n",
       "      <th>51408</th>\n",
       "      <td>80311.0</td>\n",
       "      <td>registration</td>\n",
       "      <td>NaN</td>\n",
       "      <td>2018-01-01 11:54:47</td>\n",
       "      <td>NaN</td>\n",
       "      <td>27835</td>\n",
       "      <td>NaN</td>\n",
       "      <td>NaT</td>\n",
       "      <td>NaN</td>\n",
       "    </tr>\n",
       "    <tr>\n",
       "      <th>51409</th>\n",
       "      <td>80312.0</td>\n",
       "      <td>registration</td>\n",
       "      <td>NaN</td>\n",
       "      <td>2018-01-01 13:28:07</td>\n",
       "      <td>NaN</td>\n",
       "      <td>27836</td>\n",
       "      <td>NaN</td>\n",
       "      <td>NaT</td>\n",
       "      <td>NaN</td>\n",
       "    </tr>\n",
       "  </tbody>\n",
       "</table>\n",
       "</div>"
      ],
      "text/plain": [
       "       event_id    event_type selected_level          start_time  tutorial_id  \\\n",
       "51405   80308.0  registration            NaN 2018-01-01 03:48:40          NaN   \n",
       "51406   80309.0  registration            NaN 2018-01-01 04:07:25          NaN   \n",
       "51407   80310.0  registration            NaN 2018-01-01 08:35:10          NaN   \n",
       "51408   80311.0  registration            NaN 2018-01-01 11:54:47          NaN   \n",
       "51409   80312.0  registration            NaN 2018-01-01 13:28:07          NaN   \n",
       "\n",
       "       user_id  purchase_id event_datetime  amount  \n",
       "51405    27832          NaN            NaT     NaN  \n",
       "51406    27833          NaN            NaT     NaN  \n",
       "51407    27834          NaN            NaT     NaN  \n",
       "51408    27835          NaN            NaT     NaN  \n",
       "51409    27836          NaN            NaT     NaN  "
      ]
     },
     "execution_count": 62,
     "metadata": {},
     "output_type": "execute_result"
    }
   ],
   "source": [
    "total_events_df.head()"
   ]
  },
  {
   "cell_type": "code",
   "execution_count": 63,
   "metadata": {},
   "outputs": [
    {
     "name": "stdout",
     "output_type": "stream",
     "text": [
      "<class 'pandas.core.frame.DataFrame'>\n",
      "Int64Index: 68559 entries, 51405 to 2778\n",
      "Data columns (total 9 columns):\n",
      " #   Column          Non-Null Count  Dtype         \n",
      "---  ------          --------------  -----         \n",
      " 0   event_id        66959 non-null  float64       \n",
      " 1   event_type      68559 non-null  object        \n",
      " 2   selected_level  8342 non-null   object        \n",
      " 3   start_time      66959 non-null  datetime64[ns]\n",
      " 4   tutorial_id     32954 non-null  float64       \n",
      " 5   user_id         68559 non-null  int64         \n",
      " 6   purchase_id     1600 non-null   float64       \n",
      " 7   event_datetime  1600 non-null   datetime64[ns]\n",
      " 8   amount          1600 non-null   float64       \n",
      "dtypes: datetime64[ns](2), float64(4), int64(1), object(2)\n",
      "memory usage: 5.2+ MB\n"
     ]
    }
   ],
   "source": [
    "total_events_df.info()"
   ]
  },
  {
   "cell_type": "code",
   "execution_count": 64,
   "metadata": {},
   "outputs": [],
   "source": [
    "\"\"\" Сбросим индексы объединённого датафрейма (так как после объединения они \n",
    "дублировались и несут мало смысла) с помощью метода reset_index() и отсортируем \n",
    "все события по возрастанию времени с помощью sort_values().\"\"\"\n",
    "\n",
    "total_events_df = total_events_df.reset_index(drop=True).sort_values('start_time')"
   ]
  },
  {
   "cell_type": "code",
   "execution_count": 65,
   "metadata": {},
   "outputs": [],
   "source": [
    "\"\"\" Выделим отдельный датафрейм registration_df, который будет содержать только \n",
    "события с event_type = registration. Этот датафрейм будет вспомогательным для определения \n",
    "времени между регистрацией и выбором уровня сложности.\"\"\"\n",
    "\n",
    "registration_df = total_events_df[total_events_df['event_type'] == 'registration']"
   ]
  },
  {
   "cell_type": "code",
   "execution_count": 66,
   "metadata": {},
   "outputs": [
    {
     "data": {
      "text/plain": [
       "1.0"
      ]
     },
     "execution_count": 66,
     "metadata": {},
     "output_type": "execute_result"
    }
   ],
   "source": [
    "\"\"\" Для определения среднего количества событий на пользователя мы можем воспользоваться \n",
    "методом value_counts(), результатом которого будет серия с количеством событий на каждого \n",
    "пользователя. Затем, усреднив эти значения между собой, мы получим среднее число событий \n",
    "типа registration на одного пользователя.\"\"\"\n",
    "\n",
    "registration_df['user_id'].value_counts().mean()"
   ]
  },
  {
   "cell_type": "code",
   "execution_count": 67,
   "metadata": {},
   "outputs": [],
   "source": [
    "\"\"\" Оставим в датафрейме registration_df только те данные, которые нужны для наших вычислений — \n",
    "столбец user_id с идентификатором пользователя и столбец start_time со временем регистрации. \n",
    "Также переименуем столбец start_time в столбец registration_time для понятности.\"\"\"\n",
    "\n",
    "registration_df = registration_df[[\"user_id\", \"start_time\"]].rename(\n",
    "    columns={\"start_time\": \"registration_time\"}\n",
    ")"
   ]
  },
  {
   "cell_type": "code",
   "execution_count": 79,
   "metadata": {},
   "outputs": [],
   "source": [
    "\"\"\" Выделим отдельный датафрейм level_choice_df, который будет содержать только события\n",
    "с event_type = level_choice (выбор уровня сложности).\"\"\"\n",
    "\n",
    "level_choice_df = total_events_df[total_events_df['event_type'] == 'level_choice']"
   ]
  },
  {
   "cell_type": "code",
   "execution_count": 80,
   "metadata": {},
   "outputs": [
    {
     "data": {
      "text/plain": [
       "1.0"
      ]
     },
     "execution_count": 80,
     "metadata": {},
     "output_type": "execute_result"
    }
   ],
   "source": [
    "level_choice_df['user_id'].value_counts().mean()"
   ]
  },
  {
   "cell_type": "code",
   "execution_count": 81,
   "metadata": {},
   "outputs": [],
   "source": [
    "\"\"\"Так же, как и в случае с датафреймом registration_df, оставим только такие столбцы, \n",
    "которые пригодятся нам в дальнейшем. Это столбцы user_id, selected_level, start_time. \n",
    "Также переименуем колонку start_time в level_choice_time:\"\"\"\n",
    "\n",
    "level_choice_df = level_choice_df[[\"user_id\", \"selected_level\", \"start_time\"]\n",
    "].rename(columns={\"start_time\": \"level_choice_time\"})"
   ]
  },
  {
   "cell_type": "code",
   "execution_count": 82,
   "metadata": {},
   "outputs": [
    {
     "name": "stdout",
     "output_type": "stream",
     "text": [
      "       user_id selected_level   level_choice_time\n",
      "19       27835         medium 2018-01-01 20:37:22\n",
      "23       27839           hard 2018-01-01 22:37:50\n",
      "36       27840         medium 2018-01-02 05:18:42\n",
      "38       27845           hard 2018-01-02 06:19:18\n",
      "45       27842           easy 2018-01-02 08:46:03\n",
      "...        ...            ...                 ...\n",
      "66932    47732         medium 2018-12-31 09:59:00\n",
      "66937    47747         medium 2018-12-31 12:24:40\n",
      "66948    47753         medium 2018-12-31 22:36:19\n",
      "66956    47755           easy 2019-01-01 05:04:52\n",
      "66957    47756         medium 2019-01-01 05:42:11\n",
      "\n",
      "[8342 rows x 3 columns]\n"
     ]
    }
   ],
   "source": [
    "print(level_choice_df)"
   ]
  },
  {
   "cell_type": "code",
   "execution_count": 166,
   "metadata": {},
   "outputs": [
    {
     "data": {
      "text/html": [
       "<div>\n",
       "<style scoped>\n",
       "    .dataframe tbody tr th:only-of-type {\n",
       "        vertical-align: middle;\n",
       "    }\n",
       "\n",
       "    .dataframe tbody tr th {\n",
       "        vertical-align: top;\n",
       "    }\n",
       "\n",
       "    .dataframe thead th {\n",
       "        text-align: right;\n",
       "    }\n",
       "</style>\n",
       "<table border=\"1\" class=\"dataframe\">\n",
       "  <thead>\n",
       "    <tr style=\"text-align: right;\">\n",
       "      <th></th>\n",
       "      <th>user_id</th>\n",
       "      <th>registration_time</th>\n",
       "      <th>selected_level</th>\n",
       "      <th>level_choice_time</th>\n",
       "    </tr>\n",
       "  </thead>\n",
       "  <tbody>\n",
       "    <tr>\n",
       "      <th>0</th>\n",
       "      <td>27835</td>\n",
       "      <td>2018-01-01 11:54:47</td>\n",
       "      <td>medium</td>\n",
       "      <td>2018-01-01 20:37:22</td>\n",
       "    </tr>\n",
       "    <tr>\n",
       "      <th>1</th>\n",
       "      <td>27839</td>\n",
       "      <td>2018-01-01 18:24:01</td>\n",
       "      <td>hard</td>\n",
       "      <td>2018-01-01 22:37:50</td>\n",
       "    </tr>\n",
       "    <tr>\n",
       "      <th>2</th>\n",
       "      <td>27840</td>\n",
       "      <td>2018-01-01 20:53:21</td>\n",
       "      <td>medium</td>\n",
       "      <td>2018-01-02 05:18:42</td>\n",
       "    </tr>\n",
       "    <tr>\n",
       "      <th>3</th>\n",
       "      <td>27842</td>\n",
       "      <td>2018-01-01 23:18:46</td>\n",
       "      <td>easy</td>\n",
       "      <td>2018-01-02 08:46:03</td>\n",
       "    </tr>\n",
       "    <tr>\n",
       "      <th>4</th>\n",
       "      <td>27843</td>\n",
       "      <td>2018-01-02 00:02:28</td>\n",
       "      <td>medium</td>\n",
       "      <td>2018-01-02 14:09:58</td>\n",
       "    </tr>\n",
       "  </tbody>\n",
       "</table>\n",
       "</div>"
      ],
      "text/plain": [
       "   user_id   registration_time selected_level   level_choice_time\n",
       "0    27835 2018-01-01 11:54:47         medium 2018-01-01 20:37:22\n",
       "1    27839 2018-01-01 18:24:01           hard 2018-01-01 22:37:50\n",
       "2    27840 2018-01-01 20:53:21         medium 2018-01-02 05:18:42\n",
       "3    27842 2018-01-01 23:18:46           easy 2018-01-02 08:46:03\n",
       "4    27843 2018-01-02 00:02:28         medium 2018-01-02 14:09:58"
      ]
     },
     "execution_count": 166,
     "metadata": {},
     "output_type": "execute_result"
    }
   ],
   "source": [
    "\"\"\" Объединяем с помощью функции merge(), объединяя данные по параметру \n",
    "user_id. Также нам нужно объединить данные с использованием параметра how='inner', это \n",
    "позволит в объединённом датафрейме оставить только такие идентификаторы пользователей, \n",
    "которые есть в обоих датафреймах. Вспомните SQL, это очень похоже на INNER JOIN.\"\"\"\n",
    "\n",
    "merged_df = registration_df.merge(\n",
    "    level_choice_df, on=\"user_id\", how=\"inner\"\n",
    ")\n",
    "merged_df.head()"
   ]
  },
  {
   "cell_type": "code",
   "execution_count": 169,
   "metadata": {},
   "outputs": [
    {
     "data": {
      "text/html": [
       "<div>\n",
       "<style scoped>\n",
       "    .dataframe tbody tr th:only-of-type {\n",
       "        vertical-align: middle;\n",
       "    }\n",
       "\n",
       "    .dataframe tbody tr th {\n",
       "        vertical-align: top;\n",
       "    }\n",
       "\n",
       "    .dataframe thead th {\n",
       "        text-align: right;\n",
       "    }\n",
       "</style>\n",
       "<table border=\"1\" class=\"dataframe\">\n",
       "  <thead>\n",
       "    <tr style=\"text-align: right;\">\n",
       "      <th></th>\n",
       "      <th>user_id</th>\n",
       "      <th>registration_time</th>\n",
       "      <th>selected_level</th>\n",
       "      <th>level_choice_time</th>\n",
       "      <th>timedelta</th>\n",
       "    </tr>\n",
       "  </thead>\n",
       "  <tbody>\n",
       "    <tr>\n",
       "      <th>0</th>\n",
       "      <td>27835</td>\n",
       "      <td>2018-01-01 11:54:47</td>\n",
       "      <td>medium</td>\n",
       "      <td>2018-01-01 20:37:22</td>\n",
       "      <td>0 days 08:42:35</td>\n",
       "    </tr>\n",
       "    <tr>\n",
       "      <th>1</th>\n",
       "      <td>27839</td>\n",
       "      <td>2018-01-01 18:24:01</td>\n",
       "      <td>hard</td>\n",
       "      <td>2018-01-01 22:37:50</td>\n",
       "      <td>0 days 04:13:49</td>\n",
       "    </tr>\n",
       "    <tr>\n",
       "      <th>2</th>\n",
       "      <td>27840</td>\n",
       "      <td>2018-01-01 20:53:21</td>\n",
       "      <td>medium</td>\n",
       "      <td>2018-01-02 05:18:42</td>\n",
       "      <td>0 days 08:25:21</td>\n",
       "    </tr>\n",
       "    <tr>\n",
       "      <th>3</th>\n",
       "      <td>27842</td>\n",
       "      <td>2018-01-01 23:18:46</td>\n",
       "      <td>easy</td>\n",
       "      <td>2018-01-02 08:46:03</td>\n",
       "      <td>0 days 09:27:17</td>\n",
       "    </tr>\n",
       "    <tr>\n",
       "      <th>4</th>\n",
       "      <td>27843</td>\n",
       "      <td>2018-01-02 00:02:28</td>\n",
       "      <td>medium</td>\n",
       "      <td>2018-01-02 14:09:58</td>\n",
       "      <td>0 days 14:07:30</td>\n",
       "    </tr>\n",
       "  </tbody>\n",
       "</table>\n",
       "</div>"
      ],
      "text/plain": [
       "   user_id   registration_time selected_level   level_choice_time  \\\n",
       "0    27835 2018-01-01 11:54:47         medium 2018-01-01 20:37:22   \n",
       "1    27839 2018-01-01 18:24:01           hard 2018-01-01 22:37:50   \n",
       "2    27840 2018-01-01 20:53:21         medium 2018-01-02 05:18:42   \n",
       "3    27842 2018-01-01 23:18:46           easy 2018-01-02 08:46:03   \n",
       "4    27843 2018-01-02 00:02:28         medium 2018-01-02 14:09:58   \n",
       "\n",
       "        timedelta  \n",
       "0 0 days 08:42:35  \n",
       "1 0 days 04:13:49  \n",
       "2 0 days 08:25:21  \n",
       "3 0 days 09:27:17  \n",
       "4 0 days 14:07:30  "
      ]
     },
     "execution_count": 169,
     "metadata": {},
     "output_type": "execute_result"
    }
   ],
   "source": [
    "\"\"\"Сделаем столбец timedelta, в котором посчитаем разницу между выбором уровня сложности \n",
    "(level_choice_time) и временем регистрации (registration_time):\"\"\"\n",
    "\n",
    "merged_df[\"timedelta\"] = (\n",
    "    merged_df[\"level_choice_time\"] - merged_df[\"registration_time\"]\n",
    ")\n",
    "merged_df.head()"
   ]
  },
  {
   "cell_type": "code",
   "execution_count": 170,
   "metadata": {},
   "outputs": [
    {
     "data": {
      "text/plain": [
       "count                         8342\n",
       "mean     0 days 07:10:19.169863342\n",
       "std      0 days 04:33:51.164488800\n",
       "min                0 days 00:08:15\n",
       "25%         0 days 03:53:16.500000\n",
       "50%                0 days 06:03:28\n",
       "75%         0 days 09:34:58.500000\n",
       "max                1 days 18:48:25\n",
       "Name: timedelta, dtype: object"
      ]
     },
     "execution_count": 170,
     "metadata": {},
     "output_type": "execute_result"
    }
   ],
   "source": [
    "\"\"\"Давайте воспользуемся методом describe(), чтобы понять некоторые важные параметры.\"\"\"\n",
    "\n",
    "merged_df['timedelta'].describe()"
   ]
  },
  {
   "cell_type": "code",
   "execution_count": 171,
   "metadata": {},
   "outputs": [
    {
     "data": {
      "text/plain": [
       "Timedelta('0 days 07:10:19.169863342')"
      ]
     },
     "execution_count": 171,
     "metadata": {},
     "output_type": "execute_result"
    }
   ],
   "source": [
    "\"\"\"Усреднив с помощью функции mean() значения в столбце timedelta, мы получим среднее время,\n",
    "которое проходит между регистрацией пользователя и выбором уровня сложности:\"\"\"\n",
    "\n",
    "merged_df[\"timedelta\"].mean()"
   ]
  },
  {
   "cell_type": "markdown",
   "metadata": {},
   "source": [
    "### Вывод:\n",
    "Среднее время между регистрацией и выбором уровня сложности 7 часов 10 минут"
   ]
  },
  {
   "cell_type": "code",
   "execution_count": 86,
   "metadata": {},
   "outputs": [
    {
     "data": {
      "text/plain": [
       "count                         8342\n",
       "mean     0 days 07:10:19.169863342\n",
       "std      0 days 04:33:51.164488800\n",
       "min                0 days 00:08:15\n",
       "25%         0 days 03:53:16.500000\n",
       "50%                0 days 06:03:28\n",
       "75%         0 days 09:34:58.500000\n",
       "max                1 days 18:48:25\n",
       "Name: timedelta, dtype: object"
      ]
     },
     "execution_count": 86,
     "metadata": {},
     "output_type": "execute_result"
    }
   ],
   "source": [
    "\"\"\"Давайте воспользуемся методом describe(), чтобы понять некоторые важные параметры.\"\"\"\n",
    "\n",
    "merged_df['timedelta'].describe()"
   ]
  },
  {
   "cell_type": "markdown",
   "metadata": {},
   "source": [
    "#### ВЫВОД:\n",
    "\n",
    "четверть пользователей тратит меньше 3 часа 53 минут на переход от регистрации к началу обучения;\n",
    "половина всех пользователей тратит между регистрацией и началом обучения менее 6 часов 03 минут."
   ]
  },
  {
   "cell_type": "code",
   "execution_count": 172,
   "metadata": {},
   "outputs": [
    {
     "name": "stdout",
     "output_type": "stream",
     "text": [
      "count                         1249\n",
      "mean     0 days 07:18:32.228182546\n",
      "std      0 days 04:36:04.422579172\n",
      "min                0 days 00:08:59\n",
      "25%                0 days 03:58:18\n",
      "50%                0 days 06:13:02\n",
      "75%                0 days 10:03:27\n",
      "max                1 days 06:43:55\n",
      "Name: timedelta, dtype: object\n"
     ]
    }
   ],
   "source": [
    "hard_merged_df = merged_df[merged_df['selected_level'] == 'hard']\n",
    "print(hard_merged_df['timedelta'].describe())\n"
   ]
  },
  {
   "cell_type": "code",
   "execution_count": 173,
   "metadata": {},
   "outputs": [
    {
     "name": "stdout",
     "output_type": "stream",
     "text": [
      "count                         4645\n",
      "mean     0 days 07:08:13.360387513\n",
      "std      0 days 04:31:51.219231339\n",
      "min                0 days 00:08:15\n",
      "25%                0 days 03:50:32\n",
      "50%                0 days 06:01:39\n",
      "75%                0 days 09:32:00\n",
      "max                1 days 07:02:41\n",
      "Name: timedelta, dtype: object\n"
     ]
    }
   ],
   "source": [
    "medium_merged_df = merged_df[merged_df['selected_level'] == 'medium']\n",
    "print(medium_merged_df['timedelta'].describe())"
   ]
  },
  {
   "cell_type": "code",
   "execution_count": 174,
   "metadata": {},
   "outputs": [
    {
     "name": "stdout",
     "output_type": "stream",
     "text": [
      "count                         2448\n",
      "mean     0 days 07:10:06.324754901\n",
      "std      0 days 04:36:30.973389545\n",
      "min                0 days 00:09:26\n",
      "25%         0 days 03:55:05.750000\n",
      "50%         0 days 06:02:43.500000\n",
      "75%         0 days 09:23:38.500000\n",
      "max                1 days 18:48:25\n",
      "Name: timedelta, dtype: object\n"
     ]
    }
   ],
   "source": [
    "easy_merged_df = merged_df[merged_df['selected_level'] == 'easy']\n",
    "print(easy_merged_df['timedelta'].describe())"
   ]
  },
  {
   "cell_type": "markdown",
   "metadata": {},
   "source": [
    "Выбор уровня сложности не зависит от времени. С момента регистрации проходит примерно одно и тоже время, вне звисимости от выбранного типа."
   ]
  },
  {
   "cell_type": "code",
   "execution_count": 123,
   "metadata": {},
   "outputs": [
    {
     "name": "stdout",
     "output_type": "stream",
     "text": [
      "1.0\n"
     ]
    }
   ],
   "source": [
    "purchase_pack_df = total_events_df[total_events_df[\"event_type\"] == \"purchase\"]\n",
    "print(purchase_pack_df[\"user_id\"].value_counts().mean())\n",
    "purchase_pack_df = purchase_pack_df[[\"user_id\", \"event_datetime\"]].rename(\n",
    "    columns={\"event_datetime\": \"purchase_time\"}\n",
    ")"
   ]
  },
  {
   "cell_type": "code",
   "execution_count": 130,
   "metadata": {},
   "outputs": [
    {
     "name": "stdout",
     "output_type": "stream",
     "text": [
      "3 days 17:52:17.719375\n",
      "count                         1600\n",
      "mean        3 days 17:52:17.719375\n",
      "std      2 days 04:37:14.656359486\n",
      "min                0 days 00:49:20\n",
      "25%         1 days 21:27:33.750000\n",
      "50%                3 days 12:59:27\n",
      "75%         5 days 09:47:33.750000\n",
      "max               10 days 18:35:09\n",
      "Name: timedelta, dtype: object\n"
     ]
    }
   ],
   "source": [
    "\"\"\" Сколько в среднем для всех пользователей проходит времени между событием выбора \n",
    "уровня сложности и первой оплатой (purchase)?\"\"\"\n",
    "\n",
    "merged_df_1 = purchase_pack_df.merge(level_choice_df, on=\"user_id\", how=\"inner\")\n",
    "merged_df_1[\"timedelta\"] = (\n",
    "merged_df_1[\"purchase_time\"] - merged_df_1[\"level_choice_time\"]\n",
    ")\n",
    "print(merged_df_1[\"timedelta\"].mean())\n",
    "print(merged_df_1[\"timedelta\"].describe())"
   ]
  },
  {
   "cell_type": "code",
   "execution_count": 124,
   "metadata": {},
   "outputs": [],
   "source": [
    "users_with_level_choice = total_events_df[\n",
    "    total_events_df[\"event_type\"] == \"level_choice\"\n",
    "][\"user_id\"].unique()"
   ]
  },
  {
   "cell_type": "code",
   "execution_count": 175,
   "metadata": {},
   "outputs": [
    {
     "name": "stdout",
     "output_type": "stream",
     "text": [
      "3 days 07:20:41.420814479\n",
      "count                          442\n",
      "mean     3 days 07:20:41.420814479\n",
      "std      1 days 21:43:52.953292605\n",
      "min                0 days 03:26:45\n",
      "25%         1 days 14:57:23.500000\n",
      "50%         3 days 03:13:57.500000\n",
      "75%         4 days 19:16:00.250000\n",
      "max                8 days 01:18:13\n",
      "Name: timedelta, dtype: object\n"
     ]
    }
   ],
   "source": [
    "\"\"\" Сколько в среднем для всех пользователей проходит времени между событием выбора высокого\n",
    "уровня сложности и первой оплатой (purchase)?\"\"\"\n",
    "\n",
    "hard_merged_df = hard_merged_df[[\"user_id\", \"level_choice_time\"]]\n",
    "\n",
    "merged_df_2 = purchase_pack_df.merge(hard_merged_df, on=\"user_id\", how=\"inner\")\n",
    "merged_df_2[\"timedelta\"] = (\n",
    "merged_df_2[\"purchase_time\"] - merged_df_2[\"level_choice_time\"]\n",
    ")\n",
    "print(merged_df_2[\"timedelta\"].mean())\n",
    "print(merged_df_2[\"timedelta\"].describe())"
   ]
  },
  {
   "cell_type": "code",
   "execution_count": 176,
   "metadata": {},
   "outputs": [
    {
     "name": "stdout",
     "output_type": "stream",
     "text": [
      "3 days 23:14:13.165118679\n",
      "count                          969\n",
      "mean     3 days 23:14:13.165118679\n",
      "std      2 days 06:18:57.618467109\n",
      "min                0 days 04:18:12\n",
      "25%                2 days 01:20:07\n",
      "50%                3 days 19:53:19\n",
      "75%                5 days 16:07:19\n",
      "max               10 days 13:51:01\n",
      "Name: timedelta, dtype: object\n"
     ]
    }
   ],
   "source": [
    "\"\"\" Сколько в среднем для всех пользователей проходит времени между событием выбора среднего\n",
    "уровня сложности и первой оплатой (purchase)?\"\"\"\n",
    "\n",
    "medium_merged_df = medium_merged_df[[\"user_id\", \"level_choice_time\"]]\n",
    "\n",
    "merged_df_3 = purchase_pack_df.merge(medium_merged_df, on=\"user_id\", how=\"inner\")\n",
    "merged_df_3[\"timedelta\"] = (\n",
    "merged_df_3[\"purchase_time\"] - merged_df_3[\"level_choice_time\"]\n",
    ")\n",
    "print(merged_df_3[\"timedelta\"].mean())\n",
    "print(merged_df_3[\"timedelta\"].describe())"
   ]
  },
  {
   "cell_type": "code",
   "execution_count": 177,
   "metadata": {},
   "outputs": [
    {
     "name": "stdout",
     "output_type": "stream",
     "text": [
      "3 days 14:58:52.941798941\n",
      "count                          189\n",
      "mean     3 days 14:58:52.941798941\n",
      "std      2 days 07:06:35.644097504\n",
      "min                0 days 00:49:20\n",
      "25%                1 days 17:18:56\n",
      "50%                3 days 06:03:50\n",
      "75%                5 days 06:58:18\n",
      "max               10 days 18:35:09\n",
      "Name: timedelta, dtype: object\n"
     ]
    }
   ],
   "source": [
    "\"\"\" Сколько в среднем для всех пользователей проходит времени между событием выбора низкого\n",
    "уровня сложности и первой оплатой (purchase)?\"\"\"\n",
    "\n",
    "easy_merged_df = easy_merged_df[[\"user_id\", \"level_choice_time\"]]\n",
    "\n",
    "merged_df_4 = purchase_pack_df.merge(easy_merged_df, on=\"user_id\", how=\"inner\")\n",
    "merged_df_4[\"timedelta\"] = (\n",
    "merged_df_4[\"purchase_time\"] - merged_df_4[\"level_choice_time\"]\n",
    ")\n",
    "print(merged_df_4[\"timedelta\"].mean())\n",
    "print(merged_df_4[\"timedelta\"].describe())"
   ]
  },
  {
   "cell_type": "markdown",
   "metadata": {},
   "source": [
    "В зависимости от выбранного уровня сложности время от принятия решения до оплаты различается незначительно, но все же:\n",
    "1. При высоком уровне сложности время до оплаты составляет 3 дня 7 часов\n",
    "2. При среднем уровне сложности время до оплаты составляет 3 дня 23 часа\n",
    "3. При низком уровне сложности время до оплаты составляет 3 дня 15 часов"
   ]
  },
  {
   "cell_type": "code",
   "execution_count": 95,
   "metadata": {},
   "outputs": [],
   "source": [
    "\"\"\" Сделаем датафрейм purchase_df_1, в котором будут данные по оплатам пользователей, которые \n",
    "выбрали уровень сложности.\"\"\"\n",
    "\n",
    "purchase_df_1 = purchase_df[purchase_df[\"user_id\"].isin(users_with_level_choice)]"
   ]
  },
  {
   "cell_type": "code",
   "execution_count": 96,
   "metadata": {},
   "outputs": [
    {
     "data": {
      "text/plain": [
       "1600"
      ]
     },
     "execution_count": 96,
     "metadata": {},
     "output_type": "execute_result"
    }
   ],
   "source": [
    "purchase_df_1['user_id'].nunique()"
   ]
  },
  {
   "cell_type": "code",
   "execution_count": 105,
   "metadata": {},
   "outputs": [
    {
     "name": "stdout",
     "output_type": "stream",
     "text": [
      "Процент пользователей, которые оплатили тренировки (от числа пользователей, выбравших уровень сложности): 19.18%\n"
     ]
    }
   ],
   "source": [
    "\"\"\"Поделив количество пользователей в датафрейме purchase_df_1 на общее количество пользователей, \n",
    "которые выбрали уровень сложности, мы получим процент оплативших пользователей в этой группе.\"\"\"\n",
    "\n",
    "percent_of_purchase_1 = purchase_df_1[\"user_id\"].nunique() / selected_level_notnull_users_count \n",
    "print(\n",
    "    \"Процент пользователей, которые оплатили тренировки (от числа пользователей, выбравших уровень сложности): {:.2%}\".format(\n",
    "        percent_of_purchase_1\n",
    "    )\n",
    ")"
   ]
  },
  {
   "cell_type": "code",
   "execution_count": 113,
   "metadata": {},
   "outputs": [
    {
     "data": {
      "text/plain": [
       "110.734375"
      ]
     },
     "execution_count": 113,
     "metadata": {},
     "output_type": "execute_result"
    }
   ],
   "source": [
    "purchase_df_1['amount'].mean()"
   ]
  },
  {
   "cell_type": "code",
   "execution_count": 108,
   "metadata": {},
   "outputs": [],
   "source": [
    "\n",
    "set_selected_level_hard_users_count = set(events_df[events_df['selected_level'] == 'hard']['user_id'].unique())\n",
    "set_selected_level_medium_users_count = set(events_df[events_df['selected_level'] == 'medium']['user_id'].unique())\n",
    "set_selected_level_easy_users_count = set(events_df[events_df['selected_level'] == 'easy']['user_id'].unique())\n",
    "set_selected_level_notnull_users_count = set(events_df[events_df['selected_level'].notnull() == True]['user_id'].unique())"
   ]
  },
  {
   "cell_type": "code",
   "execution_count": 110,
   "metadata": {},
   "outputs": [
    {
     "name": "stdout",
     "output_type": "stream",
     "text": [
      "442\n",
      "Процент пользователей, которые оплатили тренировки (от числа пользователей, выбравших высокий (hard) уровень сложности): 35.39%\n"
     ]
    }
   ],
   "source": [
    "\"\"\" Создадим датафрейм purchase_df_2, в котором будут оплаты пользователей, выбравшие \n",
    "высокий уровень. И найдём, какой процент таких пользователей оплачивает пакеты вопросов, \n",
    "от общего числа пользователей:\"\"\"\n",
    "\n",
    "purchase_df_2 = purchase_df[\n",
    "    purchase_df[\"user_id\"].isin(set_selected_level_hard_users_count)\n",
    "]\n",
    "print(purchase_df_2[\"user_id\"].nunique())\n",
    "percent_of_purchase_2 = purchase_df_2[\"user_id\"].nunique() / len(\n",
    "    set_selected_level_hard_users_count\n",
    ")\n",
    "print(\n",
    "    \"Процент пользователей, которые оплатили тренировки (от числа пользователей, выбравших высокий (hard) уровень сложности): {:.2%}\".format(\n",
    "        percent_of_purchase_2\n",
    "    )\n",
    ")"
   ]
  },
  {
   "cell_type": "code",
   "execution_count": 114,
   "metadata": {},
   "outputs": [
    {
     "data": {
      "text/plain": [
       "111.59502262443439"
      ]
     },
     "execution_count": 114,
     "metadata": {},
     "output_type": "execute_result"
    }
   ],
   "source": [
    "purchase_df_2['amount'].mean()"
   ]
  },
  {
   "cell_type": "code",
   "execution_count": 111,
   "metadata": {},
   "outputs": [
    {
     "name": "stdout",
     "output_type": "stream",
     "text": [
      "969\n",
      "Процент пользователей, которые оплатили тренировки (от числа пользователей, выбравших средний (medium) уровень сложности): 20.86%\n"
     ]
    }
   ],
   "source": [
    "\"\"\" Создадим датафрейм purchase_df_3, в котором будут оплаты пользователей, выбравшие \n",
    "средний уровень. И найдём, какой процент таких пользователей оплачивает пакеты вопросов, \n",
    "от общего числа пользователей:\"\"\"\n",
    "\n",
    "purchase_df_3 = purchase_df[\n",
    "    purchase_df[\"user_id\"].isin(set_selected_level_medium_users_count)\n",
    "]\n",
    "print(purchase_df_3[\"user_id\"].nunique())\n",
    "percent_of_purchase_3 = purchase_df_3[\"user_id\"].nunique() / len(\n",
    "    set_selected_level_medium_users_count\n",
    ")\n",
    "print(\n",
    "    \"Процент пользователей, которые оплатили тренировки (от числа пользователей, выбравших средний (medium) уровень сложности): {:.2%}\".format(\n",
    "        percent_of_purchase_3\n",
    "    )\n",
    ")"
   ]
  },
  {
   "cell_type": "code",
   "execution_count": 115,
   "metadata": {},
   "outputs": [
    {
     "data": {
      "text/plain": [
       "109.52012383900929"
      ]
     },
     "execution_count": 115,
     "metadata": {},
     "output_type": "execute_result"
    }
   ],
   "source": [
    "purchase_df_3['amount'].mean()"
   ]
  },
  {
   "cell_type": "code",
   "execution_count": 112,
   "metadata": {},
   "outputs": [
    {
     "name": "stdout",
     "output_type": "stream",
     "text": [
      "189\n",
      "Процент пользователей, которые оплатили тренировки (от числа пользователей, выбравших низкий (easy) уровень сложности): 7.72%\n"
     ]
    }
   ],
   "source": [
    "\"\"\" Создадим датафрейм purchase_df_4, в котором будут оплаты пользователей, выбравшие \n",
    "средний уровень. И найдём, какой процент таких пользователей оплачивает пакеты вопросов, \n",
    "от общего числа пользователей:\"\"\"\n",
    "\n",
    "purchase_df_4 = purchase_df[\n",
    "    purchase_df[\"user_id\"].isin(set_selected_level_easy_users_count)\n",
    "]\n",
    "print(purchase_df_4[\"user_id\"].nunique())\n",
    "percent_of_purchase_4 = purchase_df_4[\"user_id\"].nunique() / len(\n",
    "    set_selected_level_easy_users_count\n",
    ")\n",
    "print(\n",
    "    \"Процент пользователей, которые оплатили тренировки (от числа пользователей, выбравших низкий (easy) уровень сложности): {:.2%}\".format(\n",
    "        percent_of_purchase_4\n",
    "    )\n",
    ")"
   ]
  },
  {
   "cell_type": "code",
   "execution_count": 116,
   "metadata": {},
   "outputs": [
    {
     "data": {
      "text/plain": [
       "114.94708994708995"
      ]
     },
     "execution_count": 116,
     "metadata": {},
     "output_type": "execute_result"
    }
   ],
   "source": [
    "purchase_df_4['amount'].mean()"
   ]
  },
  {
   "cell_type": "markdown",
   "metadata": {},
   "source": [
    "### ВЫВОД:\n",
    "Средняя стоимость оплаты примерно одинакавая для всех 3-х групп и варьируется от 109 до 115 у.е.\n",
    "\n",
    "Однако доля пользователей, которые совершили покупку после выбора уровня сложности значительно отличаются.\n",
    "\n",
    "Наиболее перспективной в данном случае группа, которая выбрала высокий уровень сложности: ее конверсия по отношению к группе, которая выбрала низкий уровень выше почти в 5 раз. Возможно данный уровень вопросов более интересен, способен заинтересовать пользователя в продукте. "
   ]
  }
 ],
 "metadata": {
  "interpreter": {
   "hash": "bc9092704b76bcd3825fbb7a05cb662b50152522ace34f313990aca7aedee1c7"
  },
  "kernelspec": {
   "display_name": "Python 3.8.8 64-bit ('base': conda)",
   "language": "python",
   "name": "python3"
  },
  "language_info": {
   "codemirror_mode": {
    "name": "ipython",
    "version": 3
   },
   "file_extension": ".py",
   "mimetype": "text/x-python",
   "name": "python",
   "nbconvert_exporter": "python",
   "pygments_lexer": "ipython3",
   "version": "3.8.8"
  },
  "orig_nbformat": 4
 },
 "nbformat": 4,
 "nbformat_minor": 2
}
