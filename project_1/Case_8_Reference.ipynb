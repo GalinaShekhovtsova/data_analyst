{
  "cells": [
    {
      "cell_type": "markdown",
      "metadata": {
        "id": "CohsBxmIRmGJ"
      },
      "source": [
        "### Описание гипотезы\n",
        "Проверим два предположения:\n",
        "- Зависит ли вероятность оплаты от выбранного пользователем уровня сложности бесплатных тренировок?\n",
        "- Существует ли разница во времени между пользователями с разным уровнем сложности и их первой оплатой?\n",
        "\n",
        "Проверку будем производить на основе данных пользователей, которые зарегистрировались в 2017 году.\n",
        "\n",
        "### Ход проверки"
      ]
    },
    {
      "cell_type": "markdown",
      "metadata": {
        "id": "d_EI-oaGRmGN"
      },
      "source": [
        "Импортируем нужные библиотеки"
      ]
    },
    {
      "cell_type": "code",
      "execution_count": 2,
      "metadata": {
        "id": "05T-NiFPRmGQ"
      },
      "outputs": [],
      "source": [
        "import pandas as pd\n",
        "import psycopg2\n",
        "import psycopg2.extras \n",
        "import numpy as np"
      ]
    },
    {
      "cell_type": "markdown",
      "metadata": {
        "id": "cQc-R4gyRmGT"
      },
      "source": [
        "Получаем данные из базы данных"
      ]
    },
    {
      "cell_type": "code",
      "execution_count": null,
      "metadata": {
        "id": "7njzx0CJRmGU"
      },
      "outputs": [],
      "source": [
        "def getEventsData():\n",
        "    query = '''SELECT e.* FROM case8.events e\n",
        "    WHERE e.user_id in\n",
        "    (SELECT DISTINCT(user_id) \n",
        "    FROM case8.events \n",
        "    WHERE event_type = 'registration' \n",
        "    AND start_time >= '2017-01-01'\n",
        "    AND start_time < '2018-01-01')\n",
        "    '''.format()\n",
        "    conn = psycopg2.connect(\"dbname='skillfactory' user='skillfactory' host='lms.skillfactory.ru' password='cCkxxLVrDE8EbvjueeMedPKt' port=5432\")\n",
        "    dict_cur = conn.cursor(cursor_factory=psycopg2.extras.DictCursor)\n",
        "    dict_cur.execute(query)\n",
        "    rows = dict_cur.fetchall()\n",
        "    data = []\n",
        "    for row in rows:\n",
        "        data.append(dict(row))\n",
        "    return data\n",
        "\n",
        "def getPurchaseData():\n",
        "    query = '''SELECT p.* FROM case8.purchase p\n",
        "    WHERE p.user_id in\n",
        "    (SELECT DISTINCT(user_id) \n",
        "    FROM case8.events \n",
        "    WHERE event_type = 'registration' \n",
        "    AND start_time >= '2017-01-01'\n",
        "    AND start_time < '2018-01-01')\n",
        "    '''.format()\n",
        "    conn = psycopg2.connect(\"dbname='skillfactory' user='skillfactory' host='lms.skillfactory.ru' password='cCkxxLVrDE8EbvjueeMedPKt' port=5432\")\n",
        "    dict_cur = conn.cursor(cursor_factory=psycopg2.extras.DictCursor)\n",
        "    dict_cur.execute(query)\n",
        "    rows = dict_cur.fetchall()\n",
        "    data = []\n",
        "    for row in rows:\n",
        "        data.append(dict(row))\n",
        "    return data\n",
        "\n",
        "events_df = pd.DataFrame(getEventsData())\n",
        "purchase_df = pd.DataFrame(getPurchaseData())"
      ]
    },
    {
      "cell_type": "code",
      "execution_count": null,
      "metadata": {
        "id": "g0bghmE2RmGX"
      },
      "outputs": [],
      "source": [
        "events_df['start_time'] = pd.to_datetime(events_df['start_time'])\n",
        "purchase_df['start_time'] = pd.to_datetime(purchase_df['start_time'])"
      ]
    },
    {
      "cell_type": "code",
      "execution_count": null,
      "metadata": {
        "id": "rLsHerOFRmGZ"
      },
      "outputs": [],
      "source": [
        "events_df = events_df.rename(columns={'id':'event_id'})\n",
        "purchase_df = purchase_df.rename(columns={'id':'purchase_id'})"
      ]
    },
    {
      "cell_type": "code",
      "execution_count": 3,
      "metadata": {},
      "outputs": [
        {
          "name": "stderr",
          "output_type": "stream",
          "text": [
            "<ipython-input-3-8f8eea45653c>:5: SettingWithCopyWarning: \n",
            "A value is trying to be set on a copy of a slice from a DataFrame.\n",
            "Try using .loc[row_indexer,col_indexer] = value instead\n",
            "\n",
            "See the caveats in the documentation: https://pandas.pydata.org/pandas-docs/stable/user_guide/indexing.html#returning-a-view-versus-a-copy\n",
            "  events_df['start_time'] = pd.to_datetime(events_df['start_time']) # преобразование даты\n"
          ]
        },
        {
          "data": {
            "text/html": [
              "<div>\n",
              "<style scoped>\n",
              "    .dataframe tbody tr th:only-of-type {\n",
              "        vertical-align: middle;\n",
              "    }\n",
              "\n",
              "    .dataframe tbody tr th {\n",
              "        vertical-align: top;\n",
              "    }\n",
              "\n",
              "    .dataframe thead th {\n",
              "        text-align: right;\n",
              "    }\n",
              "</style>\n",
              "<table border=\"1\" class=\"dataframe\">\n",
              "  <thead>\n",
              "    <tr style=\"text-align: right;\">\n",
              "      <th></th>\n",
              "      <th>event_id</th>\n",
              "      <th>event_type</th>\n",
              "      <th>selected_level</th>\n",
              "      <th>start_time</th>\n",
              "      <th>tutorial_id</th>\n",
              "      <th>user_id</th>\n",
              "    </tr>\n",
              "  </thead>\n",
              "  <tbody>\n",
              "    <tr>\n",
              "      <th>51405</th>\n",
              "      <td>80308</td>\n",
              "      <td>registration</td>\n",
              "      <td>NaN</td>\n",
              "      <td>2018-01-01 03:48:40</td>\n",
              "      <td>NaN</td>\n",
              "      <td>27832</td>\n",
              "    </tr>\n",
              "    <tr>\n",
              "      <th>51406</th>\n",
              "      <td>80309</td>\n",
              "      <td>registration</td>\n",
              "      <td>NaN</td>\n",
              "      <td>2018-01-01 04:07:25</td>\n",
              "      <td>NaN</td>\n",
              "      <td>27833</td>\n",
              "    </tr>\n",
              "    <tr>\n",
              "      <th>51407</th>\n",
              "      <td>80310</td>\n",
              "      <td>registration</td>\n",
              "      <td>NaN</td>\n",
              "      <td>2018-01-01 08:35:10</td>\n",
              "      <td>NaN</td>\n",
              "      <td>27834</td>\n",
              "    </tr>\n",
              "    <tr>\n",
              "      <th>51408</th>\n",
              "      <td>80311</td>\n",
              "      <td>registration</td>\n",
              "      <td>NaN</td>\n",
              "      <td>2018-01-01 11:54:47</td>\n",
              "      <td>NaN</td>\n",
              "      <td>27835</td>\n",
              "    </tr>\n",
              "    <tr>\n",
              "      <th>51409</th>\n",
              "      <td>80312</td>\n",
              "      <td>registration</td>\n",
              "      <td>NaN</td>\n",
              "      <td>2018-01-01 13:28:07</td>\n",
              "      <td>NaN</td>\n",
              "      <td>27836</td>\n",
              "    </tr>\n",
              "  </tbody>\n",
              "</table>\n",
              "</div>"
            ],
            "text/plain": [
              "       event_id    event_type selected_level          start_time  tutorial_id  \\\n",
              "51405     80308  registration            NaN 2018-01-01 03:48:40          NaN   \n",
              "51406     80309  registration            NaN 2018-01-01 04:07:25          NaN   \n",
              "51407     80310  registration            NaN 2018-01-01 08:35:10          NaN   \n",
              "51408     80311  registration            NaN 2018-01-01 11:54:47          NaN   \n",
              "51409     80312  registration            NaN 2018-01-01 13:28:07          NaN   \n",
              "\n",
              "       user_id  \n",
              "51405    27832  \n",
              "51406    27833  \n",
              "51407    27834  \n",
              "51408    27835  \n",
              "51409    27836  "
            ]
          },
          "execution_count": 3,
          "metadata": {},
          "output_type": "execute_result"
        }
      ],
      "source": [
        "\n",
        "event = pd.read_csv('data/7_4_Events.csv') # чтение файла\n",
        "mask = (event['start_time']>='2018-01-01') & (event['start_time']<'2019-01-01') & (event['event_type']=='registration') # условие фильтрации\n",
        "registered = event[mask]['user_id'].to_list() # список всех зарегестрированных пользователей\n",
        "events_df = event[event['user_id'].isin(registered)] # фильтрация таблицы по списку ID\n",
        "events_df['start_time'] = pd.to_datetime(events_df['start_time']) # преобразование даты\n",
        "events_df = events_df.rename(columns={\"id\": \"event_id\"}) # переименование колонок\n",
        "events_df.head() # просмотр первых 5 строк таблицы"
      ]
    },
    {
      "cell_type": "code",
      "execution_count": 4,
      "metadata": {},
      "outputs": [
        {
          "name": "stderr",
          "output_type": "stream",
          "text": [
            "<ipython-input-4-f2722591ca90>:5: SettingWithCopyWarning: \n",
            "A value is trying to be set on a copy of a slice from a DataFrame.\n",
            "Try using .loc[row_indexer,col_indexer] = value instead\n",
            "\n",
            "See the caveats in the documentation: https://pandas.pydata.org/pandas-docs/stable/user_guide/indexing.html#returning-a-view-versus-a-copy\n",
            "  purchase_df['event_datetime'] = pd.to_datetime(purchase_df['event_datetime']) # преобразование даты\n"
          ]
        },
        {
          "data": {
            "text/html": [
              "<div>\n",
              "<style scoped>\n",
              "    .dataframe tbody tr th:only-of-type {\n",
              "        vertical-align: middle;\n",
              "    }\n",
              "\n",
              "    .dataframe tbody tr th {\n",
              "        vertical-align: top;\n",
              "    }\n",
              "\n",
              "    .dataframe thead th {\n",
              "        text-align: right;\n",
              "    }\n",
              "</style>\n",
              "<table border=\"1\" class=\"dataframe\">\n",
              "  <thead>\n",
              "    <tr style=\"text-align: right;\">\n",
              "      <th></th>\n",
              "      <th>purchase_id</th>\n",
              "      <th>user_id</th>\n",
              "      <th>event_datetime</th>\n",
              "      <th>amount</th>\n",
              "    </tr>\n",
              "  </thead>\n",
              "  <tbody>\n",
              "    <tr>\n",
              "      <th>1171</th>\n",
              "      <td>16845</td>\n",
              "      <td>27845</td>\n",
              "      <td>2018-01-03 18:53:43</td>\n",
              "      <td>100</td>\n",
              "    </tr>\n",
              "    <tr>\n",
              "      <th>1172</th>\n",
              "      <td>16846</td>\n",
              "      <td>27865</td>\n",
              "      <td>2018-01-04 14:46:10</td>\n",
              "      <td>250</td>\n",
              "    </tr>\n",
              "    <tr>\n",
              "      <th>1174</th>\n",
              "      <td>16848</td>\n",
              "      <td>27911</td>\n",
              "      <td>2018-01-07 08:19:12</td>\n",
              "      <td>50</td>\n",
              "    </tr>\n",
              "    <tr>\n",
              "      <th>1175</th>\n",
              "      <td>16849</td>\n",
              "      <td>27910</td>\n",
              "      <td>2018-01-07 12:11:34</td>\n",
              "      <td>100</td>\n",
              "    </tr>\n",
              "    <tr>\n",
              "      <th>1176</th>\n",
              "      <td>16850</td>\n",
              "      <td>27940</td>\n",
              "      <td>2018-01-07 13:16:41</td>\n",
              "      <td>200</td>\n",
              "    </tr>\n",
              "  </tbody>\n",
              "</table>\n",
              "</div>"
            ],
            "text/plain": [
              "      purchase_id  user_id      event_datetime  amount\n",
              "1171        16845    27845 2018-01-03 18:53:43     100\n",
              "1172        16846    27865 2018-01-04 14:46:10     250\n",
              "1174        16848    27911 2018-01-07 08:19:12      50\n",
              "1175        16849    27910 2018-01-07 12:11:34     100\n",
              "1176        16850    27940 2018-01-07 13:16:41     200"
            ]
          },
          "execution_count": 4,
          "metadata": {},
          "output_type": "execute_result"
        }
      ],
      "source": [
        "\"\"\" Считываем данные таблицы Events, фильтруем только 2018 г и преобразовываем\"\"\"\n",
        "\n",
        "purchase = pd.read_csv('data/purchase.csv') # чтение файла\n",
        "purchase_df = purchase[purchase['user_id'].isin(registered)] # фильтрация таблицы по списку ID\n",
        "purchase_df['event_datetime'] = pd.to_datetime(purchase_df['event_datetime']) # преобразование даты\n",
        "purchase_df = purchase_df.rename(columns={\"id\": \"purchase_id\"}) # переименование колонок\n",
        "purchase_df.head() # просмотр первых 5 строк таблицы"
      ]
    },
    {
      "cell_type": "markdown",
      "metadata": {
        "id": "Zj51-l7gRmGW"
      },
      "source": [
        "Произведем преобразование типов (мы уже знаем из кейса, что его нужно проивзести, поэтому можно не делать обзор типов)"
      ]
    },
    {
      "cell_type": "markdown",
      "metadata": {
        "id": "fmGl2OxVRmGY"
      },
      "source": [
        "Перед объединением датафреймов, переименуем колонки"
      ]
    },
    {
      "cell_type": "markdown",
      "metadata": {
        "id": "MAFXKWsRRmGb"
      },
      "source": [
        "Сделаем объединенный датафрейм из событий и оплат"
      ]
    },
    {
      "cell_type": "code",
      "execution_count": 24,
      "metadata": {
        "id": "L8aVaskYRmGc"
      },
      "outputs": [],
      "source": [
        "total_events_df = pd.concat([events_df,purchase_df],sort=False)\n",
        "total_events_df['start_time'] = pd.to_datetime(total_events_df['start_time']) # преобразование даты\n",
        "total_events_df['event_datetime'] = pd.to_datetime(total_events_df['event_datetime']) # преобразование даты"
      ]
    },
    {
      "cell_type": "code",
      "execution_count": 25,
      "metadata": {},
      "outputs": [
        {
          "data": {
            "text/html": [
              "<div>\n",
              "<style scoped>\n",
              "    .dataframe tbody tr th:only-of-type {\n",
              "        vertical-align: middle;\n",
              "    }\n",
              "\n",
              "    .dataframe tbody tr th {\n",
              "        vertical-align: top;\n",
              "    }\n",
              "\n",
              "    .dataframe thead th {\n",
              "        text-align: right;\n",
              "    }\n",
              "</style>\n",
              "<table border=\"1\" class=\"dataframe\">\n",
              "  <thead>\n",
              "    <tr style=\"text-align: right;\">\n",
              "      <th></th>\n",
              "      <th>event_id</th>\n",
              "      <th>event_type</th>\n",
              "      <th>selected_level</th>\n",
              "      <th>start_time</th>\n",
              "      <th>tutorial_id</th>\n",
              "      <th>user_id</th>\n",
              "      <th>purchase_id</th>\n",
              "      <th>event_datetime</th>\n",
              "      <th>amount</th>\n",
              "    </tr>\n",
              "  </thead>\n",
              "  <tbody>\n",
              "    <tr>\n",
              "      <th>51405</th>\n",
              "      <td>80308.0</td>\n",
              "      <td>registration</td>\n",
              "      <td>NaN</td>\n",
              "      <td>2018-01-01 03:48:40</td>\n",
              "      <td>NaN</td>\n",
              "      <td>27832</td>\n",
              "      <td>NaN</td>\n",
              "      <td>NaT</td>\n",
              "      <td>NaN</td>\n",
              "    </tr>\n",
              "    <tr>\n",
              "      <th>51406</th>\n",
              "      <td>80309.0</td>\n",
              "      <td>registration</td>\n",
              "      <td>NaN</td>\n",
              "      <td>2018-01-01 04:07:25</td>\n",
              "      <td>NaN</td>\n",
              "      <td>27833</td>\n",
              "      <td>NaN</td>\n",
              "      <td>NaT</td>\n",
              "      <td>NaN</td>\n",
              "    </tr>\n",
              "    <tr>\n",
              "      <th>51407</th>\n",
              "      <td>80310.0</td>\n",
              "      <td>registration</td>\n",
              "      <td>NaN</td>\n",
              "      <td>2018-01-01 08:35:10</td>\n",
              "      <td>NaN</td>\n",
              "      <td>27834</td>\n",
              "      <td>NaN</td>\n",
              "      <td>NaT</td>\n",
              "      <td>NaN</td>\n",
              "    </tr>\n",
              "    <tr>\n",
              "      <th>51408</th>\n",
              "      <td>80311.0</td>\n",
              "      <td>registration</td>\n",
              "      <td>NaN</td>\n",
              "      <td>2018-01-01 11:54:47</td>\n",
              "      <td>NaN</td>\n",
              "      <td>27835</td>\n",
              "      <td>NaN</td>\n",
              "      <td>NaT</td>\n",
              "      <td>NaN</td>\n",
              "    </tr>\n",
              "    <tr>\n",
              "      <th>51409</th>\n",
              "      <td>80312.0</td>\n",
              "      <td>registration</td>\n",
              "      <td>NaN</td>\n",
              "      <td>2018-01-01 13:28:07</td>\n",
              "      <td>NaN</td>\n",
              "      <td>27836</td>\n",
              "      <td>NaN</td>\n",
              "      <td>NaT</td>\n",
              "      <td>NaN</td>\n",
              "    </tr>\n",
              "    <tr>\n",
              "      <th>...</th>\n",
              "      <td>...</td>\n",
              "      <td>...</td>\n",
              "      <td>...</td>\n",
              "      <td>...</td>\n",
              "      <td>...</td>\n",
              "      <td>...</td>\n",
              "      <td>...</td>\n",
              "      <td>...</td>\n",
              "      <td>...</td>\n",
              "    </tr>\n",
              "    <tr>\n",
              "      <th>2767</th>\n",
              "      <td>NaN</td>\n",
              "      <td>NaN</td>\n",
              "      <td>NaN</td>\n",
              "      <td>NaT</td>\n",
              "      <td>NaN</td>\n",
              "      <td>47498</td>\n",
              "      <td>18441.0</td>\n",
              "      <td>2019-01-02 03:48:19</td>\n",
              "      <td>100.0</td>\n",
              "    </tr>\n",
              "    <tr>\n",
              "      <th>2768</th>\n",
              "      <td>NaN</td>\n",
              "      <td>NaN</td>\n",
              "      <td>NaN</td>\n",
              "      <td>NaT</td>\n",
              "      <td>NaN</td>\n",
              "      <td>47647</td>\n",
              "      <td>18442.0</td>\n",
              "      <td>2019-01-02 23:26:26</td>\n",
              "      <td>150.0</td>\n",
              "    </tr>\n",
              "    <tr>\n",
              "      <th>2769</th>\n",
              "      <td>NaN</td>\n",
              "      <td>NaN</td>\n",
              "      <td>NaN</td>\n",
              "      <td>NaT</td>\n",
              "      <td>NaN</td>\n",
              "      <td>47554</td>\n",
              "      <td>18443.0</td>\n",
              "      <td>2019-01-03 00:36:36</td>\n",
              "      <td>50.0</td>\n",
              "    </tr>\n",
              "    <tr>\n",
              "      <th>2774</th>\n",
              "      <td>NaN</td>\n",
              "      <td>NaN</td>\n",
              "      <td>NaN</td>\n",
              "      <td>NaT</td>\n",
              "      <td>NaN</td>\n",
              "      <td>47742</td>\n",
              "      <td>18448.0</td>\n",
              "      <td>2019-01-04 12:51:41</td>\n",
              "      <td>50.0</td>\n",
              "    </tr>\n",
              "    <tr>\n",
              "      <th>2778</th>\n",
              "      <td>NaN</td>\n",
              "      <td>NaN</td>\n",
              "      <td>NaN</td>\n",
              "      <td>NaT</td>\n",
              "      <td>NaN</td>\n",
              "      <td>47732</td>\n",
              "      <td>18452.0</td>\n",
              "      <td>2019-01-06 07:14:25</td>\n",
              "      <td>150.0</td>\n",
              "    </tr>\n",
              "  </tbody>\n",
              "</table>\n",
              "<p>68559 rows × 9 columns</p>\n",
              "</div>"
            ],
            "text/plain": [
              "       event_id    event_type selected_level          start_time  tutorial_id  \\\n",
              "51405   80308.0  registration            NaN 2018-01-01 03:48:40          NaN   \n",
              "51406   80309.0  registration            NaN 2018-01-01 04:07:25          NaN   \n",
              "51407   80310.0  registration            NaN 2018-01-01 08:35:10          NaN   \n",
              "51408   80311.0  registration            NaN 2018-01-01 11:54:47          NaN   \n",
              "51409   80312.0  registration            NaN 2018-01-01 13:28:07          NaN   \n",
              "...         ...           ...            ...                 ...          ...   \n",
              "2767        NaN           NaN            NaN                 NaT          NaN   \n",
              "2768        NaN           NaN            NaN                 NaT          NaN   \n",
              "2769        NaN           NaN            NaN                 NaT          NaN   \n",
              "2774        NaN           NaN            NaN                 NaT          NaN   \n",
              "2778        NaN           NaN            NaN                 NaT          NaN   \n",
              "\n",
              "       user_id  purchase_id      event_datetime  amount  \n",
              "51405    27832          NaN                 NaT     NaN  \n",
              "51406    27833          NaN                 NaT     NaN  \n",
              "51407    27834          NaN                 NaT     NaN  \n",
              "51408    27835          NaN                 NaT     NaN  \n",
              "51409    27836          NaN                 NaT     NaN  \n",
              "...        ...          ...                 ...     ...  \n",
              "2767     47498      18441.0 2019-01-02 03:48:19   100.0  \n",
              "2768     47647      18442.0 2019-01-02 23:26:26   150.0  \n",
              "2769     47554      18443.0 2019-01-03 00:36:36    50.0  \n",
              "2774     47742      18448.0 2019-01-04 12:51:41    50.0  \n",
              "2778     47732      18452.0 2019-01-06 07:14:25   150.0  \n",
              "\n",
              "[68559 rows x 9 columns]"
            ]
          },
          "execution_count": 25,
          "metadata": {},
          "output_type": "execute_result"
        }
      ],
      "source": [
        "total_events_df"
      ]
    },
    {
      "cell_type": "markdown",
      "metadata": {
        "id": "AD6TH1JERmGd"
      },
      "source": [
        "Сделаем группы пользователей по уровню сложности, который был выбран для тренировок.\n",
        "\n",
        "Сначала посмотрим как уровни сложности бывают:"
      ]
    },
    {
      "cell_type": "code",
      "execution_count": 26,
      "metadata": {
        "id": "HCuHe5-BRmGf",
        "outputId": "7da5e43a-b918-4cb0-eb2f-9de1baf2b34f"
      },
      "outputs": [
        {
          "data": {
            "text/plain": [
              "array([nan, 'medium', 'hard', 'easy'], dtype=object)"
            ]
          },
          "execution_count": 26,
          "metadata": {},
          "output_type": "execute_result"
        }
      ],
      "source": [
        "total_events_df['selected_level'].unique()"
      ]
    },
    {
      "cell_type": "markdown",
      "metadata": {
        "id": "I8YsX4goRmGi"
      },
      "source": [
        "Сформируем группы"
      ]
    },
    {
      "cell_type": "code",
      "execution_count": 27,
      "metadata": {
        "id": "wXClwNOoRmGj"
      },
      "outputs": [],
      "source": [
        "users_with_easy_level = total_events_df[total_events_df['selected_level'] == 'easy']['user_id'].unique()\n",
        "users_with_medium_level = total_events_df[total_events_df['selected_level'] == 'medium']['user_id'].unique()\n",
        "users_with_hard_level = total_events_df[total_events_df['selected_level'] == 'hard']['user_id'].unique()"
      ]
    },
    {
      "cell_type": "markdown",
      "metadata": {
        "id": "qFWeXQLTRmGk"
      },
      "source": [
        "Посчитаем для каждой группы показатели"
      ]
    },
    {
      "cell_type": "code",
      "execution_count": 28,
      "metadata": {
        "id": "imFylxrLRmGl",
        "outputId": "9ceea218-3c56-4928-b2c3-b0b80009e125"
      },
      "outputs": [
        {
          "name": "stdout",
          "output_type": "stream",
          "text": [
            "Процент оплативших пользователей, выбравших уровень сложности easy: 7.72%\n",
            "\n"
          ]
        },
        {
          "ename": "KeyError",
          "evalue": "\"['start_time'] not in index\"",
          "output_type": "error",
          "traceback": [
            "\u001b[1;31m---------------------------------------------------------------------------\u001b[0m",
            "\u001b[1;31mKeyError\u001b[0m                                  Traceback (most recent call last)",
            "\u001b[1;32m<ipython-input-28-6eb4fe4e4fbb>\u001b[0m in \u001b[0;36m<module>\u001b[1;34m\u001b[0m\n\u001b[0;32m     16\u001b[0m     \u001b[1;32mif\u001b[0m \u001b[1;33m(\u001b[0m\u001b[0mlevel_choice_df\u001b[0m\u001b[1;33m[\u001b[0m\u001b[1;34m'user_id'\u001b[0m\u001b[1;33m]\u001b[0m\u001b[1;33m.\u001b[0m\u001b[0mvalue_counts\u001b[0m\u001b[1;33m(\u001b[0m\u001b[1;33m)\u001b[0m\u001b[1;33m.\u001b[0m\u001b[0mmean\u001b[0m\u001b[1;33m(\u001b[0m\u001b[1;33m)\u001b[0m\u001b[1;33m)\u001b[0m \u001b[1;33m==\u001b[0m \u001b[1;36m1\u001b[0m\u001b[1;33m:\u001b[0m\u001b[1;33m\u001b[0m\u001b[1;33m\u001b[0m\u001b[0m\n\u001b[0;32m     17\u001b[0m         \u001b[0mlevel_choice_df\u001b[0m \u001b[1;33m=\u001b[0m \u001b[0mlevel_choice_df\u001b[0m\u001b[1;33m[\u001b[0m\u001b[1;33m[\u001b[0m\u001b[1;34m'user_id'\u001b[0m\u001b[1;33m,\u001b[0m\u001b[1;34m'start_time'\u001b[0m\u001b[1;33m]\u001b[0m\u001b[1;33m]\u001b[0m\u001b[1;33m.\u001b[0m\u001b[0mrename\u001b[0m\u001b[1;33m(\u001b[0m\u001b[0mcolumns\u001b[0m\u001b[1;33m=\u001b[0m\u001b[1;33m{\u001b[0m\u001b[1;34m'start_time'\u001b[0m\u001b[1;33m:\u001b[0m\u001b[1;34m'level_choice_time'\u001b[0m\u001b[1;33m}\u001b[0m\u001b[1;33m)\u001b[0m\u001b[1;33m\u001b[0m\u001b[1;33m\u001b[0m\u001b[0m\n\u001b[1;32m---> 18\u001b[1;33m         \u001b[0mpurchase_df_slice_2\u001b[0m \u001b[1;33m=\u001b[0m \u001b[0mpurchase_df_slice\u001b[0m\u001b[1;33m[\u001b[0m\u001b[1;33m[\u001b[0m\u001b[1;34m'user_id'\u001b[0m\u001b[1;33m,\u001b[0m\u001b[1;34m'start_time'\u001b[0m\u001b[1;33m]\u001b[0m\u001b[1;33m]\u001b[0m\u001b[1;33m.\u001b[0m\u001b[0mrename\u001b[0m\u001b[1;33m(\u001b[0m\u001b[0mcolumns\u001b[0m\u001b[1;33m=\u001b[0m\u001b[1;33m{\u001b[0m\u001b[1;34m'start_time'\u001b[0m\u001b[1;33m:\u001b[0m\u001b[1;34m'purchase_time'\u001b[0m\u001b[1;33m}\u001b[0m\u001b[1;33m)\u001b[0m\u001b[1;33m\u001b[0m\u001b[1;33m\u001b[0m\u001b[0m\n\u001b[0m\u001b[0;32m     19\u001b[0m         \u001b[0mmerged_df\u001b[0m \u001b[1;33m=\u001b[0m \u001b[0mpurchase_df_slice_2\u001b[0m\u001b[1;33m.\u001b[0m\u001b[0mmerge\u001b[0m\u001b[1;33m(\u001b[0m\u001b[0mlevel_choice_df\u001b[0m\u001b[1;33m,\u001b[0m\u001b[0mon\u001b[0m\u001b[1;33m=\u001b[0m\u001b[1;34m'user_id'\u001b[0m\u001b[1;33m,\u001b[0m\u001b[0mhow\u001b[0m\u001b[1;33m=\u001b[0m\u001b[1;34m'inner'\u001b[0m\u001b[1;33m)\u001b[0m\u001b[1;33m\u001b[0m\u001b[1;33m\u001b[0m\u001b[0m\n\u001b[0;32m     20\u001b[0m         \u001b[0mmerged_df\u001b[0m\u001b[1;33m[\u001b[0m\u001b[1;34m'timedelta'\u001b[0m\u001b[1;33m]\u001b[0m \u001b[1;33m=\u001b[0m \u001b[0mmerged_df\u001b[0m\u001b[1;33m[\u001b[0m\u001b[1;34m'purchase_time'\u001b[0m\u001b[1;33m]\u001b[0m \u001b[1;33m-\u001b[0m \u001b[0mmerged_df\u001b[0m\u001b[1;33m[\u001b[0m\u001b[1;34m'level_choice_time'\u001b[0m\u001b[1;33m]\u001b[0m\u001b[1;33m\u001b[0m\u001b[1;33m\u001b[0m\u001b[0m\n",
            "\u001b[1;32m~\\anaconda3\\lib\\site-packages\\pandas\\core\\frame.py\u001b[0m in \u001b[0;36m__getitem__\u001b[1;34m(self, key)\u001b[0m\n\u001b[0;32m   3028\u001b[0m             \u001b[1;32mif\u001b[0m \u001b[0mis_iterator\u001b[0m\u001b[1;33m(\u001b[0m\u001b[0mkey\u001b[0m\u001b[1;33m)\u001b[0m\u001b[1;33m:\u001b[0m\u001b[1;33m\u001b[0m\u001b[1;33m\u001b[0m\u001b[0m\n\u001b[0;32m   3029\u001b[0m                 \u001b[0mkey\u001b[0m \u001b[1;33m=\u001b[0m \u001b[0mlist\u001b[0m\u001b[1;33m(\u001b[0m\u001b[0mkey\u001b[0m\u001b[1;33m)\u001b[0m\u001b[1;33m\u001b[0m\u001b[1;33m\u001b[0m\u001b[0m\n\u001b[1;32m-> 3030\u001b[1;33m             \u001b[0mindexer\u001b[0m \u001b[1;33m=\u001b[0m \u001b[0mself\u001b[0m\u001b[1;33m.\u001b[0m\u001b[0mloc\u001b[0m\u001b[1;33m.\u001b[0m\u001b[0m_get_listlike_indexer\u001b[0m\u001b[1;33m(\u001b[0m\u001b[0mkey\u001b[0m\u001b[1;33m,\u001b[0m \u001b[0maxis\u001b[0m\u001b[1;33m=\u001b[0m\u001b[1;36m1\u001b[0m\u001b[1;33m,\u001b[0m \u001b[0mraise_missing\u001b[0m\u001b[1;33m=\u001b[0m\u001b[1;32mTrue\u001b[0m\u001b[1;33m)\u001b[0m\u001b[1;33m[\u001b[0m\u001b[1;36m1\u001b[0m\u001b[1;33m]\u001b[0m\u001b[1;33m\u001b[0m\u001b[1;33m\u001b[0m\u001b[0m\n\u001b[0m\u001b[0;32m   3031\u001b[0m \u001b[1;33m\u001b[0m\u001b[0m\n\u001b[0;32m   3032\u001b[0m         \u001b[1;31m# take() does not accept boolean indexers\u001b[0m\u001b[1;33m\u001b[0m\u001b[1;33m\u001b[0m\u001b[1;33m\u001b[0m\u001b[0m\n",
            "\u001b[1;32m~\\anaconda3\\lib\\site-packages\\pandas\\core\\indexing.py\u001b[0m in \u001b[0;36m_get_listlike_indexer\u001b[1;34m(self, key, axis, raise_missing)\u001b[0m\n\u001b[0;32m   1264\u001b[0m             \u001b[0mkeyarr\u001b[0m\u001b[1;33m,\u001b[0m \u001b[0mindexer\u001b[0m\u001b[1;33m,\u001b[0m \u001b[0mnew_indexer\u001b[0m \u001b[1;33m=\u001b[0m \u001b[0max\u001b[0m\u001b[1;33m.\u001b[0m\u001b[0m_reindex_non_unique\u001b[0m\u001b[1;33m(\u001b[0m\u001b[0mkeyarr\u001b[0m\u001b[1;33m)\u001b[0m\u001b[1;33m\u001b[0m\u001b[1;33m\u001b[0m\u001b[0m\n\u001b[0;32m   1265\u001b[0m \u001b[1;33m\u001b[0m\u001b[0m\n\u001b[1;32m-> 1266\u001b[1;33m         \u001b[0mself\u001b[0m\u001b[1;33m.\u001b[0m\u001b[0m_validate_read_indexer\u001b[0m\u001b[1;33m(\u001b[0m\u001b[0mkeyarr\u001b[0m\u001b[1;33m,\u001b[0m \u001b[0mindexer\u001b[0m\u001b[1;33m,\u001b[0m \u001b[0maxis\u001b[0m\u001b[1;33m,\u001b[0m \u001b[0mraise_missing\u001b[0m\u001b[1;33m=\u001b[0m\u001b[0mraise_missing\u001b[0m\u001b[1;33m)\u001b[0m\u001b[1;33m\u001b[0m\u001b[1;33m\u001b[0m\u001b[0m\n\u001b[0m\u001b[0;32m   1267\u001b[0m         \u001b[1;32mreturn\u001b[0m \u001b[0mkeyarr\u001b[0m\u001b[1;33m,\u001b[0m \u001b[0mindexer\u001b[0m\u001b[1;33m\u001b[0m\u001b[1;33m\u001b[0m\u001b[0m\n\u001b[0;32m   1268\u001b[0m \u001b[1;33m\u001b[0m\u001b[0m\n",
            "\u001b[1;32m~\\anaconda3\\lib\\site-packages\\pandas\\core\\indexing.py\u001b[0m in \u001b[0;36m_validate_read_indexer\u001b[1;34m(self, key, indexer, axis, raise_missing)\u001b[0m\n\u001b[0;32m   1314\u001b[0m             \u001b[1;32mif\u001b[0m \u001b[0mraise_missing\u001b[0m\u001b[1;33m:\u001b[0m\u001b[1;33m\u001b[0m\u001b[1;33m\u001b[0m\u001b[0m\n\u001b[0;32m   1315\u001b[0m                 \u001b[0mnot_found\u001b[0m \u001b[1;33m=\u001b[0m \u001b[0mlist\u001b[0m\u001b[1;33m(\u001b[0m\u001b[0mset\u001b[0m\u001b[1;33m(\u001b[0m\u001b[0mkey\u001b[0m\u001b[1;33m)\u001b[0m \u001b[1;33m-\u001b[0m \u001b[0mset\u001b[0m\u001b[1;33m(\u001b[0m\u001b[0max\u001b[0m\u001b[1;33m)\u001b[0m\u001b[1;33m)\u001b[0m\u001b[1;33m\u001b[0m\u001b[1;33m\u001b[0m\u001b[0m\n\u001b[1;32m-> 1316\u001b[1;33m                 \u001b[1;32mraise\u001b[0m \u001b[0mKeyError\u001b[0m\u001b[1;33m(\u001b[0m\u001b[1;34mf\"{not_found} not in index\"\u001b[0m\u001b[1;33m)\u001b[0m\u001b[1;33m\u001b[0m\u001b[1;33m\u001b[0m\u001b[0m\n\u001b[0m\u001b[0;32m   1317\u001b[0m \u001b[1;33m\u001b[0m\u001b[0m\n\u001b[0;32m   1318\u001b[0m             \u001b[0mnot_found\u001b[0m \u001b[1;33m=\u001b[0m \u001b[0mkey\u001b[0m\u001b[1;33m[\u001b[0m\u001b[0mmissing_mask\u001b[0m\u001b[1;33m]\u001b[0m\u001b[1;33m\u001b[0m\u001b[1;33m\u001b[0m\u001b[0m\n",
            "\u001b[1;31mKeyError\u001b[0m: \"['start_time'] not in index\""
          ]
        }
      ],
      "source": [
        "user_groups = [\n",
        "    {'easy': users_with_easy_level},\n",
        "    {'medium': users_with_medium_level},\n",
        "    {'hard': users_with_hard_level}\n",
        "]\n",
        "\n",
        "for group in user_groups:\n",
        "    level = list(group.keys())[0]\n",
        "    group_users = group[level]\n",
        "    count_of_users_in_group = len(group_users)\n",
        "    purchase_df_slice = purchase_df[purchase_df['user_id'].isin(group_users)]\n",
        "    percent_of_purchase = purchase_df_slice['user_id'].nunique()/count_of_users_in_group\n",
        "    print ('Процент оплативших пользователей, выбравших уровень сложности {}: {:.2%}'.format(level,percent_of_purchase))\n",
        "    print ()\n",
        "    level_choice_df = total_events_df[(total_events_df['event_type'] == 'level_choice') & (total_events_df['user_id'].isin(group_users))]\n",
        "    if (level_choice_df['user_id'].value_counts().mean()) == 1:\n",
        "        level_choice_df = level_choice_df[['user_id','start_time']].rename(columns={'start_time':'level_choice_time'})\n",
        "        purchase_df_slice_2 = purchase_df_slice[['user_id','start_time']].rename(columns={'start_time':'purchase_time'})\n",
        "        merged_df = purchase_df_slice_2.merge(level_choice_df,on='user_id',how='inner')\n",
        "        merged_df['timedelta'] = merged_df['purchase_time'] - merged_df['level_choice_time']\n",
        "        mean_time = merged_df['timedelta'].mean()\n",
        "        print ('Среднее время между выбором уровня сложности и оплатой для пользователей, выбравших уровень сложности {}: {}'.format(level,mean_time))\n",
        "        print ('Характеристики времени:')\n",
        "        print (merged_df['timedelta'].describe())\n",
        "    else:\n",
        "        print ('Более 1 события выбора уровня сложности')"
      ]
    },
    {
      "cell_type": "markdown",
      "metadata": {
        "id": "XE7uy3SdRmGm"
      },
      "source": [
        "### Выводы\n",
        "Процент оплативших пользователей, выбравших уровень сложности easy: 7.72%\n",
        "Процент оплативших пользователей, выбравших уровень сложности medium: 20.86%\n",
        "Процент оплативших пользователей, выбравших уровень сложности hard: 35.39%\n",
        "\n",
        "Таким образом, существует прямая зависимость между выбранным уровнем сложности и процент пользователей, которые оплатили тренировки. Пользователи, выбирающие более сложные тренировки, чаще покупают платные тренировки.\n",
        "\n",
        "Наибольшее время между событием выбора уровня сложности и моментом первой оплаты, тратят пользователи, которые выбрали уровень сложности medium. Для них среднее время составляет 3 дня 23 часа, а медианное время 3 дня 19 часов.\n",
        "\n",
        "Чуть меньше времени тратят пользователи, выбравшие уровень сложности easy. Для них среднее время составляет 3 дня 14 часов, а медианное время 3 дня 6 часов.\n",
        "\n",
        "Меньше всего времени на принятие решение о покупке тратят пользователя, выбравшие уровень сложности hard. Для них среднее время составляет 3 дня 7 часов, а медианное время 3 дня 13 часов. \n",
        "\n",
        "**Пожалуйста, заполните небольшую анкету обратной связи по эталонному ответу для кейса #8:**\n",
        "\n",
        "https://forms.gle/z2VAj6R49yYuxqGGA"
      ]
    },
    {
      "cell_type": "code",
      "execution_count": null,
      "metadata": {
        "id": "xCNc2kanRmGn"
      },
      "outputs": [],
      "source": []
    }
  ],
  "metadata": {
    "colab": {
      "name": "Case 8 Reference.ipynb",
      "provenance": []
    },
    "kernelspec": {
      "display_name": "Python 3",
      "language": "python",
      "name": "python3"
    },
    "language_info": {
      "codemirror_mode": {
        "name": "ipython",
        "version": 3
      },
      "file_extension": ".py",
      "mimetype": "text/x-python",
      "name": "python",
      "nbconvert_exporter": "python",
      "pygments_lexer": "ipython3",
      "version": "3.8.8"
    }
  },
  "nbformat": 4,
  "nbformat_minor": 0
}
