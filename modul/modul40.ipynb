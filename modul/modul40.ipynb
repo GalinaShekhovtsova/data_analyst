{
 "cells": [
  {
   "cell_type": "markdown",
   "metadata": {},
   "source": [
    "# 40. PYT. Feature Engineering"
   ]
  },
  {
   "cell_type": "markdown",
   "metadata": {},
   "source": [
    "#### НАУЧИМСЯ:\n",
    "1. удалять пропуски и дубли в данных;  \n",
    "2. работать с датами и извлекать из них признаки;\n",
    "3. заполнять пропуски константой или с помощью произвольной функции;\n",
    "4. создавать новые признаки на основе предыдущих;\n",
    "5. применять к признакам методы подсчёта статистик (например, среднего);\n",
    "6. собирать разрозненные данные в единый датасет (при условии, что у них есть общие признаки);\n",
    "7. группировать данные по какому-либо признаку и анализировать их."
   ]
  },
  {
   "cell_type": "code",
   "execution_count": 1,
   "metadata": {},
   "outputs": [],
   "source": [
    "import pandas as pd"
   ]
  },
  {
   "cell_type": "code",
   "execution_count": 7,
   "metadata": {},
   "outputs": [],
   "source": [
    "import numpy as np"
   ]
  },
  {
   "cell_type": "code",
   "execution_count": 12,
   "metadata": {},
   "outputs": [],
   "source": [
    "\"\"\"missingno предоставляет небольшой набор гибких и удобных в использовании отсутствующих \n",
    "визуализаций данных и утилит, которые позволяют быстро получить визуальное резюме полноты \n",
    "(или отсутствия) вашего набора данных\"\"\"\n",
    "\n",
    "import missingno as msno"
   ]
  },
  {
   "cell_type": "code",
   "execution_count": 3,
   "metadata": {},
   "outputs": [],
   "source": [
    "sample = pd.read_csv('data\\sample.csv')\n",
    "sample.columns  = ['name','city','age','profession']"
   ]
  },
  {
   "cell_type": "code",
   "execution_count": 35,
   "metadata": {},
   "outputs": [],
   "source": [
    "log = pd.read_csv('data\\log.csv', header = None)\n",
    "log.columns  = ['user_id','time','bet','win'] # переименование столбцов"
   ]
  },
  {
   "cell_type": "code",
   "execution_count": 4,
   "metadata": {},
   "outputs": [],
   "source": [
    "users = pd.read_csv('C:\\\\Users\\\\Sergey\\\\Desktop\\\\Python\\\\__pycache__\\\\modul_35\\\\data\\\\users.csv', sep=\"\\t\", encoding=\"koi8_r\")\n",
    "users.columns  = ['user_id','email','geo'] # переименование столбцов"
   ]
  },
  {
   "cell_type": "markdown",
   "metadata": {},
   "source": [
    "### ЦЕЛЬ\n",
    "Выяснить, какие регионы наиболее привлекательны для открытия офлайн-контор."
   ]
  },
  {
   "cell_type": "markdown",
   "metadata": {},
   "source": [
    "### ЗАДАЧИ\n",
    "1. Сколько человеку надо прийти раз, чтобы сделать ставку?\n",
    "2. Сколько в среднем составляет выигрыш?\n",
    "3. Какой баланс по каждому пользователю?\n",
    "4. В каких городах прибыль самая большая? \n",
    "5. В каких городах самая высокая ставка?\n",
    "6. Сколько в среднем времени проходит с первого посещения сайта до первой попытки?"
   ]
  },
  {
   "cell_type": "markdown",
   "metadata": {},
   "source": [
    "### КОНКРЕТНЫЕ ШАГИ (ФОРМАЛИЗОВАННЫЕ ЗАДАЧИ)\n",
    "\n",
    "1. Выяснить, с какого по счёту визита посетитель делает ставку.\n",
    "2. Определить средний выигрыш в процентах.\n",
    "3. Рассчитать баланс по каждому пользователю.\n",
    "4. Выявить самые выгодные города.\n",
    "5. Определить города с самыми высокими ставками.\n",
    "6. Выяснить, сколько в среднем времени разделяет первое посещение сайта и первую ставку."
   ]
  },
  {
   "cell_type": "markdown",
   "metadata": {},
   "source": [
    "## 40.2 Пропущенные значения"
   ]
  },
  {
   "cell_type": "markdown",
   "metadata": {},
   "source": [
    "#### дополнительные параметры read_csv.\n",
    "1. header=None — загрузить без строки с заголовком;\n",
    "2. skiprows=n — пропустить n строк (часто у документов бывает техническая «шапка»);\n",
    "3. encoding= — загрузить в конкретной кодировке;\n",
    "4. na_values — список значений, который нужно заменить на NaN (специальный объект, обозначающий пропущенное значение).\n",
    "5. sep=';' — разделитель"
   ]
  },
  {
   "cell_type": "markdown",
   "metadata": {},
   "source": [
    "#### Какие бывают пропуски?\n",
    "Список значений, которые по умолчанию считаются как пропуски: '', '#N/A', '#N/A N/A', '#NA', '-1.#IND', '-1.#QNAN', '-NaN', '-nan', '1.#IND', '1.#QNAN', 'N/A', 'NA', 'NULL', 'NaN', 'n/a', 'nan', 'null'.\n",
    "\n",
    "На практике чаще всего вы будете встречать '', 'NaN', 'nan', 'null'."
   ]
  },
  {
   "cell_type": "markdown",
   "metadata": {},
   "source": [
    "#### ПОИСК ПРОПУСКОВ\n",
    "В Pandas есть метод isna(), который возвращает таблицу такой же размерности, что и на вход, но значения в ней — True или False (True, если данное значение является пропуском, и False — в ином случае).\n",
    "\n",
    "Метод isna() есть не только у DataFrame, но и у Series. Это значит, что применять его можно не только ко всей таблице, но и к каждому столбцу отдельно."
   ]
  },
  {
   "cell_type": "code",
   "execution_count": 5,
   "metadata": {},
   "outputs": [
    {
     "data": {
      "text/html": [
       "<div>\n",
       "<style scoped>\n",
       "    .dataframe tbody tr th:only-of-type {\n",
       "        vertical-align: middle;\n",
       "    }\n",
       "\n",
       "    .dataframe tbody tr th {\n",
       "        vertical-align: top;\n",
       "    }\n",
       "\n",
       "    .dataframe thead th {\n",
       "        text-align: right;\n",
       "    }\n",
       "</style>\n",
       "<table border=\"1\" class=\"dataframe\">\n",
       "  <thead>\n",
       "    <tr style=\"text-align: right;\">\n",
       "      <th></th>\n",
       "      <th>user_id</th>\n",
       "      <th>time</th>\n",
       "      <th>bet</th>\n",
       "      <th>win</th>\n",
       "    </tr>\n",
       "  </thead>\n",
       "  <tbody>\n",
       "    <tr>\n",
       "      <th>0</th>\n",
       "      <td>False</td>\n",
       "      <td>False</td>\n",
       "      <td>True</td>\n",
       "      <td>True</td>\n",
       "    </tr>\n",
       "    <tr>\n",
       "      <th>1</th>\n",
       "      <td>False</td>\n",
       "      <td>False</td>\n",
       "      <td>True</td>\n",
       "      <td>True</td>\n",
       "    </tr>\n",
       "    <tr>\n",
       "      <th>2</th>\n",
       "      <td>False</td>\n",
       "      <td>False</td>\n",
       "      <td>True</td>\n",
       "      <td>True</td>\n",
       "    </tr>\n",
       "    <tr>\n",
       "      <th>3</th>\n",
       "      <td>False</td>\n",
       "      <td>False</td>\n",
       "      <td>True</td>\n",
       "      <td>True</td>\n",
       "    </tr>\n",
       "    <tr>\n",
       "      <th>4</th>\n",
       "      <td>False</td>\n",
       "      <td>False</td>\n",
       "      <td>True</td>\n",
       "      <td>True</td>\n",
       "    </tr>\n",
       "  </tbody>\n",
       "</table>\n",
       "</div>"
      ],
      "text/plain": [
       "   user_id   time   bet   win\n",
       "0    False  False  True  True\n",
       "1    False  False  True  True\n",
       "2    False  False  True  True\n",
       "3    False  False  True  True\n",
       "4    False  False  True  True"
      ]
     },
     "execution_count": 5,
     "metadata": {},
     "output_type": "execute_result"
    }
   ],
   "source": [
    "log.head().isna() "
   ]
  },
  {
   "cell_type": "code",
   "execution_count": null,
   "metadata": {},
   "outputs": [],
   "source": [
    "users = pd.read_csv('C:\\\\Users\\\\Sergey\\\\Desktop\\\\Python\\\\__pycache__\\\\modul_35\\\\data\\\\users.csv', sep=\"\\t\", encoding=\"koi8_r\")\n",
    "users.columns  = ['user_id','email','geo'] # переименование столбцов"
   ]
  },
  {
   "cell_type": "code",
   "execution_count": 19,
   "metadata": {},
   "outputs": [
    {
     "data": {
      "text/plain": [
       "15"
      ]
     },
     "execution_count": 19,
     "metadata": {},
     "output_type": "execute_result"
    }
   ],
   "source": [
    "\"\"\"Сколько пропусков в столбце time?\"\"\"\n",
    "\n",
    "log.time.isna().sum()"
   ]
  },
  {
   "cell_type": "markdown",
   "metadata": {},
   "source": [
    "#### УДАЛЕНИЕ ПРОПУСКОВ\n",
    "Удалять данные с пропусками можно с помощью метода dropna().\n",
    "\n",
    "параметры метода:\n",
    "1. axis - по какой оси удалять значения,\n",
    "2. subset - Если передать в него список значений по одной оси (например, названия столбцов) и задать при этом в параметре axis другую ось (в нашем случае 0), то мы удалим те строки, для которых в данных столбцах находится пропуск."
   ]
  },
  {
   "cell_type": "code",
   "execution_count": null,
   "metadata": {},
   "outputs": [],
   "source": [
    "\"\"\"удаление строк с пропусками\"\"\"\n",
    "log.dropna(axis=0)"
   ]
  },
  {
   "cell_type": "code",
   "execution_count": null,
   "metadata": {},
   "outputs": [],
   "source": [
    "\"\"\"удаление столбцов с пропусками\"\"\"\n",
    "log.dropna(axis=0)"
   ]
  },
  {
   "cell_type": "code",
   "execution_count": 34,
   "metadata": {},
   "outputs": [
    {
     "data": {
      "text/html": [
       "<div>\n",
       "<style scoped>\n",
       "    .dataframe tbody tr th:only-of-type {\n",
       "        vertical-align: middle;\n",
       "    }\n",
       "\n",
       "    .dataframe tbody tr th {\n",
       "        vertical-align: top;\n",
       "    }\n",
       "\n",
       "    .dataframe thead th {\n",
       "        text-align: right;\n",
       "    }\n",
       "</style>\n",
       "<table border=\"1\" class=\"dataframe\">\n",
       "  <thead>\n",
       "    <tr style=\"text-align: right;\">\n",
       "      <th></th>\n",
       "      <th>user_id</th>\n",
       "      <th>bet</th>\n",
       "      <th>win</th>\n",
       "    </tr>\n",
       "  </thead>\n",
       "  <tbody>\n",
       "    <tr>\n",
       "      <th>0</th>\n",
       "      <td>Запись пользователя № - user_919</td>\n",
       "      <td>NaN</td>\n",
       "      <td>NaN</td>\n",
       "    </tr>\n",
       "    <tr>\n",
       "      <th>1</th>\n",
       "      <td>Запись пользователя № - user_973</td>\n",
       "      <td>NaN</td>\n",
       "      <td>NaN</td>\n",
       "    </tr>\n",
       "    <tr>\n",
       "      <th>2</th>\n",
       "      <td>Запись пользователя № - user_903</td>\n",
       "      <td>NaN</td>\n",
       "      <td>NaN</td>\n",
       "    </tr>\n",
       "    <tr>\n",
       "      <th>3</th>\n",
       "      <td>Запись пользователя № - user_954</td>\n",
       "      <td>NaN</td>\n",
       "      <td>NaN</td>\n",
       "    </tr>\n",
       "    <tr>\n",
       "      <th>4</th>\n",
       "      <td>Запись пользователя № - user_954</td>\n",
       "      <td>NaN</td>\n",
       "      <td>NaN</td>\n",
       "    </tr>\n",
       "    <tr>\n",
       "      <th>...</th>\n",
       "      <td>...</td>\n",
       "      <td>...</td>\n",
       "      <td>...</td>\n",
       "    </tr>\n",
       "    <tr>\n",
       "      <th>995</th>\n",
       "      <td>Запись пользователя № - user_984</td>\n",
       "      <td>9754.0</td>\n",
       "      <td>NaN</td>\n",
       "    </tr>\n",
       "    <tr>\n",
       "      <th>996</th>\n",
       "      <td>#error</td>\n",
       "      <td>10054.0</td>\n",
       "      <td>29265.0</td>\n",
       "    </tr>\n",
       "    <tr>\n",
       "      <th>997</th>\n",
       "      <td>#error</td>\n",
       "      <td>10454.0</td>\n",
       "      <td>NaN</td>\n",
       "    </tr>\n",
       "    <tr>\n",
       "      <th>998</th>\n",
       "      <td>#error</td>\n",
       "      <td>1000.0</td>\n",
       "      <td>NaN</td>\n",
       "    </tr>\n",
       "    <tr>\n",
       "      <th>999</th>\n",
       "      <td>#error</td>\n",
       "      <td>10754.0</td>\n",
       "      <td>NaN</td>\n",
       "    </tr>\n",
       "  </tbody>\n",
       "</table>\n",
       "<p>1000 rows × 3 columns</p>\n",
       "</div>"
      ],
      "text/plain": [
       "                              user_id      bet      win\n",
       "0    Запись пользователя № - user_919      NaN      NaN\n",
       "1    Запись пользователя № - user_973      NaN      NaN\n",
       "2    Запись пользователя № - user_903      NaN      NaN\n",
       "3    Запись пользователя № - user_954      NaN      NaN\n",
       "4    Запись пользователя № - user_954      NaN      NaN\n",
       "..                                ...      ...      ...\n",
       "995  Запись пользователя № - user_984   9754.0      NaN\n",
       "996                            #error  10054.0  29265.0\n",
       "997                            #error  10454.0      NaN\n",
       "998                            #error   1000.0      NaN\n",
       "999                            #error  10754.0      NaN\n",
       "\n",
       "[1000 rows x 3 columns]"
      ]
     },
     "execution_count": 34,
     "metadata": {},
     "output_type": "execute_result"
    }
   ],
   "source": [
    "\"\"\"Проверьте, есть ли пропуски в столбцах user_id и time. Если в столбце есть пропуски, \n",
    "удалите его. Сколько столбцов осталось в данных после этого?\"\"\"\n",
    "log_new = pd.concat([log[['user_id', 'time']].dropna(axis=1), log[['bet', 'win']]], axis=1)\n",
    "log_new "
   ]
  },
  {
   "cell_type": "markdown",
   "metadata": {},
   "source": [
    "## 40.3 Дубли"
   ]
  },
  {
   "cell_type": "markdown",
   "metadata": {},
   "source": [
    "#### УДАЛЕНИЕ ПРОСТЫХ ДУБЛЕЙ\n",
    "метод для удаления дублей — drop_duplicates()\n",
    "\n",
    "У этого метода тоже есть параметр subset, но в этом случае ему нужно передавать список названий столбцов, а не их номера.\n"
   ]
  },
  {
   "cell_type": "code",
   "execution_count": 36,
   "metadata": {},
   "outputs": [
    {
     "data": {
      "text/html": [
       "<div>\n",
       "<style scoped>\n",
       "    .dataframe tbody tr th:only-of-type {\n",
       "        vertical-align: middle;\n",
       "    }\n",
       "\n",
       "    .dataframe tbody tr th {\n",
       "        vertical-align: top;\n",
       "    }\n",
       "\n",
       "    .dataframe thead th {\n",
       "        text-align: right;\n",
       "    }\n",
       "</style>\n",
       "<table border=\"1\" class=\"dataframe\">\n",
       "  <thead>\n",
       "    <tr style=\"text-align: right;\">\n",
       "      <th></th>\n",
       "      <th>user_id</th>\n",
       "      <th>time</th>\n",
       "      <th>bet</th>\n",
       "      <th>win</th>\n",
       "    </tr>\n",
       "  </thead>\n",
       "  <tbody>\n",
       "    <tr>\n",
       "      <th>0</th>\n",
       "      <td>Запись пользователя № - user_919</td>\n",
       "      <td>[2019-01-01 14:06:51</td>\n",
       "      <td>NaN</td>\n",
       "      <td>NaN</td>\n",
       "    </tr>\n",
       "    <tr>\n",
       "      <th>1</th>\n",
       "      <td>Запись пользователя № - user_973</td>\n",
       "      <td>[2019-01-01 14:51:16</td>\n",
       "      <td>NaN</td>\n",
       "      <td>NaN</td>\n",
       "    </tr>\n",
       "    <tr>\n",
       "      <th>2</th>\n",
       "      <td>Запись пользователя № - user_903</td>\n",
       "      <td>[2019-01-01 16:31:16</td>\n",
       "      <td>NaN</td>\n",
       "      <td>NaN</td>\n",
       "    </tr>\n",
       "    <tr>\n",
       "      <th>3</th>\n",
       "      <td>Запись пользователя № - user_954</td>\n",
       "      <td>[2019-01-01 17:17:51</td>\n",
       "      <td>NaN</td>\n",
       "      <td>NaN</td>\n",
       "    </tr>\n",
       "    <tr>\n",
       "      <th>4</th>\n",
       "      <td>Запись пользователя № - user_954</td>\n",
       "      <td>[2019-01-01 21:31:18</td>\n",
       "      <td>NaN</td>\n",
       "      <td>NaN</td>\n",
       "    </tr>\n",
       "    <tr>\n",
       "      <th>...</th>\n",
       "      <td>...</td>\n",
       "      <td>...</td>\n",
       "      <td>...</td>\n",
       "      <td>...</td>\n",
       "    </tr>\n",
       "    <tr>\n",
       "      <th>991</th>\n",
       "      <td>Запись пользователя № - user_965</td>\n",
       "      <td>[2019-04-20 12:55:41</td>\n",
       "      <td>800.0</td>\n",
       "      <td>6927.0</td>\n",
       "    </tr>\n",
       "    <tr>\n",
       "      <th>992</th>\n",
       "      <td>Запись пользователя № - user_967</td>\n",
       "      <td>[2019-04-20 14:59:36</td>\n",
       "      <td>10154.0</td>\n",
       "      <td>NaN</td>\n",
       "    </tr>\n",
       "    <tr>\n",
       "      <th>993</th>\n",
       "      <td>Запись пользователя № - user_973</td>\n",
       "      <td>[2019-04-20 17:09:56</td>\n",
       "      <td>10254.0</td>\n",
       "      <td>NaN</td>\n",
       "    </tr>\n",
       "    <tr>\n",
       "      <th>994</th>\n",
       "      <td>Запись пользователя № - user_977</td>\n",
       "      <td>[2019-04-20 18:10:07</td>\n",
       "      <td>10354.0</td>\n",
       "      <td>NaN</td>\n",
       "    </tr>\n",
       "    <tr>\n",
       "      <th>995</th>\n",
       "      <td>Запись пользователя № - user_984</td>\n",
       "      <td>[2019-04-20 9:59:58</td>\n",
       "      <td>9754.0</td>\n",
       "      <td>NaN</td>\n",
       "    </tr>\n",
       "  </tbody>\n",
       "</table>\n",
       "<p>986 rows × 4 columns</p>\n",
       "</div>"
      ],
      "text/plain": [
       "                              user_id                  time      bet     win\n",
       "0    Запись пользователя № - user_919  [2019-01-01 14:06:51      NaN     NaN\n",
       "1    Запись пользователя № - user_973  [2019-01-01 14:51:16      NaN     NaN\n",
       "2    Запись пользователя № - user_903  [2019-01-01 16:31:16      NaN     NaN\n",
       "3    Запись пользователя № - user_954  [2019-01-01 17:17:51      NaN     NaN\n",
       "4    Запись пользователя № - user_954  [2019-01-01 21:31:18      NaN     NaN\n",
       "..                                ...                   ...      ...     ...\n",
       "991  Запись пользователя № - user_965  [2019-04-20 12:55:41    800.0  6927.0\n",
       "992  Запись пользователя № - user_967  [2019-04-20 14:59:36  10154.0     NaN\n",
       "993  Запись пользователя № - user_973  [2019-04-20 17:09:56  10254.0     NaN\n",
       "994  Запись пользователя № - user_977  [2019-04-20 18:10:07  10354.0     NaN\n",
       "995  Запись пользователя № - user_984   [2019-04-20 9:59:58   9754.0     NaN\n",
       "\n",
       "[986 rows x 4 columns]"
      ]
     },
     "execution_count": 36,
     "metadata": {},
     "output_type": "execute_result"
    }
   ],
   "source": [
    "\"\"\"Удалите дубли среди столбцов user_id и time. Сколько строк осталось после этого?\"\"\"\n",
    "\n",
    "log.drop_duplicates(subset=['user_id', 'time'])"
   ]
  },
  {
   "cell_type": "markdown",
   "metadata": {},
   "source": [
    "## 40.4 Преобразование в datetime"
   ]
  },
  {
   "cell_type": "code",
   "execution_count": 49,
   "metadata": {},
   "outputs": [
    {
     "data": {
      "text/plain": [
       "'2019-04-20'"
      ]
     },
     "execution_count": 49,
     "metadata": {},
     "output_type": "execute_result"
    }
   ],
   "source": [
    "log = pd.read_csv('data\\log.csv', header = None) # чтение файла\n",
    "log.columns  = ['user_id','time','bet','win'] # переименование столбцов\n",
    "log.time = log.time.str.strip('[') # убираем лишний символ\n",
    "log.dropna(subset= ['time'], how='any', inplace=True) # убираем пропуски\n",
    "log.time = pd.to_datetime(log.time) # преобразуем в формат даты\n",
    "\n",
    "str(log.time.max())[:10]"
   ]
  },
  {
   "cell_type": "code",
   "execution_count": 60,
   "metadata": {},
   "outputs": [
    {
     "data": {
      "text/plain": [
       "14     57\n",
       "29     59\n",
       "151    54\n",
       "189    34\n",
       "205    26\n",
       "Name: time, dtype: int64"
      ]
     },
     "execution_count": 60,
     "metadata": {},
     "output_type": "execute_result"
    }
   ],
   "source": [
    "log = pd.read_csv('data\\log.csv', header = None) # чтение файла\n",
    "log = log.dropna() # убираем дубликаты\n",
    "log.columns = [\"user_id\", \"time\", \"bet\", \"win\"] # переименование столбцов\n",
    "log[\"time\"] = log[\"time\"].apply(lambda x: x[1:]) # убираем лишний символ\n",
    "log[\"time\"] = pd.to_datetime(log[\"time\"])  # преобразуем в формат даты\n",
    "log.time = log.time.apply(lambda x: x.minute)  # выбираем минуты\n",
    "log.time.value_counts() # Какая минута встречалась в данных чаще всего?\n",
    "log[\"time\"].head()"
   ]
  },
  {
   "cell_type": "code",
   "execution_count": null,
   "metadata": {},
   "outputs": [],
   "source": [
    "users = pd.read_csv('C:\\\\Users\\\\Sergey\\\\Desktop\\\\Python\\\\__pycache__\\\\modul_35\\\\data\\\\users.csv', sep=\"\\t\", encoding=\"koi8_r\")\n",
    "users.columns  = ['user_id','email','geo'] # переименование столбцов"
   ]
  },
  {
   "cell_type": "markdown",
   "metadata": {},
   "source": [
    "## 40.5 Извлечение признаков времени"
   ]
  },
  {
   "cell_type": "markdown",
   "metadata": {},
   "source": [
    "#### АТРИБУТЫ\n",
    "1. asm8 - сжатый формат datetime64 в наносекундах\n",
    "2. dayofweek - день недели\n",
    "3. dayofyear - день в году\n",
    "4. daysinmonth - день месяца\n",
    "5. freqstr - общее кол-во дней в месяце\n",
    "6. is_leap_year - если високосный год (true)\n",
    "7. is_month_end - если последний день месяца (true)\n",
    "8. is_month_start - если первый день месяца (true)\n",
    "9. is_quarter_end - если последний день квартала (true)\n",
    "10. is_quarter_start - если первый день квартала (true)\n",
    "11. is_year_end - если последний день года (true)\n",
    "12. is_year_start - если первый день года (true)\n",
    "13. quarter - квартал\n",
    "14. week - номер недели года"
   ]
  },
  {
   "cell_type": "code",
   "execution_count": 55,
   "metadata": {},
   "outputs": [],
   "source": [
    "log = pd.read_csv('data\\log.csv', header = None) # чтение файла\n",
    "log = log.dropna() # убираем пустые значения\n",
    "log.columns = [\"user_id\", \"time\", \"bet\", \"win\"] # переименование столбцов\n",
    "log[\"time\"] = log[\"time\"].apply(lambda x: x[1:]) # убираем лишний символ\n",
    "log[\"time\"] = pd.to_datetime(log[\"time\"])  # преобразуем в формат даты"
   ]
  },
  {
   "cell_type": "code",
   "execution_count": 57,
   "metadata": {},
   "outputs": [],
   "source": [
    "\"\"\"мы хотим получить столбец, в котором каждым значением будет год из другого столбца. \n",
    "Это и есть Feature Engineering — создание новых признаков из старых.\"\"\"\n",
    "# Или\n",
    "year_column = log[\"time\"].apply(lambda x: x.year)\n",
    "# или\n",
    "year_column = log[\"time\"].dt.year"
   ]
  },
  {
   "cell_type": "markdown",
   "metadata": {},
   "source": [
    "value_counts()\n",
    "метод возвращает серию (Series), которая содержит количество уникальных элементов, возвращает значения отсортированными по убыванию.\n",
    "\n",
    "value_counts(ascending=True), отсортированными по возрастанию."
   ]
  },
  {
   "cell_type": "code",
   "execution_count": 104,
   "metadata": {},
   "outputs": [
    {
     "data": {
      "text/plain": [
       "4    170\n",
       "2    259\n",
       "3    264\n",
       "1    292\n",
       "Name: time, dtype: int64"
      ]
     },
     "execution_count": 104,
     "metadata": {},
     "output_type": "execute_result"
    }
   ],
   "source": [
    "\"\"\"Какой месяц встречается в данных реже всего?\"\"\"\n",
    "\n",
    "log = pd.read_csv('data\\log.csv', header = None) # чтение файла\n",
    "log.columns = [\"user_id\", \"time\", \"bet\", \"win\"] # переименование столбцов\n",
    "time= log['time'].dropna() # столбец со временем с удалением пустых значений\n",
    "time = time.apply(lambda x: x[1:]) # убираем лишний символ\n",
    "time = pd.to_datetime(time)  # преобразуем в формат даты\n",
    "time = time.apply(lambda x: x.month)  # выбираем месяц\n",
    "time.value_counts(ascending=True) # Какой месяц встречается в данных реже всего?\n"
   ]
  },
  {
   "cell_type": "code",
   "execution_count": 108,
   "metadata": {},
   "outputs": [
    {
     "data": {
      "text/plain": [
       "283"
      ]
     },
     "execution_count": 108,
     "metadata": {},
     "output_type": "execute_result"
    }
   ],
   "source": [
    "\"\"\"Сколько дней в данных являются выходными (то есть суббота или воскресенье)?\"\"\"\n",
    "\n",
    "log = pd.read_csv('data\\log.csv', header = None) # чтение файла\n",
    "log.columns = [\"user_id\", \"time\", \"bet\", \"win\"] # переименование столбцов\n",
    "time= log['time'].dropna() # столбец со временем с удалением пустых значений\n",
    "time = time.apply(lambda x: x[1:]) # убираем лишний символ\n",
    "time = pd.to_datetime(time)  # преобразуем в формат даты\n",
    "time = time.apply(lambda x: x.dayofweek)  # выбираем месяц\n",
    "len(time[(time == 5) | (time == 6)]) # количество элементов в отфильтрованном списке"
   ]
  },
  {
   "cell_type": "code",
   "execution_count": 115,
   "metadata": {},
   "outputs": [
    {
     "data": {
      "text/plain": [
       "вечер    227\n",
       "день     240\n",
       "утро     253\n",
       "ночь     265\n",
       "Name: time, dtype: int64"
      ]
     },
     "execution_count": 115,
     "metadata": {},
     "output_type": "execute_result"
    }
   ],
   "source": [
    "\"\"\"Какое время суток встречается в данных реже всего? Договоримся, что с 0 до 5 часов — ночь, \n",
    "с 6 до 11 — утро, с 12 до 17 — день, с 18 до 23 — вечер.\"\"\"\n",
    "\n",
    "log = pd.read_csv('data\\log.csv', header = None) # чтение файла\n",
    "log.columns = [\"user_id\", \"time\", \"bet\", \"win\"] # переименование столбцов\n",
    "time= log['time'].dropna() # столбец со временем с удалением пустых значений\n",
    "time = time.apply(lambda x: x[1:]) # убираем лишний символ\n",
    "time = pd.to_datetime(time)  # преобразуем в формат даты\n",
    "time = time.apply(lambda x: x.hour)\n",
    "def time_day(x):\n",
    "    if x <= 5:\n",
    "        return 'ночь'\n",
    "    elif x <= 11:\n",
    "        return 'утро'\n",
    "    elif x <= 17:\n",
    "        return 'день' \n",
    "    else:   \n",
    "        return 'вечер' \n",
    "    \n",
    "time = time.apply(time_day) \n",
    "time.value_counts(ascending=True)"
   ]
  },
  {
   "cell_type": "code",
   "execution_count": 117,
   "metadata": {},
   "outputs": [
    {
     "data": {
      "text/html": [
       "<div>\n",
       "<style scoped>\n",
       "    .dataframe tbody tr th:only-of-type {\n",
       "        vertical-align: middle;\n",
       "    }\n",
       "\n",
       "    .dataframe tbody tr th {\n",
       "        vertical-align: top;\n",
       "    }\n",
       "\n",
       "    .dataframe thead th {\n",
       "        text-align: right;\n",
       "    }\n",
       "</style>\n",
       "<table border=\"1\" class=\"dataframe\">\n",
       "  <thead>\n",
       "    <tr style=\"text-align: right;\">\n",
       "      <th></th>\n",
       "      <th>user_id</th>\n",
       "      <th>time</th>\n",
       "      <th>bet</th>\n",
       "      <th>win</th>\n",
       "      <th>hour</th>\n",
       "    </tr>\n",
       "  </thead>\n",
       "  <tbody>\n",
       "    <tr>\n",
       "      <th>14</th>\n",
       "      <td>Запись пользователя № - user_917</td>\n",
       "      <td>2019-01-02 08:57:36</td>\n",
       "      <td>145732.0</td>\n",
       "      <td>1987653.0</td>\n",
       "      <td>8</td>\n",
       "    </tr>\n",
       "    <tr>\n",
       "      <th>29</th>\n",
       "      <td>Запись пользователя № - user_942</td>\n",
       "      <td>2019-01-04 13:59:42</td>\n",
       "      <td>1678321.0</td>\n",
       "      <td>9876543.0</td>\n",
       "      <td>13</td>\n",
       "    </tr>\n",
       "    <tr>\n",
       "      <th>151</th>\n",
       "      <td>Запись пользователя № - user_982</td>\n",
       "      <td>2019-01-16 21:54:22</td>\n",
       "      <td>100.0</td>\n",
       "      <td>4749.0</td>\n",
       "      <td>21</td>\n",
       "    </tr>\n",
       "    <tr>\n",
       "      <th>189</th>\n",
       "      <td>Запись пользователя № - user_964</td>\n",
       "      <td>2019-01-21 18:34:44</td>\n",
       "      <td>200.0</td>\n",
       "      <td>4667.0</td>\n",
       "      <td>18</td>\n",
       "    </tr>\n",
       "    <tr>\n",
       "      <th>205</th>\n",
       "      <td>Запись пользователя № - user_931</td>\n",
       "      <td>2019-01-22 05:26:59</td>\n",
       "      <td>300.0</td>\n",
       "      <td>4319.0</td>\n",
       "      <td>5</td>\n",
       "    </tr>\n",
       "    <tr>\n",
       "      <th>...</th>\n",
       "      <td>...</td>\n",
       "      <td>...</td>\n",
       "      <td>...</td>\n",
       "      <td>...</td>\n",
       "      <td>...</td>\n",
       "    </tr>\n",
       "    <tr>\n",
       "      <th>967</th>\n",
       "      <td>Запись пользователя № - user_975</td>\n",
       "      <td>2019-04-19 22:25:15</td>\n",
       "      <td>1000.0</td>\n",
       "      <td>6108.0</td>\n",
       "      <td>22</td>\n",
       "    </tr>\n",
       "    <tr>\n",
       "      <th>971</th>\n",
       "      <td>Запись пользователя № - user_912</td>\n",
       "      <td>2019-04-20 10:35:49</td>\n",
       "      <td>10554.0</td>\n",
       "      <td>31799.0</td>\n",
       "      <td>10</td>\n",
       "    </tr>\n",
       "    <tr>\n",
       "      <th>972</th>\n",
       "      <td>Запись пользователя № - user_926</td>\n",
       "      <td>2019-04-20 10:35:50</td>\n",
       "      <td>10354.0</td>\n",
       "      <td>30244.0</td>\n",
       "      <td>10</td>\n",
       "    </tr>\n",
       "    <tr>\n",
       "      <th>976</th>\n",
       "      <td>Запись пользователя № - user_970</td>\n",
       "      <td>2019-04-20 10:35:54</td>\n",
       "      <td>10354.0</td>\n",
       "      <td>30691.0</td>\n",
       "      <td>10</td>\n",
       "    </tr>\n",
       "    <tr>\n",
       "      <th>991</th>\n",
       "      <td>Запись пользователя № - user_965</td>\n",
       "      <td>2019-04-20 12:55:41</td>\n",
       "      <td>800.0</td>\n",
       "      <td>6927.0</td>\n",
       "      <td>12</td>\n",
       "    </tr>\n",
       "  </tbody>\n",
       "</table>\n",
       "<p>133 rows × 5 columns</p>\n",
       "</div>"
      ],
      "text/plain": [
       "                              user_id                time        bet  \\\n",
       "14   Запись пользователя № - user_917 2019-01-02 08:57:36   145732.0   \n",
       "29   Запись пользователя № - user_942 2019-01-04 13:59:42  1678321.0   \n",
       "151  Запись пользователя № - user_982 2019-01-16 21:54:22      100.0   \n",
       "189  Запись пользователя № - user_964 2019-01-21 18:34:44      200.0   \n",
       "205  Запись пользователя № - user_931 2019-01-22 05:26:59      300.0   \n",
       "..                                ...                 ...        ...   \n",
       "967  Запись пользователя № - user_975 2019-04-19 22:25:15     1000.0   \n",
       "971  Запись пользователя № - user_912 2019-04-20 10:35:49    10554.0   \n",
       "972  Запись пользователя № - user_926 2019-04-20 10:35:50    10354.0   \n",
       "976  Запись пользователя № - user_970 2019-04-20 10:35:54    10354.0   \n",
       "991  Запись пользователя № - user_965 2019-04-20 12:55:41      800.0   \n",
       "\n",
       "           win  hour  \n",
       "14   1987653.0     8  \n",
       "29   9876543.0    13  \n",
       "151     4749.0    21  \n",
       "189     4667.0    18  \n",
       "205     4319.0     5  \n",
       "..         ...   ...  \n",
       "967     6108.0    22  \n",
       "971    31799.0    10  \n",
       "972    30244.0    10  \n",
       "976    30691.0    10  \n",
       "991     6927.0    12  \n",
       "\n",
       "[133 rows x 5 columns]"
      ]
     },
     "execution_count": 117,
     "metadata": {},
     "output_type": "execute_result"
    }
   ],
   "source": [
    "\"\"\"Напишите код, который создаст признак hour из признака time в датасете log.csv. \n",
    "Для этого сделайте следующее:\n",
    "    Загрузите датасет log.csv в переменную log, дальше работать будем с ней.\n",
    "    Установите имена столбцов: ['user_id', 'time', 'bet', 'win']\n",
    "    Избавьтесь от пропусков в log.\n",
    "    Приведите переменную time к подходящему для извлечения признаков виду.\n",
    "    Получите значение часа для каждой строки в переменной time и запишите в столбец hour в log.\n",
    "    Результатом будет таблица log со столбцом hour внутри.\"\"\"\n",
    "    \n",
    "log = pd.read_csv('data\\log.csv', header = None) # чтение файла\n",
    "log.columns = [\"user_id\", \"time\", \"bet\", \"win\"] # переименование столбцов\n",
    "log = log.dropna() # убираем пустые значения\n",
    "log['time'] = log['time'].apply(lambda x: x[1:]) # убираем лишний символ\n",
    "log['time'] = pd.to_datetime(log['time'])  # преобразуем в формат даты\n",
    "log['hour']  = log['time'] .apply(lambda x: x.hour)\n",
    "\n",
    "log\n",
    "\n",
    "    "
   ]
  },
  {
   "cell_type": "markdown",
   "metadata": {},
   "source": [
    "## 40.6 И снова о пропусках"
   ]
  },
  {
   "cell_type": "markdown",
   "metadata": {},
   "source": [
    "#### ЗАПОЛНЕНИЕ КОНСТАНТОЙ\n",
    "Чтобы заполнить пропуски в столбце каким-то значением, можно использовать метод fillna() у самого столбца. Аргументом этого метода будет число, которое появится на месте пропусков"
   ]
  },
  {
   "cell_type": "code",
   "execution_count": 142,
   "metadata": {},
   "outputs": [],
   "source": [
    "log = pd.read_csv('data\\log.csv', header = None) # чтение файла\n",
    "log.columns = [\"user_id\", \"time\", \"bet\", \"win\"] # переименование столбцов"
   ]
  },
  {
   "cell_type": "code",
   "execution_count": 128,
   "metadata": {},
   "outputs": [],
   "source": [
    "log[\"bet\"] = log[\"bet\"].fillna(0)"
   ]
  },
  {
   "cell_type": "code",
   "execution_count": 130,
   "metadata": {},
   "outputs": [
    {
     "data": {
      "text/plain": [
       "515"
      ]
     },
     "execution_count": 130,
     "metadata": {},
     "output_type": "execute_result"
    }
   ],
   "source": [
    "\"\"\"Cколько раз люди приходили, но не делали ставки?\"\"\"\n",
    "log[log[\"bet\"] == 0][\"user_id\"].count()"
   ]
  },
  {
   "cell_type": "code",
   "execution_count": 131,
   "metadata": {},
   "outputs": [],
   "source": [
    "log.win = log.win.fillna(0)\n",
    "\n",
    "def fillna_win(row):\n",
    "    # Нужно дописать  \n",
    "    if not row['bet']:\n",
    "        return 0\n",
    "    else:\n",
    "        if row['win']:\n",
    "            return row['win']\n",
    "        else:\n",
    "            return -row['bet']\n",
    "  \n",
    "# Применяем функцию  \n",
    "new_win = log.apply(lambda row: fillna_win(row), axis=1)  \n",
    "  \n",
    "# Заменяем старый столбец с пропусками на новый без пропусков  \n",
    "log['win'] = new_win "
   ]
  },
  {
   "cell_type": "code",
   "execution_count": 132,
   "metadata": {},
   "outputs": [
    {
     "data": {
      "text/plain": [
       "347"
      ]
     },
     "execution_count": 132,
     "metadata": {},
     "output_type": "execute_result"
    }
   ],
   "source": [
    "\"\"\"Сколько раз участники ставок проиграли деньги?\"\"\"\n",
    "log[log[\"win\"] < 0][\"user_id\"].count()"
   ]
  },
  {
   "cell_type": "code",
   "execution_count": null,
   "metadata": {},
   "outputs": [],
   "source": [
    "users = pd.read_csv('C:\\\\Users\\\\Sergey\\\\Desktop\\\\Python\\\\__pycache__\\\\modul_35\\\\data\\\\users.csv', sep=\"\\t\", encoding=\"koi8_r\")\n",
    "users.columns  = ['user_id','email','geo'] # переименование столбцов"
   ]
  },
  {
   "cell_type": "code",
   "execution_count": 137,
   "metadata": {},
   "outputs": [
    {
     "data": {
      "text/html": [
       "<div>\n",
       "<style scoped>\n",
       "    .dataframe tbody tr th:only-of-type {\n",
       "        vertical-align: middle;\n",
       "    }\n",
       "\n",
       "    .dataframe tbody tr th {\n",
       "        vertical-align: top;\n",
       "    }\n",
       "\n",
       "    .dataframe thead th {\n",
       "        text-align: right;\n",
       "    }\n",
       "</style>\n",
       "<table border=\"1\" class=\"dataframe\">\n",
       "  <thead>\n",
       "    <tr style=\"text-align: right;\">\n",
       "      <th></th>\n",
       "      <th>user_id</th>\n",
       "      <th>time</th>\n",
       "      <th>bet</th>\n",
       "      <th>win</th>\n",
       "      <th>net</th>\n",
       "    </tr>\n",
       "  </thead>\n",
       "  <tbody>\n",
       "    <tr>\n",
       "      <th>0</th>\n",
       "      <td>Запись пользователя № - user_919</td>\n",
       "      <td>[2019-01-01 14:06:51</td>\n",
       "      <td>0.0</td>\n",
       "      <td>0.0</td>\n",
       "      <td>0.0</td>\n",
       "    </tr>\n",
       "    <tr>\n",
       "      <th>1</th>\n",
       "      <td>Запись пользователя № - user_973</td>\n",
       "      <td>[2019-01-01 14:51:16</td>\n",
       "      <td>0.0</td>\n",
       "      <td>0.0</td>\n",
       "      <td>0.0</td>\n",
       "    </tr>\n",
       "    <tr>\n",
       "      <th>2</th>\n",
       "      <td>Запись пользователя № - user_903</td>\n",
       "      <td>[2019-01-01 16:31:16</td>\n",
       "      <td>0.0</td>\n",
       "      <td>0.0</td>\n",
       "      <td>0.0</td>\n",
       "    </tr>\n",
       "    <tr>\n",
       "      <th>3</th>\n",
       "      <td>Запись пользователя № - user_954</td>\n",
       "      <td>[2019-01-01 17:17:51</td>\n",
       "      <td>0.0</td>\n",
       "      <td>0.0</td>\n",
       "      <td>0.0</td>\n",
       "    </tr>\n",
       "    <tr>\n",
       "      <th>4</th>\n",
       "      <td>Запись пользователя № - user_954</td>\n",
       "      <td>[2019-01-01 21:31:18</td>\n",
       "      <td>0.0</td>\n",
       "      <td>0.0</td>\n",
       "      <td>0.0</td>\n",
       "    </tr>\n",
       "    <tr>\n",
       "      <th>...</th>\n",
       "      <td>...</td>\n",
       "      <td>...</td>\n",
       "      <td>...</td>\n",
       "      <td>...</td>\n",
       "      <td>...</td>\n",
       "    </tr>\n",
       "    <tr>\n",
       "      <th>995</th>\n",
       "      <td>Запись пользователя № - user_984</td>\n",
       "      <td>[2019-04-20 9:59:58</td>\n",
       "      <td>9754.0</td>\n",
       "      <td>-9754.0</td>\n",
       "      <td>-19508.0</td>\n",
       "    </tr>\n",
       "    <tr>\n",
       "      <th>996</th>\n",
       "      <td>#error</td>\n",
       "      <td>NaN</td>\n",
       "      <td>10054.0</td>\n",
       "      <td>29265.0</td>\n",
       "      <td>19211.0</td>\n",
       "    </tr>\n",
       "    <tr>\n",
       "      <th>997</th>\n",
       "      <td>#error</td>\n",
       "      <td>NaN</td>\n",
       "      <td>10454.0</td>\n",
       "      <td>-10454.0</td>\n",
       "      <td>-20908.0</td>\n",
       "    </tr>\n",
       "    <tr>\n",
       "      <th>998</th>\n",
       "      <td>#error</td>\n",
       "      <td>NaN</td>\n",
       "      <td>1000.0</td>\n",
       "      <td>-1000.0</td>\n",
       "      <td>-2000.0</td>\n",
       "    </tr>\n",
       "    <tr>\n",
       "      <th>999</th>\n",
       "      <td>#error</td>\n",
       "      <td>NaN</td>\n",
       "      <td>10754.0</td>\n",
       "      <td>-10754.0</td>\n",
       "      <td>-21508.0</td>\n",
       "    </tr>\n",
       "  </tbody>\n",
       "</table>\n",
       "<p>1000 rows × 5 columns</p>\n",
       "</div>"
      ],
      "text/plain": [
       "                              user_id                  time      bet      win  \\\n",
       "0    Запись пользователя № - user_919  [2019-01-01 14:06:51      0.0      0.0   \n",
       "1    Запись пользователя № - user_973  [2019-01-01 14:51:16      0.0      0.0   \n",
       "2    Запись пользователя № - user_903  [2019-01-01 16:31:16      0.0      0.0   \n",
       "3    Запись пользователя № - user_954  [2019-01-01 17:17:51      0.0      0.0   \n",
       "4    Запись пользователя № - user_954  [2019-01-01 21:31:18      0.0      0.0   \n",
       "..                                ...                   ...      ...      ...   \n",
       "995  Запись пользователя № - user_984   [2019-04-20 9:59:58   9754.0  -9754.0   \n",
       "996                            #error                   NaN  10054.0  29265.0   \n",
       "997                            #error                   NaN  10454.0 -10454.0   \n",
       "998                            #error                   NaN   1000.0  -1000.0   \n",
       "999                            #error                   NaN  10754.0 -10754.0   \n",
       "\n",
       "         net  \n",
       "0        0.0  \n",
       "1        0.0  \n",
       "2        0.0  \n",
       "3        0.0  \n",
       "4        0.0  \n",
       "..       ...  \n",
       "995 -19508.0  \n",
       "996  19211.0  \n",
       "997 -20908.0  \n",
       "998  -2000.0  \n",
       "999 -21508.0  \n",
       "\n",
       "[1000 rows x 5 columns]"
      ]
     },
     "execution_count": 137,
     "metadata": {},
     "output_type": "execute_result"
    }
   ],
   "source": [
    "log['net'] = log[\"win\"] - log[\"bet\"] # здесь должен быть код, создающий новый признак  \n",
    "log"
   ]
  },
  {
   "cell_type": "code",
   "execution_count": 138,
   "metadata": {},
   "outputs": [
    {
     "data": {
      "text/plain": [
       "138"
      ]
     },
     "execution_count": 138,
     "metadata": {},
     "output_type": "execute_result"
    }
   ],
   "source": [
    "\"\"\"У какого количества людей выигрыш положительный? Для ответа на вопрос создайте признак \n",
    "net, хранящий сумму выигрыша с учётом ставки.\"\"\"\n",
    "\n",
    "log[log[\"net\"] > 0][\"user_id\"].count()"
   ]
  },
  {
   "cell_type": "code",
   "execution_count": 139,
   "metadata": {},
   "outputs": [
    {
     "data": {
      "text/plain": [
       "80253.33333333333"
      ]
     },
     "execution_count": 139,
     "metadata": {},
     "output_type": "execute_result"
    }
   ],
   "source": [
    "\"\"\"Каково среднее значение выигрыша (из столбца net) в тех случаях, когда выигрыш больше 0?\n",
    "Введите ответ, не округляя, но отбросив дробную часть.\"\"\"\n",
    "\n",
    "log[log[\"net\"] > 0][\"net\"].mean()\n"
   ]
  },
  {
   "cell_type": "code",
   "execution_count": 141,
   "metadata": {},
   "outputs": [
    {
     "data": {
      "text/plain": [
       "5347.0"
      ]
     },
     "execution_count": 141,
     "metadata": {},
     "output_type": "execute_result"
    }
   ],
   "source": [
    "\"\"\"Каково медианное значение выигрыша (из столбца net) в тех случаях, когда выигрыш больше 0?\"\"\"\n",
    "\n",
    "log[log[\"net\"] > 0][\"net\"].median()"
   ]
  },
  {
   "cell_type": "code",
   "execution_count": 146,
   "metadata": {},
   "outputs": [
    {
     "data": {
      "text/plain": [
       "6785.738144329897"
      ]
     },
     "execution_count": 146,
     "metadata": {},
     "output_type": "execute_result"
    }
   ],
   "source": [
    "\"\"\"Как можно посчитать среднее значение для столбца bet, не учитывая при подсчёте пропуски?\n",
    "4 варианта:\"\"\"\n",
    "\n",
    "log.bet.mean()\n",
    "log.bet.sum() / log.bet.dropna().shape[0]\n",
    "np.mean(log.bet)\n",
    "log['bet'].dropna().mean()\n"
   ]
  },
  {
   "cell_type": "code",
   "execution_count": 155,
   "metadata": {},
   "outputs": [],
   "source": [
    "\"\"\"Выполните следующие действия:\n",
    "   Замените пропущенные значения в столбцах bet и win таблицы log.csv на 0.\n",
    "   Создайте столбец net, хранящий сумму выигрыша с учётом ставки (для этого из столбца \n",
    "win поэлементно вычтите столбец bet и запишите в новый столбец).\n",
    "   Посчитайте, какой процент посещений букмекерской конторы оборачивался ставкой. Для этого\n",
    "   поделите количество ставок (значений больше 0) на общее количество посещений конторы.\"\"\"\n",
    "   \n",
    "log = pd.read_csv('data\\log.csv', header = None) # чтение файла\n",
    "log.columns = [\"user_id\", \"time\", \"bet\", \"win\"] # переименование столбцов   \n",
    "log[\"bet\"] = log[\"bet\"].fillna(0) # замена пропусков\n",
    "log[\"win\"] = log[\"win\"].fillna(0) # замена пропусков\n",
    "log['net'] = log[\"win\"] - log[\"bet\"]"
   ]
  },
  {
   "cell_type": "code",
   "execution_count": null,
   "metadata": {},
   "outputs": [],
   "source": [
    "log = pd.read_csv('data\\log.csv', header = None) # чтение файла\n",
    "log.columns = [\"user_id\", \"time\", \"bet\", \"win\"] # переименование столбцов"
   ]
  },
  {
   "cell_type": "code",
   "execution_count": 157,
   "metadata": {},
   "outputs": [
    {
     "data": {
      "text/plain": [
       "48.5"
      ]
     },
     "execution_count": 157,
     "metadata": {},
     "output_type": "execute_result"
    }
   ],
   "source": [
    "\"\"\"Посчитайте, какой процент посещений букмекерской конторы оборачивался ставкой. \n",
    "Для этого поделите количество ставок (значений больше 0) на общее количество посещений \n",
    "конторы.\"\"\"\n",
    "\n",
    "log[log[\"bet\"] > 0][\"user_id\"].count() / log[\"user_id\"].count() * 100"
   ]
  },
  {
   "cell_type": "code",
   "execution_count": 158,
   "metadata": {},
   "outputs": [
    {
     "data": {
      "text/plain": [
       "6785.738144329897"
      ]
     },
     "execution_count": 158,
     "metadata": {},
     "output_type": "execute_result"
    }
   ],
   "source": [
    "\"\"\"Каково среднее значение ставки (из столбца bet) в тех случаях, когда ставка была сделана?\"\"\"\n",
    "\n",
    "log[log[\"bet\"] > 0][\"bet\"].mean()"
   ]
  },
  {
   "cell_type": "code",
   "execution_count": 161,
   "metadata": {},
   "outputs": [
    {
     "data": {
      "text/plain": [
       "20421.892783505155"
      ]
     },
     "execution_count": 161,
     "metadata": {},
     "output_type": "execute_result"
    }
   ],
   "source": [
    "\"\"\"Каков средний выигрыш (из столбца net) в тех случаях, когда ставка была сделана?\n",
    "Выигрышем будем считать любое изменение количества денег, в том числе отрицательное \n",
    "(в таком случае это проигрыш).\"\"\"\n",
    "\n",
    "log[(log[\"bet\"] > 0) & (log[\"net\"] != 0)][\"net\"].mean()"
   ]
  },
  {
   "cell_type": "code",
   "execution_count": 167,
   "metadata": {},
   "outputs": [
    {
     "data": {
      "text/plain": [
       "-3372.743515850144"
      ]
     },
     "execution_count": 167,
     "metadata": {},
     "output_type": "execute_result"
    }
   ],
   "source": [
    "\"\"\"Каков средний размер потерь при проигрыше (из столбца net)?\"\"\"\n",
    "\n",
    "log[log[\"net\"] < 0][\"net\"].mean()"
   ]
  },
  {
   "cell_type": "code",
   "execution_count": 166,
   "metadata": {},
   "outputs": [
    {
     "name": "stdout",
     "output_type": "stream",
     "text": [
      "35 14\n"
     ]
    }
   ],
   "source": [
    "\"\"\"Чем чаще всего заканчивается ставка — выигрышем или проигрышем?\"\"\"\n",
    "\n",
    "a = round(log[log[\"net\"] < 0][\"net\"].count()/log[\"user_id\"].count() * 100)\n",
    "b = round(log[log[\"net\"] > 0][\"net\"].count()/log[\"user_id\"].count() * 100)\n",
    "print(a,b)"
   ]
  },
  {
   "cell_type": "code",
   "execution_count": 171,
   "metadata": {},
   "outputs": [
    {
     "data": {
      "text/plain": [
       "numpy.int32"
      ]
     },
     "execution_count": 171,
     "metadata": {},
     "output_type": "execute_result"
    }
   ],
   "source": [
    "\"\"\"Напишите код, который узнает, чему была равна минимальная ставка и сколько людей сделали такую ставку. Для этого:\n",
    "    1. Загрузите датасет log.csv.\n",
    "    2. Посчитайте, чему равна минимальная ставка.\n",
    "    3. Посчитайте, сколько раз была сделана минимальная ставка и запишите результат в \n",
    "    переменную min_bet_amount в виде целого числа.\"\"\"\n",
    "    \n",
    "log = pd.read_csv('data\\log.csv', header = None) # чтение файла\n",
    "log.columns = [\"user_id\", \"time\", \"bet\", \"win\"] # переименование столбцов    \n",
    "min_bet = log[\"bet\"].min()\n",
    "min_bet_amount = log[log[\"bet\"] == min_bet][\"user_id\"].count() \n",
    "min_bet_amount"
   ]
  },
  {
   "cell_type": "markdown",
   "metadata": {},
   "source": [
    "## 40.9 Объединяем датасеты"
   ]
  },
  {
   "cell_type": "code",
   "execution_count": 205,
   "metadata": {},
   "outputs": [],
   "source": [
    "\"\"\"Повторим часть предобработки, которую мы должны были сделать ранее:\"\"\"\n",
    "\n",
    "log = pd.read_csv('data\\log.csv', header = None) # чтение файла\n",
    "log.columns = [\"user_id\", \"time\", \"bet\", \"win\"] # переименование столбцов   \n",
    "# Приведём признак user_id к одному формату в обоих датасетах\n",
    "users.user_id = users.user_id.apply(lambda x: x.lower())\n",
    "# Избавимся от ошибок в user_id\n",
    "log = log[log.user_id != \"#error\"]\n",
    "log.user_id = log.user_id.str.split(\" - \").apply(lambda x: x[1])"
   ]
  },
  {
   "cell_type": "code",
   "execution_count": 206,
   "metadata": {},
   "outputs": [],
   "source": [
    "\"\"\"Теперь объединим данные с помощью метода pd.merge():\"\"\"\n",
    "\n",
    "merged = pd.merge(log, users, on='user_id')  "
   ]
  },
  {
   "cell_type": "code",
   "execution_count": 207,
   "metadata": {},
   "outputs": [
    {
     "data": {
      "text/plain": [
       "5951.75"
      ]
     },
     "execution_count": 207,
     "metadata": {},
     "output_type": "execute_result"
    }
   ],
   "source": [
    "\"\"\"В данном случае мы группируем данные по признаку user_id.\n",
    "   После этого в каждой группе выбираем признак win.\n",
    "   Затем берём медиану по каждой группе по признаку win и на выходе получаем таблицу, \n",
    "где индексом является признак user_id. В этой таблице единственный столбец — медиана по \n",
    "каждой группе (то есть по каждому пользователю).\n",
    "   Наконец, последний вызов median() даёт нам медиану по предыдущему столбцу, то есть \n",
    "возвращает одно число.\"\"\"\n",
    "\n",
    "merged.groupby('user_id').win.median().median() "
   ]
  },
  {
   "cell_type": "markdown",
   "metadata": {},
   "source": [
    "## 40.10 Анализ данных"
   ]
  },
  {
   "cell_type": "code",
   "execution_count": 251,
   "metadata": {},
   "outputs": [],
   "source": [
    "log = pd.read_csv('data\\log.csv', header = None) # чтение файла\n",
    "log.columns = [\"user_id\", \"time\", \"bet\", \"win\"] # переименование столбцов   \n",
    "log[\"bet\"] = log[\"bet\"].fillna(0) # замена пропусков\n",
    "log[\"win\"] = log[\"win\"].fillna(0) # замена пропусков\n",
    "log['net'] = log[\"win\"] - log[\"bet\"]\n",
    "users.user_id = users.user_id.apply(lambda x: x.lower()) # Приведём признак user_id к одному формату в обоих датасетах\n",
    "log = log[log.user_id != \"#error\"] # Избавимся от ошибок в user_id\n",
    "log.user_id = log.user_id.str.split(\" - \").apply(lambda x: x[1])\n",
    "log['time'] = log['time'].apply(lambda x: x[1:]) # убираем лишний символ\n",
    "log['time'] = pd.to_datetime(log['time'])  # преобразуем в формат даты\n",
    "merged = pd.merge(log, users, on='user_id')  "
   ]
  },
  {
   "cell_type": "code",
   "execution_count": 215,
   "metadata": {},
   "outputs": [
    {
     "data": {
      "text/plain": [
       "1986.0"
      ]
     },
     "execution_count": 215,
     "metadata": {},
     "output_type": "execute_result"
    }
   ],
   "source": [
    "\"\"\"Какова медиана баланса по каждому пользователю?\"\"\"\n",
    "\n",
    "merged.groupby('user_id').net.sum().median()"
   ]
  },
  {
   "cell_type": "code",
   "execution_count": 216,
   "metadata": {},
   "outputs": [
    {
     "data": {
      "text/plain": [
       "5.05"
      ]
     },
     "execution_count": 216,
     "metadata": {},
     "output_type": "execute_result"
    }
   ],
   "source": [
    "\"\"\"Сколько раз в среднем каждый человек приходит, не делая ставок, при условии, что у этого \n",
    "человека все-таки есть хотя бы одна ставка?\n",
    "Просуммируйте в каждой группе количество записей со ставкой, равной 0, и поделите на \n",
    "общее количество групп. Если при этом в группе нет записей со ставкой больше 0, считаем \n",
    "количество записей в данной группе равным 0.\"\"\"\n",
    "\n",
    "merged[merged.bet == 0].user_id.count() / merged.user_id.nunique()"
   ]
  },
  {
   "cell_type": "code",
   "execution_count": 217,
   "metadata": {},
   "outputs": [
    {
     "data": {
      "text/html": [
       "<div>\n",
       "<style scoped>\n",
       "    .dataframe tbody tr th:only-of-type {\n",
       "        vertical-align: middle;\n",
       "    }\n",
       "\n",
       "    .dataframe tbody tr th {\n",
       "        vertical-align: top;\n",
       "    }\n",
       "\n",
       "    .dataframe thead th {\n",
       "        text-align: right;\n",
       "    }\n",
       "</style>\n",
       "<table border=\"1\" class=\"dataframe\">\n",
       "  <thead>\n",
       "    <tr style=\"text-align: right;\">\n",
       "      <th></th>\n",
       "      <th>user_id</th>\n",
       "      <th>time</th>\n",
       "      <th>bet</th>\n",
       "      <th>win</th>\n",
       "      <th>net</th>\n",
       "      <th>email</th>\n",
       "      <th>geo</th>\n",
       "    </tr>\n",
       "  </thead>\n",
       "  <tbody>\n",
       "    <tr>\n",
       "      <th>0</th>\n",
       "      <td>user_919</td>\n",
       "      <td>2019-01-01 14:06:51</td>\n",
       "      <td>0.0</td>\n",
       "      <td>0.0</td>\n",
       "      <td>0.0</td>\n",
       "      <td>Chikkaverle@icloud.com</td>\n",
       "      <td>Хабаровск</td>\n",
       "    </tr>\n",
       "    <tr>\n",
       "      <th>1</th>\n",
       "      <td>user_919</td>\n",
       "      <td>2019-01-30 10:06:00</td>\n",
       "      <td>0.0</td>\n",
       "      <td>0.0</td>\n",
       "      <td>0.0</td>\n",
       "      <td>Chikkaverle@icloud.com</td>\n",
       "      <td>Хабаровск</td>\n",
       "    </tr>\n",
       "    <tr>\n",
       "      <th>2</th>\n",
       "      <td>user_919</td>\n",
       "      <td>2019-02-05 14:33:44</td>\n",
       "      <td>0.0</td>\n",
       "      <td>0.0</td>\n",
       "      <td>0.0</td>\n",
       "      <td>Chikkaverle@icloud.com</td>\n",
       "      <td>Хабаровск</td>\n",
       "    </tr>\n",
       "    <tr>\n",
       "      <th>3</th>\n",
       "      <td>user_919</td>\n",
       "      <td>2019-02-14 11:38:05</td>\n",
       "      <td>0.0</td>\n",
       "      <td>0.0</td>\n",
       "      <td>0.0</td>\n",
       "      <td>Chikkaverle@icloud.com</td>\n",
       "      <td>Хабаровск</td>\n",
       "    </tr>\n",
       "    <tr>\n",
       "      <th>4</th>\n",
       "      <td>user_919</td>\n",
       "      <td>2019-03-02 04:23:36</td>\n",
       "      <td>300.0</td>\n",
       "      <td>0.0</td>\n",
       "      <td>-300.0</td>\n",
       "      <td>Chikkaverle@icloud.com</td>\n",
       "      <td>Хабаровск</td>\n",
       "    </tr>\n",
       "    <tr>\n",
       "      <th>...</th>\n",
       "      <td>...</td>\n",
       "      <td>...</td>\n",
       "      <td>...</td>\n",
       "      <td>...</td>\n",
       "      <td>...</td>\n",
       "      <td>...</td>\n",
       "      <td>...</td>\n",
       "    </tr>\n",
       "    <tr>\n",
       "      <th>970</th>\n",
       "      <td>user_932</td>\n",
       "      <td>2019-02-24 22:40:06</td>\n",
       "      <td>0.0</td>\n",
       "      <td>0.0</td>\n",
       "      <td>0.0</td>\n",
       "      <td>BraceWalker@bk.ru</td>\n",
       "      <td>Красноярск</td>\n",
       "    </tr>\n",
       "    <tr>\n",
       "      <th>971</th>\n",
       "      <td>user_932</td>\n",
       "      <td>2019-03-15 10:56:14</td>\n",
       "      <td>0.0</td>\n",
       "      <td>0.0</td>\n",
       "      <td>0.0</td>\n",
       "      <td>BraceWalker@bk.ru</td>\n",
       "      <td>Красноярск</td>\n",
       "    </tr>\n",
       "    <tr>\n",
       "      <th>972</th>\n",
       "      <td>user_932</td>\n",
       "      <td>2019-03-18 10:13:24</td>\n",
       "      <td>0.0</td>\n",
       "      <td>0.0</td>\n",
       "      <td>0.0</td>\n",
       "      <td>BraceWalker@bk.ru</td>\n",
       "      <td>Красноярск</td>\n",
       "    </tr>\n",
       "    <tr>\n",
       "      <th>973</th>\n",
       "      <td>user_932</td>\n",
       "      <td>2019-03-27 12:18:24</td>\n",
       "      <td>0.0</td>\n",
       "      <td>0.0</td>\n",
       "      <td>0.0</td>\n",
       "      <td>BraceWalker@bk.ru</td>\n",
       "      <td>Красноярск</td>\n",
       "    </tr>\n",
       "    <tr>\n",
       "      <th>974</th>\n",
       "      <td>user_932</td>\n",
       "      <td>2019-04-18 14:55:26</td>\n",
       "      <td>700.0</td>\n",
       "      <td>6640.0</td>\n",
       "      <td>5940.0</td>\n",
       "      <td>BraceWalker@bk.ru</td>\n",
       "      <td>Красноярск</td>\n",
       "    </tr>\n",
       "  </tbody>\n",
       "</table>\n",
       "<p>975 rows × 7 columns</p>\n",
       "</div>"
      ],
      "text/plain": [
       "      user_id                time    bet     win     net  \\\n",
       "0    user_919 2019-01-01 14:06:51    0.0     0.0     0.0   \n",
       "1    user_919 2019-01-30 10:06:00    0.0     0.0     0.0   \n",
       "2    user_919 2019-02-05 14:33:44    0.0     0.0     0.0   \n",
       "3    user_919 2019-02-14 11:38:05    0.0     0.0     0.0   \n",
       "4    user_919 2019-03-02 04:23:36  300.0     0.0  -300.0   \n",
       "..        ...                 ...    ...     ...     ...   \n",
       "970  user_932 2019-02-24 22:40:06    0.0     0.0     0.0   \n",
       "971  user_932 2019-03-15 10:56:14    0.0     0.0     0.0   \n",
       "972  user_932 2019-03-18 10:13:24    0.0     0.0     0.0   \n",
       "973  user_932 2019-03-27 12:18:24    0.0     0.0     0.0   \n",
       "974  user_932 2019-04-18 14:55:26  700.0  6640.0  5940.0   \n",
       "\n",
       "                      email         geo  \n",
       "0    Chikkaverle@icloud.com   Хабаровск  \n",
       "1    Chikkaverle@icloud.com   Хабаровск  \n",
       "2    Chikkaverle@icloud.com   Хабаровск  \n",
       "3    Chikkaverle@icloud.com   Хабаровск  \n",
       "4    Chikkaverle@icloud.com   Хабаровск  \n",
       "..                      ...         ...  \n",
       "970       BraceWalker@bk.ru  Красноярск  \n",
       "971       BraceWalker@bk.ru  Красноярск  \n",
       "972       BraceWalker@bk.ru  Красноярск  \n",
       "973       BraceWalker@bk.ru  Красноярск  \n",
       "974       BraceWalker@bk.ru  Красноярск  \n",
       "\n",
       "[975 rows x 7 columns]"
      ]
     },
     "execution_count": 217,
     "metadata": {},
     "output_type": "execute_result"
    }
   ],
   "source": [
    "merged"
   ]
  },
  {
   "cell_type": "code",
   "execution_count": 244,
   "metadata": {},
   "outputs": [
    {
     "data": {
      "text/plain": [
       "Timedelta('49 days 13:01:38.873684210')"
      ]
     },
     "execution_count": 244,
     "metadata": {},
     "output_type": "execute_result"
    }
   ],
   "source": [
    "\"\"\"Сколько времени в среднем проходит между появлением человека в сервисе и первой ставкой? \n",
    "Считать нужно только тех, кто делал ставку и у кого в файле зарегистрирован первый визит \n",
    "без ставки.\"\"\"\n",
    "\"\"\"Для ответа на вопрос напишите метод, считающий минимальное время среди ставок, равных 0, \n",
    "и минимальное время среди ставок больше 0. После этого верните разницу между вторым и первым\n",
    "числом. Пройдитесь по всем группам. Если в группе нет ставок больше 0, пропустите эту группу. \n",
    "Просуммируйте разницу во времени для каждой группы (с помощью метода, описанного выше) и поделите \n",
    "на количество групп, которые вы не пропустили.\"\"\"\n",
    "\n",
    "a = merged[merged.bet == 0].groupby('user_id').time.min()\n",
    "b = merged[merged.bet > 0].groupby('user_id').time.min()\n",
    "c = pd.merge(a, b, on='user_id')  \n",
    "c['day'] = c['time_y'] - c['time_x']\n",
    "c['day'][c['day'] > pd.Timedelta(0)].mean()\n"
   ]
  },
  {
   "cell_type": "code",
   "execution_count": 250,
   "metadata": {},
   "outputs": [
    {
     "data": {
      "text/plain": [
       "geo\n",
       "Москва             11959741.0\n",
       "Воронеж              184338.0\n",
       "Санкт-Петербург      151007.0\n",
       "Казань                97806.0\n",
       "Ярославль             97441.0\n",
       "Ижевск                84895.0\n",
       "Красноярск            84767.0\n",
       "Арзангелтск           74375.0\n",
       "Пермь                 67734.0\n",
       "Хабаровск             65459.0\n",
       "Краснодар             62718.0\n",
       "Ставрополь            46003.0\n",
       "Екатеринбург          36682.0\n",
       "Тюмень                 4701.0\n",
       "Name: win, dtype: float64"
      ]
     },
     "execution_count": 250,
     "metadata": {},
     "output_type": "execute_result"
    }
   ],
   "source": [
    "\"\"\"Наибольший суммарный выигрыш среди всех городов имеет Москва. Определите, какой город \n",
    "следует за ней.\"\"\"\n",
    "\n",
    "merged.groupby('geo').win.sum().sort_values(ascending=False)"
   ]
  },
  {
   "cell_type": "code",
   "execution_count": 257,
   "metadata": {},
   "outputs": [
    {
     "data": {
      "text/plain": [
       "127.81602335164835"
      ]
     },
     "execution_count": 257,
     "metadata": {},
     "output_type": "execute_result"
    }
   ],
   "source": [
    "\"\"\"Во сколько раз различаются максимальное и минимальное значения средней ставки по городам?\"\"\"\n",
    "a = merged[merged.bet > 0].groupby('geo').bet.mean().sort_values(ascending=False)\n",
    "a.max()/a.min()"
   ]
  },
  {
   "cell_type": "code",
   "execution_count": 271,
   "metadata": {},
   "outputs": [
    {
     "data": {
      "text/plain": [
       "geo\n",
       "Арзангелтск         96\n",
       "Воронеж             88\n",
       "Екатеринбург        49\n",
       "Ижевск              61\n",
       "Казань              66\n",
       "Краснодар           86\n",
       "Красноярск          56\n",
       "Москва              61\n",
       "Пермь               55\n",
       "Санкт-Петербург    115\n",
       "Ставрополь          36\n",
       "Тюмень              32\n",
       "Хабаровск           60\n",
       "Ярославль           89\n",
       "Name: user_id, dtype: int64"
      ]
     },
     "execution_count": 271,
     "metadata": {},
     "output_type": "execute_result"
    }
   ],
   "source": [
    "\"\"\"Напишите код, который посчитает, сколько раз пользователи приходили в букмекерскую контору в каждом городе. Для этого:\n",
    "    1. Загрузите датасеты log.csv и users.csv.\n",
    "    2. Удалите значения из user_id с ошибкой (#error) и приведите признак user_id к \n",
    "одному виду в обоих датасетах.\n",
    "    3. Слейте два датасета в один по признаку user_id.\n",
    "    4. Сгруппируйте данные по правильному признаку (его вам нужно определить самостоятельно), \n",
    "затем выберите user_id и воспользуйтесь функцией count() для подсчёта наблюдений в каждой группе.\n",
    "    5. Результат (таблицу) запишите в sample2.\"\"\"\n",
    "    \n",
    "log = pd.read_csv('data\\log.csv', header = None) # чтение файла\n",
    "log.columns = [\"user_id\", \"time\", \"bet\", \"win\"] # переименование столбцов  \n",
    "users = pd.read_csv('C:\\\\Users\\\\Sergey\\\\Desktop\\\\Python\\\\__pycache__\\\\modul_35\\\\data\\\\users.csv', sep=\"\\t\", encoding=\"koi8_r\") \n",
    "users.columns  = ['user_id','email','geo'] # переименование столбцов\n",
    "users.user_id = users.user_id.apply(lambda x: x.lower()) # Приведём признак user_id к одному формату в обоих датасетах\n",
    "log = log[log.user_id != \"#error\"] # Избавимся от ошибок в user_id\n",
    "log.user_id = log.user_id.str.split(\" - \").apply(lambda x: x[1])\n",
    "log['time'] = log['time'].apply(lambda x: x[1:]) # убираем лишний символ\n",
    "log['time'] = pd.to_datetime(log['time'])  # преобразуем в формат даты\n",
    "merged = pd.merge(log, users, on='user_id')  \n",
    "sample2 = merged.groupby(['geo']).user_id.count()\n",
    "sample2\n",
    "\n",
    "    "
   ]
  },
  {
   "cell_type": "markdown",
   "metadata": {},
   "source": [
    "#### ВЫВОД:\n",
    "Реже всего люди заходят в букмекерскую контору вечером.\n",
    "\n",
    "Почти в половине случаев люди приходили, но не делали ставок.\n",
    "\n",
    "А те, кто делали ставки, проиграли больше чем в двух третях случаев.\n",
    "\n",
    "Средняя ставка и средний проигрыш примерно равны по абсолютному значению.\n",
    "\n",
    "Между первым приходом человека и первой ставкой может пройти довольно много времени. И за это время человек может зайти в контору ещё несколько раз, не делая ставок.\n",
    "\n",
    "Забавный факт: второй по величине город России и второй по суммарному выигрышу на ставках город России — разные города.\n",
    "\n",
    "И самое важное: мы поняли, что вы скорее проиграете, чем выиграете, поэтому лучше инвестировать в знания, а не ставки."
   ]
  },
  {
   "cell_type": "markdown",
   "metadata": {},
   "source": [
    "#### ВЫВОД ПО МОДУЛЮ:\n",
    "\n",
    "работать с пропущенными значениями и дублями;\n",
    "\n",
    "работать со временем: приводить строковые значения ко встроенному в Pandas типу времени, извлекать признаки из даты (порой нетривиальные);\n",
    "\n",
    "анализировать табличные данные с целью поиска инсайтов, использовать для этого стандартные функции Pandas;\n",
    "\n",
    "группировать данные и использовать вычисление статистик по группам для нахождения более глубокой информации в данных."
   ]
  }
 ],
 "metadata": {
  "interpreter": {
   "hash": "bc9092704b76bcd3825fbb7a05cb662b50152522ace34f313990aca7aedee1c7"
  },
  "kernelspec": {
   "display_name": "Python 3.8.8 64-bit ('base': conda)",
   "language": "python",
   "name": "python3"
  },
  "language_info": {
   "codemirror_mode": {
    "name": "ipython",
    "version": 3
   },
   "file_extension": ".py",
   "mimetype": "text/x-python",
   "name": "python",
   "nbconvert_exporter": "python",
   "pygments_lexer": "ipython3",
   "version": "3.8.8"
  },
  "orig_nbformat": 4
 },
 "nbformat": 4,
 "nbformat_minor": 2
}
