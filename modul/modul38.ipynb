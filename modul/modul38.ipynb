{
 "cells": [
  {
   "cell_type": "markdown",
   "metadata": {},
   "source": [
    "# GD-3. Исследование поведения пользователей "
   ]
  },
  {
   "cell_type": "markdown",
   "metadata": {},
   "source": [
    "1. Рассмотрим, какие бывают паттерны поведения у пользователей.\n",
    "2. Выясним, как эти паттерны влияют на конверсию в оплату и сумму покупок.\n",
    "3. Продолжим развивать навыки работы с Python для решения аналитических задач.\n",
    "4. Самостоятельно проверим две гипотезы и оценим работу коллег."
   ]
  },
  {
   "cell_type": "markdown",
   "metadata": {},
   "source": [
    "## 38.1 THEORY. Анализ функциональности"
   ]
  },
  {
   "cell_type": "markdown",
   "metadata": {},
   "source": [
    "Фича (от англ. feature, «особенность») — некая «полезность» продукта, которая отличает его от других продуктов этой же категории.\n",
    "\n",
    "Функциональность — любая возможность или функция, которую предоставляет продукт."
   ]
  },
  {
   "cell_type": "markdown",
   "metadata": {},
   "source": [
    "## 38.2 SETTING. Ваши задачи"
   ]
  },
  {
   "cell_type": "markdown",
   "metadata": {},
   "source": [
    "#### ЦЕЛЬ\n",
    "Исследовать поведение пользователей в обновлённом приложении.\n",
    "\n"
   ]
  },
  {
   "cell_type": "markdown",
   "metadata": {},
   "source": [
    "#### ЗАДАЧИ\n",
    "1. Понять, как пользователи взаимодействуют с продуктом, и соотнести идеальный путь пользователей с фактическим.\n",
    "2. Выявить этапы, которые занимают больше всего времени, с тем чтобы поработать над их улучшением.\n",
    "3. Проанализировать зависимость оплат от прохождения обучения."
   ]
  },
  {
   "cell_type": "markdown",
   "metadata": {},
   "source": [
    "#### КОНКРЕТНЫЕ ШАГИ (ФОРМАЛИЗОВАННЫЕ ЗАДАЧИ)\n",
    "1. Определить самые распространённые пути прохождения (последовательности) этапов в приложении.\n",
    "2. Посмотреть на среднее время между различными этапами и выделить самые большие временные промежутки.\n",
    "3. Определить, существует ли различие в частоте и средней величине оплат между тремя группами пользователей:\n",
    "\n",
    "    a) пользователями, которые прошли обучение хотя бы раз;\n",
    "\n",
    "    b) пользователями, которые начали обучение, но не прошли его ни разу;\n",
    "\n",
    "    c) пользователями, которые не начинали обучение, а сразу же перешли к выбору уровня сложности."
   ]
  },
  {
   "cell_type": "markdown",
   "metadata": {},
   "source": [
    "## 38.3 SETTING. Знакомство с данными"
   ]
  },
  {
   "cell_type": "code",
   "execution_count": 21,
   "metadata": {},
   "outputs": [],
   "source": [
    "import pandas as pd"
   ]
  },
  {
   "cell_type": "markdown",
   "metadata": {},
   "source": [
    "### Таблица Event\n",
    "Хранит данные о событиях, которые совершают пользователи. По сути, каждое событие — это факт прохождения пользователем какого-либо этапа игры."
   ]
  },
  {
   "cell_type": "markdown",
   "metadata": {},
   "source": [
    "id\tидентификатор события\n",
    "\n",
    "user_id\tуникальный идентификатор пользователя, совершившего событие в приложении\n",
    "\n",
    "start_time\tдата и время события\n",
    "\n",
    "event_type\tтип события (значения: registration — регистрация; tutorial_start — начало обучения; tutorial_finish — завершение обучения; level_choice — выбор уровня сложности; pack_choice — выбор пакетов вопросов)\n",
    "\n",
    "tutorial_id\tидентификатор обучения (этот идентификатор есть только у событий обучения)\n",
    "\n",
    "selected_level\tвыбранный уровень сложности обучения\n"
   ]
  },
  {
   "cell_type": "code",
   "execution_count": 44,
   "metadata": {},
   "outputs": [
    {
     "data": {
      "text/html": [
       "<div>\n",
       "<style scoped>\n",
       "    .dataframe tbody tr th:only-of-type {\n",
       "        vertical-align: middle;\n",
       "    }\n",
       "\n",
       "    .dataframe tbody tr th {\n",
       "        vertical-align: top;\n",
       "    }\n",
       "\n",
       "    .dataframe thead th {\n",
       "        text-align: right;\n",
       "    }\n",
       "</style>\n",
       "<table border=\"1\" class=\"dataframe\">\n",
       "  <thead>\n",
       "    <tr style=\"text-align: right;\">\n",
       "      <th></th>\n",
       "      <th>id</th>\n",
       "      <th>event_type</th>\n",
       "      <th>selected_level</th>\n",
       "      <th>start_time</th>\n",
       "      <th>tutorial_id</th>\n",
       "      <th>user_id</th>\n",
       "    </tr>\n",
       "  </thead>\n",
       "  <tbody>\n",
       "    <tr>\n",
       "      <th>0</th>\n",
       "      <td>28903</td>\n",
       "      <td>registration</td>\n",
       "      <td>NaN</td>\n",
       "      <td>2016-05-11T23:40:55</td>\n",
       "      <td>NaN</td>\n",
       "      <td>12583</td>\n",
       "    </tr>\n",
       "    <tr>\n",
       "      <th>1</th>\n",
       "      <td>28904</td>\n",
       "      <td>registration</td>\n",
       "      <td>NaN</td>\n",
       "      <td>2016-05-11T23:49:58</td>\n",
       "      <td>NaN</td>\n",
       "      <td>12584</td>\n",
       "    </tr>\n",
       "    <tr>\n",
       "      <th>2</th>\n",
       "      <td>28905</td>\n",
       "      <td>registration</td>\n",
       "      <td>NaN</td>\n",
       "      <td>2016-05-12T00:53:07</td>\n",
       "      <td>NaN</td>\n",
       "      <td>12585</td>\n",
       "    </tr>\n",
       "    <tr>\n",
       "      <th>3</th>\n",
       "      <td>28906</td>\n",
       "      <td>tutorial_start</td>\n",
       "      <td>NaN</td>\n",
       "      <td>2016-05-12T01:32:20</td>\n",
       "      <td>17562.0</td>\n",
       "      <td>12585</td>\n",
       "    </tr>\n",
       "    <tr>\n",
       "      <th>4</th>\n",
       "      <td>28907</td>\n",
       "      <td>tutorial_finish</td>\n",
       "      <td>NaN</td>\n",
       "      <td>2016-05-12T01:34:53</td>\n",
       "      <td>17562.0</td>\n",
       "      <td>12585</td>\n",
       "    </tr>\n",
       "  </tbody>\n",
       "</table>\n",
       "</div>"
      ],
      "text/plain": [
       "      id       event_type selected_level           start_time  tutorial_id  \\\n",
       "0  28903     registration            NaN  2016-05-11T23:40:55          NaN   \n",
       "1  28904     registration            NaN  2016-05-11T23:49:58          NaN   \n",
       "2  28905     registration            NaN  2016-05-12T00:53:07          NaN   \n",
       "3  28906   tutorial_start            NaN  2016-05-12T01:32:20      17562.0   \n",
       "4  28907  tutorial_finish            NaN  2016-05-12T01:34:53      17562.0   \n",
       "\n",
       "   user_id  \n",
       "0    12583  \n",
       "1    12584  \n",
       "2    12585  \n",
       "3    12585  \n",
       "4    12585  "
      ]
     },
     "execution_count": 44,
     "metadata": {},
     "output_type": "execute_result"
    }
   ],
   "source": [
    "event = pd.read_csv('data/7_4_Events.csv')\n",
    "event.head()"
   ]
  },
  {
   "cell_type": "code",
   "execution_count": 45,
   "metadata": {},
   "outputs": [
    {
     "name": "stdout",
     "output_type": "stream",
     "text": [
      "<class 'pandas.core.frame.DataFrame'>\n",
      "Int64Index: 66959 entries, 51405 to 118364\n",
      "Data columns (total 6 columns):\n",
      " #   Column          Non-Null Count  Dtype         \n",
      "---  ------          --------------  -----         \n",
      " 0   id              66959 non-null  int64         \n",
      " 1   event_type      66959 non-null  object        \n",
      " 2   selected_level  8342 non-null   object        \n",
      " 3   start_time      66959 non-null  datetime64[ns]\n",
      " 4   tutorial_id     32954 non-null  float64       \n",
      " 5   user_id         66959 non-null  int64         \n",
      "dtypes: datetime64[ns](1), float64(1), int64(2), object(2)\n",
      "memory usage: 3.6+ MB\n"
     ]
    },
    {
     "name": "stderr",
     "output_type": "stream",
     "text": [
      "<ipython-input-45-3c377d7b8a26>:8: SettingWithCopyWarning: \n",
      "A value is trying to be set on a copy of a slice from a DataFrame.\n",
      "Try using .loc[row_indexer,col_indexer] = value instead\n",
      "\n",
      "See the caveats in the documentation: https://pandas.pydata.org/pandas-docs/stable/user_guide/indexing.html#returning-a-view-versus-a-copy\n",
      "  events_df['start_time'] = pd.to_datetime(events_df['start_time'])\n"
     ]
    }
   ],
   "source": [
    "# условие регестрации в 2018\n",
    "mask = (event['start_time']>='2018-01-01') & (event['start_time']<'2019-01-01') & (event['event_type']=='registration')\n",
    "# список пользователей, зарег. в 2018\n",
    "registered = event[mask]['user_id'].to_list()\n",
    "# новая таблица events. Метод isin фильтрация по списку значений\n",
    "events_df = event[event['user_id'].isin(registered)]\n",
    "# приведение даты к формату\n",
    "events_df['start_time'] = pd.to_datetime(events_df['start_time'])\n",
    "#просмотр результата\n",
    "events_df.info()\n"
   ]
  },
  {
   "cell_type": "markdown",
   "metadata": {},
   "source": [
    "#### Исследуем пропуски"
   ]
  },
  {
   "cell_type": "code",
   "execution_count": 46,
   "metadata": {},
   "outputs": [
    {
     "name": "stdout",
     "output_type": "stream",
     "text": [
      "<class 'pandas.core.frame.DataFrame'>\n",
      "Int64Index: 8342 entries, 51424 to 118363\n",
      "Data columns (total 6 columns):\n",
      " #   Column          Non-Null Count  Dtype         \n",
      "---  ------          --------------  -----         \n",
      " 0   id              8342 non-null   int64         \n",
      " 1   event_type      8342 non-null   object        \n",
      " 2   selected_level  8342 non-null   object        \n",
      " 3   start_time      8342 non-null   datetime64[ns]\n",
      " 4   tutorial_id     0 non-null      float64       \n",
      " 5   user_id         8342 non-null   int64         \n",
      "dtypes: datetime64[ns](1), float64(1), int64(2), object(2)\n",
      "memory usage: 456.2+ KB\n"
     ]
    }
   ],
   "source": [
    "# посмотрим на events_df, оставив в нём только такие строки, где event_type = level_choice.\n",
    "events_df[events_df['event_type'] == 'level_choice'].info()"
   ]
  },
  {
   "cell_type": "code",
   "execution_count": 47,
   "metadata": {},
   "outputs": [
    {
     "name": "stdout",
     "output_type": "stream",
     "text": [
      "<class 'pandas.core.frame.DataFrame'>\n",
      "Int64Index: 32954 entries, 51412 to 118360\n",
      "Data columns (total 6 columns):\n",
      " #   Column          Non-Null Count  Dtype         \n",
      "---  ------          --------------  -----         \n",
      " 0   id              32954 non-null  int64         \n",
      " 1   event_type      32954 non-null  object        \n",
      " 2   selected_level  0 non-null      object        \n",
      " 3   start_time      32954 non-null  datetime64[ns]\n",
      " 4   tutorial_id     32954 non-null  float64       \n",
      " 5   user_id         32954 non-null  int64         \n",
      "dtypes: datetime64[ns](1), float64(1), int64(2), object(2)\n",
      "memory usage: 1.8+ MB\n"
     ]
    }
   ],
   "source": [
    "# Теперь проверим аналогичные данные, но при условии, что срез будет содержать данные\n",
    "# о событиях tutorial_start и tutorial_finish.\n",
    "events_df[events_df['event_type'].isin(['tutorial_start','tutorial_finish'])].info()"
   ]
  },
  {
   "cell_type": "markdown",
   "metadata": {},
   "source": [
    "#### Исследуем значения"
   ]
  },
  {
   "cell_type": "code",
   "execution_count": 48,
   "metadata": {},
   "outputs": [
    {
     "name": "stderr",
     "output_type": "stream",
     "text": [
      "<ipython-input-48-e8ecb979889f>:7: FutureWarning: Treating datetime data as categorical rather than numeric in `.describe` is deprecated and will be removed in a future version of pandas. Specify `datetime_is_numeric=True` to silence this warning and adopt the future behavior now.\n",
      "  events_df.describe(include='all')\n"
     ]
    },
    {
     "data": {
      "text/html": [
       "<div>\n",
       "<style scoped>\n",
       "    .dataframe tbody tr th:only-of-type {\n",
       "        vertical-align: middle;\n",
       "    }\n",
       "\n",
       "    .dataframe tbody tr th {\n",
       "        vertical-align: top;\n",
       "    }\n",
       "\n",
       "    .dataframe thead th {\n",
       "        text-align: right;\n",
       "    }\n",
       "</style>\n",
       "<table border=\"1\" class=\"dataframe\">\n",
       "  <thead>\n",
       "    <tr style=\"text-align: right;\">\n",
       "      <th></th>\n",
       "      <th>id</th>\n",
       "      <th>event_type</th>\n",
       "      <th>selected_level</th>\n",
       "      <th>start_time</th>\n",
       "      <th>tutorial_id</th>\n",
       "      <th>user_id</th>\n",
       "    </tr>\n",
       "  </thead>\n",
       "  <tbody>\n",
       "    <tr>\n",
       "      <th>count</th>\n",
       "      <td>66959.000000</td>\n",
       "      <td>66959</td>\n",
       "      <td>8342</td>\n",
       "      <td>66959</td>\n",
       "      <td>32954.000000</td>\n",
       "      <td>66959.000000</td>\n",
       "    </tr>\n",
       "    <tr>\n",
       "      <th>unique</th>\n",
       "      <td>NaN</td>\n",
       "      <td>5</td>\n",
       "      <td>3</td>\n",
       "      <td>66809</td>\n",
       "      <td>NaN</td>\n",
       "      <td>NaN</td>\n",
       "    </tr>\n",
       "    <tr>\n",
       "      <th>top</th>\n",
       "      <td>NaN</td>\n",
       "      <td>registration</td>\n",
       "      <td>medium</td>\n",
       "      <td>2018-03-13 09:37:43</td>\n",
       "      <td>NaN</td>\n",
       "      <td>NaN</td>\n",
       "    </tr>\n",
       "    <tr>\n",
       "      <th>freq</th>\n",
       "      <td>NaN</td>\n",
       "      <td>19926</td>\n",
       "      <td>4645</td>\n",
       "      <td>9</td>\n",
       "      <td>NaN</td>\n",
       "      <td>NaN</td>\n",
       "    </tr>\n",
       "    <tr>\n",
       "      <th>first</th>\n",
       "      <td>NaN</td>\n",
       "      <td>NaN</td>\n",
       "      <td>NaN</td>\n",
       "      <td>2018-01-01 03:48:40</td>\n",
       "      <td>NaN</td>\n",
       "      <td>NaN</td>\n",
       "    </tr>\n",
       "    <tr>\n",
       "      <th>last</th>\n",
       "      <td>NaN</td>\n",
       "      <td>NaN</td>\n",
       "      <td>NaN</td>\n",
       "      <td>2019-01-01 05:50:36</td>\n",
       "      <td>NaN</td>\n",
       "      <td>NaN</td>\n",
       "    </tr>\n",
       "    <tr>\n",
       "      <th>mean</th>\n",
       "      <td>113787.000045</td>\n",
       "      <td>NaN</td>\n",
       "      <td>NaN</td>\n",
       "      <td>NaN</td>\n",
       "      <td>40532.934393</td>\n",
       "      <td>37781.543362</td>\n",
       "    </tr>\n",
       "    <tr>\n",
       "      <th>std</th>\n",
       "      <td>19329.542752</td>\n",
       "      <td>NaN</td>\n",
       "      <td>NaN</td>\n",
       "      <td>NaN</td>\n",
       "      <td>5213.486632</td>\n",
       "      <td>5751.497904</td>\n",
       "    </tr>\n",
       "    <tr>\n",
       "      <th>min</th>\n",
       "      <td>80308.000000</td>\n",
       "      <td>NaN</td>\n",
       "      <td>NaN</td>\n",
       "      <td>NaN</td>\n",
       "      <td>31505.000000</td>\n",
       "      <td>27832.000000</td>\n",
       "    </tr>\n",
       "    <tr>\n",
       "      <th>25%</th>\n",
       "      <td>97047.500000</td>\n",
       "      <td>NaN</td>\n",
       "      <td>NaN</td>\n",
       "      <td>NaN</td>\n",
       "      <td>36008.250000</td>\n",
       "      <td>32849.000000</td>\n",
       "    </tr>\n",
       "    <tr>\n",
       "      <th>50%</th>\n",
       "      <td>113787.000000</td>\n",
       "      <td>NaN</td>\n",
       "      <td>NaN</td>\n",
       "      <td>NaN</td>\n",
       "      <td>40529.500000</td>\n",
       "      <td>37719.000000</td>\n",
       "    </tr>\n",
       "    <tr>\n",
       "      <th>75%</th>\n",
       "      <td>130526.500000</td>\n",
       "      <td>NaN</td>\n",
       "      <td>NaN</td>\n",
       "      <td>NaN</td>\n",
       "      <td>45057.750000</td>\n",
       "      <td>42733.000000</td>\n",
       "    </tr>\n",
       "    <tr>\n",
       "      <th>max</th>\n",
       "      <td>147267.000000</td>\n",
       "      <td>NaN</td>\n",
       "      <td>NaN</td>\n",
       "      <td>NaN</td>\n",
       "      <td>49554.000000</td>\n",
       "      <td>47757.000000</td>\n",
       "    </tr>\n",
       "  </tbody>\n",
       "</table>\n",
       "</div>"
      ],
      "text/plain": [
       "                   id    event_type selected_level           start_time  \\\n",
       "count    66959.000000         66959           8342                66959   \n",
       "unique            NaN             5              3                66809   \n",
       "top               NaN  registration         medium  2018-03-13 09:37:43   \n",
       "freq              NaN         19926           4645                    9   \n",
       "first             NaN           NaN            NaN  2018-01-01 03:48:40   \n",
       "last              NaN           NaN            NaN  2019-01-01 05:50:36   \n",
       "mean    113787.000045           NaN            NaN                  NaN   \n",
       "std      19329.542752           NaN            NaN                  NaN   \n",
       "min      80308.000000           NaN            NaN                  NaN   \n",
       "25%      97047.500000           NaN            NaN                  NaN   \n",
       "50%     113787.000000           NaN            NaN                  NaN   \n",
       "75%     130526.500000           NaN            NaN                  NaN   \n",
       "max     147267.000000           NaN            NaN                  NaN   \n",
       "\n",
       "         tutorial_id       user_id  \n",
       "count   32954.000000  66959.000000  \n",
       "unique           NaN           NaN  \n",
       "top              NaN           NaN  \n",
       "freq             NaN           NaN  \n",
       "first            NaN           NaN  \n",
       "last             NaN           NaN  \n",
       "mean    40532.934393  37781.543362  \n",
       "std      5213.486632   5751.497904  \n",
       "min     31505.000000  27832.000000  \n",
       "25%     36008.250000  32849.000000  \n",
       "50%     40529.500000  37719.000000  \n",
       "75%     45057.750000  42733.000000  \n",
       "max     49554.000000  47757.000000  "
      ]
     },
     "execution_count": 48,
     "metadata": {},
     "output_type": "execute_result"
    }
   ],
   "source": [
    "# описательная статистика\n",
    "\"\"\"Вызовем метод describe(), чтобы оценить характеристики каждого столбца. \n",
    "По умолчанию метод describe() выдаёт характеристики только по столбцам с численными \n",
    "типами (например, int64, float64). Мы вызовем этот метод с параметром include='all'\n",
    "для того, чтобы отображать характеристики для всех столбцов.\"\"\"\n",
    "\n",
    "events_df.describe(include='all')"
   ]
  },
  {
   "cell_type": "code",
   "execution_count": 49,
   "metadata": {},
   "outputs": [
    {
     "data": {
      "text/plain": [
       "array(['registration', 'tutorial_start', 'tutorial_finish',\n",
       "       'level_choice', 'pack_choice'], dtype=object)"
      ]
     },
     "metadata": {},
     "output_type": "display_data"
    },
    {
     "data": {
      "text/plain": [
       "array([nan, 'medium', 'hard', 'easy'], dtype=object)"
      ]
     },
     "metadata": {},
     "output_type": "display_data"
    }
   ],
   "source": [
    "# Давайте оценим, какие уникальные события есть в колонках event_type и selected_level.\n",
    "display(events_df['event_type'].unique())\n",
    "display(events_df['selected_level'].unique())"
   ]
  },
  {
   "cell_type": "code",
   "execution_count": 50,
   "metadata": {},
   "outputs": [
    {
     "data": {
      "text/plain": [
       "19926"
      ]
     },
     "execution_count": 50,
     "metadata": {},
     "output_type": "execute_result"
    }
   ],
   "source": [
    "# Также оценим, какое количество пользователей совершали события:\n",
    "events_df['user_id'].nunique()"
   ]
  },
  {
   "cell_type": "markdown",
   "metadata": {},
   "source": [
    "### Таблица purchase\n",
    "Хранит данные об оплатах, которые совершают пользователи."
   ]
  },
  {
   "cell_type": "markdown",
   "metadata": {},
   "source": [
    "id\tидентификатор события\n",
    "\n",
    "user_id\tуникальный идентификатор пользователя, совершившего событие в приложении\n",
    "\n",
    "event_datetime\tдата и время события/покупки\n",
    "\n",
    "amount\tсумма оплаты"
   ]
  },
  {
   "cell_type": "code",
   "execution_count": 51,
   "metadata": {},
   "outputs": [
    {
     "data": {
      "text/html": [
       "<div>\n",
       "<style scoped>\n",
       "    .dataframe tbody tr th:only-of-type {\n",
       "        vertical-align: middle;\n",
       "    }\n",
       "\n",
       "    .dataframe tbody tr th {\n",
       "        vertical-align: top;\n",
       "    }\n",
       "\n",
       "    .dataframe thead th {\n",
       "        text-align: right;\n",
       "    }\n",
       "</style>\n",
       "<table border=\"1\" class=\"dataframe\">\n",
       "  <thead>\n",
       "    <tr style=\"text-align: right;\">\n",
       "      <th></th>\n",
       "      <th>id</th>\n",
       "      <th>user_id</th>\n",
       "      <th>event_datetime</th>\n",
       "      <th>amount</th>\n",
       "    </tr>\n",
       "  </thead>\n",
       "  <tbody>\n",
       "    <tr>\n",
       "      <th>0</th>\n",
       "      <td>15674</td>\n",
       "      <td>12584</td>\n",
       "      <td>2016-05-12T10:34:16</td>\n",
       "      <td>100</td>\n",
       "    </tr>\n",
       "    <tr>\n",
       "      <th>1</th>\n",
       "      <td>15675</td>\n",
       "      <td>12985</td>\n",
       "      <td>2016-05-13T08:25:56</td>\n",
       "      <td>50</td>\n",
       "    </tr>\n",
       "    <tr>\n",
       "      <th>2</th>\n",
       "      <td>15676</td>\n",
       "      <td>12828</td>\n",
       "      <td>2016-05-13T16:33:46</td>\n",
       "      <td>50</td>\n",
       "    </tr>\n",
       "    <tr>\n",
       "      <th>3</th>\n",
       "      <td>15677</td>\n",
       "      <td>12598</td>\n",
       "      <td>2016-05-14T01:09:37</td>\n",
       "      <td>150</td>\n",
       "    </tr>\n",
       "    <tr>\n",
       "      <th>4</th>\n",
       "      <td>15678</td>\n",
       "      <td>13037</td>\n",
       "      <td>2016-05-14T01:24:46</td>\n",
       "      <td>100</td>\n",
       "    </tr>\n",
       "  </tbody>\n",
       "</table>\n",
       "</div>"
      ],
      "text/plain": [
       "      id  user_id       event_datetime  amount\n",
       "0  15674    12584  2016-05-12T10:34:16     100\n",
       "1  15675    12985  2016-05-13T08:25:56      50\n",
       "2  15676    12828  2016-05-13T16:33:46      50\n",
       "3  15677    12598  2016-05-14T01:09:37     150\n",
       "4  15678    13037  2016-05-14T01:24:46     100"
      ]
     },
     "metadata": {},
     "output_type": "display_data"
    },
    {
     "name": "stdout",
     "output_type": "stream",
     "text": [
      "<class 'pandas.core.frame.DataFrame'>\n",
      "RangeIndex: 5956 entries, 0 to 5955\n",
      "Data columns (total 4 columns):\n",
      " #   Column          Non-Null Count  Dtype \n",
      "---  ------          --------------  ----- \n",
      " 0   id              5956 non-null   int64 \n",
      " 1   user_id         5956 non-null   int64 \n",
      " 2   event_datetime  5956 non-null   object\n",
      " 3   amount          5956 non-null   int64 \n",
      "dtypes: int64(3), object(1)\n",
      "memory usage: 186.2+ KB\n"
     ]
    },
    {
     "data": {
      "text/plain": [
       "None"
      ]
     },
     "metadata": {},
     "output_type": "display_data"
    }
   ],
   "source": [
    "purchase = pd.read_csv('data/purchase.csv')\n",
    "display(purchase.head())\n",
    "display(purchase.info())"
   ]
  },
  {
   "cell_type": "code",
   "execution_count": 116,
   "metadata": {},
   "outputs": [
    {
     "name": "stdout",
     "output_type": "stream",
     "text": [
      "<class 'pandas.core.frame.DataFrame'>\n",
      "Int64Index: 1600 entries, 1171 to 2778\n",
      "Data columns (total 4 columns):\n",
      " #   Column          Non-Null Count  Dtype         \n",
      "---  ------          --------------  -----         \n",
      " 0   id              1600 non-null   int64         \n",
      " 1   user_id         1600 non-null   int64         \n",
      " 2   event_datetime  1600 non-null   datetime64[ns]\n",
      " 3   amount          1600 non-null   int64         \n",
      "dtypes: datetime64[ns](1), int64(3)\n",
      "memory usage: 62.5 KB\n"
     ]
    },
    {
     "name": "stderr",
     "output_type": "stream",
     "text": [
      "<ipython-input-116-610ab4965a64>:4: SettingWithCopyWarning: \n",
      "A value is trying to be set on a copy of a slice from a DataFrame.\n",
      "Try using .loc[row_indexer,col_indexer] = value instead\n",
      "\n",
      "See the caveats in the documentation: https://pandas.pydata.org/pandas-docs/stable/user_guide/indexing.html#returning-a-view-versus-a-copy\n",
      "  purchase_df['event_datetime'] = pd.to_datetime(purchase_df['event_datetime'])\n"
     ]
    }
   ],
   "source": [
    "# новая таблица purchase. Метод isin фильтрация по списку значений (список user_id определен выше)\n",
    "purchase_df = purchase[purchase['user_id'].isin(registered)]\n",
    "# приведение даты к формату\n",
    "purchase_df['event_datetime'] = pd.to_datetime(purchase_df['event_datetime'])\n",
    "#просмотр результата\n",
    "purchase_df.info()"
   ]
  },
  {
   "cell_type": "markdown",
   "metadata": {},
   "source": [
    "#### Исследуем значения"
   ]
  },
  {
   "cell_type": "code",
   "execution_count": 117,
   "metadata": {},
   "outputs": [
    {
     "data": {
      "text/html": [
       "<div>\n",
       "<style scoped>\n",
       "    .dataframe tbody tr th:only-of-type {\n",
       "        vertical-align: middle;\n",
       "    }\n",
       "\n",
       "    .dataframe tbody tr th {\n",
       "        vertical-align: top;\n",
       "    }\n",
       "\n",
       "    .dataframe thead th {\n",
       "        text-align: right;\n",
       "    }\n",
       "</style>\n",
       "<table border=\"1\" class=\"dataframe\">\n",
       "  <thead>\n",
       "    <tr style=\"text-align: right;\">\n",
       "      <th></th>\n",
       "      <th>id</th>\n",
       "      <th>user_id</th>\n",
       "      <th>amount</th>\n",
       "    </tr>\n",
       "  </thead>\n",
       "  <tbody>\n",
       "    <tr>\n",
       "      <th>count</th>\n",
       "      <td>1600.000000</td>\n",
       "      <td>1600.000000</td>\n",
       "      <td>1600.000000</td>\n",
       "    </tr>\n",
       "    <tr>\n",
       "      <th>mean</th>\n",
       "      <td>17645.505625</td>\n",
       "      <td>37752.766250</td>\n",
       "      <td>110.734375</td>\n",
       "    </tr>\n",
       "    <tr>\n",
       "      <th>std</th>\n",
       "      <td>462.038637</td>\n",
       "      <td>5822.621784</td>\n",
       "      <td>54.696628</td>\n",
       "    </tr>\n",
       "    <tr>\n",
       "      <th>min</th>\n",
       "      <td>16845.000000</td>\n",
       "      <td>27845.000000</td>\n",
       "      <td>25.000000</td>\n",
       "    </tr>\n",
       "    <tr>\n",
       "      <th>25%</th>\n",
       "      <td>17245.750000</td>\n",
       "      <td>32815.750000</td>\n",
       "      <td>50.000000</td>\n",
       "    </tr>\n",
       "    <tr>\n",
       "      <th>50%</th>\n",
       "      <td>17645.500000</td>\n",
       "      <td>37633.500000</td>\n",
       "      <td>100.000000</td>\n",
       "    </tr>\n",
       "    <tr>\n",
       "      <th>75%</th>\n",
       "      <td>18045.250000</td>\n",
       "      <td>43023.000000</td>\n",
       "      <td>150.000000</td>\n",
       "    </tr>\n",
       "    <tr>\n",
       "      <th>max</th>\n",
       "      <td>18452.000000</td>\n",
       "      <td>47742.000000</td>\n",
       "      <td>300.000000</td>\n",
       "    </tr>\n",
       "  </tbody>\n",
       "</table>\n",
       "</div>"
      ],
      "text/plain": [
       "                 id       user_id       amount\n",
       "count   1600.000000   1600.000000  1600.000000\n",
       "mean   17645.505625  37752.766250   110.734375\n",
       "std      462.038637   5822.621784    54.696628\n",
       "min    16845.000000  27845.000000    25.000000\n",
       "25%    17245.750000  32815.750000    50.000000\n",
       "50%    17645.500000  37633.500000   100.000000\n",
       "75%    18045.250000  43023.000000   150.000000\n",
       "max    18452.000000  47742.000000   300.000000"
      ]
     },
     "execution_count": 117,
     "metadata": {},
     "output_type": "execute_result"
    }
   ],
   "source": [
    "purchase_df.describe()"
   ]
  },
  {
   "cell_type": "markdown",
   "metadata": {},
   "source": [
    "## 38.5 PRACTICE. Анализ данных: Шаг 1"
   ]
  },
  {
   "cell_type": "markdown",
   "metadata": {},
   "source": [
    "### АНАЛИЗ ПОЛЬЗОВАТЕЛЬСКИХ СОБЫТИЙ"
   ]
  },
  {
   "cell_type": "markdown",
   "metadata": {},
   "source": [
    "цель — исследовать поведение пользователей:\n",
    "\n",
    "1. Определить самые распространённые пути прохождения этапов в приложении.\n",
    "2. Определить среднее время между различными этапами."
   ]
  },
  {
   "cell_type": "markdown",
   "metadata": {},
   "source": [
    "#### Изучаем событие registration"
   ]
  },
  {
   "cell_type": "code",
   "execution_count": 55,
   "metadata": {},
   "outputs": [
    {
     "name": "stdout",
     "output_type": "stream",
     "text": [
      "19926\n",
      "19926\n"
     ]
    }
   ],
   "source": [
    "# Для начала посмотрим, сколько пользователей совершают событие registration.\n",
    "print(events_df[events_df['event_type'] == 'registration']['user_id'].nunique())\n",
    "print(events_df['user_id'].nunique())"
   ]
  },
  {
   "cell_type": "markdown",
   "metadata": {},
   "source": [
    "#### Изучаем событие tutorial_start"
   ]
  },
  {
   "cell_type": "code",
   "execution_count": 56,
   "metadata": {},
   "outputs": [
    {
     "data": {
      "text/html": [
       "<div>\n",
       "<style scoped>\n",
       "    .dataframe tbody tr th:only-of-type {\n",
       "        vertical-align: middle;\n",
       "    }\n",
       "\n",
       "    .dataframe tbody tr th {\n",
       "        vertical-align: top;\n",
       "    }\n",
       "\n",
       "    .dataframe thead th {\n",
       "        text-align: right;\n",
       "    }\n",
       "</style>\n",
       "<table border=\"1\" class=\"dataframe\">\n",
       "  <thead>\n",
       "    <tr style=\"text-align: right;\">\n",
       "      <th></th>\n",
       "      <th>id</th>\n",
       "      <th>event_type</th>\n",
       "      <th>selected_level</th>\n",
       "      <th>start_time</th>\n",
       "      <th>tutorial_id</th>\n",
       "      <th>user_id</th>\n",
       "    </tr>\n",
       "  </thead>\n",
       "  <tbody>\n",
       "    <tr>\n",
       "      <th>51412</th>\n",
       "      <td>80315</td>\n",
       "      <td>tutorial_start</td>\n",
       "      <td>NaN</td>\n",
       "      <td>2018-01-01 14:54:40</td>\n",
       "      <td>31505.0</td>\n",
       "      <td>27836</td>\n",
       "    </tr>\n",
       "    <tr>\n",
       "      <th>51413</th>\n",
       "      <td>80316</td>\n",
       "      <td>tutorial_start</td>\n",
       "      <td>NaN</td>\n",
       "      <td>2018-01-01 15:00:51</td>\n",
       "      <td>31506.0</td>\n",
       "      <td>27835</td>\n",
       "    </tr>\n",
       "    <tr>\n",
       "      <th>51415</th>\n",
       "      <td>80318</td>\n",
       "      <td>tutorial_start</td>\n",
       "      <td>NaN</td>\n",
       "      <td>2018-01-01 15:40:43</td>\n",
       "      <td>31507.0</td>\n",
       "      <td>27836</td>\n",
       "    </tr>\n",
       "    <tr>\n",
       "      <th>51417</th>\n",
       "      <td>80320</td>\n",
       "      <td>tutorial_start</td>\n",
       "      <td>NaN</td>\n",
       "      <td>2018-01-01 17:47:40</td>\n",
       "      <td>31508.0</td>\n",
       "      <td>27833</td>\n",
       "    </tr>\n",
       "    <tr>\n",
       "      <th>51420</th>\n",
       "      <td>80323</td>\n",
       "      <td>tutorial_start</td>\n",
       "      <td>NaN</td>\n",
       "      <td>2018-01-01 19:11:36</td>\n",
       "      <td>31509.0</td>\n",
       "      <td>27839</td>\n",
       "    </tr>\n",
       "    <tr>\n",
       "      <th>51422</th>\n",
       "      <td>80325</td>\n",
       "      <td>tutorial_start</td>\n",
       "      <td>NaN</td>\n",
       "      <td>2018-01-01 19:46:11</td>\n",
       "      <td>31510.0</td>\n",
       "      <td>27834</td>\n",
       "    </tr>\n",
       "    <tr>\n",
       "      <th>51434</th>\n",
       "      <td>80337</td>\n",
       "      <td>tutorial_start</td>\n",
       "      <td>NaN</td>\n",
       "      <td>2018-01-02 02:07:07</td>\n",
       "      <td>31511.0</td>\n",
       "      <td>27840</td>\n",
       "    </tr>\n",
       "    <tr>\n",
       "      <th>51435</th>\n",
       "      <td>80338</td>\n",
       "      <td>tutorial_start</td>\n",
       "      <td>NaN</td>\n",
       "      <td>2018-01-02 03:03:44</td>\n",
       "      <td>31512.0</td>\n",
       "      <td>27845</td>\n",
       "    </tr>\n",
       "    <tr>\n",
       "      <th>51437</th>\n",
       "      <td>80340</td>\n",
       "      <td>tutorial_start</td>\n",
       "      <td>NaN</td>\n",
       "      <td>2018-01-02 04:55:11</td>\n",
       "      <td>31513.0</td>\n",
       "      <td>27842</td>\n",
       "    </tr>\n",
       "    <tr>\n",
       "      <th>51446</th>\n",
       "      <td>80349</td>\n",
       "      <td>tutorial_start</td>\n",
       "      <td>NaN</td>\n",
       "      <td>2018-01-02 07:08:00</td>\n",
       "      <td>31514.0</td>\n",
       "      <td>27845</td>\n",
       "    </tr>\n",
       "  </tbody>\n",
       "</table>\n",
       "</div>"
      ],
      "text/plain": [
       "          id      event_type selected_level          start_time  tutorial_id  \\\n",
       "51412  80315  tutorial_start            NaN 2018-01-01 14:54:40      31505.0   \n",
       "51413  80316  tutorial_start            NaN 2018-01-01 15:00:51      31506.0   \n",
       "51415  80318  tutorial_start            NaN 2018-01-01 15:40:43      31507.0   \n",
       "51417  80320  tutorial_start            NaN 2018-01-01 17:47:40      31508.0   \n",
       "51420  80323  tutorial_start            NaN 2018-01-01 19:11:36      31509.0   \n",
       "51422  80325  tutorial_start            NaN 2018-01-01 19:46:11      31510.0   \n",
       "51434  80337  tutorial_start            NaN 2018-01-02 02:07:07      31511.0   \n",
       "51435  80338  tutorial_start            NaN 2018-01-02 03:03:44      31512.0   \n",
       "51437  80340  tutorial_start            NaN 2018-01-02 04:55:11      31513.0   \n",
       "51446  80349  tutorial_start            NaN 2018-01-02 07:08:00      31514.0   \n",
       "\n",
       "       user_id  \n",
       "51412    27836  \n",
       "51413    27835  \n",
       "51415    27836  \n",
       "51417    27833  \n",
       "51420    27839  \n",
       "51422    27834  \n",
       "51434    27840  \n",
       "51435    27845  \n",
       "51437    27842  \n",
       "51446    27845  "
      ]
     },
     "execution_count": 56,
     "metadata": {},
     "output_type": "execute_result"
    }
   ],
   "source": [
    "# Посмотрим на срез данных по событию tutorial_start.\n",
    "events_df[events_df['event_type'] == 'tutorial_start'].head(10)"
   ]
  },
  {
   "cell_type": "code",
   "execution_count": 58,
   "metadata": {},
   "outputs": [
    {
     "data": {
      "text/plain": [
       "11858"
      ]
     },
     "execution_count": 58,
     "metadata": {},
     "output_type": "execute_result"
    }
   ],
   "source": [
    "# Посмотрим на количество пользователей, которые совершают событие tutorial_start:\n",
    "events_df[events_df['event_type'] == 'tutorial_start']['user_id'].nunique()"
   ]
  },
  {
   "cell_type": "code",
   "execution_count": 59,
   "metadata": {},
   "outputs": [
    {
     "name": "stdout",
     "output_type": "stream",
     "text": [
      "Процент пользователей, начавших обучение (от общего числа зарегистрировавшихся): 59.51%\n"
     ]
    }
   ],
   "source": [
    "# определим процент пользователей, которые перешли к выполнению обучения, и \n",
    "# запишем его в переменную percent_tutorial_start_users.\n",
    "\n",
    "registered_users_count = events_df[events_df[\"event_type\"] == \"registration\"][\n",
    "    \"user_id\"\n",
    "].nunique()\n",
    "tutorial_start_users_count = events_df[events_df[\"event_type\"] == \"tutorial_start\"][\n",
    "    \"user_id\"\n",
    "].nunique()\n",
    "percent_tutorial_start_users = tutorial_start_users_count / registered_users_count\n",
    "print(\n",
    "    \"Процент пользователей, начавших обучение (от общего числа зарегистрировавшихся): {:.2%}\".format(\n",
    "        percent_tutorial_start_users\n",
    "    )\n",
    ")"
   ]
  },
  {
   "cell_type": "markdown",
   "metadata": {},
   "source": [
    "#### Изучаем событие tutorial_finish"
   ]
  },
  {
   "cell_type": "code",
   "execution_count": 60,
   "metadata": {},
   "outputs": [
    {
     "data": {
      "text/plain": [
       "10250"
      ]
     },
     "execution_count": 60,
     "metadata": {},
     "output_type": "execute_result"
    }
   ],
   "source": [
    "# Теперь давайте посмотрим, какое количество пользователей проходит обучение \n",
    "# до конца (событие tutorial_finish).\n",
    "events_df[events_df['event_type'] == 'tutorial_finish']['user_id'].nunique()"
   ]
  },
  {
   "cell_type": "code",
   "execution_count": 61,
   "metadata": {},
   "outputs": [
    {
     "name": "stdout",
     "output_type": "stream",
     "text": [
      "Процент пользователей, завершивших обучение: 86.44%\n"
     ]
    }
   ],
   "source": [
    "# Рассчитаем процент пользователей, завершивших обучение, среди пользователей, \n",
    "# которые начали обучение. Это будет показатель tutorial_completion_rate \n",
    "# (коэффициент «завершаемости» обучения).\n",
    "\n",
    "tutorial_finish_users_count = events_df[events_df[\"event_type\"] == \"tutorial_finish\"][\n",
    "    \"user_id\"\n",
    "].nunique()\n",
    "tutorial_completion_rate = tutorial_finish_users_count / tutorial_start_users_count\n",
    "print(\n",
    "    \"Процент пользователей, завершивших обучение: {:.2%}\".format(\n",
    "        tutorial_completion_rate\n",
    "    )\n",
    ")"
   ]
  },
  {
   "cell_type": "markdown",
   "metadata": {},
   "source": [
    "#### Изучаем level_choice"
   ]
  },
  {
   "cell_type": "code",
   "execution_count": 62,
   "metadata": {},
   "outputs": [
    {
     "data": {
      "text/plain": [
       "8342"
      ]
     },
     "execution_count": 62,
     "metadata": {},
     "output_type": "execute_result"
    }
   ],
   "source": [
    "# посмотрим на процент тех, кто доходит до этого этапа.\n",
    "events_df[events_df['event_type'] == 'level_choice']['user_id'].nunique()"
   ]
  },
  {
   "cell_type": "code",
   "execution_count": 63,
   "metadata": {},
   "outputs": [
    {
     "name": "stdout",
     "output_type": "stream",
     "text": [
      "Процент пользователей, выбравших уровень сложности тренировок (от общего числа зарегистрировавшихся): 41.86%\n"
     ]
    }
   ],
   "source": [
    "# рассчитаем долю пользователей percent_level_choice_users, которые выбрали уровень \n",
    "# сложности, от общего числа зарегистрировавшихся:\n",
    "\n",
    "level_choice_users_count = events_df[events_df[\"event_type\"] == \"level_choice\"][\n",
    "    \"user_id\"\n",
    "].nunique()\n",
    "percent_level_choice_users = level_choice_users_count / registered_users_count\n",
    "print(\n",
    "    \"Процент пользователей, выбравших уровень сложности тренировок (от общего числа зарегистрировавшихся): {:.2%}\".format(\n",
    "        percent_level_choice_users\n",
    "    )\n",
    ")"
   ]
  },
  {
   "cell_type": "markdown",
   "metadata": {},
   "source": [
    "Какой вывод мы можем сделать?\n",
    "Меньше половины пользователей (41.86 %) доходят до этапа выбора уровня сложности вопросов. А ведь этот этап напрямую влияет на то, что пользователь будет пользоваться приложением через бесплатные возможности, которые в дальнейшем могут привести к оплате.\n",
    "\n",
    "Таким образом, для успешной монетизации приложения крайне важно оптимизировать прохождение до этапа выбора сложности."
   ]
  },
  {
   "cell_type": "markdown",
   "metadata": {},
   "source": [
    "####  Изучаем pack_choice"
   ]
  },
  {
   "cell_type": "code",
   "execution_count": 64,
   "metadata": {},
   "outputs": [
    {
     "data": {
      "text/plain": [
       "5737"
      ]
     },
     "execution_count": 64,
     "metadata": {},
     "output_type": "execute_result"
    }
   ],
   "source": [
    "# определим число пользователей, которые совершили событие выбора бесплатного \n",
    "# пакета вопросов pack_choice.\n",
    "events_df[events_df['event_type'] == 'pack_choice']['user_id'].nunique()"
   ]
  },
  {
   "cell_type": "code",
   "execution_count": 65,
   "metadata": {},
   "outputs": [
    {
     "name": "stdout",
     "output_type": "stream",
     "text": [
      "Процент пользователей, выбравших набор бесплатных вопросов (от числа пользователей, которые выбрали уровень сложности): 68.77%\n"
     ]
    }
   ],
   "source": [
    "# Оценим процент таких пользователей от числа пользователей, которые выбрали \n",
    "# уровень сложности.\n",
    "\n",
    "training_choice_users_count = events_df[events_df[\"event_type\"] == \"pack_choice\"][\n",
    "    \"user_id\"\n",
    "].nunique()\n",
    "percent_training_choice_users = training_choice_users_count / level_choice_users_count\n",
    "print(\n",
    "    \"Процент пользователей, выбравших набор бесплатных вопросов (от числа пользователей, которые выбрали уровень сложности): {:.2%}\".format(\n",
    "        percent_training_choice_users\n",
    "    )\n",
    ")"
   ]
  },
  {
   "cell_type": "markdown",
   "metadata": {},
   "source": [
    "#### Изучаем покупку платных пакетов"
   ]
  },
  {
   "cell_type": "code",
   "execution_count": 66,
   "metadata": {},
   "outputs": [
    {
     "data": {
      "text/plain": [
       "1600"
      ]
     },
     "execution_count": 66,
     "metadata": {},
     "output_type": "execute_result"
    }
   ],
   "source": [
    "#Оценим число пользователей, которые совершили покупку. Для этого нам потребуется \n",
    "# датафрейм purchase_df.\n",
    "purchase_df['user_id'].nunique()"
   ]
  },
  {
   "cell_type": "code",
   "execution_count": 67,
   "metadata": {},
   "outputs": [
    {
     "name": "stdout",
     "output_type": "stream",
     "text": [
      "Процент пользователей, которые оплатили вопросы (от числа пользователей, которые выбрали тренировки): 27.89%\n"
     ]
    }
   ],
   "source": [
    "# Рассчитаем процент пользователей percent_of_paying_users, которые оплатили \n",
    "# вопросы, от числа пользователей, которые приобрели бесплатные вопросы:\n",
    "\n",
    "paying_users_count = purchase_df[\"user_id\"].nunique()\n",
    "percent_of_paying_users = paying_users_count / training_choice_users_count\n",
    "print(\n",
    "    \"Процент пользователей, которые оплатили вопросы (от числа пользователей, которые выбрали тренировки): {:.2%}\".format(\n",
    "        percent_of_paying_users\n",
    "    )\n",
    ")"
   ]
  },
  {
   "cell_type": "code",
   "execution_count": 68,
   "metadata": {},
   "outputs": [
    {
     "name": "stdout",
     "output_type": "stream",
     "text": [
      "Процент пользователей, которые оплатили вопросы(от числа зарегистрировавшихся пользователей): 8.03%\n"
     ]
    }
   ],
   "source": [
    "# посмотрим, какой процент составляют покупатели от общего числа зарегистрировавшихся. \n",
    "# Для этого создадим переменную purchase_rate.\n",
    "\n",
    "purchase_rate = paying_users_count / registered_users_count\n",
    "print(\n",
    "    \"Процент пользователей, которые оплатили вопросы(от числа зарегистрировавшихся пользователей): {:.2%}\".format(\n",
    "        purchase_rate\n",
    "    )\n",
    ")"
   ]
  },
  {
   "cell_type": "markdown",
   "metadata": {},
   "source": [
    " Какой вывод мы можем сделать?\n",
    "Итак, процент зарегистрировавшихся пользователей, которые приобрели платный пакет, составляет 8.03 %.\n",
    "\n",
    "Само по себе это число нам ни о чём не говорит, поэтому в рамках одной из гипотез мы рассмотрим этот процент для пользователей разных групп. И эта информация укажет нам возможные пути оптимизации."
   ]
  },
  {
   "cell_type": "markdown",
   "metadata": {},
   "source": [
    "## 38.6 PRACTICE. Анализ данных: Шаг 2"
   ]
  },
  {
   "cell_type": "markdown",
   "metadata": {},
   "source": [
    "### АНАЛИЗ УНИКАЛЬНЫХ ПОЛЬЗОВАТЕЛЬСКИХ ПУТЕЙ"
   ]
  },
  {
   "cell_type": "markdown",
   "metadata": {},
   "source": [
    "Чтобы понимать, какие есть различные последовательности прохождения пользователей по воронке и насколько часто они встречаются, можно воспользоваться таким подходом:\n",
    "\n",
    "1. отсортировать все события по возрастанию во времени;\n",
    "2. объединить для каждого пользователя все его события в один список;\n",
    "3. подсчитать частоту различных списков."
   ]
  },
  {
   "cell_type": "markdown",
   "metadata": {},
   "source": [
    "#### Объединяем датафреймы"
   ]
  },
  {
   "cell_type": "code",
   "execution_count": null,
   "metadata": {},
   "outputs": [],
   "source": [
    "\"\"\"Добавим в датафрейм purchase_df столбец event_type, который будет содержать одно \n",
    "значение purchase. Это нужно, чтобы в объединённом датафрейме однозначно выделить \n",
    "события оплаты.\"\"\"\n",
    "\n",
    "purchase_df['event_type'] = 'purchase'"
   ]
  },
  {
   "cell_type": "code",
   "execution_count": null,
   "metadata": {},
   "outputs": [],
   "source": [
    "purchase_df.drop('event_type', axis=1, inplace=True)"
   ]
  },
  {
   "cell_type": "code",
   "execution_count": 81,
   "metadata": {},
   "outputs": [],
   "source": [
    "\"\"\"Также у нас есть одинаковые столбцы id в двух датафреймах, но смысл их \n",
    "несколько отличается, так как столбец id в events_df указывает на идентификатор \n",
    "события, а столбец id в purchase_df указывает на идентификатор оплаты. Поэтому \n",
    "применим функцию rename(), чтобы переименовать столбцы в датафреймах.\"\"\"\n",
    "\n",
    "events_df = events_df.rename(columns={\"id\": \"event_id\"})\n",
    "purchase_df = purchase_df.rename(columns={\"id\": \"purchase_id\"})"
   ]
  },
  {
   "cell_type": "code",
   "execution_count": 83,
   "metadata": {},
   "outputs": [],
   "source": [
    "\"\"\"объединим датафреймы events_df и purchase_df с помощью функции pd.concat() \n",
    "и запишем объединённый датафрейм в переменную total_events_df.\"\"\"\n",
    "\n",
    "total_events_df = pd.concat([events_df,purchase_df],sort=False)"
   ]
  },
  {
   "cell_type": "code",
   "execution_count": null,
   "metadata": {},
   "outputs": [],
   "source": [
    "total_events_df.head()"
   ]
  },
  {
   "cell_type": "code",
   "execution_count": 85,
   "metadata": {},
   "outputs": [
    {
     "name": "stdout",
     "output_type": "stream",
     "text": [
      "<class 'pandas.core.frame.DataFrame'>\n",
      "Int64Index: 68559 entries, 51405 to 2778\n",
      "Data columns (total 9 columns):\n",
      " #   Column          Non-Null Count  Dtype         \n",
      "---  ------          --------------  -----         \n",
      " 0   event_id        66959 non-null  float64       \n",
      " 1   event_type      68559 non-null  object        \n",
      " 2   selected_level  8342 non-null   object        \n",
      " 3   start_time      66959 non-null  datetime64[ns]\n",
      " 4   tutorial_id     32954 non-null  float64       \n",
      " 5   user_id         68559 non-null  int64         \n",
      " 6   purchase_id     1600 non-null   float64       \n",
      " 7   event_datetime  1600 non-null   datetime64[ns]\n",
      " 8   amount          1600 non-null   float64       \n",
      "dtypes: datetime64[ns](2), float64(4), int64(1), object(2)\n",
      "memory usage: 5.2+ MB\n"
     ]
    }
   ],
   "source": [
    "total_events_df.info()"
   ]
  },
  {
   "cell_type": "code",
   "execution_count": 86,
   "metadata": {},
   "outputs": [],
   "source": [
    "\"\"\"сбросим индексы объединённого датафрейма (так как после объединения они \n",
    "дублировались и несут мало смысла) с помощью метода reset_index() и отсортируем \n",
    "все события по возрастанию времени с помощью sort_values().\"\"\"\n",
    "\n",
    "total_events_df = total_events_df.reset_index(drop=True).sort_values('start_time')"
   ]
  },
  {
   "cell_type": "markdown",
   "metadata": {},
   "source": [
    "####  Воссоздаём последовательность событий"
   ]
  },
  {
   "cell_type": "code",
   "execution_count": 87,
   "metadata": {},
   "outputs": [
    {
     "data": {
      "text/html": [
       "<div>\n",
       "<style scoped>\n",
       "    .dataframe tbody tr th:only-of-type {\n",
       "        vertical-align: middle;\n",
       "    }\n",
       "\n",
       "    .dataframe tbody tr th {\n",
       "        vertical-align: top;\n",
       "    }\n",
       "\n",
       "    .dataframe thead th {\n",
       "        text-align: right;\n",
       "    }\n",
       "</style>\n",
       "<table border=\"1\" class=\"dataframe\">\n",
       "  <thead>\n",
       "    <tr style=\"text-align: right;\">\n",
       "      <th></th>\n",
       "      <th>user_id</th>\n",
       "      <th>event_type</th>\n",
       "    </tr>\n",
       "  </thead>\n",
       "  <tbody>\n",
       "    <tr>\n",
       "      <th>0</th>\n",
       "      <td>27832</td>\n",
       "      <td>[registration]</td>\n",
       "    </tr>\n",
       "    <tr>\n",
       "      <th>1</th>\n",
       "      <td>27833</td>\n",
       "      <td>[registration, tutorial_start, tutorial_finish]</td>\n",
       "    </tr>\n",
       "    <tr>\n",
       "      <th>2</th>\n",
       "      <td>27834</td>\n",
       "      <td>[registration, tutorial_start, tutorial_finish]</td>\n",
       "    </tr>\n",
       "    <tr>\n",
       "      <th>3</th>\n",
       "      <td>27835</td>\n",
       "      <td>[registration, tutorial_start, tutorial_finish...</td>\n",
       "    </tr>\n",
       "    <tr>\n",
       "      <th>4</th>\n",
       "      <td>27836</td>\n",
       "      <td>[registration, tutorial_start, tutorial_start,...</td>\n",
       "    </tr>\n",
       "    <tr>\n",
       "      <th>5</th>\n",
       "      <td>27837</td>\n",
       "      <td>[registration]</td>\n",
       "    </tr>\n",
       "    <tr>\n",
       "      <th>6</th>\n",
       "      <td>27838</td>\n",
       "      <td>[registration]</td>\n",
       "    </tr>\n",
       "    <tr>\n",
       "      <th>7</th>\n",
       "      <td>27839</td>\n",
       "      <td>[registration, tutorial_start, tutorial_finish...</td>\n",
       "    </tr>\n",
       "    <tr>\n",
       "      <th>8</th>\n",
       "      <td>27840</td>\n",
       "      <td>[registration, tutorial_start, level_choice]</td>\n",
       "    </tr>\n",
       "    <tr>\n",
       "      <th>9</th>\n",
       "      <td>27841</td>\n",
       "      <td>[registration, tutorial_start, tutorial_finish]</td>\n",
       "    </tr>\n",
       "  </tbody>\n",
       "</table>\n",
       "</div>"
      ],
      "text/plain": [
       "   user_id                                         event_type\n",
       "0    27832                                     [registration]\n",
       "1    27833    [registration, tutorial_start, tutorial_finish]\n",
       "2    27834    [registration, tutorial_start, tutorial_finish]\n",
       "3    27835  [registration, tutorial_start, tutorial_finish...\n",
       "4    27836  [registration, tutorial_start, tutorial_start,...\n",
       "5    27837                                     [registration]\n",
       "6    27838                                     [registration]\n",
       "7    27839  [registration, tutorial_start, tutorial_finish...\n",
       "8    27840       [registration, tutorial_start, level_choice]\n",
       "9    27841    [registration, tutorial_start, tutorial_finish]"
      ]
     },
     "execution_count": 87,
     "metadata": {},
     "output_type": "execute_result"
    }
   ],
   "source": [
    "\"\"\"воспользуемся методом groupby по столбцу event_type и применим агрегирующую \n",
    "функцию apply(list). Таким образом мы сгруппируем строки по пользователю, а затем \n",
    "объединим в списки содержимое столбца event_type по каждому пользователю. Запишем \n",
    "результат в датафрейм user_path_df.\"\"\"\n",
    "\n",
    "user_path_df = (\n",
    "    total_events_df.groupby([\"user_id\"])[\"event_type\"].apply(list).reset_index()\n",
    ")\n",
    "user_path_df.head(10)"
   ]
  },
  {
   "cell_type": "markdown",
   "metadata": {},
   "source": [
    "#### Выявляем наиболее популярные пути"
   ]
  },
  {
   "cell_type": "code",
   "execution_count": 88,
   "metadata": {},
   "outputs": [
    {
     "data": {
      "text/plain": [
       "0                                         registration\n",
       "1      registration > tutorial_start > tutorial_finish\n",
       "2      registration > tutorial_start > tutorial_finish\n",
       "3    registration > tutorial_start > tutorial_finis...\n",
       "4    registration > tutorial_start > tutorial_start...\n",
       "Name: event_path, dtype: object"
      ]
     },
     "execution_count": 88,
     "metadata": {},
     "output_type": "execute_result"
    }
   ],
   "source": [
    "\"\"\"преобразуем список событий в строку event_path. Эта операция нужна для \n",
    "оптимизации скорости объединения, так как иначе Pandas может делать подсчёт \n",
    "слишком долго.\"\"\"\n",
    "\n",
    "user_path_df[\"event_path\"] = user_path_df[\"event_type\"].apply(lambda x: \" > \".join(x))\n",
    "user_path_df[\"event_path\"].head()"
   ]
  },
  {
   "cell_type": "code",
   "execution_count": 89,
   "metadata": {},
   "outputs": [],
   "source": [
    "\"\"\"сгруппировать датафрейм по столбцу event_path, подсчитав число пользователей.\"\"\"\n",
    "\n",
    "user_paths = (\n",
    "    user_path_df.groupby([\"event_path\"])[\"user_id\"]\n",
    "    .nunique()\n",
    "    .sort_values(ascending=False)\n",
    ")"
   ]
  },
  {
   "cell_type": "code",
   "execution_count": 90,
   "metadata": {},
   "outputs": [
    {
     "data": {
      "text/plain": [
       "event_path\n",
       "registration                                                                                                       7970\n",
       "registration > tutorial_start > tutorial_finish > level_choice > pack_choice                                       2796\n",
       "registration > tutorial_start > tutorial_finish                                                                    1956\n",
       "registration > tutorial_start > tutorial_finish > level_choice                                                     1713\n",
       "registration > tutorial_start > tutorial_finish > level_choice > pack_choice > purchase                            1083\n",
       "registration > tutorial_start                                                                                       842\n",
       "registration > tutorial_start > level_choice > pack_choice                                                          346\n",
       "registration > tutorial_start > tutorial_finish > tutorial_start > tutorial_finish                                  323\n",
       "registration > tutorial_start > level_choice                                                                        243\n",
       "registration > tutorial_start > tutorial_finish > level_choice > pack_choice > tutorial_start > tutorial_finish     236\n",
       "Name: user_id, dtype: int64"
      ]
     },
     "execution_count": 90,
     "metadata": {},
     "output_type": "execute_result"
    }
   ],
   "source": [
    "user_paths.head(10)"
   ]
  },
  {
   "cell_type": "markdown",
   "metadata": {},
   "source": [
    "#### ВЫВОД\n",
    "Как мы видим, среди 10 самых популярных последовательностей только одна содержит этап оплаты. Это последовательность registration > tutorial_start > tutorial_finish > level_choice > pack_choice > purchase."
   ]
  },
  {
   "cell_type": "markdown",
   "metadata": {},
   "source": [
    "#### Ищем последовательности с оплатой"
   ]
  },
  {
   "cell_type": "code",
   "execution_count": 92,
   "metadata": {},
   "outputs": [
    {
     "data": {
      "text/plain": [
       "event_path\n",
       "registration > tutorial_start > tutorial_finish > level_choice > pack_choice > purchase                                       1083\n",
       "registration > tutorial_start > level_choice > pack_choice > purchase                                                          124\n",
       "registration > tutorial_start > tutorial_finish > level_choice > pack_choice > tutorial_start > tutorial_finish > purchase     101\n",
       "registration > tutorial_start > tutorial_finish > tutorial_start > tutorial_finish > level_choice > pack_choice > purchase      52\n",
       "registration > tutorial_start > tutorial_start > tutorial_finish > level_choice > pack_choice > purchase                        26\n",
       "Name: user_id, dtype: int64"
      ]
     },
     "execution_count": 92,
     "metadata": {},
     "output_type": "execute_result"
    }
   ],
   "source": [
    "\"\"\"Давайте посмотрим, какие ещё последовательности содержат в себе оплату.\"\"\"\n",
    "user_paths[user_paths.index.str.contains('purchase')].head(5)"
   ]
  },
  {
   "cell_type": "markdown",
   "metadata": {},
   "source": [
    "#### ВЫВОД\n",
    "Большинство последовательностей, которые содержат в себе оплату, также содержат старт обучения. Это наводит нас на гипотезу, что вероятность оплаты зависит от того, проходил ли пользователь обучение."
   ]
  },
  {
   "cell_type": "markdown",
   "metadata": {},
   "source": [
    "## 38.7 PRACTICE. Анализ данных: Шаг 3"
   ]
  },
  {
   "cell_type": "markdown",
   "metadata": {},
   "source": [
    "### АНАЛИЗ ВРЕМЕННЫХ ПРОМЕЖУТКОВ"
   ]
  },
  {
   "cell_type": "markdown",
   "metadata": {},
   "source": [
    "#### Определяем время между registration и tutorial_start"
   ]
  },
  {
   "cell_type": "markdown",
   "metadata": {},
   "source": [
    "Jпределим, какое время проходит между регистрацией и началом обучения.\n",
    "Важно понимать, что это время мы можем определить только для таких пользователей, которые хотя бы раз начинали обучение."
   ]
  },
  {
   "cell_type": "markdown",
   "metadata": {},
   "source": [
    "1. registration"
   ]
  },
  {
   "cell_type": "code",
   "execution_count": 93,
   "metadata": {},
   "outputs": [],
   "source": [
    "\"\"\"Первым делом выделим отдельный датафрейм registration_df, который будет содержать только \n",
    "события с event_type = registration. Этот датафрейм будет вспомогательным для определения \n",
    "времени между регистрацией и началом обучения.\"\"\"\n",
    "\n",
    "registration_df = total_events_df[total_events_df['event_type'] == 'registration']"
   ]
  },
  {
   "cell_type": "code",
   "execution_count": 94,
   "metadata": {},
   "outputs": [
    {
     "data": {
      "text/plain": [
       "1.0"
      ]
     },
     "execution_count": 94,
     "metadata": {},
     "output_type": "execute_result"
    }
   ],
   "source": [
    "\"\"\"Для определения среднего количества событий на пользователя мы можем воспользоваться \n",
    "методом value_counts(), результатом которого будет серия с количеством событий на каждого \n",
    "пользователя. Затем, усреднив эти значения между собой, мы получим среднее число событий \n",
    "типа registration на одного пользователя.\"\"\"\n",
    "\n",
    "registration_df['user_id'].value_counts().mean()"
   ]
  },
  {
   "cell_type": "code",
   "execution_count": 95,
   "metadata": {},
   "outputs": [],
   "source": [
    "\"\"\"Оставим в датафрейме registration_df только те данные, которые нужны для наших вычислений — \n",
    "столбец user_id с идентификатором пользователя и столбец start_time со временем регистрации. \n",
    "Также переименуем столбец start_time в столбец registration_time для понятности.\"\"\"\n",
    "\n",
    "registration_df = registration_df[[\"user_id\", \"start_time\"]].rename(\n",
    "    columns={\"start_time\": \"registration_time\"}\n",
    ")"
   ]
  },
  {
   "cell_type": "markdown",
   "metadata": {},
   "source": [
    "2. tutorial_start"
   ]
  },
  {
   "cell_type": "code",
   "execution_count": 96,
   "metadata": {},
   "outputs": [],
   "source": [
    "\"\"\"Теперь возьмёмся за следующее событие. Выделим отдельный датафрейм tutorial_start_df, \n",
    "который будет содержать только события с event_type = tutorial_start (начало обучения).\"\"\"\n",
    "\n",
    "tutorial_start_df = total_events_df[total_events_df['event_type'] == 'tutorial_start']"
   ]
  },
  {
   "cell_type": "code",
   "execution_count": 97,
   "metadata": {},
   "outputs": [
    {
     "data": {
      "text/plain": [
       "1.522179119581717"
      ]
     },
     "execution_count": 97,
     "metadata": {},
     "output_type": "execute_result"
    }
   ],
   "source": [
    "\"\"\"Так же, как и в случае с регистрациями, посчитаем, сколько таких событий приходится на \n",
    "пользователя.\"\"\"\n",
    "\n",
    "tutorial_start_df['user_id'].value_counts().mean()"
   ]
  },
  {
   "cell_type": "code",
   "execution_count": 98,
   "metadata": {},
   "outputs": [],
   "source": [
    "\"\"\"Создадим датафрейм tutorial_start_df_wo_duplicates, где будет присутствовать только \n",
    "первое обучение. Для этого отсортируем датафрейм по start_time, чтобы сначала шли более \n",
    "ранние события начала обучения, а затем удалим дубликаты по столбцу user_id. Таким образом, \n",
    "для каждого user_id останется только первое событие типа tutorial_start.\"\"\"\n",
    "\n",
    "tutorial_start_df_wo_duplicates = tutorial_start_df.sort_values(\n",
    "    \"start_time\"\n",
    ").drop_duplicates(\"user_id\")"
   ]
  },
  {
   "cell_type": "code",
   "execution_count": 99,
   "metadata": {},
   "outputs": [
    {
     "data": {
      "text/plain": [
       "1.0"
      ]
     },
     "execution_count": 99,
     "metadata": {},
     "output_type": "execute_result"
    }
   ],
   "source": [
    "\"\"\"Проверим, что для каждого пользователя осталось только одно событие.\"\"\"\n",
    "\n",
    "tutorial_start_df_wo_duplicates['user_id'].value_counts().mean()"
   ]
  },
  {
   "cell_type": "code",
   "execution_count": 100,
   "metadata": {},
   "outputs": [],
   "source": [
    "\"\"\"Так же, как и в случае с датафреймом registration_df, оставим только такие столбцы, \n",
    "которые пригодятся нам в дальнейшем. Это столбцы user_id, start_time, tutorial_id. \n",
    "Также переименуем колонку start_time в tutorial_start_time:\"\"\"\n",
    "\n",
    "tutorial_start_df_wo_duplicates = tutorial_start_df_wo_duplicates[\n",
    "    [\"user_id\", \"tutorial_id\", \"start_time\"]\n",
    "].rename(columns={\"start_time\": \"tutorial_start_time\"})"
   ]
  },
  {
   "cell_type": "markdown",
   "metadata": {},
   "source": [
    "####   Объединяем датафреймы"
   ]
  },
  {
   "cell_type": "code",
   "execution_count": 101,
   "metadata": {},
   "outputs": [
    {
     "data": {
      "text/html": [
       "<div>\n",
       "<style scoped>\n",
       "    .dataframe tbody tr th:only-of-type {\n",
       "        vertical-align: middle;\n",
       "    }\n",
       "\n",
       "    .dataframe tbody tr th {\n",
       "        vertical-align: top;\n",
       "    }\n",
       "\n",
       "    .dataframe thead th {\n",
       "        text-align: right;\n",
       "    }\n",
       "</style>\n",
       "<table border=\"1\" class=\"dataframe\">\n",
       "  <thead>\n",
       "    <tr style=\"text-align: right;\">\n",
       "      <th></th>\n",
       "      <th>user_id</th>\n",
       "      <th>registration_time</th>\n",
       "      <th>tutorial_id</th>\n",
       "      <th>tutorial_start_time</th>\n",
       "    </tr>\n",
       "  </thead>\n",
       "  <tbody>\n",
       "    <tr>\n",
       "      <th>0</th>\n",
       "      <td>27833</td>\n",
       "      <td>2018-01-01 04:07:25</td>\n",
       "      <td>31508.0</td>\n",
       "      <td>2018-01-01 17:47:40</td>\n",
       "    </tr>\n",
       "    <tr>\n",
       "      <th>1</th>\n",
       "      <td>27834</td>\n",
       "      <td>2018-01-01 08:35:10</td>\n",
       "      <td>31510.0</td>\n",
       "      <td>2018-01-01 19:46:11</td>\n",
       "    </tr>\n",
       "    <tr>\n",
       "      <th>2</th>\n",
       "      <td>27835</td>\n",
       "      <td>2018-01-01 11:54:47</td>\n",
       "      <td>31506.0</td>\n",
       "      <td>2018-01-01 15:00:51</td>\n",
       "    </tr>\n",
       "    <tr>\n",
       "      <th>3</th>\n",
       "      <td>27836</td>\n",
       "      <td>2018-01-01 13:28:07</td>\n",
       "      <td>31505.0</td>\n",
       "      <td>2018-01-01 14:54:40</td>\n",
       "    </tr>\n",
       "    <tr>\n",
       "      <th>4</th>\n",
       "      <td>27839</td>\n",
       "      <td>2018-01-01 18:24:01</td>\n",
       "      <td>31509.0</td>\n",
       "      <td>2018-01-01 19:11:36</td>\n",
       "    </tr>\n",
       "  </tbody>\n",
       "</table>\n",
       "</div>"
      ],
      "text/plain": [
       "   user_id   registration_time  tutorial_id tutorial_start_time\n",
       "0    27833 2018-01-01 04:07:25      31508.0 2018-01-01 17:47:40\n",
       "1    27834 2018-01-01 08:35:10      31510.0 2018-01-01 19:46:11\n",
       "2    27835 2018-01-01 11:54:47      31506.0 2018-01-01 15:00:51\n",
       "3    27836 2018-01-01 13:28:07      31505.0 2018-01-01 14:54:40\n",
       "4    27839 2018-01-01 18:24:01      31509.0 2018-01-01 19:11:36"
      ]
     },
     "execution_count": 101,
     "metadata": {},
     "output_type": "execute_result"
    }
   ],
   "source": [
    "\"\"\"Объединить датафреймы мы можем с помощью функции merge(), объединяя данные по параметру \n",
    "user_id. Также нам нужно объединить данные с использованием параметра how='inner', это \n",
    "позволит в объединённом датафрейме оставить только такие идентификаторы пользователей, \n",
    "которые есть в обоих датафреймах. Вспомните SQL, это очень похоже на INNER JOIN.\"\"\"\n",
    "\n",
    "merged_df = registration_df.merge(\n",
    "    tutorial_start_df_wo_duplicates, on=\"user_id\", how=\"inner\"\n",
    ")\n",
    "merged_df.head()"
   ]
  },
  {
   "cell_type": "code",
   "execution_count": 102,
   "metadata": {},
   "outputs": [
    {
     "data": {
      "text/html": [
       "<div>\n",
       "<style scoped>\n",
       "    .dataframe tbody tr th:only-of-type {\n",
       "        vertical-align: middle;\n",
       "    }\n",
       "\n",
       "    .dataframe tbody tr th {\n",
       "        vertical-align: top;\n",
       "    }\n",
       "\n",
       "    .dataframe thead th {\n",
       "        text-align: right;\n",
       "    }\n",
       "</style>\n",
       "<table border=\"1\" class=\"dataframe\">\n",
       "  <thead>\n",
       "    <tr style=\"text-align: right;\">\n",
       "      <th></th>\n",
       "      <th>user_id</th>\n",
       "      <th>registration_time</th>\n",
       "      <th>tutorial_id</th>\n",
       "      <th>tutorial_start_time</th>\n",
       "      <th>timedelta</th>\n",
       "    </tr>\n",
       "  </thead>\n",
       "  <tbody>\n",
       "    <tr>\n",
       "      <th>0</th>\n",
       "      <td>27833</td>\n",
       "      <td>2018-01-01 04:07:25</td>\n",
       "      <td>31508.0</td>\n",
       "      <td>2018-01-01 17:47:40</td>\n",
       "      <td>0 days 13:40:15</td>\n",
       "    </tr>\n",
       "    <tr>\n",
       "      <th>1</th>\n",
       "      <td>27834</td>\n",
       "      <td>2018-01-01 08:35:10</td>\n",
       "      <td>31510.0</td>\n",
       "      <td>2018-01-01 19:46:11</td>\n",
       "      <td>0 days 11:11:01</td>\n",
       "    </tr>\n",
       "    <tr>\n",
       "      <th>2</th>\n",
       "      <td>27835</td>\n",
       "      <td>2018-01-01 11:54:47</td>\n",
       "      <td>31506.0</td>\n",
       "      <td>2018-01-01 15:00:51</td>\n",
       "      <td>0 days 03:06:04</td>\n",
       "    </tr>\n",
       "    <tr>\n",
       "      <th>3</th>\n",
       "      <td>27836</td>\n",
       "      <td>2018-01-01 13:28:07</td>\n",
       "      <td>31505.0</td>\n",
       "      <td>2018-01-01 14:54:40</td>\n",
       "      <td>0 days 01:26:33</td>\n",
       "    </tr>\n",
       "    <tr>\n",
       "      <th>4</th>\n",
       "      <td>27839</td>\n",
       "      <td>2018-01-01 18:24:01</td>\n",
       "      <td>31509.0</td>\n",
       "      <td>2018-01-01 19:11:36</td>\n",
       "      <td>0 days 00:47:35</td>\n",
       "    </tr>\n",
       "  </tbody>\n",
       "</table>\n",
       "</div>"
      ],
      "text/plain": [
       "   user_id   registration_time  tutorial_id tutorial_start_time  \\\n",
       "0    27833 2018-01-01 04:07:25      31508.0 2018-01-01 17:47:40   \n",
       "1    27834 2018-01-01 08:35:10      31510.0 2018-01-01 19:46:11   \n",
       "2    27835 2018-01-01 11:54:47      31506.0 2018-01-01 15:00:51   \n",
       "3    27836 2018-01-01 13:28:07      31505.0 2018-01-01 14:54:40   \n",
       "4    27839 2018-01-01 18:24:01      31509.0 2018-01-01 19:11:36   \n",
       "\n",
       "        timedelta  \n",
       "0 0 days 13:40:15  \n",
       "1 0 days 11:11:01  \n",
       "2 0 days 03:06:04  \n",
       "3 0 days 01:26:33  \n",
       "4 0 days 00:47:35  "
      ]
     },
     "execution_count": 102,
     "metadata": {},
     "output_type": "execute_result"
    }
   ],
   "source": [
    "\"\"\"Сделаем столбец timedelta, в котором посчитаем разницу между временем начала обучения \n",
    "(tutorial_start_time) и временем регистрации (registration_time):\"\"\"\n",
    "\n",
    "merged_df[\"timedelta\"] = (\n",
    "    merged_df[\"tutorial_start_time\"] - merged_df[\"registration_time\"]\n",
    ")\n",
    "merged_df.head()"
   ]
  },
  {
   "cell_type": "code",
   "execution_count": 103,
   "metadata": {},
   "outputs": [
    {
     "data": {
      "text/plain": [
       "Timedelta('0 days 04:38:24.019817844')"
      ]
     },
     "execution_count": 103,
     "metadata": {},
     "output_type": "execute_result"
    }
   ],
   "source": [
    "\"\"\"Усреднив с помощью функции mean() значения в столбце timedelta, мы получим среднее время,\n",
    "которое проходит между регистрацией пользователя и началом первого обучения:\"\"\"\n",
    "\n",
    "merged_df[\"timedelta\"].mean()"
   ]
  },
  {
   "cell_type": "code",
   "execution_count": 104,
   "metadata": {},
   "outputs": [
    {
     "data": {
      "text/plain": [
       "count                        11858\n",
       "mean     0 days 04:38:24.019817844\n",
       "std      0 days 04:15:09.650705034\n",
       "min                0 days 00:00:34\n",
       "25%         0 days 01:21:37.500000\n",
       "50%         0 days 03:22:08.500000\n",
       "75%         0 days 06:47:42.750000\n",
       "max                1 days 16:03:46\n",
       "Name: timedelta, dtype: object"
      ]
     },
     "execution_count": 104,
     "metadata": {},
     "output_type": "execute_result"
    }
   ],
   "source": [
    "\"\"\"Давайте воспользуемся методом describe(), чтобы понять некоторые важные параметры.\"\"\"\n",
    "\n",
    "merged_df['timedelta'].describe()"
   ]
  },
  {
   "cell_type": "markdown",
   "metadata": {},
   "source": [
    "#### Таким образом:\n",
    "\n",
    "четверть пользователей тратит меньше 1 часа 26 минут на переход от регистрации к началу обучения;\n",
    "половина всех пользователей тратит между регистрацией и началом обучения менее 3 часов 28 минут.\n",
    "Такая сегментация пользователей может дать нам важные опорные точки для оптимизации времени. Мы можем сосредоточится не на оптимизации среднего времени (поскольку среднее будет увеличено за счёт пользователей, которые долго проходят этап), а на том, чтобы оптимизировать медианное время.\n",
    "\n",
    "Также мы можем отдельно выделить тех пользователей, у которых время больше медианного, чтобы исследовать их детально и понять, что мешает им быстрее дойти до этапа обучения."
   ]
  },
  {
   "cell_type": "markdown",
   "metadata": {},
   "source": [
    "#### Измеряем время обучения"
   ]
  },
  {
   "cell_type": "code",
   "execution_count": 105,
   "metadata": {},
   "outputs": [],
   "source": [
    "\"\"\"Сначала сформируем датафрейм tutorial_finish_df, который содержит события окончания обучения.\"\"\"\n",
    "\n",
    "tutorial_finish_df = total_events_df[total_events_df[\"event_type\"] == \"tutorial_finish\"]"
   ]
  },
  {
   "cell_type": "code",
   "execution_count": 106,
   "metadata": {},
   "outputs": [],
   "source": [
    "\"\"\"Давайте возьмём время окончания первого обучения для тех обучений, которые были закончены. \n",
    "Для этого сформируем список с идентификаторами первых обучений. Сделать мы это можем, взяв \n",
    "уникальные значения столбца tutorial_id в уже созданном датафрейме tutorial_start_df_wo_duplicates. \n",
    "Запишем эти обучения в список first_tutorial_ids:\"\"\"\n",
    "\n",
    "first_tutorial_ids = tutorial_start_df_wo_duplicates[\"tutorial_id\"].unique()"
   ]
  },
  {
   "cell_type": "code",
   "execution_count": 107,
   "metadata": {},
   "outputs": [],
   "source": [
    "\"\"\"Теперь отфильтруем датафрейм tutorial_finish_df, оставив в нём только события для таких \n",
    "обучений, которые были первыми для пользователя. Мы уже выделили идентификаторы этих обучений, \n",
    "и нам не составит труда отфильтровать датафрейм по этим идентификаторам. \"\"\"\n",
    "\n",
    "tutorial_finish_df = tutorial_finish_df[\n",
    "    tutorial_finish_df[\"tutorial_id\"].isin(first_tutorial_ids)\n",
    "]"
   ]
  },
  {
   "cell_type": "code",
   "execution_count": 108,
   "metadata": {},
   "outputs": [
    {
     "data": {
      "text/plain": [
       "1.0"
      ]
     },
     "execution_count": 108,
     "metadata": {},
     "output_type": "execute_result"
    }
   ],
   "source": [
    "\"\"\"Проверим, что для каждого пользователя содержится по одному событию завершения обучения:\"\"\"\n",
    "\n",
    "tutorial_finish_df['user_id'].value_counts().mean()"
   ]
  },
  {
   "cell_type": "markdown",
   "metadata": {},
   "source": [
    "А дальше произведём те же манипуляции, что и для предыдущих событий:\n",
    "1. Объединим датафреймы двух событий.\n",
    "2. Посчитаем разницу во времени между событиями.\n",
    "3. Выведем характеристики разницы.\n",
    "\n",
    "Получим следующий код:"
   ]
  },
  {
   "cell_type": "code",
   "execution_count": 109,
   "metadata": {},
   "outputs": [
    {
     "name": "stdout",
     "output_type": "stream",
     "text": [
      "0 days 00:03:53.174160732\n",
      "count                         9830\n",
      "mean     0 days 00:03:53.174160732\n",
      "std      0 days 00:01:44.803217992\n",
      "min                0 days 00:00:16\n",
      "25%                0 days 00:02:28\n",
      "50%                0 days 00:03:42\n",
      "75%                0 days 00:05:08\n",
      "max                0 days 00:10:06\n",
      "Name: timedelta, dtype: object\n"
     ]
    }
   ],
   "source": [
    "tutorial_finish_df = tutorial_finish_df[[\"user_id\", \"start_time\"]].rename(\n",
    "    columns={\"start_time\": \"tutorial_finish_time\"}\n",
    ")\n",
    "merged_df_2 = tutorial_start_df_wo_duplicates.merge(\n",
    "    tutorial_finish_df, on=\"user_id\", how=\"inner\"\n",
    ")\n",
    "merged_df_2[\"timedelta\"] = (\n",
    "    merged_df_2[\"tutorial_finish_time\"] - merged_df_2[\"tutorial_start_time\"]\n",
    ")\n",
    "merged_df_2.head()\n",
    "print(merged_df_2[\"timedelta\"].mean())\n",
    "print(merged_df_2[\"timedelta\"].describe())"
   ]
  },
  {
   "cell_type": "markdown",
   "metadata": {},
   "source": [
    "#### ВЫВОД\n",
    "Таким образом, 75 % пользователей проходят обучение менее чем за 5 минут 3 секунды. Неплохой результат!"
   ]
  },
  {
   "cell_type": "code",
   "execution_count": 110,
   "metadata": {},
   "outputs": [
    {
     "name": "stdout",
     "output_type": "stream",
     "text": [
      "1.0\n",
      "0 days 07:10:19.169863342\n",
      "count                         8342\n",
      "mean     0 days 07:10:19.169863342\n",
      "std      0 days 04:33:51.164488800\n",
      "min                0 days 00:08:15\n",
      "25%         0 days 03:53:16.500000\n",
      "50%                0 days 06:03:28\n",
      "75%         0 days 09:34:58.500000\n",
      "max                1 days 18:48:25\n",
      "Name: timedelta, dtype: object\n"
     ]
    }
   ],
   "source": [
    "\"\"\"Определяем время между registration и level_choice\n",
    "По такому же алгоритму рассчитаем время между выбором уровня сложности и регистрацией:\"\"\"\n",
    "\n",
    "level_choice_df = total_events_df[total_events_df[\"event_type\"] == \"level_choice\"]\n",
    "print(level_choice_df[\"user_id\"].value_counts().mean())\n",
    "level_choice_df = level_choice_df[[\"user_id\", \"start_time\"]].rename(\n",
    "    columns={\"start_time\": \"level_choice_time\"}\n",
    ")\n",
    "merged_df_3 = registration_df.merge(level_choice_df, on=\"user_id\", how=\"inner\")\n",
    "merged_df_3[\"timedelta\"] = (\n",
    "    merged_df_3[\"level_choice_time\"] - merged_df_3[\"registration_time\"]\n",
    ")\n",
    "print(merged_df_3[\"timedelta\"].mean())\n",
    "print(merged_df_3[\"timedelta\"].describe())"
   ]
  },
  {
   "cell_type": "code",
   "execution_count": null,
   "metadata": {},
   "outputs": [
    {
     "name": "stdout",
     "output_type": "stream",
     "text": [
      "<class 'pandas.core.frame.DataFrame'>\n",
      "Int64Index: 66959 entries, 51405 to 118364\n",
      "Data columns (total 6 columns):\n",
      " #   Column          Non-Null Count  Dtype         \n",
      "---  ------          --------------  -----         \n",
      " 0   id              66959 non-null  int64         \n",
      " 1   event_type      66959 non-null  object        \n",
      " 2   selected_level  8342 non-null   object        \n",
      " 3   start_time      66959 non-null  datetime64[ns]\n",
      " 4   tutorial_id     32954 non-null  float64       \n",
      " 5   user_id         66959 non-null  int64         \n",
      "dtypes: datetime64[ns](1), float64(1), int64(2), object(2)\n",
      "memory usage: 3.6+ MB\n"
     ]
    },
    {
     "name": "stderr",
     "output_type": "stream",
     "text": [
      "<ipython-input-45-3c377d7b8a26>:8: SettingWithCopyWarning: \n",
      "A value is trying to be set on a copy of a slice from a DataFrame.\n",
      "Try using .loc[row_indexer,col_indexer] = value instead\n",
      "\n",
      "See the caveats in the documentation: https://pandas.pydata.org/pandas-docs/stable/user_guide/indexing.html#returning-a-view-versus-a-copy\n",
      "  events_df['start_time'] = pd.to_datetime(events_df['start_time'])\n"
     ]
    }
   ],
   "source": [
    "# условие регестрации в 2018\n",
    "mask = (event['start_time']>='2018-01-01') & (event['start_time']<'2019-01-01') & (event['event_type']=='registration')\n",
    "# список пользователей, зарег. в 2018\n",
    "registered = event[mask]['user_id'].to_list()\n",
    "# новая таблица events. Метод isin фильтрация по списку значений\n",
    "events_df = event[event['user_id'].isin(registered)]\n",
    "# приведение даты к формату\n",
    "events_df['start_time'] = pd.to_datetime(events_df['start_time'])\n",
    "#просмотр результата\n",
    "events_df.info()\n"
   ]
  },
  {
   "cell_type": "markdown",
   "metadata": {},
   "source": [
    "→ Сколько в среднем для всех пользователей проходит времени между событием выбора уровня сложности тренировки (level_choice) до события выбора набора бесплатных вопросов (pack_choice)?"
   ]
  },
  {
   "cell_type": "code",
   "execution_count": 111,
   "metadata": {},
   "outputs": [
    {
     "name": "stdout",
     "output_type": "stream",
     "text": [
      "1.0\n",
      "0 days 00:05:17.128464354\n",
      "count                         5737\n",
      "mean     0 days 00:05:17.128464354\n",
      "std      0 days 00:02:43.923107804\n",
      "min                0 days 00:00:19\n",
      "25%                0 days 00:03:05\n",
      "50%                0 days 00:04:57\n",
      "75%                0 days 00:07:08\n",
      "max                0 days 00:15:48\n",
      "Name: timedelta, dtype: object\n"
     ]
    }
   ],
   "source": [
    "pack_choice_df = total_events_df[total_events_df[\"event_type\"] == \"pack_choice\"]\n",
    "print(pack_choice_df[\"user_id\"].value_counts().mean())\n",
    "pack_choice_df = pack_choice_df[[\"user_id\", \"start_time\"]].rename(\n",
    "    columns={\"start_time\": \"pack_choice_time\"}\n",
    ")\n",
    "merged_df_4 = level_choice_df.merge(pack_choice_df, on=\"user_id\", how=\"inner\")\n",
    "merged_df_4[\"timedelta\"] = (\n",
    "    merged_df_4[\"pack_choice_time\"] - merged_df_4[\"level_choice_time\"]\n",
    ")\n",
    "print(merged_df_4[\"timedelta\"].mean())\n",
    "print(merged_df_4[\"timedelta\"].describe())"
   ]
  },
  {
   "cell_type": "markdown",
   "metadata": {},
   "source": [
    "→ Сколько в среднем для всех пользователей проходит времени между событием выбора бесплатных вопросов (pack_choice) и первой оплатой (purchase)?"
   ]
  },
  {
   "cell_type": "code",
   "execution_count": 123,
   "metadata": {},
   "outputs": [
    {
     "name": "stdout",
     "output_type": "stream",
     "text": [
      "1.0\n",
      "3 days 17:46:53.403125\n",
      "count                         1600\n",
      "mean        3 days 17:46:53.403125\n",
      "std      2 days 04:37:20.225124289\n",
      "min                0 days 00:44:50\n",
      "25%         1 days 21:24:13.250000\n",
      "50%         3 days 12:51:25.500000\n",
      "75%         5 days 09:42:13.750000\n",
      "max               10 days 18:33:59\n",
      "Name: timedelta, dtype: object\n"
     ]
    }
   ],
   "source": [
    "purchase_pack_df = total_events_df[total_events_df[\"event_type\"] == \"purchase\"]\n",
    "print(purchase_pack_df[\"user_id\"].value_counts().mean())\n",
    "purchase_pack_df = purchase_pack_df[[\"user_id\", \"event_datetime\"]].rename(\n",
    "    columns={\"event_datetime\": \"purchase_time\"}\n",
    ")\n",
    "merged_df_5 = purchase_pack_df.merge(pack_choice_df, on=\"user_id\", how=\"inner\")\n",
    "merged_df_5[\"timedelta\"] = (\n",
    "merged_df_5[\"purchase_time\"] - merged_df_5[\"pack_choice_time\"]\n",
    ")\n",
    "print(merged_df_5[\"timedelta\"].mean())\n",
    "print(merged_df_5[\"timedelta\"].describe())"
   ]
  },
  {
   "cell_type": "markdown",
   "metadata": {},
   "source": [
    "## 38.8 PRACTICE. Проверка аналитической гипотезы"
   ]
  },
  {
   "cell_type": "markdown",
   "metadata": {},
   "source": [
    "Определим, существует ли различие в частоте и средней величине оплат между тремя группами пользователей:\n",
    "\n",
    "1. пользователи, которые прошли обучение хотя бы раз;\n",
    "2. пользователи, которые начали обучение, но не прошли его ни разу;\n",
    "3. пользователи, которые не начинали обучение, а сразу же перешли к выбору уровня сложности."
   ]
  },
  {
   "cell_type": "markdown",
   "metadata": {},
   "source": [
    "#### Ищем пользователей, прошедших обучение хотя бы раз"
   ]
  },
  {
   "cell_type": "code",
   "execution_count": 124,
   "metadata": {},
   "outputs": [
    {
     "name": "stdout",
     "output_type": "stream",
     "text": [
      "10250\n"
     ]
    }
   ],
   "source": [
    "\"\"\"Определим пользователей, которые прошли обучение хотя бы раз. Запишем идентификаторы этих\n",
    "пользователей в переменную users_with_finished_tutorial. Это пользователи, у которых есть \n",
    "событие tutorial_finish:\"\"\"\n",
    "\n",
    "users_with_finished_tutorial = total_events_df[\n",
    "    total_events_df[\"event_type\"] == \"tutorial_finish\"\n",
    "][\"user_id\"].unique()\n",
    "print(len(users_with_finished_tutorial))"
   ]
  },
  {
   "cell_type": "markdown",
   "metadata": {},
   "source": [
    "#### Ищем пользователей, которые начали, но не закончили обучение"
   ]
  },
  {
   "cell_type": "code",
   "execution_count": 125,
   "metadata": {},
   "outputs": [
    {
     "name": "stdout",
     "output_type": "stream",
     "text": [
      "11858\n",
      "1608\n",
      "True\n"
     ]
    }
   ],
   "source": [
    "\"\"\"Затем найдём пользователей, которые начали обучение, но не прошли его ни разу. Это будут \n",
    "пользователи, у которых есть событие tutorial_start, но нет события tutorial_finish. Проще \n",
    "всего сначала найти пользователей, у которых есть событие tutorial_start, а после убрать \n",
    "из списка таких пользователей, у которых есть событие tutorial_finish. В этом нам поможет \n",
    "работа со множествами:\"\"\"\n",
    "\n",
    "users_with_started_tutorial = total_events_df[\n",
    "    total_events_df[\"event_type\"] == \"tutorial_start\"\n",
    "][\"user_id\"].unique()\n",
    "set_users_with_started_tutorial = set(users_with_started_tutorial)\n",
    "set_users_not_finished_but_started_tutorial = (\n",
    "    set_users_with_started_tutorial.difference(set(users_with_finished_tutorial))\n",
    ")\n",
    "\n",
    "print(len(set_users_with_started_tutorial))\n",
    "print(len(set_users_not_finished_but_started_tutorial))\n",
    "print(\n",
    "    len(set_users_with_started_tutorial) - len(set(users_with_finished_tutorial))\n",
    "    == len(set_users_not_finished_but_started_tutorial)\n",
    ")"
   ]
  },
  {
   "cell_type": "markdown",
   "metadata": {},
   "source": [
    "#### Ищем пользователей, сразу выбравших уровень сложности"
   ]
  },
  {
   "cell_type": "code",
   "execution_count": 126,
   "metadata": {},
   "outputs": [
    {
     "name": "stdout",
     "output_type": "stream",
     "text": [
      "8068\n",
      "True\n"
     ]
    }
   ],
   "source": [
    "\"\"\"последняя группа пользователей — те, кто ни разу не проходил обучение. У таких пользователей \n",
    "отсутствует событие tutorial_start. Поэтому мы можем просто взять и убрать из множества всех \n",
    "пользователей множество set_users_with_started_tutorial:\"\"\"\n",
    "\n",
    "all_users = total_events_df[\"user_id\"].unique()\n",
    "set_all_users = set(all_users)\n",
    "set_users_not_started_tutorial = set_all_users.difference(\n",
    "    set_users_with_started_tutorial\n",
    ")\n",
    "print(len(set_users_not_started_tutorial))\n",
    "print(\n",
    "    len(set_all_users) - len(set_users_with_started_tutorial)\n",
    "    == len(set_users_not_started_tutorial)\n",
    ")"
   ]
  },
  {
   "cell_type": "markdown",
   "metadata": {},
   "source": [
    "#### Проверяем результат"
   ]
  },
  {
   "cell_type": "code",
   "execution_count": 127,
   "metadata": {},
   "outputs": [
    {
     "data": {
      "text/plain": [
       "True"
      ]
     },
     "execution_count": 127,
     "metadata": {},
     "output_type": "execute_result"
    }
   ],
   "source": [
    "\"\"\"Просуммировав длину всех множеств пользователей, мы должны получить исходное количество\n",
    "всех пользователей:\"\"\"\n",
    "\n",
    "len(set_users_not_finished_but_started_tutorial) + len(set_users_not_started_tutorial) + len(users_with_finished_tutorial) == len(set_all_users)"
   ]
  },
  {
   "cell_type": "markdown",
   "metadata": {},
   "source": [
    "#### Считаем пользователей, которые завершили обучение и совершили оплату. Считаем средний размер платежа разных групп"
   ]
  },
  {
   "cell_type": "code",
   "execution_count": 137,
   "metadata": {},
   "outputs": [],
   "source": [
    "\"\"\"посчитаем, сколько пользователей, которые завершили обучение, совершили оплату. Сначала \n",
    "сделаем датафрейм purchase_df_1, в котором будут данные по оплатам пользователей, которые \n",
    "завершили обучение.\"\"\"\n",
    "\n",
    "purchase_df_1 = purchase_df[purchase_df[\"user_id\"].isin(users_with_finished_tutorial)]"
   ]
  },
  {
   "cell_type": "code",
   "execution_count": 130,
   "metadata": {},
   "outputs": [
    {
     "data": {
      "text/plain": [
       "1447"
      ]
     },
     "execution_count": 130,
     "metadata": {},
     "output_type": "execute_result"
    }
   ],
   "source": [
    "\"\"\"Затем посчитаем, сколько пользователей в этом датафрейме.\"\"\"\n",
    "\n",
    "purchase_df_1['user_id'].nunique()"
   ]
  },
  {
   "cell_type": "code",
   "execution_count": 131,
   "metadata": {},
   "outputs": [
    {
     "name": "stdout",
     "output_type": "stream",
     "text": [
      "Процент пользователей, которые оплатили тренировки (от числа пользователей, завершивших обучение): 14.12%\n"
     ]
    }
   ],
   "source": [
    "\"\"\"Поделив количество пользователей в датафрейме purchase_df_1 на общее количество пользователей, \n",
    "которые завершили обучение, мы получим процент оплативших пользователей в этой группе.\"\"\"\n",
    "\n",
    "percent_of_purchase_1 = purchase_df_1[\"user_id\"].nunique() / len(\n",
    "    users_with_finished_tutorial\n",
    ")\n",
    "print(\n",
    "    \"Процент пользователей, которые оплатили тренировки (от числа пользователей, завершивших обучение): {:.2%}\".format(\n",
    "        percent_of_purchase_1\n",
    "    )\n",
    ")"
   ]
  },
  {
   "cell_type": "code",
   "execution_count": 132,
   "metadata": {},
   "outputs": [
    {
     "data": {
      "text/plain": [
       "110.98825155494126"
      ]
     },
     "execution_count": 132,
     "metadata": {},
     "output_type": "execute_result"
    }
   ],
   "source": [
    "\"\"\"Дальше найдём средний размер платежа для этих пользователей.\"\"\"\n",
    "\n",
    "purchase_df_1['amount'].mean()"
   ]
  },
  {
   "cell_type": "code",
   "execution_count": 133,
   "metadata": {},
   "outputs": [
    {
     "name": "stdout",
     "output_type": "stream",
     "text": [
      "131\n",
      "Процент пользователей, которые оплатили тренировки (от числа пользователей, начавших обучение, но не завершивших): 8.15%\n"
     ]
    }
   ],
   "source": [
    "\"\"\"Давайте сделаем датафрейм purchase_df_2, в котором будут оплаты пользователей, начавших, \n",
    "кончивших обучение. И найдём, какой процент таких пользователей оплачивает пакеты вопросов, \n",
    "от общего числа пользователей:\"\"\"\n",
    "\n",
    "purchase_df_2 = purchase_df[\n",
    "    purchase_df[\"user_id\"].isin(set_users_not_finished_but_started_tutorial)\n",
    "]\n",
    "print(purchase_df_2[\"user_id\"].nunique())\n",
    "percent_of_purchase_2 = purchase_df_2[\"user_id\"].nunique() / len(\n",
    "    set_users_not_finished_but_started_tutorial\n",
    ")\n",
    "print(\n",
    "    \"Процент пользователей, которые оплатили тренировки (от числа пользователей, начавших обучение, но не завершивших): {:.2%}\".format(\n",
    "        percent_of_purchase_2\n",
    "    )\n",
    ")"
   ]
  },
  {
   "cell_type": "code",
   "execution_count": 134,
   "metadata": {},
   "outputs": [
    {
     "data": {
      "text/plain": [
       "104.9618320610687"
      ]
     },
     "execution_count": 134,
     "metadata": {},
     "output_type": "execute_result"
    }
   ],
   "source": [
    "\"\"\"А что у нас со средним чеком?\"\"\"\n",
    "\n",
    "purchase_df_2['amount'].mean()"
   ]
  },
  {
   "cell_type": "code",
   "execution_count": 135,
   "metadata": {},
   "outputs": [
    {
     "name": "stdout",
     "output_type": "stream",
     "text": [
      "22\n",
      "Процент пользователей, которые оплатили тренировки (от числа пользователей, не начаинавших обучение): 0.27%\n"
     ]
    }
   ],
   "source": [
    "\"\"\"Какой процент пользователей, ни разу не начинавших обучение, совершает оплаты?\"\"\"\n",
    "\n",
    "purchase_df_3 = purchase_df[\n",
    "    purchase_df[\"user_id\"].isin(set_users_not_started_tutorial)\n",
    "]\n",
    "print(purchase_df_3[\"user_id\"].nunique())\n",
    "percent_of_purchase_3 = purchase_df_3[\"user_id\"].nunique() / len(\n",
    "    set_users_not_started_tutorial\n",
    ")\n",
    "print(\n",
    "    \"Процент пользователей, которые оплатили тренировки (от числа пользователей, не начаинавших обучение): {:.2%}\".format(\n",
    "        percent_of_purchase_3\n",
    "    )\n",
    ")"
   ]
  },
  {
   "cell_type": "code",
   "execution_count": 136,
   "metadata": {},
   "outputs": [
    {
     "data": {
      "text/plain": [
       "128.4090909090909"
      ]
     },
     "execution_count": 136,
     "metadata": {},
     "output_type": "execute_result"
    }
   ],
   "source": [
    "\"\"\"Средний чек таких пользователей\"\"\"\n",
    "\n",
    "purchase_df_3['amount'].mean()"
   ]
  },
  {
   "cell_type": "markdown",
   "metadata": {},
   "source": [
    "#### DSDJL\n",
    "Как мы видим, процент пользователей, которые завершили обучение и совершили оплату, выше, чем процент пользователей, которые не начали обучение или не закончили его.\n",
    "\n",
    "Это говорит о том, что факт прохождения обучения влияет на дальнейшую мотивацию использовать приложение. Существенной разницы в среднем чеке при этом не наблюдается, то есть обучение увеличивает вовлечённость, но выбор количества платных пакетов зависит индивидуально от пользователя."
   ]
  },
  {
   "cell_type": "markdown",
   "metadata": {},
   "source": [
    "## 38.9 PROJECT. Исследование поведения пользователей"
   ]
  },
  {
   "cell_type": "markdown",
   "metadata": {},
   "source": [
    "в файле: gd3.ipynb"
   ]
  }
 ],
 "metadata": {
  "interpreter": {
   "hash": "bc9092704b76bcd3825fbb7a05cb662b50152522ace34f313990aca7aedee1c7"
  },
  "kernelspec": {
   "display_name": "Python 3.8.8 64-bit ('base': conda)",
   "language": "python",
   "name": "python3"
  },
  "language_info": {
   "codemirror_mode": {
    "name": "ipython",
    "version": 3
   },
   "file_extension": ".py",
   "mimetype": "text/x-python",
   "name": "python",
   "nbconvert_exporter": "python",
   "pygments_lexer": "ipython3",
   "version": "3.8.8"
  },
  "orig_nbformat": 4
 },
 "nbformat": 4,
 "nbformat_minor": 2
}
