{
 "cells": [
  {
   "cell_type": "markdown",
   "metadata": {},
   "source": [
    "# 37. PYT. Продвинутые приёмы работы с данными в Pandas"
   ]
  },
  {
   "cell_type": "markdown",
   "metadata": {},
   "source": [
    "В первой части мы поговорим о продвинутых методах Pandas, позволяющих производить более детальный анализ зависимостей в данных и делать на их основе выводы. \n",
    "\n",
    "Вторую часть посвятим работе с несколькими таблицами и их объединению."
   ]
  },
  {
   "cell_type": "code",
   "execution_count": null,
   "metadata": {},
   "outputs": [],
   "source": [
    "import pandas as pd\n",
    "\n",
    "melb_df = pd.read_csv('data/melb_data_fe.csv')\n",
    "display(melb_df.info())\n",
    "melb_df.head()"
   ]
  },
  {
   "cell_type": "markdown",
   "metadata": {},
   "source": [
    "Условимся, что категориальными будут считаться признаки, у которых число уникальных категорий меньше 150. При этом к категориальным не будут относиться следующие столбцы: Date, Rooms, Bedroom, Bathroom, Car.\n",
    "\n",
    "Преобразуйте выделенные столбцы (Date, Rooms, Bedroom, Bathroom, Car) в тип данных category.\n",
    "В качестве ответа запишите результирующее количество столбцов, которые имеют тип данных category."
   ]
  },
  {
   "cell_type": "code",
   "execution_count": null,
   "metadata": {},
   "outputs": [],
   "source": [
    "cols_to_exclude = ['Date', 'Rooms', 'Bedroom', 'Bathroom', 'Car'] # список столбцов, которые мы не берём во внимание\n",
    "max_unique_count = 150 # задаём максимальное число уникальных категорий\n",
    "for col in melb_df.columns: # цикл по именам столбцов\n",
    "    if melb_df[col].nunique() < max_unique_count and col not in cols_to_exclude: # проверяем условие\n",
    "        melb_df[col] = melb_df[col].astype('category') # преобразуем тип столбца\n",
    "display(melb_df.info())"
   ]
  },
  {
   "cell_type": "markdown",
   "metadata": {},
   "source": [
    "Преобразуйте столбец Date в формат datetime и выделите квартал (quarter) продажи объектов недвижимости. Найдите второй по популярности квартал продажи.\n",
    "В качестве ответа запишите число объектов, проданных в этом квартале."
   ]
  },
  {
   "cell_type": "code",
   "execution_count": 59,
   "metadata": {},
   "outputs": [
    {
     "data": {
      "text/plain": [
       "4359"
      ]
     },
     "execution_count": 59,
     "metadata": {},
     "output_type": "execute_result"
    }
   ],
   "source": [
    "melb_df['Date'] = pd.to_datetime(melb_df['Date'])\n",
    "melb_df['Quarter'] = melb_df['Date'].dt.quarter\n",
    "melb_df['Quarter'].value_counts()\n",
    "melb_df[melb_df['Quarter']  == 2]['Price'].count()"
   ]
  },
  {
   "cell_type": "code",
   "execution_count": null,
   "metadata": {},
   "outputs": [
    {
     "data": {
      "text/plain": [
       "4359"
      ]
     },
     "metadata": {},
     "output_type": "display_data"
    }
   ],
   "source": [
    "melb_df['Quarter'] = melb_df['Date'].dt.quarter\n",
    "melb_df['Quarter'].value_counts()\n",
    "melb_df[melb_df['Quarter']  == 2]['Price'].count()\n"
   ]
  },
  {
   "cell_type": "markdown",
   "metadata": {},
   "source": [
    "## 37.2 Сортировка данных в DataFrame"
   ]
  },
  {
   "cell_type": "markdown",
   "metadata": {},
   "source": [
    "### Основные параметры метода sort_values()"
   ]
  },
  {
   "cell_type": "markdown",
   "metadata": {},
   "source": [
    "→ by — задаёт имя или список имён столбцов, по значениям которых производится сортировка.\n",
    "\n",
    "→ axis — задаёт ось, по которой производится сортировка (0 — строки, 1 — столбцы). По умолчанию сортировка производится по строкам.\n",
    "\n",
    "→ ascending — задаёт сортировку по возрастанию (от меньшего к большему): по умолчанию параметр выставлен на True. Для сортировки по убыванию (от большего к меньшему) необходимо изменить значение на False.\n",
    "\n",
    "→ ignore_index — задаёт создание новых индексов в таблице. По умолчанию выставлен на False и сохраняет индексы изначальной таблицы.\n",
    "\n",
    "→ inplace — задаёт замену исходной таблицы на отсортированную. По умолчанию параметр выставлен на False, то есть замены не производится. Чтобы переопределить исходную таблицу на отсортированную, необходимо выставить этот параметр на True."
   ]
  },
  {
   "cell_type": "code",
   "execution_count": null,
   "metadata": {},
   "outputs": [],
   "source": [
    "# СОРТИРОВКА ПО ЗНАЧЕНИЯМ ОДНОГО СТОЛБЦА\n",
    "\n",
    "melb_df.sort_values(by='Price').head(10)\n",
    "melb_df.sort_values(by='Date', ascending=False)"
   ]
  },
  {
   "cell_type": "code",
   "execution_count": null,
   "metadata": {},
   "outputs": [],
   "source": [
    "# СОРТИРОВКА ПО ЗНАЧЕНИЯМ НЕСКОЛЬКИХ СТОЛБЦОВ\n",
    "\n",
    "\"\"\"Отсортируем таблицу сначала по возрастанию расстояния от центра города (Distance), \n",
    "а затем — по возрастанию цены объекта (Price).\n",
    "Чтобы вывод был более наглядным, выделим каждую десятую строку из столбцов Distance \n",
    "и Price результирующей таблицы.\"\"\"\n",
    "\n",
    "melb_df.sort_values(by=['Distance', 'Price']).loc[::10, ['Distance', 'Price']]"
   ]
  },
  {
   "cell_type": "code",
   "execution_count": null,
   "metadata": {},
   "outputs": [],
   "source": [
    "melb_df.sort_values(by=['Price', 'Distance']).loc[::10, ['Distance', 'Price']]"
   ]
  },
  {
   "cell_type": "code",
   "execution_count": null,
   "metadata": {},
   "outputs": [],
   "source": [
    "# КОМБИНИРОВАНИЕ СОРТИРОВКИ С ФИЛЬТРАЦИЕЙ\n",
    "\n",
    "\"\"\" Найдём информацию о таунхаусах (Type), проданных компанией (SellerG) McGrath, \n",
    "у которых коэффициент соотношения площадей здания и участка (AreaRatio) меньше -0.8. \n",
    "Результат отсортируем по дате продажи (Date) в порядке возрастания, а после проведём \n",
    "сортировку по убыванию коэффициента соотношения площадей. Также обновим старые \n",
    "индексы на новые, установив параметр ignore_index на True.\n",
    "Для наглядности результата выберем из таблицы только столбцы SellerG и AreaRatio.\"\"\"\n",
    "\n",
    "mask1 = melb_df['AreaRatio'] < -0.8\n",
    "mask2 = melb_df['Type'] == 'townhouse'\n",
    "mask3 = melb_df['SellerG'] == 'McGrath'\n",
    "melb_df[mask1 & mask2 & mask3].sort_values(\n",
    "    by=['Date', 'AreaRatio'],\n",
    "    ascending=[True, False],\n",
    "    ignore_index=True\n",
    ").loc[:, ['Date', 'AreaRatio']]"
   ]
  },
  {
   "cell_type": "code",
   "execution_count": 35,
   "metadata": {},
   "outputs": [
    {
     "data": {
      "text/plain": [
       "126"
      ]
     },
     "execution_count": 35,
     "metadata": {},
     "output_type": "execute_result"
    }
   ],
   "source": [
    "\"\"\"Задание 37.2.2 Произведите сортировку столбца AreaRatio по убыванию. \n",
    "При этом индексы полученной таблицы замените на новые.\n",
    "Какое значение площади здания находится в строке 1558?\"\"\"\n",
    "\n",
    "int(melb_df.sort_values(by='AreaRatio', ignore_index=True, ascending=False).loc[1558, 'BuildingArea'])"
   ]
  },
  {
   "cell_type": "code",
   "execution_count": 34,
   "metadata": {},
   "outputs": [
    {
     "data": {
      "text/plain": [
       "house        9449\n",
       "unit         3017\n",
       "townhouse    1114\n",
       "Name: Type, dtype: int64"
      ]
     },
     "execution_count": 34,
     "metadata": {},
     "output_type": "execute_result"
    }
   ],
   "source": [
    "melb_df['Type'].value_counts()"
   ]
  },
  {
   "cell_type": "code",
   "execution_count": 36,
   "metadata": {},
   "outputs": [
    {
     "data": {
      "text/plain": [
       "1300000.0"
      ]
     },
     "execution_count": 36,
     "metadata": {},
     "output_type": "execute_result"
    }
   ],
   "source": [
    "\"\"\"Найдите таунхаусы (соответствующее значение в столбце Type) с количеством жилых \n",
    "комнат (Rooms) больше двух. Отсортируйте полученную таблицу сначала по возрастанию \n",
    "числа комнат, а затем по убыванию средней площади комнат (MeanRoomsSquare). Индексы \n",
    "таблицы замените на новые. Какая цена будет у объекта в строке 18?\"\"\"\n",
    "\n",
    "mask1 = melb_df['Rooms'] > 2\n",
    "mask2 = melb_df['Type'] == 'townhouse'\n",
    "melb_df[mask1 & mask2].sort_values(\n",
    "    by=['Rooms', 'MeanRoomsSquare'],\n",
    "    ascending=[True, False],\n",
    "    ignore_index=True\n",
    ").loc[18, 'Price']"
   ]
  },
  {
   "cell_type": "markdown",
   "metadata": {},
   "source": [
    "## 37.3 Группировка данных в DataFrame"
   ]
  },
  {
   "cell_type": "markdown",
   "metadata": {},
   "source": [
    "### МЕТОД GROUPBY()"
   ]
  },
  {
   "cell_type": "markdown",
   "metadata": {},
   "source": [
    "→ by — задаёт имя или список имён столбцов, по которым производится группировка.\n",
    "\n",
    "→ axis — задаёт ось, по которой производится группировка (0 — строки, 1 — столбцы). По умолчанию группировка производится по строкам.\n",
    "\n",
    "→ as_index — задаёт, добавляется ли дополнительный индекс к таблице. По умолчанию установлен на True."
   ]
  },
  {
   "cell_type": "code",
   "execution_count": 40,
   "metadata": {},
   "outputs": [
    {
     "data": {
      "text/plain": [
       "Type\n",
       "house        1.242665e+06\n",
       "townhouse    9.337351e+05\n",
       "unit         6.051275e+05\n",
       "Name: Price, dtype: float64"
      ]
     },
     "execution_count": 40,
     "metadata": {},
     "output_type": "execute_result"
    }
   ],
   "source": [
    "# ГРУППИРОВКА ДАННЫХ ПО ОДНОМУ КРИТЕРИЮ С ОДНОЙ АГРЕГАЦИЕЙ\n",
    "\n",
    "melb_df.groupby(by='Type', as_index=False).mean()\n",
    "melb_df.groupby('Type')['Price'].mean()"
   ]
  },
  {
   "cell_type": "code",
   "execution_count": null,
   "metadata": {},
   "outputs": [],
   "source": [
    "\"\"\"Теперь давайте выясним, какие регионы (Regionname) наиболее удалены от центра \n",
    "Мельбурна.Для это го найдём минимальное значение расстояния от центра города до \n",
    "объекта в зависимости от его региона. Результат отсортируем по убыванию расстояния.\"\"\"\n",
    "\n",
    "melb_df.groupby('Regionname')['Distance'].min().sort_values(ascending=False)"
   ]
  },
  {
   "cell_type": "code",
   "execution_count": null,
   "metadata": {},
   "outputs": [],
   "source": [
    "# ГРУППИРОВКА ДАННЫХ ПО ОДНОМУ КРИТЕРИЮ С НЕСКОЛЬКИМИ АГРЕГАЦИЯМИ\n",
    "\n",
    "\"\"\"Давайте построим таблицу для анализа продаж по месяцам. Для этого найдём \n",
    "количество продаж, а также среднее и максимальное значения цен объектов недвижимости \n",
    "(Price), сгруппированных по номеру месяца продажи (MonthSale). Результат отсортируем\n",
    "по количеству продаж в порядке убывания:\"\"\"\n",
    "\n",
    "melb_df.groupby('MonthSale')['Price'].agg(\n",
    "    ['count', 'mean', 'min', 'max']\n",
    ").sort_values(by='count', ascending=False)"
   ]
  },
  {
   "cell_type": "markdown",
   "metadata": {},
   "source": [
    "В результате применения метода agg(), в который мы передали список с названиями \n",
    "интересующих нас агрегирующих функций, мы получаем DataFrame со столбцами \n",
    "count, mean и max, где для каждого месяца рассчитаны соответствующие параметры. \n",
    "Результат сортируем по столбцу count"
   ]
  },
  {
   "cell_type": "code",
   "execution_count": null,
   "metadata": {},
   "outputs": [],
   "source": [
    "# полная информация обо всех основных статистических характеристиках внутри каждой группы\n",
    "melb_df.groupby('MonthSale')['Price'].agg('describe')"
   ]
  },
  {
   "cell_type": "code",
   "execution_count": null,
   "metadata": {},
   "outputs": [],
   "source": [
    "# метод agg() поддерживает использование и других функций. Передадим дополнительно \n",
    "# встроенную функцию set, чтобы получить множество из агентств недвижимости, которые\n",
    "# работают в каждом из регионов\n",
    "melb_df.groupby('Regionname')['SellerG'].agg(\n",
    "    \t\t['nunique', set]\n",
    ")"
   ]
  },
  {
   "cell_type": "code",
   "execution_count": null,
   "metadata": {},
   "outputs": [],
   "source": [
    "# Задание 37.3.1 Сгруппируйте данные по признаку количества комнат и найдите среднюю \n",
    "# цену объектов недвижимости в каждой группе.У квартир со сколькими комнатами \n",
    "# средняя цена наибольшая?\n",
    "melb_df.groupby('Rooms')['Price'].mean().sort_values(ascending=False)"
   ]
  },
  {
   "cell_type": "code",
   "execution_count": null,
   "metadata": {},
   "outputs": [],
   "source": [
    "# Задание 37.3.2 Какой регион имеет наименьшую протяжённость по географической \n",
    "# широте (Lattitude)?\n",
    "melb_df.groupby('Regionname')['Lattitude'].std().sort_values()"
   ]
  },
  {
   "cell_type": "code",
   "execution_count": null,
   "metadata": {},
   "outputs": [],
   "source": [
    "# Задание 37.3.3 Какая риелторская компания (SellerG) имеет наименьшую общую прибыль \n",
    "# за период с 1 мая по 1 сентября (включительно) 2017 года? Примечание.\n",
    "# Не забудьте вести даты в формат datetime.\n",
    "\n",
    "date1 = pd.to_datetime('2017-05-01')\n",
    "date2 = pd.to_datetime('2017-09-01')\n",
    "mask = (melb_df['Date'] >= date1) & (melb_df['Date'] <= date2)\n",
    "melb_df[mask].groupby('SellerG')['Price'].sum().sort_values(ascending=True)"
   ]
  },
  {
   "cell_type": "markdown",
   "metadata": {},
   "source": [
    "## 37.4 Сводные таблицы"
   ]
  },
  {
   "cell_type": "code",
   "execution_count": 64,
   "metadata": {},
   "outputs": [
    {
     "data": {
      "text/html": [
       "<div>\n",
       "<style scoped>\n",
       "    .dataframe tbody tr th:only-of-type {\n",
       "        vertical-align: middle;\n",
       "    }\n",
       "\n",
       "    .dataframe tbody tr th {\n",
       "        vertical-align: top;\n",
       "    }\n",
       "\n",
       "    .dataframe thead th {\n",
       "        text-align: right;\n",
       "    }\n",
       "</style>\n",
       "<table border=\"1\" class=\"dataframe\">\n",
       "  <thead>\n",
       "    <tr style=\"text-align: right;\">\n",
       "      <th></th>\n",
       "      <th>Price</th>\n",
       "      <th>BuildingArea</th>\n",
       "    </tr>\n",
       "    <tr>\n",
       "      <th>Rooms</th>\n",
       "      <th></th>\n",
       "      <th></th>\n",
       "    </tr>\n",
       "  </thead>\n",
       "  <tbody>\n",
       "    <tr>\n",
       "      <th>1</th>\n",
       "      <td>385000.0</td>\n",
       "      <td>107.0</td>\n",
       "    </tr>\n",
       "    <tr>\n",
       "      <th>2</th>\n",
       "      <td>690000.0</td>\n",
       "      <td>126.0</td>\n",
       "    </tr>\n",
       "    <tr>\n",
       "      <th>3</th>\n",
       "      <td>950000.0</td>\n",
       "      <td>126.0</td>\n",
       "    </tr>\n",
       "    <tr>\n",
       "      <th>4</th>\n",
       "      <td>1285000.0</td>\n",
       "      <td>142.0</td>\n",
       "    </tr>\n",
       "    <tr>\n",
       "      <th>5</th>\n",
       "      <td>1660000.0</td>\n",
       "      <td>176.0</td>\n",
       "    </tr>\n",
       "    <tr>\n",
       "      <th>6</th>\n",
       "      <td>1800000.0</td>\n",
       "      <td>126.0</td>\n",
       "    </tr>\n",
       "    <tr>\n",
       "      <th>7</th>\n",
       "      <td>1496000.0</td>\n",
       "      <td>216.5</td>\n",
       "    </tr>\n",
       "    <tr>\n",
       "      <th>8</th>\n",
       "      <td>1515000.0</td>\n",
       "      <td>126.0</td>\n",
       "    </tr>\n",
       "    <tr>\n",
       "      <th>10</th>\n",
       "      <td>900000.0</td>\n",
       "      <td>126.0</td>\n",
       "    </tr>\n",
       "  </tbody>\n",
       "</table>\n",
       "</div>"
      ],
      "text/plain": [
       "           Price  BuildingArea\n",
       "Rooms                         \n",
       "1       385000.0         107.0\n",
       "2       690000.0         126.0\n",
       "3       950000.0         126.0\n",
       "4      1285000.0         142.0\n",
       "5      1660000.0         176.0\n",
       "6      1800000.0         126.0\n",
       "7      1496000.0         216.5\n",
       "8      1515000.0         126.0\n",
       "10      900000.0         126.0"
      ]
     },
     "execution_count": 64,
     "metadata": {},
     "output_type": "execute_result"
    }
   ],
   "source": [
    "# построить зависимость медианной цены и площади здания от числа комнат\n",
    "melb_df.groupby(['Rooms'])[['Price', 'BuildingArea']].median()"
   ]
  },
  {
   "cell_type": "code",
   "execution_count": 67,
   "metadata": {},
   "outputs": [
    {
     "data": {
      "text/html": [
       "<div>\n",
       "<style scoped>\n",
       "    .dataframe tbody tr th:only-of-type {\n",
       "        vertical-align: middle;\n",
       "    }\n",
       "\n",
       "    .dataframe tbody tr th {\n",
       "        vertical-align: top;\n",
       "    }\n",
       "\n",
       "    .dataframe thead th {\n",
       "        text-align: right;\n",
       "    }\n",
       "</style>\n",
       "<table border=\"1\" class=\"dataframe\">\n",
       "  <thead>\n",
       "    <tr style=\"text-align: right;\">\n",
       "      <th>Type</th>\n",
       "      <th>house</th>\n",
       "      <th>townhouse</th>\n",
       "      <th>unit</th>\n",
       "    </tr>\n",
       "    <tr>\n",
       "      <th>Rooms</th>\n",
       "      <th></th>\n",
       "      <th></th>\n",
       "      <th></th>\n",
       "    </tr>\n",
       "  </thead>\n",
       "  <tbody>\n",
       "    <tr>\n",
       "      <th>1</th>\n",
       "      <td>8.668655e+05</td>\n",
       "      <td>5.927045e+05</td>\n",
       "      <td>3.899289e+05</td>\n",
       "    </tr>\n",
       "    <tr>\n",
       "      <th>2</th>\n",
       "      <td>1.017238e+06</td>\n",
       "      <td>7.101585e+05</td>\n",
       "      <td>6.104905e+05</td>\n",
       "    </tr>\n",
       "    <tr>\n",
       "      <th>3</th>\n",
       "      <td>1.109233e+06</td>\n",
       "      <td>9.847087e+05</td>\n",
       "      <td>8.505963e+05</td>\n",
       "    </tr>\n",
       "    <tr>\n",
       "      <th>4</th>\n",
       "      <td>1.462283e+06</td>\n",
       "      <td>1.217092e+06</td>\n",
       "      <td>1.037476e+06</td>\n",
       "    </tr>\n",
       "    <tr>\n",
       "      <th>5</th>\n",
       "      <td>1.877327e+06</td>\n",
       "      <td>1.035000e+06</td>\n",
       "      <td>NaN</td>\n",
       "    </tr>\n",
       "    <tr>\n",
       "      <th>6</th>\n",
       "      <td>1.869508e+06</td>\n",
       "      <td>NaN</td>\n",
       "      <td>5.200000e+05</td>\n",
       "    </tr>\n",
       "    <tr>\n",
       "      <th>7</th>\n",
       "      <td>1.920700e+06</td>\n",
       "      <td>NaN</td>\n",
       "      <td>NaN</td>\n",
       "    </tr>\n",
       "    <tr>\n",
       "      <th>8</th>\n",
       "      <td>1.510286e+06</td>\n",
       "      <td>NaN</td>\n",
       "      <td>2.250000e+06</td>\n",
       "    </tr>\n",
       "    <tr>\n",
       "      <th>10</th>\n",
       "      <td>9.000000e+05</td>\n",
       "      <td>NaN</td>\n",
       "      <td>NaN</td>\n",
       "    </tr>\n",
       "  </tbody>\n",
       "</table>\n",
       "</div>"
      ],
      "text/plain": [
       "Type          house     townhouse          unit\n",
       "Rooms                                          \n",
       "1      8.668655e+05  5.927045e+05  3.899289e+05\n",
       "2      1.017238e+06  7.101585e+05  6.104905e+05\n",
       "3      1.109233e+06  9.847087e+05  8.505963e+05\n",
       "4      1.462283e+06  1.217092e+06  1.037476e+06\n",
       "5      1.877327e+06  1.035000e+06           NaN\n",
       "6      1.869508e+06           NaN  5.200000e+05\n",
       "7      1.920700e+06           NaN           NaN\n",
       "8      1.510286e+06           NaN  2.250000e+06\n",
       "10     9.000000e+05           NaN           NaN"
      ]
     },
     "execution_count": 67,
     "metadata": {},
     "output_type": "execute_result"
    }
   ],
   "source": [
    "# построить таблицу, в которой мы будем учитывать не только число комнат, но и \n",
    "# тип здания (Type). Для этого в параметрах метода groupby() укажем список из \n",
    "# нескольких интересующих нас столбцов. Чтобы финальный результат был представлен \n",
    "# в виде таблицы, к результату агрегирования применим метод unstack():\n",
    "melb_df.groupby(['Rooms', 'Type'])['Price'].mean().unstack()"
   ]
  },
  {
   "cell_type": "markdown",
   "metadata": {},
   "source": [
    "Какие интересные выводы можно сделать из этой таблицы?\n",
    "1\tПропуски в сводной таблице (NaN) говорят о том, что в наших данных нет соответствующих комбинаций признаков. Например, у нас нет информации о ценах на таунхаусы, где количество комнат больше пяти.\n",
    "2\tНаибольшей средней стоимостью (в 1,92 млн. австралийских долларов) обладают объекты типа house с семью жилыми комнатами. Наименьшая средняя стоимость — у однокомнатных домов типа unit (чуть меньше 400 тыс. австралийских долларов).\n",
    "3\tСколько бы комнат ни было в доме, цена на объекты типа unit всегда ниже других (за исключением восьмикомнатных объектов)."
   ]
  },
  {
   "cell_type": "markdown",
   "metadata": {},
   "source": [
    "### МЕТОД PIVOT_TABLE ДЛЯ ПОСТРОЕНИЯ СВОДНЫХ ТАБЛИЦ"
   ]
  },
  {
   "cell_type": "markdown",
   "metadata": {},
   "source": [
    "### Основные параметры метода pivot_table()\n",
    "\n",
    "→ values — имя столбца, по которому необходимо получить сводные данные, применяя агрегирующую функцию;\n",
    "\n",
    "→ index — имя столбца, значения которого станут строками сводной таблицы;\n",
    "\n",
    "→ columns — имя столбца, значения которого станут столбцами сводной таблицы;\n",
    "\n",
    "→ aggfunc — имя или список имён агрегирующих функций (по умолчанию — подсчёт среднего, 'mean');\n",
    "\n",
    "→ fill_value — значение, которым необходимо заполнить пропуски (по умолчанию пропуски не заполняются)."
   ]
  },
  {
   "cell_type": "code",
   "execution_count": null,
   "metadata": {},
   "outputs": [],
   "source": [
    "melb_df.pivot_table(values='Price', index='Rooms', columns='Type').round(2)"
   ]
  },
  {
   "cell_type": "code",
   "execution_count": null,
   "metadata": {},
   "outputs": [],
   "source": [
    "\"\"\" таблицу, в которой строками будут являться названия регионов (Regionname), \n",
    "а в столбцах будет располагаться наш «признак-мигалка» выходного дня (Weekend), \n",
    "который равен 1, если день был выходным, и 0 — в противном случае. В качестве \n",
    "значений сводной таблицы возьмём количество продаж.\"\"\"\n",
    "melb_df.pivot_table(\n",
    "    values='Price',\n",
    "    index='Regionname',\n",
    "    columns='Weekend',\n",
    "    aggfunc='count',\n",
    ")"
   ]
  },
  {
   "cell_type": "markdown",
   "metadata": {},
   "source": [
    "Выводы на основе результирующей таблицы\n",
    "\n",
    "Число продаж резко возрастает в выходные вне зависимости от региона (приблизительно в 2-4 раза). То есть вероятность того, что дом продадут в выходные, гораздо выше вероятности, что его продадут в будни.\n",
    "2\tВ отдалённых регионах (Victoria) коэффициент роста числа продаж выше, чем в центральных. Если в центральных регионах Metropolitan продажи по выходным в 2-2,5 раза выше, чем по будням, то в регионах Victoria число продаж в выходные вырастает в 3-4 раза.\n",
    "Такой рост можно даже попытаться объяснить логически: в выходные дни у людей появляется свободное время, чтобы доехать до отдалённых пригородов с целью покупки дома."
   ]
  },
  {
   "cell_type": "code",
   "execution_count": 79,
   "metadata": {},
   "outputs": [
    {
     "data": {
      "text/html": [
       "<div>\n",
       "<style scoped>\n",
       "    .dataframe tbody tr th:only-of-type {\n",
       "        vertical-align: middle;\n",
       "    }\n",
       "\n",
       "    .dataframe tbody tr th {\n",
       "        vertical-align: top;\n",
       "    }\n",
       "\n",
       "    .dataframe thead tr th {\n",
       "        text-align: left;\n",
       "    }\n",
       "\n",
       "    .dataframe thead tr:last-of-type th {\n",
       "        text-align: right;\n",
       "    }\n",
       "</style>\n",
       "<table border=\"1\" class=\"dataframe\">\n",
       "  <thead>\n",
       "    <tr>\n",
       "      <th></th>\n",
       "      <th colspan=\"3\" halign=\"left\">median</th>\n",
       "      <th colspan=\"3\" halign=\"left\">mean</th>\n",
       "    </tr>\n",
       "    <tr>\n",
       "      <th>Type</th>\n",
       "      <th>house</th>\n",
       "      <th>townhouse</th>\n",
       "      <th>unit</th>\n",
       "      <th>house</th>\n",
       "      <th>townhouse</th>\n",
       "      <th>unit</th>\n",
       "    </tr>\n",
       "    <tr>\n",
       "      <th>Regionname</th>\n",
       "      <th></th>\n",
       "      <th></th>\n",
       "      <th></th>\n",
       "      <th></th>\n",
       "      <th></th>\n",
       "      <th></th>\n",
       "    </tr>\n",
       "  </thead>\n",
       "  <tbody>\n",
       "    <tr>\n",
       "      <th>Eastern Metropolitan</th>\n",
       "      <td>674.0</td>\n",
       "      <td>234.0</td>\n",
       "      <td>203</td>\n",
       "      <td>717.0</td>\n",
       "      <td>269.0</td>\n",
       "      <td>330.0</td>\n",
       "    </tr>\n",
       "    <tr>\n",
       "      <th>Eastern Victoria</th>\n",
       "      <td>843.0</td>\n",
       "      <td>0.0</td>\n",
       "      <td>230</td>\n",
       "      <td>3109.0</td>\n",
       "      <td>0.0</td>\n",
       "      <td>295.0</td>\n",
       "    </tr>\n",
       "    <tr>\n",
       "      <th>Northern Metropolitan</th>\n",
       "      <td>460.0</td>\n",
       "      <td>134.0</td>\n",
       "      <td>0</td>\n",
       "      <td>619.0</td>\n",
       "      <td>317.0</td>\n",
       "      <td>495.0</td>\n",
       "    </tr>\n",
       "    <tr>\n",
       "      <th>Northern Victoria</th>\n",
       "      <td>724.0</td>\n",
       "      <td>0.0</td>\n",
       "      <td>0</td>\n",
       "      <td>3355.0</td>\n",
       "      <td>0.0</td>\n",
       "      <td>0.0</td>\n",
       "    </tr>\n",
       "    <tr>\n",
       "      <th>South-Eastern Metropolitan</th>\n",
       "      <td>630.0</td>\n",
       "      <td>240.0</td>\n",
       "      <td>199</td>\n",
       "      <td>664.0</td>\n",
       "      <td>212.0</td>\n",
       "      <td>358.0</td>\n",
       "    </tr>\n",
       "    <tr>\n",
       "      <th>Southern Metropolitan</th>\n",
       "      <td>586.0</td>\n",
       "      <td>246.0</td>\n",
       "      <td>0</td>\n",
       "      <td>570.0</td>\n",
       "      <td>279.0</td>\n",
       "      <td>466.0</td>\n",
       "    </tr>\n",
       "    <tr>\n",
       "      <th>Western Metropolitan</th>\n",
       "      <td>531.0</td>\n",
       "      <td>198.0</td>\n",
       "      <td>62</td>\n",
       "      <td>508.0</td>\n",
       "      <td>245.0</td>\n",
       "      <td>558.0</td>\n",
       "    </tr>\n",
       "    <tr>\n",
       "      <th>Western Victoria</th>\n",
       "      <td>600.0</td>\n",
       "      <td>0.0</td>\n",
       "      <td>0</td>\n",
       "      <td>656.0</td>\n",
       "      <td>0.0</td>\n",
       "      <td>0.0</td>\n",
       "    </tr>\n",
       "  </tbody>\n",
       "</table>\n",
       "</div>"
      ],
      "text/plain": [
       "                           median                   mean                 \n",
       "Type                        house townhouse unit   house townhouse   unit\n",
       "Regionname                                                               \n",
       "Eastern Metropolitan        674.0     234.0  203   717.0     269.0  330.0\n",
       "Eastern Victoria            843.0       0.0  230  3109.0       0.0  295.0\n",
       "Northern Metropolitan       460.0     134.0    0   619.0     317.0  495.0\n",
       "Northern Victoria           724.0       0.0    0  3355.0       0.0    0.0\n",
       "South-Eastern Metropolitan  630.0     240.0  199   664.0     212.0  358.0\n",
       "Southern Metropolitan       586.0     246.0    0   570.0     279.0  466.0\n",
       "Western Metropolitan        531.0     198.0   62   508.0     245.0  558.0\n",
       "Western Victoria            600.0       0.0    0   656.0       0.0    0.0"
      ]
     },
     "metadata": {},
     "output_type": "display_data"
    }
   ],
   "source": [
    "\"\"\"Найдём, как зависит средняя и медианная площадь участка (Landsize) от типа \n",
    "объекта (Type) и его региона (Regionname). Чтобы посмотреть несколько статистических \n",
    "параметров, нужно передать в аргумент aggfunc список из агрегирующих функций. \n",
    "Построим такую сводную таблицу, где пропущенные значения заменим на 0:\"\"\"\n",
    "pivot = melb_df.pivot_table(\n",
    "    values='Landsize',\n",
    "    index='Regionname',\n",
    "    columns='Type',\n",
    "    aggfunc=['median', 'mean'],\n",
    "    fill_value=0\n",
    ").round(0)\n",
    "display(pivot)"
   ]
  },
  {
   "cell_type": "code",
   "execution_count": null,
   "metadata": {},
   "outputs": [
    {
     "data": {
      "text/plain": [
       "4359"
      ]
     },
     "metadata": {},
     "output_type": "display_data"
    }
   ],
   "source": [
    "melb_df['Quarter'] = melb_df['Date'].dt.quarter\n",
    "melb_df['Quarter'].value_counts()\n",
    "melb_df[melb_df['Quarter']  == 2]['Price'].count()\n"
   ]
  },
  {
   "cell_type": "markdown",
   "metadata": {},
   "source": [
    "### МНОГОМЕРНЫЕ СВОДНЫЕ ТАБЛИЦЫ"
   ]
  },
  {
   "cell_type": "code",
   "execution_count": null,
   "metadata": {},
   "outputs": [],
   "source": [
    "\"\"\" построим таблицу, в которой по индексам будут располагаться признаки метода \n",
    "продажи (Method) и типа объекта (Type), по столбцам — наименование региона (Regionname), \n",
    "а на пересечении строк и столбцов будет стоять медианная цена объекта (Price).\"\"\"\n",
    "\n",
    "melb_df.pivot_table(\n",
    "    values='Price',\n",
    "    index=['Method','Type'],\n",
    "    columns='Regionname',\n",
    "    aggfunc='median',\n",
    "    fill_value=0\n",
    ")"
   ]
  },
  {
   "cell_type": "markdown",
   "metadata": {},
   "source": [
    "### ДОСТУП К ДАННЫМ В СВОДНОЙ ТАБЛИЦЕ"
   ]
  },
  {
   "cell_type": "code",
   "execution_count": null,
   "metadata": {},
   "outputs": [],
   "source": [
    "# Возьмём сводную таблицу pivot, которую мы создавали ранее:\n",
    "# Выведем её столбцы с помощью атрибута columns.\n",
    "pivot.columns\n",
    "\n",
    "# из таблицы pivot мы можем получить средние значения площадей участков для т\n",
    "# ипа здания unit, просто последовательно обратившись по имени столбцов\n",
    "display(pivot['mean']['unit'])"
   ]
  },
  {
   "cell_type": "code",
   "execution_count": null,
   "metadata": {},
   "outputs": [],
   "source": [
    "# регионы, в которых средняя площадь здания для домов типа house меньше их медианной \n",
    "# площади, то мы можем найти их следующим образом:\n",
    "mask = pivot['mean']['house'] < pivot['median']['house']\n",
    "filtered_pivot = pivot[mask]\n",
    "display(filtered_pivot)"
   ]
  },
  {
   "cell_type": "code",
   "execution_count": 81,
   "metadata": {},
   "outputs": [
    {
     "name": "stdout",
     "output_type": "stream",
     "text": [
      "['Southern Metropolitan', 'Western Metropolitan']\n"
     ]
    }
   ],
   "source": [
    "# получить индексы отфильтрованной таблицы, можно воспользоваться атрибутом index \n",
    "# и обернуть результат в список.\n",
    "print(list(filtered_pivot.index))"
   ]
  },
  {
   "cell_type": "code",
   "execution_count": 82,
   "metadata": {},
   "outputs": [
    {
     "data": {
      "text/html": [
       "<div>\n",
       "<style scoped>\n",
       "    .dataframe tbody tr th:only-of-type {\n",
       "        vertical-align: middle;\n",
       "    }\n",
       "\n",
       "    .dataframe tbody tr th {\n",
       "        vertical-align: top;\n",
       "    }\n",
       "\n",
       "    .dataframe thead th {\n",
       "        text-align: right;\n",
       "    }\n",
       "</style>\n",
       "<table border=\"1\" class=\"dataframe\">\n",
       "  <thead>\n",
       "    <tr style=\"text-align: right;\">\n",
       "      <th>Rooms</th>\n",
       "      <th>1</th>\n",
       "      <th>2</th>\n",
       "      <th>3</th>\n",
       "      <th>4</th>\n",
       "      <th>5</th>\n",
       "      <th>6</th>\n",
       "      <th>7</th>\n",
       "      <th>8</th>\n",
       "      <th>10</th>\n",
       "    </tr>\n",
       "    <tr>\n",
       "      <th>Type</th>\n",
       "      <th></th>\n",
       "      <th></th>\n",
       "      <th></th>\n",
       "      <th></th>\n",
       "      <th></th>\n",
       "      <th></th>\n",
       "      <th></th>\n",
       "      <th></th>\n",
       "      <th></th>\n",
       "    </tr>\n",
       "  </thead>\n",
       "  <tbody>\n",
       "    <tr>\n",
       "      <th>house</th>\n",
       "      <td>126.0</td>\n",
       "      <td>126</td>\n",
       "      <td>126</td>\n",
       "      <td>141.0</td>\n",
       "      <td>177</td>\n",
       "      <td>126</td>\n",
       "      <td>216.5</td>\n",
       "      <td>126</td>\n",
       "      <td>126</td>\n",
       "    </tr>\n",
       "    <tr>\n",
       "      <th>townhouse</th>\n",
       "      <td>88.0</td>\n",
       "      <td>114</td>\n",
       "      <td>126</td>\n",
       "      <td>159.5</td>\n",
       "      <td>152</td>\n",
       "      <td>0</td>\n",
       "      <td>0.0</td>\n",
       "      <td>0</td>\n",
       "      <td>0</td>\n",
       "    </tr>\n",
       "    <tr>\n",
       "      <th>unit</th>\n",
       "      <td>69.5</td>\n",
       "      <td>110</td>\n",
       "      <td>126</td>\n",
       "      <td>126.0</td>\n",
       "      <td>0</td>\n",
       "      <td>171</td>\n",
       "      <td>0.0</td>\n",
       "      <td>126</td>\n",
       "      <td>0</td>\n",
       "    </tr>\n",
       "  </tbody>\n",
       "</table>\n",
       "</div>"
      ],
      "text/plain": [
       "Rooms         1    2    3      4    5    6      7    8    10\n",
       "Type                                                        \n",
       "house      126.0  126  126  141.0  177  126  216.5  126  126\n",
       "townhouse   88.0  114  126  159.5  152    0    0.0    0    0\n",
       "unit        69.5  110  126  126.0    0  171    0.0  126    0"
      ]
     },
     "metadata": {},
     "output_type": "display_data"
    }
   ],
   "source": [
    "\"\"\"Задание 37.4.2 Составьте сводную таблицу, которая показывает зависимость \n",
    "медианной площади (BuildingArea) здания от типа объекта недвижимости (Type) \n",
    "и количества жилых комнат в доме (Rooms).Для какой комбинации признаков площадь \n",
    "здания наибольшая?\"\"\"\n",
    "pivot = melb_df.pivot_table(\n",
    "    values='BuildingArea',\n",
    "    index='Type',\n",
    "    columns='Rooms',\n",
    "    aggfunc='median',\n",
    "    fill_value=0\n",
    ")\n",
    "display(pivot)"
   ]
  },
  {
   "cell_type": "code",
   "execution_count": 86,
   "metadata": {},
   "outputs": [
    {
     "name": "stdout",
     "output_type": "stream",
     "text": [
      "Nick\n"
     ]
    }
   ],
   "source": [
    "\"\"\"Задание 37.4.3 Составьте сводную таблицу, которая показывает зависимость медианной \n",
    "цены объекта недвижимости (Price) от риелторского агентства (SellerG) и типа здания\n",
    "(Type). У какого агентства (во вновь созданной таблице) максимальная медианная цена \n",
    "для зданий типа unit?\"\"\"\n",
    "pivot = melb_df.pivot_table(\n",
    "    values='Price',\n",
    "    index='SellerG',\n",
    "    columns='Type',\n",
    "    aggfunc='median',\n",
    ")\n",
    "#print(pivot)\n",
    "max_unit_price = pivot['unit'].max()\n",
    "print(pivot[pivot['unit'] == max_unit_price].index[0])"
   ]
  },
  {
   "cell_type": "markdown",
   "metadata": {},
   "source": [
    "## 37.5 Объединение DataFrame: Знакомство с новыми данными"
   ]
  },
  {
   "cell_type": "markdown",
   "metadata": {},
   "source": [
    "Надо получить единую таблицу, в которой будут собраны рейтинги, даты выставления рейтингов, а также информация о фильмах.\n",
    "\n",
    "Вот как мы будем действовать:\n",
    "1. Склеим таблицы ratings1 и ratings2 в единую структуру.\n",
    "2. К полученной таблице с рейтингами присоединим столбец с датой выставления рейтинга.\n",
    "3. Присоединим к нашей таблице информацию о названиях и жанрах фильмов."
   ]
  },
  {
   "cell_type": "code",
   "execution_count": 104,
   "metadata": {},
   "outputs": [],
   "source": [
    "ratings1 = pd.read_csv('data/ratings1.csv')\n",
    "ratings2 = pd.read_csv('data/ratings2.csv')\n",
    "dates = pd.read_csv('data/dates.csv')\n",
    "movies = pd.read_csv('data/movies.csv')\n"
   ]
  },
  {
   "cell_type": "code",
   "execution_count": null,
   "metadata": {},
   "outputs": [],
   "source": [
    "ratings1.head()\n",
    "ratings2.head()\n",
    "dates.head()\n",
    "movies.head()\n",
    "\n",
    "ratings1.info()\n",
    "ratings2.info()\n",
    "dates.info()\n",
    "movies.info()"
   ]
  },
  {
   "cell_type": "code",
   "execution_count": 100,
   "metadata": {},
   "outputs": [
    {
     "data": {
      "text/plain": [
       "9742"
      ]
     },
     "execution_count": 100,
     "metadata": {},
     "output_type": "execute_result"
    }
   ],
   "source": [
    "# Сколько уникальных фильмов представлено в таблице movies?\n",
    "movies['movieId'].nunique()"
   ]
  },
  {
   "cell_type": "code",
   "execution_count": 99,
   "metadata": {},
   "outputs": [
    {
     "data": {
      "text/plain": [
       "274"
      ]
     },
     "execution_count": 99,
     "metadata": {},
     "output_type": "execute_result"
    }
   ],
   "source": [
    "#Сколько уникальных пользователей в таблице ratings1?\n",
    "ratings1['userId'].nunique()"
   ]
  },
  {
   "cell_type": "code",
   "execution_count": 124,
   "metadata": {},
   "outputs": [],
   "source": [
    "# В каком году было выставлено больше всего оценок?\n",
    "dates['Year'] = pd.to_datetime(dates['date']).dt.year\n",
    "dates['Year'].value_counts()\n",
    "dates.drop('Year', axis=1, inplace=True)\n"
   ]
  },
  {
   "cell_type": "markdown",
   "metadata": {},
   "source": [
    "## 37.6 Объединение DataFrame: concat()"
   ]
  },
  {
   "cell_type": "markdown",
   "metadata": {},
   "source": [
    "Основные параметры метода concat()\n",
    "\n",
    "→ objs — список объектов DataFrame ([df1, df2,…]), которые должны быть сконкатенированы;\n",
    "\n",
    "→ axis — ось определяет направление конкатенации: 0 — конкатенация по строкам (по умолчанию), 1 — конкатенация по столбцам;\n",
    "\n",
    "→ join — либо inner (пересечение), либо outer (объединение); рассмотрим этот момент немного позже;\n",
    "\n",
    "→ ignore_index — по умолчанию установлено значение False, которое позволяет значениям индекса оставаться такими, какими они были в исходных данных. Если установлено значение True, параметр будет игнорировать исходные значения и повторно назначать значения индекса в соответствующем порядке."
   ]
  },
  {
   "cell_type": "code",
   "execution_count": null,
   "metadata": {},
   "outputs": [],
   "source": [
    "\"\"\"склеим таблицы ratings1 и ratings2. Для этого передадим их в списке в функцию \n",
    "concat(). По умолчанию объединение происходит по строкам, что нам и нужно, поэтому \n",
    "параметр axis мы не трогаем.\"\"\"\n",
    "\n",
    "ratings = pd.concat(\n",
    "    [ratings1, ratings2],\n",
    "    ignore_index=True\n",
    ")\n",
    "display(ratings)"
   ]
  },
  {
   "cell_type": "code",
   "execution_count": 114,
   "metadata": {},
   "outputs": [
    {
     "name": "stdout",
     "output_type": "stream",
     "text": [
      "Число строк в таблице ratings:  100837\n",
      "Число строк в таблице dates:  100836\n",
      "False\n"
     ]
    }
   ],
   "source": [
    "\"\"\"знаем количество строк в таблицах ratings и dates, ведь нам предстоит \n",
    "объединять их по столбцам:\"\"\"\n",
    "\n",
    "print('Число строк в таблице ratings: ', ratings.shape[0])\n",
    "print('Число строк в таблице dates: ', dates.shape[0])\n",
    "print(ratings.shape[0] == dates.shape[0])"
   ]
  },
  {
   "cell_type": "markdown",
   "metadata": {},
   "source": [
    "Чтобы очистить таблицу от дублей, мы можем воспользоваться методом DataFrame drop_duplicates(), который удаляет повторяющиеся строки в таблице. Не забываем обновить индексы после удаления дублей, выставив параметр ignore_index в методе drop_duplicates() на значение True."
   ]
  },
  {
   "cell_type": "code",
   "execution_count": 126,
   "metadata": {},
   "outputs": [
    {
     "name": "stdout",
     "output_type": "stream",
     "text": [
      "Число строк в таблице ratings:  100836\n"
     ]
    }
   ],
   "source": [
    "# УДАЛЕНИЕ ДУБЛЕЙ\n",
    "ratings = ratings.drop_duplicates(ignore_index=True)\n",
    "print('Число строк в таблице ratings: ', ratings.shape[0])"
   ]
  },
  {
   "cell_type": "code",
   "execution_count": null,
   "metadata": {},
   "outputs": [],
   "source": [
    "\"\"\"можем добавить к нашей таблице с оценками даты их выставления. Для этого \n",
    "конкатенируем таблицы ratings и dates по столбцам.\"\"\"\n",
    "\n",
    "ratings_dates = pd.concat([ratings, dates], axis=1)\n",
    "display(ratings_dates.tail(7))"
   ]
  },
  {
   "cell_type": "code",
   "execution_count": null,
   "metadata": {},
   "outputs": [],
   "source": [
    "# Задание 37.6.3 НЕ ЗАПУСКАТЬ!\n",
    "import pandas as pd\n",
    "import os\n",
    "\n",
    "def concat_users_files(path):\n",
    "    \"\"\"\n",
    "    Вам необходимо написать функцию concat_user_files(path), параметром которой является path - путь до директории. \n",
    "    Функция должна объединить информацию из предоставленных вам файлов в один DataFrame и вернуть его. \n",
    "    Не забудьте обновить индексы результирующей таблицы после объединения.\n",
    "    Учтите тот момент, что в результате объединения могут возникнуть дубликаты, от которых необходимо будет избавиться. \n",
    "    \"\"\"\n",
    "    data = pd.DataFrame()\n",
    "    file_names = os.listdir(path)\n",
    "    file_names.sort()\n",
    "    for file in file_names:\n",
    "        tmp_data = pd.read_csv(path + '/' + file)\n",
    "        data = pd.concat([data, tmp_data], axis=0, ignore_index=True)\n",
    "    data = data.drop_duplicates()\n",
    "    return data\n",
    "\n",
    "if __name__ == '__main__':\n",
    "    data = concat_users_files('./Root/users/')"
   ]
  },
  {
   "cell_type": "markdown",
   "metadata": {},
   "source": [
    "## 37.7 Объединение DataFrame: join(), merge()"
   ]
  },
  {
   "cell_type": "code",
   "execution_count": 7,
   "metadata": {},
   "outputs": [],
   "source": [
    "from IPython.display import Image"
   ]
  },
  {
   "cell_type": "markdown",
   "metadata": {},
   "source": [
    "![Image](https://lms.skillfactory.ru/assets/courseware/v1/7f8be8485301f840fe8bc2a8f6cf444f/asset-v1:SkillFactory+DAPR-2.0+MAR2021+type@asset+block/dst3-u1-md12_7_10.png)"
   ]
  },
  {
   "cell_type": "markdown",
   "metadata": {},
   "source": [
    "### Основные параметры метода join()\n",
    "\n",
    "→ other — таблица, которую мы присоединяем. При объединении она является «правой», а исходная таблица, от имени которой вызывается метод, является «левой».\n",
    "\n",
    "→ how — параметр типа объединения. Может принимать значения: 'inner', 'left' (left outer), 'right' (right outer) и 'outer' (full outer). По умолчанию параметр установлен на 'left'.\n",
    "\n",
    "→ on — параметр, который определяет, по какому столбцу в «левой» таблице происходит объединение по индексам из «правой».\n",
    "\n",
    "→ lsuffix и rsuffix — дополнения (суффиксы) к названиям одноимённых столбцов в «левой» и «правой» таблицах."
   ]
  },
  {
   "cell_type": "code",
   "execution_count": null,
   "metadata": {},
   "outputs": [],
   "source": [
    "# объединим таблицы типом left. Так как в наших таблицах есть одноимённые столбцы, \n",
    "# установим один из суффиксов, чтобы избежать ошибки:\n",
    "\n",
    "joined_false = ratings_dates.join(\n",
    "    movies,\n",
    "    rsuffix='_right',\n",
    "    how='left'\n",
    ")\n",
    "display(joined_false)"
   ]
  },
  {
   "cell_type": "code",
   "execution_count": null,
   "metadata": {},
   "outputs": [],
   "source": [
    "\"\"\"Чтобы совместить таблицы по ключевому столбцу с помощью метода join(), необходимо \n",
    "использовать ключевой столбец в «правой» таблице в качестве индекса. Это можно сделать \n",
    "с помощью метода set_index(). Также необходимо указать название ключа в параметре on.\"\"\"\n",
    "\n",
    "joined = ratings_dates.join(\n",
    "    movies.set_index('movieId'),\n",
    "    on='movieId',\n",
    "    how='left'\n",
    ")\n",
    "display(joined.head())"
   ]
  },
  {
   "cell_type": "markdown",
   "metadata": {},
   "source": [
    "### Основные параметры метода merge()\n",
    "\n",
    "→ right — присоединяемая таблица. По умолчанию она является «правой».\n",
    "\n",
    "→ how — параметр типа объединения. По умолчанию принимает значение 'inner'.\n",
    "\n",
    "→ on — параметр, который определяет, по какому столбцу происходит объединение. Определяется автоматически, но рекомендуется указывать вручную.\n",
    "\n",
    "→ left_on — если названия столбцов в «левой» и «правой» таблицах не совпадают, то данный параметр отвечает за наименования ключевого столбца исходной таблицы.\n",
    "\n",
    "→ right_on — аналогично предыдущему, параметр отвечает за наименование ключевого столбца присоединяемой таблицы.\n",
    "\n",
    "→ lsuffix и rsuffix — дополнения (суффиксы) к названиям одноимённых столбцов в «левой» и «правой» таблицах."
   ]
  },
  {
   "cell_type": "code",
   "execution_count": null,
   "metadata": {},
   "outputs": [],
   "source": [
    "merged = ratings_dates.merge(\n",
    "    movies,\n",
    "    on='movieId',\n",
    "    how='left'\n",
    ")\n",
    "display(merged.head())"
   ]
  },
  {
   "cell_type": "code",
   "execution_count": 135,
   "metadata": {},
   "outputs": [
    {
     "name": "stdout",
     "output_type": "stream",
     "text": [
      "Число строк в таблице ratings_dates:  100836\n",
      "Число строк в таблице merged:  100836\n",
      "True\n"
     ]
    }
   ],
   "source": [
    "\"\"\"Осталось только проверить, что число строк в таблице ratings_dates совпадает с \n",
    "числом строк в результирующей таблице merged.\"\"\"\n",
    "\n",
    "print('Число строк в таблице ratings_dates: ', ratings_dates.shape[0])\n",
    "print('Число строк в таблице merged: ', merged.shape[0])\n",
    "print(ratings_dates.shape[0] == merged.shape[0])"
   ]
  },
  {
   "cell_type": "code",
   "execution_count": null,
   "metadata": {},
   "outputs": [],
   "source": [
    "\"\"\"Рассмотрим пример: объединим таблицы ratings1 и ratings2, как мы уже делали \n",
    "раньше, но теперь используем метод merge():\"\"\"\n",
    "\n",
    "merge_ratings = ratings1.merge(ratings2, how='outer')\n",
    "\n",
    "print('Число строк в таблице merge_ratings: ', merge_ratings.shape[0])\n",
    "display(merge_ratings)"
   ]
  },
  {
   "cell_type": "code",
   "execution_count": 153,
   "metadata": {},
   "outputs": [
    {
     "data": {
      "text/html": [
       "<div>\n",
       "<style scoped>\n",
       "    .dataframe tbody tr th:only-of-type {\n",
       "        vertical-align: middle;\n",
       "    }\n",
       "\n",
       "    .dataframe tbody tr th {\n",
       "        vertical-align: top;\n",
       "    }\n",
       "\n",
       "    .dataframe thead th {\n",
       "        text-align: right;\n",
       "    }\n",
       "</style>\n",
       "<table border=\"1\" class=\"dataframe\">\n",
       "  <thead>\n",
       "    <tr style=\"text-align: right;\">\n",
       "      <th></th>\n",
       "      <th>item_id</th>\n",
       "      <th>vendor</th>\n",
       "      <th>stock_count</th>\n",
       "    </tr>\n",
       "  </thead>\n",
       "  <tbody>\n",
       "    <tr>\n",
       "      <th>0</th>\n",
       "      <td>417283</td>\n",
       "      <td>Samsung</td>\n",
       "      <td>54</td>\n",
       "    </tr>\n",
       "    <tr>\n",
       "      <th>1</th>\n",
       "      <td>849734</td>\n",
       "      <td>LG</td>\n",
       "      <td>33</td>\n",
       "    </tr>\n",
       "    <tr>\n",
       "      <th>2</th>\n",
       "      <td>132223</td>\n",
       "      <td>Apple</td>\n",
       "      <td>122</td>\n",
       "    </tr>\n",
       "    <tr>\n",
       "      <th>3</th>\n",
       "      <td>573943</td>\n",
       "      <td>Apple</td>\n",
       "      <td>18</td>\n",
       "    </tr>\n",
       "    <tr>\n",
       "      <th>4</th>\n",
       "      <td>19475</td>\n",
       "      <td>LG</td>\n",
       "      <td>102</td>\n",
       "    </tr>\n",
       "    <tr>\n",
       "      <th>5</th>\n",
       "      <td>3294095</td>\n",
       "      <td>Apple</td>\n",
       "      <td>43</td>\n",
       "    </tr>\n",
       "    <tr>\n",
       "      <th>6</th>\n",
       "      <td>382043</td>\n",
       "      <td>Samsung</td>\n",
       "      <td>77</td>\n",
       "    </tr>\n",
       "    <tr>\n",
       "      <th>7</th>\n",
       "      <td>302948</td>\n",
       "      <td>Samsung</td>\n",
       "      <td>143</td>\n",
       "    </tr>\n",
       "    <tr>\n",
       "      <th>8</th>\n",
       "      <td>100132</td>\n",
       "      <td>LG</td>\n",
       "      <td>60</td>\n",
       "    </tr>\n",
       "    <tr>\n",
       "      <th>9</th>\n",
       "      <td>312394</td>\n",
       "      <td>ZTE</td>\n",
       "      <td>19</td>\n",
       "    </tr>\n",
       "  </tbody>\n",
       "</table>\n",
       "</div>"
      ],
      "text/plain": [
       "   item_id   vendor  stock_count\n",
       "0   417283  Samsung           54\n",
       "1   849734       LG           33\n",
       "2   132223    Apple          122\n",
       "3   573943    Apple           18\n",
       "4    19475       LG          102\n",
       "5  3294095    Apple           43\n",
       "6   382043  Samsung           77\n",
       "7   302948  Samsung          143\n",
       "8   100132       LG           60\n",
       "9   312394      ZTE           19"
      ]
     },
     "metadata": {},
     "output_type": "display_data"
    },
    {
     "data": {
      "text/html": [
       "<div>\n",
       "<style scoped>\n",
       "    .dataframe tbody tr th:only-of-type {\n",
       "        vertical-align: middle;\n",
       "    }\n",
       "\n",
       "    .dataframe tbody tr th {\n",
       "        vertical-align: top;\n",
       "    }\n",
       "\n",
       "    .dataframe thead th {\n",
       "        text-align: right;\n",
       "    }\n",
       "</style>\n",
       "<table border=\"1\" class=\"dataframe\">\n",
       "  <thead>\n",
       "    <tr style=\"text-align: right;\">\n",
       "      <th></th>\n",
       "      <th>purchase_id</th>\n",
       "      <th>item_id</th>\n",
       "      <th>price</th>\n",
       "    </tr>\n",
       "  </thead>\n",
       "  <tbody>\n",
       "    <tr>\n",
       "      <th>0</th>\n",
       "      <td>101</td>\n",
       "      <td>417283</td>\n",
       "      <td>13900</td>\n",
       "    </tr>\n",
       "    <tr>\n",
       "      <th>1</th>\n",
       "      <td>101</td>\n",
       "      <td>849734</td>\n",
       "      <td>5330</td>\n",
       "    </tr>\n",
       "    <tr>\n",
       "      <th>2</th>\n",
       "      <td>101</td>\n",
       "      <td>132223</td>\n",
       "      <td>38200</td>\n",
       "    </tr>\n",
       "    <tr>\n",
       "      <th>3</th>\n",
       "      <td>112</td>\n",
       "      <td>573943</td>\n",
       "      <td>49990</td>\n",
       "    </tr>\n",
       "    <tr>\n",
       "      <th>4</th>\n",
       "      <td>121</td>\n",
       "      <td>19475</td>\n",
       "      <td>9890</td>\n",
       "    </tr>\n",
       "    <tr>\n",
       "      <th>5</th>\n",
       "      <td>145</td>\n",
       "      <td>3294095</td>\n",
       "      <td>33000</td>\n",
       "    </tr>\n",
       "    <tr>\n",
       "      <th>6</th>\n",
       "      <td>145</td>\n",
       "      <td>382043</td>\n",
       "      <td>67500</td>\n",
       "    </tr>\n",
       "    <tr>\n",
       "      <th>7</th>\n",
       "      <td>145</td>\n",
       "      <td>302948</td>\n",
       "      <td>34500</td>\n",
       "    </tr>\n",
       "    <tr>\n",
       "      <th>8</th>\n",
       "      <td>145</td>\n",
       "      <td>103845</td>\n",
       "      <td>89900</td>\n",
       "    </tr>\n",
       "    <tr>\n",
       "      <th>9</th>\n",
       "      <td>221</td>\n",
       "      <td>100132</td>\n",
       "      <td>11400</td>\n",
       "    </tr>\n",
       "  </tbody>\n",
       "</table>\n",
       "</div>"
      ],
      "text/plain": [
       "   purchase_id  item_id  price\n",
       "0          101   417283  13900\n",
       "1          101   849734   5330\n",
       "2          101   132223  38200\n",
       "3          112   573943  49990\n",
       "4          121    19475   9890\n",
       "5          145  3294095  33000\n",
       "6          145   382043  67500\n",
       "7          145   302948  34500\n",
       "8          145   103845  89900\n",
       "9          221   100132  11400"
      ]
     },
     "metadata": {},
     "output_type": "display_data"
    }
   ],
   "source": [
    "items_df = pd.DataFrame({\n",
    "    'item_id': [417283, 849734, 132223, 573943, 19475, 3294095, 382043, 302948, 100132, 312394], \n",
    "    'vendor': ['Samsung', 'LG', 'Apple', 'Apple', 'LG', 'Apple', 'Samsung', 'Samsung', 'LG', 'ZTE'],\n",
    "    'stock_count': [54, 33, 122, 18, 102, 43, 77, 143, 60, 19]\n",
    "})\n",
    "\n",
    "purchase_df = pd.DataFrame({\n",
    "    'purchase_id': [101, 101, 101, 112, 121, 145, 145, 145, 145, 221],\n",
    "    'item_id': [417283, 849734, 132223, 573943, 19475, 3294095, 382043, 302948, 103845, 100132], \n",
    "    'price': [13900, 5330, 38200, 49990, 9890, 33000, 67500, 34500, 89900, 11400]\n",
    "})\n",
    "\n",
    "display(items_df)\n",
    "display(purchase_df)"
   ]
  },
  {
   "cell_type": "markdown",
   "metadata": {},
   "source": [
    "Информация в таблицах представлена в виде следующих столбцов:\n",
    "\n",
    "item_id — идентификатор модели;\n",
    "vendor — производитель модели;\n",
    "stock_count — имеющееся на складе количество данных моделей (в штуках);\n",
    "purchase_id — идентификатор покупки;\n",
    "price — стоимость модели в покупке."
   ]
  },
  {
   "cell_type": "code",
   "execution_count": null,
   "metadata": {},
   "outputs": [],
   "source": [
    "\"\"\"Вам необходимо сделать следующее:\n",
    "1) Сформируйте DataFrame merged, так чтобы после объединения purchase_df и \n",
    "items_df остались модели, которые учтены на складе и имели продажи.\n",
    "2) На основе таблицы merged найдите суммарную выручку, которую можно было бы получить \n",
    "от продажи всех товаров, имеющихся на складе. Результат занесите в переменную income.\"\"\"\n",
    "\n",
    "merged = items_df.merge(purchase_df, how='inner', on='item_id')\n",
    "merged['total'] = merged['stock_count'] * merged['price'] \n",
    "income = merged['total'].sum()"
   ]
  },
  {
   "cell_type": "markdown",
   "metadata": {},
   "source": [
    "## 37.8 Закрепление знаний"
   ]
  },
  {
   "cell_type": "code",
   "execution_count": 159,
   "metadata": {},
   "outputs": [],
   "source": [
    "#библиотека для регулярных выражений\n",
    "import re \n",
    "def get_year_release(arg):\n",
    "    #находим все слова по шаблону \"(DDDD)\"\n",
    "    candidates = re.findall(r'\\(\\d{4}\\)', arg) \n",
    "    # проверяем число вхождений\n",
    "    if len(candidates) > 0:\n",
    "        #если число вхождений больше 0,\n",
    "\t#очищаем строку от знаков \"(\" и \")\"\n",
    "        year = candidates[0].replace('(', '')\n",
    "        year = year.replace(')', '')\n",
    "        return int(year)\n",
    "    else:\n",
    "        #если год не указан, возвращаем None\n",
    "        return None"
   ]
  },
  {
   "cell_type": "code",
   "execution_count": null,
   "metadata": {},
   "outputs": [],
   "source": [
    "joined = pd.read_csv('data/ratings_movies.csv')\n",
    "display(joined.info())\n",
    "joined.head()"
   ]
  },
  {
   "cell_type": "code",
   "execution_count": null,
   "metadata": {},
   "outputs": [
    {
     "data": {
      "text/plain": [
       "4359"
      ]
     },
     "metadata": {},
     "output_type": "display_data"
    }
   ],
   "source": [
    "melb_df['Quarter'] = melb_df['Date'].dt.quarter\n",
    "melb_df['Quarter'].value_counts()\n",
    "melb_df[melb_df['Quarter']  == 2]['Price'].count()\n"
   ]
  },
  {
   "cell_type": "code",
   "execution_count": null,
   "metadata": {},
   "outputs": [],
   "source": [
    "\"\"\"Задание 37.8.1\n",
    "Создайте в таблице новый признак year_release, который соответствует году выпуска \n",
    "фильма. У скольких фильмов не указан год их выпуска?\"\"\"\n",
    "\n",
    "joined['year_release'] = joined['title'].apply(get_year_release)\n",
    "joined.info()"
   ]
  },
  {
   "cell_type": "code",
   "execution_count": null,
   "metadata": {},
   "outputs": [],
   "source": [
    "\"\"\"Задание 37.8.2\n",
    "Какой фильм, выпущенный в 1999 году, получил наименьшую среднюю оценку зрителей?\"\"\"\n",
    "\n",
    "mask = joined['year_release'] == 1999\n",
    "joined[mask].groupby('title')['rating'].mean().sort_values()"
   ]
  },
  {
   "cell_type": "code",
   "execution_count": null,
   "metadata": {},
   "outputs": [],
   "source": [
    "\"\"\"Задание 37.8.3\n",
    "Какое сочетание жанров фильмов, выпущенных в 2010 году, получило наименьшую \n",
    "среднюю оценку?\"\"\"\n",
    "\n",
    "mask = joined['year_release'] == 2010\n",
    "joined[mask].groupby('genres')['rating'].mean().sort_values()"
   ]
  },
  {
   "cell_type": "code",
   "execution_count": null,
   "metadata": {},
   "outputs": [],
   "source": [
    "\"\"\"Задание 37.8.4\n",
    "Какой пользователь посмотрел фильмы наибольшего количества жанров?\"\"\"\n",
    "\n",
    "joined.groupby('userId')['genres'].nunique().sort_values(ascending=False)"
   ]
  },
  {
   "cell_type": "code",
   "execution_count": null,
   "metadata": {},
   "outputs": [],
   "source": [
    "\"\"\"Задание 37.8.5\n",
    "Найдите пользователя, который выставил наименьшее количество оценок, но его средняя \n",
    "оценка фильмам наибольшая.\"\"\"\n",
    "\n",
    "joined.groupby('userId')['rating'].agg(\n",
    "    ['count', 'mean']\n",
    ").sort_values(['count', 'mean'], ascending=[True, False])"
   ]
  },
  {
   "cell_type": "code",
   "execution_count": null,
   "metadata": {},
   "outputs": [],
   "source": [
    "\"\"\"Задание 37.8.6\n",
    "Найдите сочетание жанров фильма, выпущенного в 2018 году, который имеет наибольший \n",
    "средний рейтинг, и при этом число его просмотров больше 10.\"\"\"\n",
    "\n",
    "mask = joined['year_release'] == 2018\n",
    "grouped = joined[mask].groupby('genres')['rating'].agg(\n",
    "    ['mean', 'count']\n",
    ")\n",
    "grouped[grouped['count']>10].sort_values(\n",
    "    by=['mean', 'count'],\n",
    "    ascending=[False, False]\n",
    ")"
   ]
  },
  {
   "cell_type": "code",
   "execution_count": null,
   "metadata": {},
   "outputs": [],
   "source": [
    "\"\"\"Задание 37.8.7\n",
    "Добавьте в таблицу новый признак year_rating — год выставления оценки. Создайте сводную \n",
    "таблицу, которая иллюстрирует зависимость среднего рейтинга фильма от года выставления \n",
    "оценки и жанра. Выберите верные варианты ответа, исходя из построенной таблицы.\"\"\"\n",
    "\n",
    "joined['date'] = pd.to_datetime(joined['date'])\n",
    "joined['year_rating'] = joined['date'].dt.year\n",
    "pivot = joined.pivot_table(\n",
    "    index='year_rating',\n",
    "    columns='genres',\n",
    "    values='rating',\n",
    "    aggfunc='mean'\n",
    ")\n",
    "display(pivot)"
   ]
  },
  {
   "cell_type": "markdown",
   "metadata": {},
   "source": [
    "Порядок дальнейших действий такой:\n",
    "\n",
    "Прочитайте данные файлы, посмотрите на содержимое таблиц и проанализируйте его.\n",
    "Подумайте, как связаны данные таблицы (какими ключевыми столбцами).\n",
    "Объедините заданные таблицы в таблицу orders_products, чтобы в результирующей таблице оказалась информация обо всех заказах, но не оказалось информации о продуктах, на которых заказов ещё не поступало. \n",
    "Ответьте на несколько вопросов по таблице orders_products."
   ]
  },
  {
   "cell_type": "code",
   "execution_count": null,
   "metadata": {},
   "outputs": [],
   "source": [
    "orders = pd.read_csv('data/orders.csv', sep=';') # данные о заказах\n",
    "display(orders.info())\n",
    "orders.head()"
   ]
  },
  {
   "cell_type": "code",
   "execution_count": null,
   "metadata": {},
   "outputs": [],
   "source": [
    "products = pd.read_csv('data/products.csv', sep=';') # данные о товарах\n",
    "display(products.info())\n",
    "products.head()"
   ]
  },
  {
   "cell_type": "code",
   "execution_count": null,
   "metadata": {},
   "outputs": [],
   "source": [
    "orders_products = orders.merge(\n",
    "    products, \n",
    "    how='left', \n",
    "    left_on='ID товара',\n",
    "    right_on='Product_ID'\n",
    ")\n",
    "display(orders_products)"
   ]
  },
  {
   "cell_type": "code",
   "execution_count": 198,
   "metadata": {},
   "outputs": [
    {
     "data": {
      "text/plain": [
       "17    0\n",
       "Name: Order ID, dtype: int64"
      ]
     },
     "execution_count": 198,
     "metadata": {},
     "output_type": "execute_result"
    }
   ],
   "source": [
    "\"\"\"Задание 37.8.8\n",
    "Какой идентификатор (Order ID) имеет заказ, для которого не оказалось информации \n",
    "о товаре?\"\"\"\n",
    "\n",
    "orders_products.tail(1)['Order ID']"
   ]
  },
  {
   "cell_type": "code",
   "execution_count": 199,
   "metadata": {},
   "outputs": [
    {
     "data": {
      "text/plain": [
       "6    Носки беговые Camino\n",
       "Name: Name, dtype: object"
      ]
     },
     "execution_count": 199,
     "metadata": {},
     "output_type": "execute_result"
    }
   ],
   "source": [
    "\"\"\"Задание 37.8.9\n",
    "На какой товар была произведена отмена?\"\"\"\n",
    "\n",
    "orders_products[orders_products['Отменен'] == 'Да']['Name']"
   ]
  },
  {
   "cell_type": "code",
   "execution_count": 200,
   "metadata": {},
   "outputs": [
    {
     "data": {
      "text/plain": [
       "ID Покупателя\n",
       "7     17096.0\n",
       "5     14042.0\n",
       "8       697.0\n",
       "1       448.0\n",
       "9       344.0\n",
       "10      199.0\n",
       "Name: Price, dtype: float64"
      ]
     },
     "execution_count": 200,
     "metadata": {},
     "output_type": "execute_result"
    }
   ],
   "source": [
    "\"\"\"Задание 37.8.10\n",
    "Какой покупатель принёс наибольшую суммарную прибыль интернет-магазину \n",
    "за указанный период?\"\"\"\n",
    "\n",
    "orders_products.groupby('ID Покупателя')['Price'].sum().sort_values(ascending=False)"
   ]
  }
 ],
 "metadata": {
  "interpreter": {
   "hash": "bc9092704b76bcd3825fbb7a05cb662b50152522ace34f313990aca7aedee1c7"
  },
  "kernelspec": {
   "display_name": "Python 3.8.8 64-bit ('base': conda)",
   "language": "python",
   "name": "python3"
  },
  "language_info": {
   "codemirror_mode": {
    "name": "ipython",
    "version": 3
   },
   "file_extension": ".py",
   "mimetype": "text/x-python",
   "name": "python",
   "nbconvert_exporter": "python",
   "pygments_lexer": "ipython3",
   "version": "3.8.8"
  },
  "orig_nbformat": 4
 },
 "nbformat": 4,
 "nbformat_minor": 2
}
