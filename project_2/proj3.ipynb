{
 "cells": [
  {
   "cell_type": "markdown",
   "metadata": {},
   "source": [
    "# PROJECT-3. Анализ воронки "
   ]
  },
  {
   "cell_type": "code",
   "execution_count": 455,
   "metadata": {},
   "outputs": [],
   "source": [
    "# импортируем нужные библиотеки\n",
    "import pandas as pd\n",
    "import psycopg2\n",
    "import psycopg2.extras \n",
    "import numpy as np\n",
    "from collections import Counter\n",
    "from IPython.display import Image\n",
    "from io import StringIO\n",
    "import requests"
   ]
  },
  {
   "cell_type": "markdown",
   "metadata": {},
   "source": [
    "### ПРОВЕРЯЕМ СЛЕДУЮЩИЕ ГИПОТЕЗЫ:\n",
    "**Гипотеза 1:**\n",
    "По идее, должна быть разница в поведении групп, которые проходят и не проходят обучение. Но так ли это? Влияет ли обучение на скорость прохождения других этапов игры?   \n",
    "**Гипотеза 2:**   \n",
    "Кажется, повторное прохождение обучения положительно влияет на оплату, верно?    \n",
    "**Гипотеза 3:**\n",
    "Если пользователь сначала выбирает сложность обучения, будет ли он потом проходить обучение?"
   ]
  },
  {
   "cell_type": "markdown",
   "metadata": {},
   "source": [
    "## ЦЕЛЬ\n",
    "Исследовать поведение пользователей в обновлённом приложении."
   ]
  },
  {
   "cell_type": "markdown",
   "metadata": {},
   "source": [
    "## ЗАДАЧИ\n",
    "1. Определить, насколько обучение сокращает время прохождения этапов игры.\n",
    "2. Доказать, что успешное обучение само по себе влияет на оплату и не имеет значения то, каким этапом оно шло.\n",
    "3. Определить, насколько прозрачен процесс взаимодействия с игрой."
   ]
  },
  {
   "cell_type": "markdown",
   "metadata": {},
   "source": [
    "## КОНКРЕТНЫЕ ШАГИ (ФОРМАЛИЗОВАННЫЕ ЗАДАЧИ)\n",
    "1. Сравнить время прохождения различных этапов для пользователей, которые завершили обучение, и пользователей, не начинавших обучение. Если показатель отличается, выяснить, насколько.\n",
    "2. Проверить, существует ли зависимость между вероятностью оплаты вопросов и количеством обучений, которые начинал или завершал пользователь. \n",
    "3. Выяснить, как часто пользователи начинают обучение после выбора уровня сложности. (Это позволит оценить прозрачность процесса взаимодействия с игрой: если пользователи после выбора уровня сложности обращаются к обучению, значит, работа с приложением непонятна.)"
   ]
  },
  {
   "cell_type": "markdown",
   "metadata": {},
   "source": [
    "**Этапы игры**\n",
    "* Регистрация\n",
    "* Старт обучения\t\n",
    "* Завершение обучения\t\n",
    "* Выбор уровня сложности вопросов\t\n",
    "* Выбор пакетов вопросов\t\n",
    "* Покупка платных пакетов вопросов\n"
   ]
  },
  {
   "cell_type": "markdown",
   "metadata": {},
   "source": [
    "**Таблица Event**\n",
    "Хранит данные о событиях, которые совершают пользователи. По сути, каждое событие — это факт прохождения пользователем какого-либо этапа игры.\n",
    "\n",
    "* id\tидентификатор события\n",
    "* user_id\tуникальный идентификатор пользователя, совершившего событие в приложении\n",
    "* start_time\tдата и время события\n",
    "* event_type\tтип события, значения: \n",
    "   * registration — регистрация; \n",
    "   * tutorial_start — начало обучения; \n",
    "   * tutorial_finish — завершение обучения; \n",
    "   * level_choice — выбор уровня сложности; \n",
    "   * pack_choice — выбор пакетов вопросов\n",
    "* tutorial_id\tидентификатор обучения (этот идентификатор есть только у событий обучения)\n",
    "* selected_level\tвыбранный уровень сложности обучения"
   ]
  },
  {
   "cell_type": "code",
   "execution_count": 456,
   "metadata": {},
   "outputs": [],
   "source": [
    "# чтение файла event из google диска\n",
    "orig_url1='https://drive.google.com/file/d/1RlnwSJx88ceKQSn0wIveapo2UWpI1AgI/view?usp=sharing'\n",
    "file_id1 = orig_url1.split('/')[-2]\n",
    "dwn_url1='https://drive.google.com/uc?export=download&id=' + file_id1\n",
    "url1 = requests.get(dwn_url1).text\n",
    "csv_raw1 = StringIO(url1)\n",
    "dfs1 = pd.read_csv(csv_raw1)\n",
    "event = pd.DataFrame(dfs1)\n",
    "# event = pd.read_csv('data/7_4_Events.csv') # чтение файла с локального диска"
   ]
  },
  {
   "cell_type": "code",
   "execution_count": 457,
   "metadata": {},
   "outputs": [
    {
     "name": "stderr",
     "output_type": "stream",
     "text": [
      "<ipython-input-457-49f5d216ce18>:6: SettingWithCopyWarning: \n",
      "A value is trying to be set on a copy of a slice from a DataFrame.\n",
      "Try using .loc[row_indexer,col_indexer] = value instead\n",
      "\n",
      "See the caveats in the documentation: https://pandas.pydata.org/pandas-docs/stable/user_guide/indexing.html#returning-a-view-versus-a-copy\n",
      "  events_df['start_time'] = pd.to_datetime(events_df['start_time']) # преобразование даты\n"
     ]
    },
    {
     "data": {
      "text/html": [
       "<div>\n",
       "<style scoped>\n",
       "    .dataframe tbody tr th:only-of-type {\n",
       "        vertical-align: middle;\n",
       "    }\n",
       "\n",
       "    .dataframe tbody tr th {\n",
       "        vertical-align: top;\n",
       "    }\n",
       "\n",
       "    .dataframe thead th {\n",
       "        text-align: right;\n",
       "    }\n",
       "</style>\n",
       "<table border=\"1\" class=\"dataframe\">\n",
       "  <thead>\n",
       "    <tr style=\"text-align: right;\">\n",
       "      <th></th>\n",
       "      <th>event_id</th>\n",
       "      <th>event_type</th>\n",
       "      <th>selected_level</th>\n",
       "      <th>start_time</th>\n",
       "      <th>tutorial_id</th>\n",
       "      <th>user_id</th>\n",
       "    </tr>\n",
       "  </thead>\n",
       "  <tbody>\n",
       "    <tr>\n",
       "      <th>51405</th>\n",
       "      <td>80308</td>\n",
       "      <td>registration</td>\n",
       "      <td>NaN</td>\n",
       "      <td>2018-01-01 03:48:40</td>\n",
       "      <td>NaN</td>\n",
       "      <td>27832</td>\n",
       "    </tr>\n",
       "    <tr>\n",
       "      <th>51406</th>\n",
       "      <td>80309</td>\n",
       "      <td>registration</td>\n",
       "      <td>NaN</td>\n",
       "      <td>2018-01-01 04:07:25</td>\n",
       "      <td>NaN</td>\n",
       "      <td>27833</td>\n",
       "    </tr>\n",
       "    <tr>\n",
       "      <th>51407</th>\n",
       "      <td>80310</td>\n",
       "      <td>registration</td>\n",
       "      <td>NaN</td>\n",
       "      <td>2018-01-01 08:35:10</td>\n",
       "      <td>NaN</td>\n",
       "      <td>27834</td>\n",
       "    </tr>\n",
       "    <tr>\n",
       "      <th>51408</th>\n",
       "      <td>80311</td>\n",
       "      <td>registration</td>\n",
       "      <td>NaN</td>\n",
       "      <td>2018-01-01 11:54:47</td>\n",
       "      <td>NaN</td>\n",
       "      <td>27835</td>\n",
       "    </tr>\n",
       "    <tr>\n",
       "      <th>51409</th>\n",
       "      <td>80312</td>\n",
       "      <td>registration</td>\n",
       "      <td>NaN</td>\n",
       "      <td>2018-01-01 13:28:07</td>\n",
       "      <td>NaN</td>\n",
       "      <td>27836</td>\n",
       "    </tr>\n",
       "  </tbody>\n",
       "</table>\n",
       "</div>"
      ],
      "text/plain": [
       "       event_id    event_type selected_level          start_time  tutorial_id  \\\n",
       "51405     80308  registration            NaN 2018-01-01 03:48:40          NaN   \n",
       "51406     80309  registration            NaN 2018-01-01 04:07:25          NaN   \n",
       "51407     80310  registration            NaN 2018-01-01 08:35:10          NaN   \n",
       "51408     80311  registration            NaN 2018-01-01 11:54:47          NaN   \n",
       "51409     80312  registration            NaN 2018-01-01 13:28:07          NaN   \n",
       "\n",
       "       user_id  \n",
       "51405    27832  \n",
       "51406    27833  \n",
       "51407    27834  \n",
       "51408    27835  \n",
       "51409    27836  "
      ]
     },
     "execution_count": 457,
     "metadata": {},
     "output_type": "execute_result"
    }
   ],
   "source": [
    "# фильтруем только 2018 г и преобразовываем\n",
    "mask1 = (event['start_time']>='2018-01-01') & (event['start_time']<'2019-01-01') & (event['event_type']=='registration') # условие фильтрации: все зарегистрированные\n",
    "registered = event[mask1]['user_id'].unique() # список всех зарегестрированных пользователей\n",
    "\n",
    "events_df = event[event['user_id'].isin(registered)] # фильтрация таблицы по списку ID\n",
    "events_df['start_time'] = pd.to_datetime(events_df['start_time']) # преобразование даты\n",
    "events_df = events_df.rename(columns={\"id\": \"event_id\"}) # переименование колонок\n",
    "events_df.head() # просмотр первых 5 строк таблицы"
   ]
  },
  {
   "cell_type": "code",
   "execution_count": 458,
   "metadata": {},
   "outputs": [],
   "source": [
    "# чтение файла purchase из google диска\n",
    "orig_url2='https://drive.google.com/file/d/1aWp7dWHtFX3v0g1H4Ns0pHKpSyHZUf78/view?usp=sharing'\n",
    "file_id2 = orig_url2.split('/')[-2]\n",
    "dwn_url2='https://drive.google.com/uc?export=download&id=' + file_id2\n",
    "url2 = requests.get(dwn_url2).text\n",
    "csv_raw2 = StringIO(url2)\n",
    "dfs2 = pd.read_csv(csv_raw2)\n",
    "purchase = pd.DataFrame(dfs2)\n",
    "# purchase = pd.read_csv('data/purchase.csv') # чтение файла с локального диска"
   ]
  },
  {
   "cell_type": "code",
   "execution_count": 459,
   "metadata": {},
   "outputs": [
    {
     "name": "stderr",
     "output_type": "stream",
     "text": [
      "<ipython-input-459-f89000b9ae71>:3: SettingWithCopyWarning: \n",
      "A value is trying to be set on a copy of a slice from a DataFrame.\n",
      "Try using .loc[row_indexer,col_indexer] = value instead\n",
      "\n",
      "See the caveats in the documentation: https://pandas.pydata.org/pandas-docs/stable/user_guide/indexing.html#returning-a-view-versus-a-copy\n",
      "  purchase_df['event_datetime'] = pd.to_datetime(purchase_df['event_datetime']) # преобразование даты\n",
      "<ipython-input-459-f89000b9ae71>:4: SettingWithCopyWarning: \n",
      "A value is trying to be set on a copy of a slice from a DataFrame.\n",
      "Try using .loc[row_indexer,col_indexer] = value instead\n",
      "\n",
      "See the caveats in the documentation: https://pandas.pydata.org/pandas-docs/stable/user_guide/indexing.html#returning-a-view-versus-a-copy\n",
      "  purchase_df['event_type'] = 'purchase'\n"
     ]
    },
    {
     "data": {
      "text/html": [
       "<div>\n",
       "<style scoped>\n",
       "    .dataframe tbody tr th:only-of-type {\n",
       "        vertical-align: middle;\n",
       "    }\n",
       "\n",
       "    .dataframe tbody tr th {\n",
       "        vertical-align: top;\n",
       "    }\n",
       "\n",
       "    .dataframe thead th {\n",
       "        text-align: right;\n",
       "    }\n",
       "</style>\n",
       "<table border=\"1\" class=\"dataframe\">\n",
       "  <thead>\n",
       "    <tr style=\"text-align: right;\">\n",
       "      <th></th>\n",
       "      <th>purchase_id</th>\n",
       "      <th>user_id</th>\n",
       "      <th>start_time</th>\n",
       "      <th>amount</th>\n",
       "      <th>event_type</th>\n",
       "    </tr>\n",
       "  </thead>\n",
       "  <tbody>\n",
       "    <tr>\n",
       "      <th>1171</th>\n",
       "      <td>16845</td>\n",
       "      <td>27845</td>\n",
       "      <td>2018-01-03 18:53:43</td>\n",
       "      <td>100</td>\n",
       "      <td>purchase</td>\n",
       "    </tr>\n",
       "    <tr>\n",
       "      <th>1172</th>\n",
       "      <td>16846</td>\n",
       "      <td>27865</td>\n",
       "      <td>2018-01-04 14:46:10</td>\n",
       "      <td>250</td>\n",
       "      <td>purchase</td>\n",
       "    </tr>\n",
       "    <tr>\n",
       "      <th>1174</th>\n",
       "      <td>16848</td>\n",
       "      <td>27911</td>\n",
       "      <td>2018-01-07 08:19:12</td>\n",
       "      <td>50</td>\n",
       "      <td>purchase</td>\n",
       "    </tr>\n",
       "    <tr>\n",
       "      <th>1175</th>\n",
       "      <td>16849</td>\n",
       "      <td>27910</td>\n",
       "      <td>2018-01-07 12:11:34</td>\n",
       "      <td>100</td>\n",
       "      <td>purchase</td>\n",
       "    </tr>\n",
       "    <tr>\n",
       "      <th>1176</th>\n",
       "      <td>16850</td>\n",
       "      <td>27940</td>\n",
       "      <td>2018-01-07 13:16:41</td>\n",
       "      <td>200</td>\n",
       "      <td>purchase</td>\n",
       "    </tr>\n",
       "  </tbody>\n",
       "</table>\n",
       "</div>"
      ],
      "text/plain": [
       "      purchase_id  user_id          start_time  amount event_type\n",
       "1171        16845    27845 2018-01-03 18:53:43     100   purchase\n",
       "1172        16846    27865 2018-01-04 14:46:10     250   purchase\n",
       "1174        16848    27911 2018-01-07 08:19:12      50   purchase\n",
       "1175        16849    27910 2018-01-07 12:11:34     100   purchase\n",
       "1176        16850    27940 2018-01-07 13:16:41     200   purchase"
      ]
     },
     "execution_count": 459,
     "metadata": {},
     "output_type": "execute_result"
    }
   ],
   "source": [
    "# фильтруем только 2018 г и преобразовываем\n",
    "purchase_df = purchase[purchase['user_id'].isin(registered)] # фильтрация таблицы по списку ID\n",
    "purchase_df['event_datetime'] = pd.to_datetime(purchase_df['event_datetime']) # преобразование даты\n",
    "purchase_df['event_type'] = 'purchase'\n",
    "purchase_df = purchase_df.rename(columns={\"id\": \"purchase_id\", \"event_datetime\": \"start_time\"}) # переименование колонок\n",
    "\n",
    "purchase_df.head() # просмотр первых 5 строк таблицы"
   ]
  },
  {
   "cell_type": "code",
   "execution_count": 460,
   "metadata": {},
   "outputs": [
    {
     "name": "stdout",
     "output_type": "stream",
     "text": [
      "<class 'pandas.core.frame.DataFrame'>\n",
      "Int64Index: 68559 entries, 51405 to 2778\n",
      "Data columns (total 8 columns):\n",
      " #   Column          Non-Null Count  Dtype         \n",
      "---  ------          --------------  -----         \n",
      " 0   event_id        66959 non-null  float64       \n",
      " 1   event_type      68559 non-null  object        \n",
      " 2   selected_level  8342 non-null   object        \n",
      " 3   start_time      68559 non-null  datetime64[ns]\n",
      " 4   tutorial_id     32954 non-null  float64       \n",
      " 5   user_id         68559 non-null  int64         \n",
      " 6   purchase_id     1600 non-null   float64       \n",
      " 7   amount          1600 non-null   float64       \n",
      "dtypes: datetime64[ns](1), float64(4), int64(1), object(2)\n",
      "memory usage: 4.7+ MB\n"
     ]
    }
   ],
   "source": [
    "\"\"\" Сделаем объединенный датафрейм из событий и оплат\"\"\"\n",
    "\n",
    "total_events_df = pd.concat([events_df,purchase_df],sort=False)\n",
    "total_events_df['start_time'] = pd.to_datetime(total_events_df['start_time']) # преобразование даты\n",
    "total_events_df.info()\n"
   ]
  },
  {
   "cell_type": "code",
   "execution_count": 461,
   "metadata": {},
   "outputs": [],
   "source": [
    "\"\"\"Сформируем группы\"\"\"\n",
    "\n",
    "mask2 = (event['start_time']>='2018-01-01') & (event['start_time']<'2019-01-01') & (event['event_type']=='tutorial_start') # условие фильтрации: все начинавшие обучение\n",
    "learners  = event[mask2]['user_id'].unique() # список всех начавших обучение\n",
    "mask3 = (event['start_time']>='2018-01-01') & (event['start_time']<'2019-01-01') & (event['event_type']=='tutorial_finish') # условие фильтрации: все окончившие обучение\n",
    "graduated = event[mask3]['user_id'].unique()# список всех окончивших обучение\n",
    "non_learners = list((Counter(registered) - Counter(learners)).elements())"
   ]
  },
  {
   "cell_type": "code",
   "execution_count": 462,
   "metadata": {},
   "outputs": [
    {
     "name": "stdout",
     "output_type": "stream",
     "text": [
      "Количество зарегистрированных пользователей: 19926\n",
      "Количество пользователей, начинавших обучение: 11856\n",
      "Количество пользователей, окончивших обучение: 10248\n",
      "Количество пользователей, не начинавших обучение: 8070\n"
     ]
    }
   ],
   "source": [
    "print(\"Количество зарегистрированных пользователей: {}\".format(len(registered)))\n",
    "print(\"Количество пользователей, начинавших обучение: {}\".format(len(learners)))\n",
    "print(\"Количество пользователей, окончивших обучение: {}\".format(len(graduated)))\n",
    "print(\"Количество пользователей, не начинавших обучение: {}\".format(len(non_learners)))"
   ]
  },
  {
   "cell_type": "code",
   "execution_count": 465,
   "metadata": {},
   "outputs": [
    {
     "name": "stdout",
     "output_type": "stream",
     "text": [
      "Процент оплативших пользователей, из группы не проходившие обучение: 0.27%\n",
      "Среднее время между выбором уровня сложности и оплатой для пользователей группы не проходившие обучение: 100.9 час.\n",
      "\n",
      "Процент оплативших пользователей, из группы окончившие обучение: 14.12%\n",
      "Среднее время между выбором уровня сложности и оплатой для пользователей группы окончившие обучение: 89.4 час.\n",
      "\n"
     ]
    }
   ],
   "source": [
    "# Обозначим название группы с типом события в виде словаря\n",
    "user_groups = [\n",
    "    {'не проходившие обучение': non_learners},\n",
    "    {'окончившие обучение': graduated},\n",
    "]\n",
    "list1 = []\n",
    "# проссматриваем показатели по группам\n",
    "for group in user_groups:\n",
    "    \n",
    "    level = list(group.keys())[0] # название группы\n",
    "    group_users = group[level] # тип события\n",
    "    count_of_users_in_group = len(group_users) # количество пользователей в группе\n",
    "    purchase_df_slice = purchase_df[purchase_df['user_id'].isin(group_users)] # датафарм по группе\n",
    "    percent_of_purchase = purchase_df_slice['user_id'].nunique()/count_of_users_in_group # Процент оплативших пользователей, из группы не проходившие обучение\n",
    "    print ('Процент оплативших пользователей, из группы {}: {:.2%}'.format(level,percent_of_purchase))\n",
    "    level_choice_df = total_events_df[(total_events_df['event_type'] == 'level_choice') & (total_events_df['user_id'].isin(group_users))] # датафарм# датафарм с выбором уровня сложности по группе\n",
    "        \n",
    "    if (level_choice_df['user_id'].value_counts().mean()) == 1:\n",
    "        \n",
    "        level_choice_df = level_choice_df[['user_id','start_time']].rename(columns={'start_time':'level_choice_time'}) # датафарм: ID пользователя и дата выбора уровня сложности\n",
    "        purchase_df_slice_2 = purchase_df_slice[['user_id','start_time']].rename(columns={'start_time':'purchase_time'}) # датафарм: ID пользователя и дата покупки\n",
    "        \n",
    "        merged_df = purchase_df_slice_2.merge(level_choice_df,on='user_id',how='inner') # объедененный датафарм: ID пользователя и дата выбора уровня сложности, дата покупки\n",
    "        merged_df['timedelta'] = merged_df['purchase_time'] - merged_df['level_choice_time'] # добавляем поле количество дней, между покупкой и выбором уровня сложности\n",
    "        merged_df['timedelta'] = merged_df['timedelta']/pd.to_timedelta('1 hour') # перевод данных в формат часов\n",
    "        mean_time = round(merged_df['timedelta'].mean(),1) # среднее значение количество дней, между покупкой и выбором уровня сложности\n",
    "        list1.append(mean_time)\n",
    "        print ('Среднее время между выбором уровня сложности и оплатой для пользователей группы {}: {} час.'.format(level,mean_time))\n",
    "        print ()\n",
    "    else:\n",
    "        print ('Более 1 события выбора уровня сложности')"
   ]
  },
  {
   "cell_type": "code",
   "execution_count": 466,
   "metadata": {},
   "outputs": [],
   "source": [
    "diagram_df = pd.DataFrame ({\n",
    "    'group': ['non_learners','graduated'],\n",
    "    'mean_time': list1\n",
    "})"
   ]
  },
  {
   "cell_type": "code",
   "execution_count": 467,
   "metadata": {},
   "outputs": [
    {
     "data": {
      "image/png": "[encoded data removed]",
      "text/plain": [
       "<Figure size 432x288 with 1 Axes>"
      ]
     },
     "metadata": {
      "needs_background": "light"
     },
     "output_type": "display_data"
    }
   ],
   "source": [
    "# визуализируем данные на гистограмме\n",
    "diagram_df.plot(\n",
    "    kind='bar',\n",
    "    grid=True,\n",
    "    figsize=(6, 4),\n",
    "    title= 'Среднее время между выбором уровня сложности и оплатой для рассматриваемых групп',\n",
    "    colormap='winter',\n",
    "    x= 'group',\n",
    "    y= 'mean_time',\n",
    ");"
   ]
  },
  {
   "cell_type": "code",
   "execution_count": 469,
   "metadata": {},
   "outputs": [
    {
     "name": "stdout",
     "output_type": "stream",
     "text": [
      "Время между выбором уровня сложности и оплатой на 11.5 часов меньше для пользователей, завершивших обучение по сравнению с тем, кто его не проходил\n"
     ]
    }
   ],
   "source": [
    "a = list1[0]-list1[1]\n",
    "print ('Время между выбором уровня сложности и оплатой на {} часов меньше для пользователей, завершивших обучение по сравнению с тем, кто его не проходил'.format(a))"
   ]
  },
  {
   "cell_type": "markdown",
   "metadata": {},
   "source": [
    "## ВЫВОД\n",
    "Время между выбором уровня сложноси и оплатой на 11,5 часов меньше, для пользователей которые прошли обучение в сравнению с тем, кто его не начинал."
   ]
  },
  {
   "cell_type": "markdown",
   "metadata": {},
   "source": [
    "## Проверяем 2-ю гипотезу:"
   ]
  },
  {
   "cell_type": "code",
   "execution_count": 485,
   "metadata": {},
   "outputs": [],
   "source": [
    "# фильтруем наш датафрем по группе закончивших обучение\n",
    "total_events_graduated_df = total_events_df[total_events_df['user_id'].isin(graduated)]\n",
    "# создаем наш датафрем по сумме оплат по каждому ID пользователя\n",
    "amount_df = pd.DataFrame(total_events_graduated_df.groupby('user_id')['amount'].sum())\n",
    "# выделяем датафрем по окончившим обучение\n",
    "total_events_graduated_df = total_events_graduated_df[total_events_graduated_df['event_type']=='tutorial_finish']\n",
    "# группируем по количеству раз окончания обучения, считаем количество пользователей\n",
    "number_learners_df = pd.DataFrame(total_events_graduated_df.groupby('user_id')['event_type'].count())\n",
    "number_learner2_df = pd.DataFrame(number_learners_df.value_counts())"
   ]
  },
  {
   "cell_type": "code",
   "execution_count": 486,
   "metadata": {},
   "outputs": [],
   "source": [
    "# подтягиваем в нашу таблицу оплаты\n",
    "merged2_df = number_learners_df.merge(amount_df,on='user_id',how='inner')\n",
    "# фильтруем только те, по которым были оплаты\n",
    "merged2_df = merged2_df[merged2_df['amount']>0]\n",
    "#считаем количество пользователей, по которым были оплаты в зависимости от того сколько раз завершали обучение\n",
    "amount2_df = pd.DataFrame(merged2_df.groupby('event_type')['amount'].count())"
   ]
  },
  {
   "cell_type": "code",
   "execution_count": 487,
   "metadata": {},
   "outputs": [
    {
     "data": {
      "text/html": [
       "<div>\n",
       "<style scoped>\n",
       "    .dataframe tbody tr th:only-of-type {\n",
       "        vertical-align: middle;\n",
       "    }\n",
       "\n",
       "    .dataframe tbody tr th {\n",
       "        vertical-align: top;\n",
       "    }\n",
       "\n",
       "    .dataframe thead th {\n",
       "        text-align: right;\n",
       "    }\n",
       "</style>\n",
       "<table border=\"1\" class=\"dataframe\">\n",
       "  <thead>\n",
       "    <tr style=\"text-align: right;\">\n",
       "      <th></th>\n",
       "      <th>number_users_graduated</th>\n",
       "      <th>number_users_amount</th>\n",
       "      <th>percent_conversion</th>\n",
       "    </tr>\n",
       "    <tr>\n",
       "      <th>event_type</th>\n",
       "      <th></th>\n",
       "      <th></th>\n",
       "      <th></th>\n",
       "    </tr>\n",
       "  </thead>\n",
       "  <tbody>\n",
       "    <tr>\n",
       "      <th>1</th>\n",
       "      <td>1143</td>\n",
       "      <td>8013</td>\n",
       "      <td>701.0</td>\n",
       "    </tr>\n",
       "    <tr>\n",
       "      <th>2</th>\n",
       "      <td>182</td>\n",
       "      <td>1321</td>\n",
       "      <td>725.8</td>\n",
       "    </tr>\n",
       "    <tr>\n",
       "      <th>3</th>\n",
       "      <td>44</td>\n",
       "      <td>345</td>\n",
       "      <td>784.1</td>\n",
       "    </tr>\n",
       "    <tr>\n",
       "      <th>4</th>\n",
       "      <td>19</td>\n",
       "      <td>178</td>\n",
       "      <td>936.8</td>\n",
       "    </tr>\n",
       "    <tr>\n",
       "      <th>5</th>\n",
       "      <td>19</td>\n",
       "      <td>117</td>\n",
       "      <td>615.8</td>\n",
       "    </tr>\n",
       "    <tr>\n",
       "      <th>6</th>\n",
       "      <td>15</td>\n",
       "      <td>101</td>\n",
       "      <td>673.3</td>\n",
       "    </tr>\n",
       "    <tr>\n",
       "      <th>7</th>\n",
       "      <td>15</td>\n",
       "      <td>97</td>\n",
       "      <td>646.7</td>\n",
       "    </tr>\n",
       "    <tr>\n",
       "      <th>8</th>\n",
       "      <td>6</td>\n",
       "      <td>54</td>\n",
       "      <td>900.0</td>\n",
       "    </tr>\n",
       "    <tr>\n",
       "      <th>9</th>\n",
       "      <td>4</td>\n",
       "      <td>22</td>\n",
       "      <td>550.0</td>\n",
       "    </tr>\n",
       "  </tbody>\n",
       "</table>\n",
       "</div>"
      ],
      "text/plain": [
       "            number_users_graduated  number_users_amount  percent_conversion\n",
       "event_type                                                                 \n",
       "1                             1143                 8013               701.0\n",
       "2                              182                 1321               725.8\n",
       "3                               44                  345               784.1\n",
       "4                               19                  178               936.8\n",
       "5                               19                  117               615.8\n",
       "6                               15                  101               673.3\n",
       "7                               15                   97               646.7\n",
       "8                                6                   54               900.0\n",
       "9                                4                   22               550.0"
      ]
     },
     "execution_count": 487,
     "metadata": {},
     "output_type": "execute_result"
    }
   ],
   "source": [
    "# соединяем 2 датафрейма:\n",
    "merged3_df = amount2_df.merge(number_learners2_df,on='event_type',how='inner')\n",
    "merged3_df.columns = ['number_users_graduated', 'number_users_amount'] # переименовываем столбцы\n",
    "merged3_df['percent_conversion'] = round(merged3_df['number_users_amount']/merged3_df['number_users_graduated']*100,1) # добавляем столбец с конверсией\n",
    "merged3_df"
   ]
  },
  {
   "cell_type": "code",
   "execution_count": 475,
   "metadata": {},
   "outputs": [
    {
     "data": {
      "image/png": "[encoded data removed]",
      "text/plain": [
       "<Figure size 576x288 with 1 Axes>"
      ]
     },
     "metadata": {
      "needs_background": "light"
     },
     "output_type": "display_data"
    }
   ],
   "source": [
    "# визуализируем данные на гистограмме\n",
    "percent_conversion_df = merged3_df['percent_conversion']\n",
    "percent_conversion_df.plot(\n",
    "    kind='bar',\n",
    "    grid=True,\n",
    "    figsize=(8, 4),\n",
    "    title= 'Процент оплативших пользователей, в зависимости от количество завершеных обучений',\n",
    "    colormap='prism',\n",
    "    xlabel= 'Количество завершенных обучений',\n",
    "    ylabel= 'Процент оплативших пользователей'\n",
    ");\n"
   ]
  },
  {
   "cell_type": "markdown",
   "metadata": {},
   "source": [
    "## ВЫВОД\n",
    "Проанализировав конверсию оплат по пользователям окончившим обучение в разрезе групп по количеству завершенных обучений, понимаем, что зависимости между количеством прохождений обучения и оплатам нет.\n",
    "\n",
    "Однако само по себе успешное обучение влияет на оплату:\n",
    "* Процент оплативших пользователей, из группы не проходившие обучение: 0.27%\n",
    "* Процент оплативших пользователей, из группы окончившие обучение: 14.12%\n",
    "\n"
   ]
  },
  {
   "cell_type": "markdown",
   "metadata": {},
   "source": [
    "## Проверяем 3-ю гипотезу:"
   ]
  },
  {
   "cell_type": "code",
   "execution_count": 478,
   "metadata": {},
   "outputs": [
    {
     "data": {
      "text/html": [
       "<div>\n",
       "<style scoped>\n",
       "    .dataframe tbody tr th:only-of-type {\n",
       "        vertical-align: middle;\n",
       "    }\n",
       "\n",
       "    .dataframe tbody tr th {\n",
       "        vertical-align: top;\n",
       "    }\n",
       "\n",
       "    .dataframe thead th {\n",
       "        text-align: right;\n",
       "    }\n",
       "</style>\n",
       "<table border=\"1\" class=\"dataframe\">\n",
       "  <thead>\n",
       "    <tr style=\"text-align: right;\">\n",
       "      <th></th>\n",
       "      <th>level_choice_time</th>\n",
       "      <th>tutorial_start_time</th>\n",
       "      <th>timedelta</th>\n",
       "    </tr>\n",
       "    <tr>\n",
       "      <th>user_id</th>\n",
       "      <th></th>\n",
       "      <th></th>\n",
       "      <th></th>\n",
       "    </tr>\n",
       "  </thead>\n",
       "  <tbody>\n",
       "    <tr>\n",
       "      <th>27835</th>\n",
       "      <td>2018-01-01 20:37:22</td>\n",
       "      <td>2018-01-01 15:00:51</td>\n",
       "      <td>5.609</td>\n",
       "    </tr>\n",
       "    <tr>\n",
       "      <th>27839</th>\n",
       "      <td>2018-01-01 22:37:50</td>\n",
       "      <td>2018-01-01 19:11:36</td>\n",
       "      <td>3.437</td>\n",
       "    </tr>\n",
       "    <tr>\n",
       "      <th>27840</th>\n",
       "      <td>2018-01-02 05:18:42</td>\n",
       "      <td>2018-01-02 02:07:07</td>\n",
       "      <td>3.193</td>\n",
       "    </tr>\n",
       "    <tr>\n",
       "      <th>27842</th>\n",
       "      <td>2018-01-02 08:46:03</td>\n",
       "      <td>2018-01-02 18:08:01</td>\n",
       "      <td>-9.366</td>\n",
       "    </tr>\n",
       "    <tr>\n",
       "      <th>27843</th>\n",
       "      <td>2018-01-02 14:09:58</td>\n",
       "      <td>2018-01-02 13:34:51</td>\n",
       "      <td>0.585</td>\n",
       "    </tr>\n",
       "    <tr>\n",
       "      <th>...</th>\n",
       "      <td>...</td>\n",
       "      <td>...</td>\n",
       "      <td>...</td>\n",
       "    </tr>\n",
       "    <tr>\n",
       "      <th>47744</th>\n",
       "      <td>2018-12-31 07:53:04</td>\n",
       "      <td>2018-12-31 06:51:17</td>\n",
       "      <td>1.030</td>\n",
       "    </tr>\n",
       "    <tr>\n",
       "      <th>47747</th>\n",
       "      <td>2018-12-31 12:24:40</td>\n",
       "      <td>2018-12-31 10:21:11</td>\n",
       "      <td>2.058</td>\n",
       "    </tr>\n",
       "    <tr>\n",
       "      <th>47753</th>\n",
       "      <td>2018-12-31 22:36:19</td>\n",
       "      <td>2018-12-31 20:54:56</td>\n",
       "      <td>1.690</td>\n",
       "    </tr>\n",
       "    <tr>\n",
       "      <th>47755</th>\n",
       "      <td>2019-01-01 05:04:52</td>\n",
       "      <td>2019-01-01 00:08:14</td>\n",
       "      <td>4.944</td>\n",
       "    </tr>\n",
       "    <tr>\n",
       "      <th>47756</th>\n",
       "      <td>2019-01-01 05:42:11</td>\n",
       "      <td>2019-01-01 03:26:18</td>\n",
       "      <td>2.265</td>\n",
       "    </tr>\n",
       "  </tbody>\n",
       "</table>\n",
       "<p>8244 rows × 3 columns</p>\n",
       "</div>"
      ],
      "text/plain": [
       "          level_choice_time tutorial_start_time  timedelta\n",
       "user_id                                                   \n",
       "27835   2018-01-01 20:37:22 2018-01-01 15:00:51      5.609\n",
       "27839   2018-01-01 22:37:50 2018-01-01 19:11:36      3.437\n",
       "27840   2018-01-02 05:18:42 2018-01-02 02:07:07      3.193\n",
       "27842   2018-01-02 08:46:03 2018-01-02 18:08:01     -9.366\n",
       "27843   2018-01-02 14:09:58 2018-01-02 13:34:51      0.585\n",
       "...                     ...                 ...        ...\n",
       "47744   2018-12-31 07:53:04 2018-12-31 06:51:17      1.030\n",
       "47747   2018-12-31 12:24:40 2018-12-31 10:21:11      2.058\n",
       "47753   2018-12-31 22:36:19 2018-12-31 20:54:56      1.690\n",
       "47755   2019-01-01 05:04:52 2019-01-01 00:08:14      4.944\n",
       "47756   2019-01-01 05:42:11 2019-01-01 03:26:18      2.265\n",
       "\n",
       "[8244 rows x 3 columns]"
      ]
     },
     "execution_count": 478,
     "metadata": {},
     "output_type": "execute_result"
    }
   ],
   "source": [
    "level_choice_df2 = total_events_df[total_events_df['event_type'] == 'level_choice'].rename(columns={'start_time':'level_choice_time'}) # датафарм с выбором уровня сложности\n",
    "level_choice_df2 = pd.DataFrame(level_choice_df2.groupby('user_id')['level_choice_time'].min()) # группируем по пользователям и берем самую раннюю дату выбора уровня сложности\n",
    "\n",
    "tutorial_start_df = total_events_df[total_events_df['event_type'] == 'tutorial_start'].rename(columns={'start_time':'tutorial_start_time'}) # датафарм с началом обучения\n",
    "tutorial_start_df = pd.DataFrame(tutorial_start_df.groupby('user_id')['tutorial_start_time'].max()) # группируем по пользователям и берем самую позднюю дату начала обучения\n",
    "\n",
    "merged4_df = level_choice_df2.merge(tutorial_start_df,on='user_id',how='inner') # объединяем датафреймы\n",
    "merged4_df['timedelta'] = merged4_df['level_choice_time']-merged4_df['tutorial_start_time'] # добавляем столбец с разницей между 2-мя датами (выбор уровня сложности и начало обучения)\n",
    "merged4_df['timedelta'] = round(merged4_df['timedelta']/pd.to_timedelta('1 hour'),3) # переводим данные в часы\n",
    "merged4_df"
   ]
  },
  {
   "cell_type": "code",
   "execution_count": 479,
   "metadata": {},
   "outputs": [],
   "source": [
    "# функция, которая определяет путь: что раньше- старт обучения или выбор уровня сложности\n",
    "def order_stages(x):\n",
    "    if x < 0:\n",
    "        return 'level_choice=>tutorial_start'\n",
    "    else:\n",
    "        return 'tutorial_start=>level_choice'\n",
    "    "
   ]
  },
  {
   "cell_type": "code",
   "execution_count": 480,
   "metadata": {},
   "outputs": [
    {
     "name": "stdout",
     "output_type": "stream",
     "text": [
      "                              order of stages\n",
      "order of stages                              \n",
      "level_choice=>tutorial_start             1386\n",
      "tutorial_start=>level_choice             6858\n",
      "\n",
      "20.0% пользователей проходят обучение после выбора сложности\n"
     ]
    }
   ],
   "source": [
    "merged4_df['order of stages'] = merged4_df['timedelta'].apply(order_stages) # добавляем столбец и применяем к нему функцию\n",
    "merged5_df = pd.DataFrame(merged4_df.groupby('order of stages')['order of stages'].count()) # группируем датафрейм по пути\n",
    "print(merged5_df)\n",
    "b1 = merged4_df[merged4_df['order of stages']=='level_choice=>tutorial_start']['timedelta'].count() # количество пользователей, действующих по первому пути: сначала выбирают уровень сложности, затем обучение\n",
    "b2 = merged4_df[merged4_df['order of stages']=='tutorial_start=>level_choice']['timedelta'].count() # количество пользователей, действующих по второму пути: сначала выбирают обучение, затем уровень сложности\n",
    "c = round(b1/(b1+b2),1) # доля выбравших первый путь\n",
    "print()\n",
    "print ('{:.1%} пользователей проходят обучение после выбора сложности'.format(c))"
   ]
  },
  {
   "cell_type": "code",
   "execution_count": 481,
   "metadata": {},
   "outputs": [
    {
     "data": {
      "image/png": "[encoded data removed]",
      "text/plain": [
       "<Figure size 432x288 with 1 Axes>"
      ]
     },
     "metadata": {
      "needs_background": "light"
     },
     "output_type": "display_data"
    }
   ],
   "source": [
    "# визуализируем полученный результат\n",
    "merged5_df.plot(\n",
    "    kind='bar',\n",
    "    grid=True,\n",
    "    figsize=(6, 4),\n",
    "    title= 'Количество пользователей в зависимости от последовательности этапов: выбора уровня сложности и начала обучения',\n",
    "    xlabel= 'Последовательность этапов',\n",
    "    ylabel= 'Количество пользователей'\n",
    ");"
   ]
  },
  {
   "cell_type": "markdown",
   "metadata": {},
   "source": [
    "## ВЫВОД\n",
    "В связи с тем, что 20% пользователей проходят обучение уже после этапа выбора сложности, можем сделать вывод что приложение для пользователям не очень понятно. Стоит доработать приложение."
   ]
  },
  {
   "cell_type": "markdown",
   "metadata": {},
   "source": [
    "ссылка на файл\n",
    "https://colab.research.google.com/drive/1RwrZN-LkS1cfuzh-XquOr2gE7JEiYhh6?usp=sharing"
   ]
  }
 ],
 "metadata": {
  "interpreter": {
   "hash": "bc9092704b76bcd3825fbb7a05cb662b50152522ace34f313990aca7aedee1c7"
  },
  "kernelspec": {
   "display_name": "Python 3.8.8 64-bit ('base': conda)",
   "language": "python",
   "name": "python3"
  },
  "language_info": {
   "codemirror_mode": {
    "name": "ipython",
    "version": 3
   },
   "file_extension": ".py",
   "mimetype": "text/x-python",
   "name": "python",
   "nbconvert_exporter": "python",
   "pygments_lexer": "ipython3",
   "version": "3.8.8"
  },
  "orig_nbformat": 4
 },
 "nbformat": 4,
 "nbformat_minor": 2
}
